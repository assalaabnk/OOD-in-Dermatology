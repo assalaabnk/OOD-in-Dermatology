{
 "cells": [
  {
   "cell_type": "markdown",
   "metadata": {
    "id": "Ksh2Fk-dH2qy"
   },
   "source": [
    "# ODIN & NN Softmax OOD detectors"
   ]
  },
  {
   "cell_type": "markdown",
   "metadata": {},
   "source": [
    "This notebook represents the implementation of two OOD detectors which are ODIN and NN Softmax. \n",
    "First, we load and preprocess images from the ISIC2019 as In ditibution dataset and Fitzpatick17k as OOD dataset using the data generators.\n",
    "Then we load the DensNet model that was trained on the ISIC2019 Dataset inorder to evaluate both ODIN and NN softmax baseline scores to get the optimal parameters and optimal delta."
   ]
  },
  {
   "cell_type": "markdown",
   "metadata": {},
   "source": [
    "#### Imports"
   ]
  },
  {
   "cell_type": "code",
   "execution_count": null,
   "metadata": {
    "id": "SIZp43R6vVH9"
   },
   "outputs": [],
   "source": [
    "import tensorflow as tf\n",
    "import tensorflow\n",
    "\n",
    "from tensorflow import keras\n",
    "from keras.layers import Dense\n",
    "\n",
    "import os\n",
    "import pandas as pd\n",
    "import numpy as np\n",
    "from PIL import Image\n",
    "from tensorflow.keras.preprocessing.image import ImageDataGenerator\n",
    "\n",
    "from tqdm import trange\n",
    "\n",
    "import keras.backend as K\n",
    "import cv2\n",
    "from odin import norm_perturbations\n",
    "from scipy.special import softmax\n",
    "\n",
    "from odin import get_tpr_and_fpr, auroc\n",
    "from scipy.special import softmax\n",
    "from sklearn.metrics import roc_curve, auc\n",
    "\n",
    "import cv2\n",
    "\n"
   ]
  },
  {
   "cell_type": "markdown",
   "metadata": {
    "id": "HYQ4a09ZmhVu"
   },
   "source": [
    "# 1. Load and preprocess the training and testing Datasets \n",
    "\n",
    "First we load and preprocess The training dataset ISIC2019, images are randomly cropped, resized, and possibly flipped to augment the data and improve the model's robustness. During validation, images are simply resized and normalized.\n",
    "\n",
    "Then we load and preprocess the  testing dataset FitzPatrick17K, the fitzpatick categories are loaded separately in the testing generator , we have 3 categories: FST I-IV ,FST V-VI ,ALL Fitzpatrick images refering to the skin tones categories of the testing dataset."
   ]
  },
  {
   "cell_type": "code",
   "execution_count": null,
   "metadata": {
    "colab": {
     "base_uri": "https://localhost:8080/"
    },
    "id": "MLiQGIHEo_x7",
    "outputId": "a18d624c-b4bc-42aa-a796-98c2ba1ee839"
   },
   "outputs": [
    {
     "name": "stdout",
     "output_type": "stream",
     "text": [
      "Training using the following parameters:\n",
      "augment: True\n",
      "batch_size: 40\n",
      "checkpoint_frequency: 1000\n",
      "dataset_root: /usr/xtmp/hannah/segkeras/nn-isic2019/dataset/\n",
      "decay_start_iteration: 15000\n",
      "detailed_logs: False\n",
      "early_stop_patience: 8\n",
      "experiment_root: FL_Aug_MEL\n",
      "gpu_device: 0\n",
      "heavy_augment: False\n",
      "init_epoch: 0\n",
      "initial_checkpoint: None\n",
      "is_train: 1\n",
      "learning_rate: 1e-06\n",
      "load_weights: None\n",
      "loading_threads: 8\n",
      "loss_type: 1\n",
      "margin: soft\n",
      "num_classes: 7\n",
      "num_epochs: 25\n",
      "num_gpus: 1\n",
      "resume: False\n",
      "sizeH: 224\n",
      "sizeW: 224\n",
      "skip_class: MEL\n",
      "train_iterations: 25000\n"
     ]
    }
   ],
   "source": [
    "from argument_parser import myParser\n",
    "\n",
    "args = myParser()"
   ]
  },
  {
   "cell_type": "code",
   "execution_count": null,
   "metadata": {
    "colab": {
     "base_uri": "https://localhost:8080/"
    },
    "id": "IEZd-bpRa0yB",
    "outputId": "8c821927-1ed2-413c-ad66-6b96110870bd"
   },
   "outputs": [
    {
     "name": "stdout",
     "output_type": "stream",
     "text": [
      "Loading Data Generators...\n",
      "class_names:['MEL', 'NV', 'BCC', 'AK', 'BKL', 'SCC']\n",
      "skip_class:['DF', 'VASC']\n",
      "Loading Testing Dataset...\n",
      "   Done.\n"
     ]
    }
   ],
   "source": [
    "# The training dataset ISIC2019\n",
    "from data_generators import ISICImageDataset\n",
    "\n",
    "## Loading Data Generators\n",
    "ROOT = \"/ISIC_2019_Training_Input/\"\n",
    "\n",
    "print(\"Loading Data Generators...\")\n",
    "args.is_train = 2  # Training Set\n",
    "args.num_classes = 6\n",
    "args.sizeW = 224\n",
    "args.sizeH = 224\n",
    "args.dataset_root = ROOT\n",
    "args.is_train = 2  # Validation Set\n",
    "Validation_generator = ISICImageDataset(args)\n",
    "print(\"   Done.\")"
   ]
  },
  {
   "cell_type": "code",
   "execution_count": null,
   "metadata": {
    "colab": {
     "base_uri": "https://localhost:8080/"
    },
    "id": "J0N-pc_JuKAi",
    "outputId": "71343565-783d-4ff1-f0bf-cf4d3a88a391"
   },
   "outputs": [
    {
     "name": "stdout",
     "output_type": "stream",
     "text": [
      "Loading Data Generators...\n",
      "Loading Testing Dataset...\n",
      "   Done.\n"
     ]
    }
   ],
   "source": [
    "from data_generators import fitzpatrick17kImageDataset\n",
    "\n",
    "## Loading Data Generators\n",
    "ROOT = '/fitzpatrick 17k /'\n",
    "\n",
    "print('Loading Data Generators...')\n",
    "\n",
    "#Fitzpatick FST I-IV \n",
    "args.num_classes = 3\n",
    "args.sizeW = 224\n",
    "args.sizeH = 224\n",
    "args.dataset_root = ROOT\n",
    "args.is_train = 2 \n",
    "Testing_generator_FST_V-VI = fitzpatrick17kImageDataset(args)\n",
    "\n",
    "print('   Done.')\n"
   ]
  },
  {
   "cell_type": "code",
   "execution_count": null,
   "metadata": {
    "colab": {
     "base_uri": "https://localhost:8080/"
    },
    "id": "HgsqykNOnhKr",
    "outputId": "9fbe0225-2ecf-49bb-c5b9-64580abfae39"
   },
   "outputs": [
    {
     "name": "stdout",
     "output_type": "stream",
     "text": [
      "Loading Data Generators...\n",
      "Loading Testing Dataset...\n",
      "   Done.\n"
     ]
    }
   ],
   "source": [
    "#Fitzpatick FST I-IV \n",
    "from data_generators import fitzpatrick17kImageDataset\n",
    "## Loading Data Generators\n",
    "ROOT = '/fitzpatrick 17k /'\n",
    "\n",
    "print('Loading Data Generators...')\n",
    "\n",
    "args.num_classes = 3\n",
    "args.sizeW = 224\n",
    "args.sizeH = 224\n",
    "args.dataset_root = ROOT\n",
    "args.is_train = 2 # Validation Set  change the condition on common.py before running\n",
    "Testing_generator_FST_I-IV = fitzpatrick17kImageDataset(args)\n",
    "\n",
    "print('   Done.')\n",
    "\n"
   ]
  },
  {
   "cell_type": "code",
   "execution_count": null,
   "metadata": {
    "colab": {
     "base_uri": "https://localhost:8080/"
    },
    "id": "sLQGdhPsn2n2",
    "outputId": "5e09e531-f89e-4df3-cc29-85fe4d453a7c"
   },
   "outputs": [
    {
     "name": "stdout",
     "output_type": "stream",
     "text": [
      "Loading Data Generators...\n",
      "Loading Validation Dataset...\n",
      "   Done.\n"
     ]
    }
   ],
   "source": [
    "# Fitzpatick ALL images\n",
    "from data_generators import fitzpatrick17kImageDataset\n",
    "\n",
    "## Loading Data Generators\n",
    "ROOT = \"/fitzpatrick 17k /\"\n",
    "\n",
    "print(\"Loading Data Generators...\")\n",
    "\n",
    "args.num_classes = 3\n",
    "args.sizeW = 224\n",
    "args.sizeH = 224\n",
    "args.dataset_root = ROOT\n",
    "args.is_train = 0\n",
    "Testing_generator_ALL = fitzpatrick17kImageDataset(args)\n",
    "\n",
    "print(\"   Done.\")"
   ]
  },
  {
   "cell_type": "markdown",
   "metadata": {
    "id": "Ge2w_bqUOpcB"
   },
   "source": [
    "# 2. Model Evaluation"
   ]
  },
  {
   "cell_type": "markdown",
   "metadata": {
    "id": "Ge2w_bqUOpcB"
   },
   "source": [
    "#### 2.1 Load the pretrained DenseNet model "
   ]
  },
  {
   "cell_type": "code",
   "execution_count": null,
   "metadata": {
    "colab": {
     "base_uri": "https://localhost:8080/"
    },
    "id": "P71ii-fmZB9Z",
    "outputId": "904c9e32-ccd9-4cb3-e6eb-92e9ba7a5e42"
   },
   "outputs": [
    {
     "name": "stdout",
     "output_type": "stream",
     "text": [
      "Loading Network...\n"
     ]
    },
    {
     "name": "stderr",
     "output_type": "stream",
     "text": [
      "WARNING:tensorflow:From /usr/local/lib/python3.10/dist-packages/tensorflow/python/ops/init_ops.py:94: calling VarianceScaling.__init__ (from tensorflow.python.ops.init_ops) with dtype is deprecated and will be removed in a future version.\n",
      "Instructions for updating:\n",
      "Call initializer instance with the dtype argument instead of passing it to the constructor\n",
      "WARNING:tensorflow:From /usr/local/lib/python3.10/dist-packages/tensorflow/python/ops/init_ops.py:94: calling Zeros.__init__ (from tensorflow.python.ops.init_ops) with dtype is deprecated and will be removed in a future version.\n",
      "Instructions for updating:\n",
      "Call initializer instance with the dtype argument instead of passing it to the constructor\n",
      "WARNING:tensorflow:From /usr/local/lib/python3.10/dist-packages/tensorflow/python/ops/init_ops.py:94: calling Ones.__init__ (from tensorflow.python.ops.init_ops) with dtype is deprecated and will be removed in a future version.\n",
      "Instructions for updating:\n",
      "Call initializer instance with the dtype argument instead of passing it to the constructor\n",
      "WARNING:tensorflow:From /usr/local/lib/python3.10/dist-packages/keras/src/layers/normalization/batch_normalization.py:883: _colocate_with (from tensorflow.python.framework.ops) is deprecated and will be removed in a future version.\n",
      "Instructions for updating:\n",
      "Colocations handled automatically by placer.\n"
     ]
    },
    {
     "name": "stdout",
     "output_type": "stream",
     "text": [
      " Done.\n"
     ]
    }
   ],
   "source": [
    "print(\"Loading Network...\")\n",
    "model_path = \"../Models/my_model_densenet.h5\"\n",
    "densenet_model = tf.keras.models.load_model(model_path)\n",
    "print(\" Done.\")"
   ]
  },
  {
   "cell_type": "code",
   "execution_count": null,
   "metadata": {},
   "outputs": [],
   "source": [
    "\n",
    "from ODIN_aux import compute_baseline_softmax_scores \n",
    "from ODIN_aux import get_perturbation_helper_func\n",
    "from ODIN_aux import compute_odin_softmax_scores"
   ]
  },
  {
   "cell_type": "markdown",
   "metadata": {
    "id": "JU_pImXqY91M"
   },
   "source": [
    "# Find the best parameters :"
   ]
  },
  {
   "cell_type": "code",
   "execution_count": null,
   "metadata": {
    "id": "Bo6hTeBnISxW"
   },
   "outputs": [],
   "source": [
    "compute_odin_softmax_scores( densenet_model, Validation_generator, Testing_generator_FST_V - VI)"
   ]
  },
  {
   "cell_type": "code",
   "execution_count": null,
   "metadata": {
    "id": "bl1-m5KaGfLt"
   },
   "outputs": [],
   "source": [
    "compute_odin_softmax_scores(densenet_model, Validation_generator, Testing_generator_FST_I - IV)"
   ]
  },
  {
   "cell_type": "code",
   "execution_count": null,
   "metadata": {
    "id": "FwoAjwgFGfLu"
   },
   "outputs": [],
   "source": [
    "compute_odin_softmax_scores(densenet_model, Validation_generator, Testing_generator_ALL)"
   ]
  },
  {
   "cell_type": "code",
   "execution_count": null,
   "metadata": {
    "id": "_zQEm9jgV-dc"
   },
   "outputs": [],
   "source": [
    "#testing the subset of parameters\n",
    "\n",
    "\n",
    "need_norm_perturbations = 1\n",
    "best_auroc = 0.0\n",
    "best_auroc_params = None\n",
    "lowest_fpr = float('inf')\n",
    "lowest_fpr_params = None\n",
    "\n",
    "\n",
    "#We want to loop over all the saved scores\n",
    "In_scores_files =\"/Models/ODIN/Saved scores/In\"\n",
    "Out_scores_files = \"/Models/ODIN/Saved scores/Out\"\n",
    "\n",
    "\n",
    "\n",
    "\n",
    "in_dist_file=\"densenet121_ODIN_{}_{}_In.txt\".format(temperature, magnitude)\n",
    "out_dist_file=\"densenet121_ODIN_{}_{}_Out.txt\".format(temperature, magnitude)\n",
    "\n",
    "\n",
    "\n",
    " # Calculate AUROC\n",
    "auroc_value = auroc(in_dist_file=  , out_dist_file=out_dist_file)\n",
    "\n",
    "                    # Calculate FPR\n",
    "tpr, fpr = get_tpr_and_fpr(scores_in_test, scores_out_test, delta)\n",
    "\n",
    "                    # Update best AUROC and FPR if necessary\n",
    "if auroc_value > best_auroc:\n",
    "   best_auroc = auroc_value\n",
    "   best_auroc_params = (temperature, magnitude, dist)\n",
    "\n",
    "if fpr < lowest_fpr:\n",
    "   lowest_fpr = fpr\n",
    "   lowest_fpr_params = (temperature, magnitude, dist)\n",
    "\n",
    "print(\"Best AUROC: {:.4f}, Parameters: Temperature={}, Magnitude={}, Distribution={}\"\n",
    "      .format(best_auroc, *best_auroc_params))\n",
    "\n",
    "    # Print the lowest FPR and corresponding parameters\n",
    "print(\"Lowest FPR: {:.4f}, Parameters: Temperature={}, Magnitude={}, Distribution={}\"\n",
    "      .format(lowest_fpr, *lowest_fpr_params))"
   ]
  },
  {
   "cell_type": "code",
   "execution_count": null,
   "metadata": {
    "colab": {
     "base_uri": "https://localhost:8080/"
    },
    "id": "CQNrE1jwuZKO",
    "outputId": "f9e26abf-fb90-40e4-d163-0900c3066e4d"
   },
   "outputs": [
    {
     "name": "stdout",
     "output_type": "stream",
     "text": [
      "Tensor(\"dense_4/BiasAdd:0\", shape=(?, 6), dtype=float32)\n",
      "Tensor(\"truediv:0\", shape=(?, 6), dtype=float32)\n",
      "Tensor(\"ArgMax:0\", shape=(1, ?), dtype=int64)\n",
      "Skip  In, 1000, 0.0\n",
      "\n",
      "===== Temperature: 1000, Magnitude: 0.0, Out-Distribution =====\n"
     ]
    },
    {
     "name": "stderr",
     "output_type": "stream",
     "text": [
      "100%|██████████| 1318/1318 [27:31<00:00,  1.25s/it]\n"
     ]
    },
    {
     "name": "stdout",
     "output_type": "stream",
     "text": [
      "\n",
      "===== Temperature: 1000, Magnitude: 0.0002, In-Distribution =====\n"
     ]
    },
    {
     "name": "stderr",
     "output_type": "stream",
     "text": [
      "100%|██████████| 2495/2495 [29:22<00:00,  1.42it/s]\n"
     ]
    },
    {
     "name": "stdout",
     "output_type": "stream",
     "text": [
      "\n",
      "===== Temperature: 1000, Magnitude: 0.0002, Out-Distribution =====\n"
     ]
    },
    {
     "name": "stderr",
     "output_type": "stream",
     "text": [
      "100%|██████████| 1318/1318 [15:27<00:00,  1.42it/s]\n"
     ]
    },
    {
     "name": "stdout",
     "output_type": "stream",
     "text": [
      "\n",
      "===== Temperature: 1000, Magnitude: 0.0004, In-Distribution =====\n"
     ]
    },
    {
     "name": "stderr",
     "output_type": "stream",
     "text": [
      "100%|██████████| 2495/2495 [29:31<00:00,  1.41it/s]\n"
     ]
    },
    {
     "name": "stdout",
     "output_type": "stream",
     "text": [
      "\n",
      "===== Temperature: 1000, Magnitude: 0.0004, Out-Distribution =====\n"
     ]
    },
    {
     "name": "stderr",
     "output_type": "stream",
     "text": [
      "100%|██████████| 1318/1318 [15:33<00:00,  1.41it/s]\n"
     ]
    },
    {
     "name": "stdout",
     "output_type": "stream",
     "text": [
      "\n",
      "===== Temperature: 1000, Magnitude: 0.0006, In-Distribution =====\n"
     ]
    },
    {
     "name": "stderr",
     "output_type": "stream",
     "text": [
      "100%|██████████| 2495/2495 [30:08<00:00,  1.38it/s]\n"
     ]
    },
    {
     "name": "stdout",
     "output_type": "stream",
     "text": [
      "\n",
      "===== Temperature: 1000, Magnitude: 0.0006, Out-Distribution =====\n"
     ]
    },
    {
     "name": "stderr",
     "output_type": "stream",
     "text": [
      "100%|██████████| 1318/1318 [15:52<00:00,  1.38it/s]\n"
     ]
    },
    {
     "name": "stdout",
     "output_type": "stream",
     "text": [
      "\n",
      "===== Temperature: 1000, Magnitude: 0.0008, In-Distribution =====\n"
     ]
    },
    {
     "name": "stderr",
     "output_type": "stream",
     "text": [
      "100%|██████████| 2495/2495 [29:59<00:00,  1.39it/s]\n"
     ]
    },
    {
     "name": "stdout",
     "output_type": "stream",
     "text": [
      "\n",
      "===== Temperature: 1000, Magnitude: 0.0008, Out-Distribution =====\n"
     ]
    },
    {
     "name": "stderr",
     "output_type": "stream",
     "text": [
      "100%|██████████| 1318/1318 [15:45<00:00,  1.39it/s]\n"
     ]
    },
    {
     "name": "stdout",
     "output_type": "stream",
     "text": [
      "\n",
      "===== Temperature: 1000, Magnitude: 0.001, In-Distribution =====\n"
     ]
    },
    {
     "name": "stderr",
     "output_type": "stream",
     "text": [
      "100%|██████████| 2495/2495 [30:18<00:00,  1.37it/s]\n"
     ]
    },
    {
     "name": "stdout",
     "output_type": "stream",
     "text": [
      "\n",
      "===== Temperature: 1000, Magnitude: 0.001, Out-Distribution =====\n"
     ]
    },
    {
     "name": "stderr",
     "output_type": "stream",
     "text": [
      "100%|██████████| 1318/1318 [15:37<00:00,  1.41it/s]\n"
     ]
    },
    {
     "name": "stdout",
     "output_type": "stream",
     "text": [
      "\n",
      "===== Temperature: 1000, Magnitude: 0.0012, In-Distribution =====\n"
     ]
    },
    {
     "name": "stderr",
     "output_type": "stream",
     "text": [
      "100%|██████████| 2495/2495 [30:37<00:00,  1.36it/s]\n"
     ]
    },
    {
     "name": "stdout",
     "output_type": "stream",
     "text": [
      "\n",
      "===== Temperature: 1000, Magnitude: 0.0012, Out-Distribution =====\n"
     ]
    },
    {
     "name": "stderr",
     "output_type": "stream",
     "text": [
      "100%|██████████| 1318/1318 [15:46<00:00,  1.39it/s]\n"
     ]
    },
    {
     "name": "stdout",
     "output_type": "stream",
     "text": [
      "\n",
      "===== Temperature: 1000, Magnitude: 0.0014, In-Distribution =====\n"
     ]
    },
    {
     "name": "stderr",
     "output_type": "stream",
     "text": [
      "100%|██████████| 2495/2495 [30:12<00:00,  1.38it/s]\n"
     ]
    },
    {
     "name": "stdout",
     "output_type": "stream",
     "text": [
      "\n",
      "===== Temperature: 1000, Magnitude: 0.0014, Out-Distribution =====\n"
     ]
    },
    {
     "name": "stderr",
     "output_type": "stream",
     "text": [
      "100%|██████████| 1318/1318 [15:34<00:00,  1.41it/s]\n"
     ]
    },
    {
     "name": "stdout",
     "output_type": "stream",
     "text": [
      "\n",
      "===== Temperature: 1000, Magnitude: 0.0016, In-Distribution =====\n"
     ]
    },
    {
     "name": "stderr",
     "output_type": "stream",
     "text": [
      " 41%|████      | 1013/2495 [12:01<18:12,  1.36it/s]"
     ]
    }
   ],
   "source": [
    "compute_odin_softmax_scores(\n",
    "    densenet_model, Validation_generator, Testing_generator_FST_V - VI\n",
    ")"
   ]
  },
  {
   "cell_type": "code",
   "execution_count": null,
   "metadata": {
    "id": "JvbhYACYGfLw"
   },
   "outputs": [],
   "source": [
    "compute_odin_softmax_scores(densenet_model, Validation_generator, Testing_generator_FST_I - IV)"
   ]
  },
  {
   "cell_type": "markdown",
   "metadata": {
    "id": "Ql0mrBzDTuTt"
   },
   "source": [
    "## Setting the optimal parameters :"
   ]
  },
  {
   "cell_type": "code",
   "execution_count": null,
   "metadata": {},
   "outputs": [],
   "source": [
    "from ODIN_aux import compute_odin_parameters_and_metrics\n",
    "from ODIN_aux import compute_odin_softmax_scores_fixed\n"
   ]
  },
  {
   "cell_type": "code",
   "execution_count": null,
   "metadata": {
    "id": "NWFXBuxbbANq"
   },
   "outputs": [],
   "source": [
    "\n",
    "\n",
    "# Optimal ODIN Parameters\n",
    "optimal_temperature = 200\n",
    "optimal_magnitude = 0.0002\n",
    "optimal_delta = 0.90385\n",
    "\n",
    "# Fixed ODIN Parameters\n",
    "# optimal_temperature = 2\n",
    "# optimal_magnitude = 0.0002\n",
    "\n",
    "# Call the function to compute ODIN parameters and metrics\n",
    "# compute_odin_parameters_and_metrics(densenet_model, Validation_generator, Testing_generator_lighter_only)"
   ]
  },
  {
   "cell_type": "markdown",
   "metadata": {
    "id": "Z3pmPu4Xievy"
   },
   "source": [
    "## ODIN scores"
   ]
  },
  {
   "cell_type": "code",
   "execution_count": null,
   "metadata": {
    "colab": {
     "base_uri": "https://localhost:8080/"
    },
    "id": "F7R9EYh9heSp",
    "outputId": "43f817e0-b7f6-453d-daa5-1eaf070a1af1"
   },
   "outputs": [
    {
     "name": "stdout",
     "output_type": "stream",
     "text": [
      "Tensor(\"dense_4/BiasAdd:0\", shape=(?, 6), dtype=float32)\n",
      "Tensor(\"truediv_6:0\", shape=(?, 6), dtype=float32)\n",
      "Tensor(\"ArgMax_12:0\", shape=(1, ?), dtype=int64)\n",
      "\n",
      "===== Temperature: 200, Magnitude: 0.0002, Out-Distribution =====\n"
     ]
    },
    {
     "name": "stderr",
     "output_type": "stream",
     "text": [
      "100%|██████████| 1318/1318 [15:24<00:00,  1.43it/s]\n"
     ]
    }
   ],
   "source": [
    "compute_odin_softmax_scores_fixed(densenet_model, Validation_generator, Testing_generator_FST_V - VI)"
   ]
  },
  {
   "cell_type": "code",
   "execution_count": null,
   "metadata": {
    "id": "aWwwGD_9W66O"
   },
   "outputs": [],
   "source": [
    "compute_odin_softmax_scores_fixed(densenet_model, Validation_generator, Testing_generator_FST_I - IV)"
   ]
  },
  {
   "cell_type": "code",
   "execution_count": null,
   "metadata": {
    "colab": {
     "base_uri": "https://localhost:8080/"
    },
    "id": "yn-6mj2liPE0",
    "outputId": "40d0712c-c67e-4025-d589-19cb31dd76b7"
   },
   "outputs": [
    {
     "name": "stdout",
     "output_type": "stream",
     "text": [
      "Tensor(\"dense_4/BiasAdd:0\", shape=(?, 6), dtype=float32)\n",
      "Tensor(\"truediv_2:0\", shape=(?, 6), dtype=float32)\n",
      "Tensor(\"ArgMax_4:0\", shape=(1, ?), dtype=int64)\n",
      "\n",
      "===== Temperature: 200, Magnitude: 0.0002, Out-Distribution =====\n"
     ]
    },
    {
     "name": "stderr",
     "output_type": "stream",
     "text": [
      "100%|██████████| 12222/12222 [2:11:44<00:00,  1.55it/s]\n"
     ]
    }
   ],
   "source": [
    "compute_odin_softmax_scores_fixed(densenet_model, Validation_generator, Testing_generator_ALL)"
   ]
  },
  {
   "cell_type": "markdown",
   "metadata": {
    "id": "mBqdcdw7GfL0"
   },
   "source": [
    "## Baseline scores"
   ]
  },
  {
   "cell_type": "code",
   "execution_count": null,
   "metadata": {
    "colab": {
     "base_uri": "https://localhost:8080/"
    },
    "id": "SuFiMav1xDar",
    "outputId": "4fccac5e-9c48-4d5c-f602-15f27143b14e"
   },
   "outputs": [
    {
     "name": "stdout",
     "output_type": "stream",
     "text": [
      "Begin to compute baseline softmax scores\n"
     ]
    },
    {
     "name": "stderr",
     "output_type": "stream",
     "text": [
      "/usr/local/lib/python3.10/dist-packages/keras/src/engine/training_v1.py:2359: UserWarning: `Model.state_updates` will be removed in a future version. This property should not be used in TensorFlow 2.0, as `updates` are applied automatically.\n",
      "  updates=self.state_updates,\n"
     ]
    }
   ],
   "source": [
    "# lFST I-IV\n",
    "compute_baseline_softmax_scores(\n",
    "    densenet_model, Validation_generator, Testing_generator_FST_I - IV\n",
    ")"
   ]
  },
  {
   "cell_type": "code",
   "execution_count": null,
   "metadata": {
    "colab": {
     "base_uri": "https://localhost:8080/"
    },
    "id": "yzyOY-lIiiCA",
    "outputId": "f11e8e07-5915-40a8-b91b-2ddae0f86a9b"
   },
   "outputs": [
    {
     "name": "stdout",
     "output_type": "stream",
     "text": [
      "Begin to compute baseline softmax scores\n"
     ]
    },
    {
     "name": "stderr",
     "output_type": "stream",
     "text": [
      "/usr/local/lib/python3.10/dist-packages/keras/src/engine/training_v1.py:2359: UserWarning: `Model.state_updates` will be removed in a future version. This property should not be used in TensorFlow 2.0, as `updates` are applied automatically.\n",
      "  updates=self.state_updates,\n"
     ]
    }
   ],
   "source": [
    "# FST V-VI\n",
    "compute_baseline_softmax_scores(\n",
    "    densenet_model, Validation_generator, Testing_generator_FST_V - VI\n",
    ")"
   ]
  },
  {
   "cell_type": "code",
   "execution_count": null,
   "metadata": {
    "colab": {
     "base_uri": "https://localhost:8080/"
    },
    "id": "JMXMzBJaivPi",
    "outputId": "dab6afcf-5d4c-41d1-95ba-d52a59857e3a"
   },
   "outputs": [
    {
     "name": "stdout",
     "output_type": "stream",
     "text": [
      "Begin to compute baseline softmax scores\n"
     ]
    }
   ],
   "source": [
    "# ALL\n",
    "compute_baseline_softmax_scores(\n",
    "    densenet_model, Validation_generator, Testing_generator_ALL\n",
    ")"
   ]
  },
  {
   "cell_type": "code",
   "execution_count": null,
   "metadata": {
    "id": "oZHN1-1nQd_R"
   },
   "outputs": [],
   "source": [
    "# find the ptimal threshold:\n",
    "# Concatenate the scores and create corresponding labels\n",
    "\n",
    "scores_in = np.loadtxt(\"/content/densenet121_ODIN_200_0.0002_In_FST_V_VI.txt\")\n",
    "scores_out = np.loadtxt(\"/content/densenet121_ODIN_200_0.0002_Out_FST_V_VI.txt\")\n",
    "scores_D = np.concatenate([scores_in, scores_out])\n",
    "labels_D = np.concatenate([np.zeros(len(scores_in)), np.ones(len(scores_out))])\n",
    "\n",
    "# Use ROC curve to find the optimal threshold\n",
    "fpr, tpr, thresholds = roc_curve(labels_D, scores_D)\n",
    "optimal_threshold_D = thresholds[np.argmax(tpr - fpr)]"
   ]
  },
  {
   "cell_type": "code",
   "execution_count": null,
   "metadata": {
    "colab": {
     "base_uri": "https://localhost:8080/"
    },
    "id": "_6G6zVBpUWNg",
    "outputId": "452a49d9-5be1-44eb-ad74-f95d9f0ebe6b"
   },
   "outputs": [
    {
     "name": "stdout",
     "output_type": "stream",
     "text": [
      "0.17385952174663544\n"
     ]
    }
   ],
   "source": [
    "print(optimal_threshold)  # ODIN"
   ]
  },
  {
   "cell_type": "code",
   "execution_count": null,
   "metadata": {
    "colab": {
     "base_uri": "https://localhost:8080/"
    },
    "id": "tCJXT0Ev-cgI",
    "outputId": "98ab2db5-05ea-4601-bec0-7137170d6771"
   },
   "outputs": [
    {
     "name": "stdout",
     "output_type": "stream",
     "text": [
      "0.9962658286094666\n"
     ]
    }
   ],
   "source": [
    "print(optimal_threshold)  # NN Softmax"
   ]
  }
 ],
 "metadata": {
  "colab": {
   "provenance": []
  },
  "kernelspec": {
   "display_name": "Python 3",
   "language": "python",
   "name": "python3"
  },
  "language_info": {
   "codemirror_mode": {
    "name": "ipython",
    "version": 3
   },
   "file_extension": ".py",
   "mimetype": "text/x-python",
   "name": "python",
   "nbconvert_exporter": "python",
   "pygments_lexer": "ipython3",
   "version": "3.8.3"
  }
 },
 "nbformat": 4,
 "nbformat_minor": 1
}
