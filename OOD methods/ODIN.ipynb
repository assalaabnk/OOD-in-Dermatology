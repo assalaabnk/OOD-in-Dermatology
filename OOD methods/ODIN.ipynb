{
 "cells": [
  {
   "cell_type": "markdown",
   "metadata": {
    "id": "OI2o5jNVMyif"
   },
   "source": [
    "Resources: https://github.com/facebookresearch/odin &\n",
    "https://github.com/mattgroh/fitzpatrick17k\n",
    "\n"
   ]
  },
  {
   "cell_type": "code",
   "execution_count": null,
   "metadata": {
    "colab": {
     "base_uri": "https://localhost:8080/"
    },
    "id": "Erdgp8sEokt2",
    "outputId": "ffb9139a-91f1-4475-f2d1-b6ed21d7d943"
   },
   "outputs": [
    {
     "name": "stdout",
     "output_type": "stream",
     "text": [
      "Requirement already satisfied: numpy in /usr/local/lib/python3.10/dist-packages (1.23.5)\n",
      "Requirement already satisfied: tensorflow in /usr/local/lib/python3.10/dist-packages (2.14.0)\n",
      "Requirement already satisfied: keras in /usr/local/lib/python3.10/dist-packages (2.14.0)\n",
      "Requirement already satisfied: opencv-python-headless in /usr/local/lib/python3.10/dist-packages (4.8.1.78)\n",
      "Requirement already satisfied: scikit-learn in /usr/local/lib/python3.10/dist-packages (1.2.2)\n",
      "Requirement already satisfied: tqdm in /usr/local/lib/python3.10/dist-packages (4.66.1)\n",
      "Requirement already satisfied: absl-py>=1.0.0 in /usr/local/lib/python3.10/dist-packages (from tensorflow) (1.4.0)\n",
      "Requirement already satisfied: astunparse>=1.6.0 in /usr/local/lib/python3.10/dist-packages (from tensorflow) (1.6.3)\n",
      "Requirement already satisfied: flatbuffers>=23.5.26 in /usr/local/lib/python3.10/dist-packages (from tensorflow) (23.5.26)\n",
      "Requirement already satisfied: gast!=0.5.0,!=0.5.1,!=0.5.2,>=0.2.1 in /usr/local/lib/python3.10/dist-packages (from tensorflow) (0.5.4)\n",
      "Requirement already satisfied: google-pasta>=0.1.1 in /usr/local/lib/python3.10/dist-packages (from tensorflow) (0.2.0)\n",
      "Requirement already satisfied: h5py>=2.9.0 in /usr/local/lib/python3.10/dist-packages (from tensorflow) (3.9.0)\n",
      "Requirement already satisfied: libclang>=13.0.0 in /usr/local/lib/python3.10/dist-packages (from tensorflow) (16.0.6)\n",
      "Requirement already satisfied: ml-dtypes==0.2.0 in /usr/local/lib/python3.10/dist-packages (from tensorflow) (0.2.0)\n",
      "Requirement already satisfied: opt-einsum>=2.3.2 in /usr/local/lib/python3.10/dist-packages (from tensorflow) (3.3.0)\n",
      "Requirement already satisfied: packaging in /usr/local/lib/python3.10/dist-packages (from tensorflow) (23.2)\n",
      "Requirement already satisfied: protobuf!=4.21.0,!=4.21.1,!=4.21.2,!=4.21.3,!=4.21.4,!=4.21.5,<5.0.0dev,>=3.20.3 in /usr/local/lib/python3.10/dist-packages (from tensorflow) (3.20.3)\n",
      "Requirement already satisfied: setuptools in /usr/local/lib/python3.10/dist-packages (from tensorflow) (67.7.2)\n",
      "Requirement already satisfied: six>=1.12.0 in /usr/local/lib/python3.10/dist-packages (from tensorflow) (1.16.0)\n",
      "Requirement already satisfied: termcolor>=1.1.0 in /usr/local/lib/python3.10/dist-packages (from tensorflow) (2.3.0)\n",
      "Requirement already satisfied: typing-extensions>=3.6.6 in /usr/local/lib/python3.10/dist-packages (from tensorflow) (4.5.0)\n",
      "Requirement already satisfied: wrapt<1.15,>=1.11.0 in /usr/local/lib/python3.10/dist-packages (from tensorflow) (1.14.1)\n",
      "Requirement already satisfied: tensorflow-io-gcs-filesystem>=0.23.1 in /usr/local/lib/python3.10/dist-packages (from tensorflow) (0.34.0)\n",
      "Requirement already satisfied: grpcio<2.0,>=1.24.3 in /usr/local/lib/python3.10/dist-packages (from tensorflow) (1.59.0)\n",
      "Requirement already satisfied: tensorboard<2.15,>=2.14 in /usr/local/lib/python3.10/dist-packages (from tensorflow) (2.14.1)\n",
      "Requirement already satisfied: tensorflow-estimator<2.15,>=2.14.0 in /usr/local/lib/python3.10/dist-packages (from tensorflow) (2.14.0)\n",
      "Requirement already satisfied: scipy>=1.3.2 in /usr/local/lib/python3.10/dist-packages (from scikit-learn) (1.11.3)\n",
      "Requirement already satisfied: joblib>=1.1.1 in /usr/local/lib/python3.10/dist-packages (from scikit-learn) (1.3.2)\n",
      "Requirement already satisfied: threadpoolctl>=2.0.0 in /usr/local/lib/python3.10/dist-packages (from scikit-learn) (3.2.0)\n",
      "Requirement already satisfied: wheel<1.0,>=0.23.0 in /usr/local/lib/python3.10/dist-packages (from astunparse>=1.6.0->tensorflow) (0.41.2)\n",
      "Requirement already satisfied: google-auth<3,>=1.6.3 in /usr/local/lib/python3.10/dist-packages (from tensorboard<2.15,>=2.14->tensorflow) (2.17.3)\n",
      "Requirement already satisfied: google-auth-oauthlib<1.1,>=0.5 in /usr/local/lib/python3.10/dist-packages (from tensorboard<2.15,>=2.14->tensorflow) (1.0.0)\n",
      "Requirement already satisfied: markdown>=2.6.8 in /usr/local/lib/python3.10/dist-packages (from tensorboard<2.15,>=2.14->tensorflow) (3.5)\n",
      "Requirement already satisfied: requests<3,>=2.21.0 in /usr/local/lib/python3.10/dist-packages (from tensorboard<2.15,>=2.14->tensorflow) (2.31.0)\n",
      "Requirement already satisfied: tensorboard-data-server<0.8.0,>=0.7.0 in /usr/local/lib/python3.10/dist-packages (from tensorboard<2.15,>=2.14->tensorflow) (0.7.2)\n",
      "Requirement already satisfied: werkzeug>=1.0.1 in /usr/local/lib/python3.10/dist-packages (from tensorboard<2.15,>=2.14->tensorflow) (3.0.1)\n",
      "Requirement already satisfied: cachetools<6.0,>=2.0.0 in /usr/local/lib/python3.10/dist-packages (from google-auth<3,>=1.6.3->tensorboard<2.15,>=2.14->tensorflow) (5.3.2)\n",
      "Requirement already satisfied: pyasn1-modules>=0.2.1 in /usr/local/lib/python3.10/dist-packages (from google-auth<3,>=1.6.3->tensorboard<2.15,>=2.14->tensorflow) (0.3.0)\n",
      "Requirement already satisfied: rsa<5,>=3.1.4 in /usr/local/lib/python3.10/dist-packages (from google-auth<3,>=1.6.3->tensorboard<2.15,>=2.14->tensorflow) (4.9)\n",
      "Requirement already satisfied: requests-oauthlib>=0.7.0 in /usr/local/lib/python3.10/dist-packages (from google-auth-oauthlib<1.1,>=0.5->tensorboard<2.15,>=2.14->tensorflow) (1.3.1)\n",
      "Requirement already satisfied: charset-normalizer<4,>=2 in /usr/local/lib/python3.10/dist-packages (from requests<3,>=2.21.0->tensorboard<2.15,>=2.14->tensorflow) (3.3.1)\n",
      "Requirement already satisfied: idna<4,>=2.5 in /usr/local/lib/python3.10/dist-packages (from requests<3,>=2.21.0->tensorboard<2.15,>=2.14->tensorflow) (3.4)\n",
      "Requirement already satisfied: urllib3<3,>=1.21.1 in /usr/local/lib/python3.10/dist-packages (from requests<3,>=2.21.0->tensorboard<2.15,>=2.14->tensorflow) (2.0.7)\n",
      "Requirement already satisfied: certifi>=2017.4.17 in /usr/local/lib/python3.10/dist-packages (from requests<3,>=2.21.0->tensorboard<2.15,>=2.14->tensorflow) (2023.7.22)\n",
      "Requirement already satisfied: MarkupSafe>=2.1.1 in /usr/local/lib/python3.10/dist-packages (from werkzeug>=1.0.1->tensorboard<2.15,>=2.14->tensorflow) (2.1.3)\n",
      "Requirement already satisfied: pyasn1<0.6.0,>=0.4.6 in /usr/local/lib/python3.10/dist-packages (from pyasn1-modules>=0.2.1->google-auth<3,>=1.6.3->tensorboard<2.15,>=2.14->tensorflow) (0.5.0)\n",
      "Requirement already satisfied: oauthlib>=3.0.0 in /usr/local/lib/python3.10/dist-packages (from requests-oauthlib>=0.7.0->google-auth-oauthlib<1.1,>=0.5->tensorboard<2.15,>=2.14->tensorflow) (3.2.2)\n"
     ]
    }
   ],
   "source": [
    "!pip install numpy tensorflow keras opencv-python-headless scikit-learn tqdm"
   ]
  },
  {
   "cell_type": "code",
   "execution_count": null,
   "metadata": {
    "id": "q74UOSC0mUwS"
   },
   "outputs": [],
   "source": [
    "#!pip install numpy tensorflow==2.8.0 keras opencv-python-headless scikit-learn\n"
   ]
  },
  {
   "cell_type": "code",
   "execution_count": null,
   "metadata": {
    "colab": {
     "base_uri": "https://localhost:8080/"
    },
    "id": "Fvi64OE2gcis",
    "outputId": "36917350-98ea-4c13-ed04-f9a30cb32e31"
   },
   "outputs": [
    {
     "name": "stdout",
     "output_type": "stream",
     "text": [
      "2.13.0\n"
     ]
    }
   ],
   "source": [
    "import tensorflow as tf\n",
    "\n",
    "print(tf.__version__)"
   ]
  },
  {
   "cell_type": "markdown",
   "metadata": {
    "id": "WlD0veiJpBnd"
   },
   "source": [
    "Dealing with compability problem :"
   ]
  },
  {
   "cell_type": "code",
   "execution_count": null,
   "metadata": {
    "colab": {
     "base_uri": "https://localhost:8080/"
    },
    "id": "CLDjXMVFo6f0",
    "outputId": "c2aaf081-d236-49e6-ac07-c8246f3d7c7c"
   },
   "outputs": [
    {
     "name": "stderr",
     "output_type": "stream",
     "text": [
      "WARNING:tensorflow:From /usr/local/lib/python3.10/dist-packages/tensorflow/python/compat/v2_compat.py:107: disable_resource_variables (from tensorflow.python.ops.variable_scope) is deprecated and will be removed in a future version.\n",
      "Instructions for updating:\n",
      "non-resource variables are not supported in the long term\n"
     ]
    }
   ],
   "source": [
    "import os\n",
    "import tensorflow.compat.v1 as tf\n",
    "tf.disable_v2_behavior()\n",
    "\n",
    "tf.compat.v1.disable_eager_execution()\n",
    "sess = tf.Session(config=tf.ConfigProto( log_device_placement=False))"
   ]
  },
  {
   "cell_type": "markdown",
   "metadata": {
    "id": "o_Rr1-ACLuPb"
   },
   "source": [
    "## Fitz dataset"
   ]
  },
  {
   "cell_type": "markdown",
   "metadata": {
    "id": "st9ggAgCv_UC"
   },
   "source": [
    "### DenseNET implementation"
   ]
  },
  {
   "cell_type": "code",
   "execution_count": null,
   "metadata": {
    "id": "SIZp43R6vVH9"
   },
   "outputs": [],
   "source": [
    "import tensorflow as tf\n",
    "import tensorflow\n",
    "\n",
    "from tensorflow import keras\n",
    "from keras.layers import Dense"
   ]
  },
  {
   "cell_type": "markdown",
   "metadata": {
    "id": "Ge2w_bqUOpcB"
   },
   "source": [
    "**Loading the pretrained DenseNet model :**"
   ]
  },
  {
   "cell_type": "code",
   "execution_count": null,
   "metadata": {
    "colab": {
     "base_uri": "https://localhost:8080/"
    },
    "id": "P71ii-fmZB9Z",
    "outputId": "904c9e32-ccd9-4cb3-e6eb-92e9ba7a5e42"
   },
   "outputs": [
    {
     "name": "stdout",
     "output_type": "stream",
     "text": [
      "Loading Network...\n"
     ]
    },
    {
     "name": "stderr",
     "output_type": "stream",
     "text": [
      "WARNING:tensorflow:From /usr/local/lib/python3.10/dist-packages/tensorflow/python/ops/init_ops.py:94: calling VarianceScaling.__init__ (from tensorflow.python.ops.init_ops) with dtype is deprecated and will be removed in a future version.\n",
      "Instructions for updating:\n",
      "Call initializer instance with the dtype argument instead of passing it to the constructor\n",
      "WARNING:tensorflow:From /usr/local/lib/python3.10/dist-packages/tensorflow/python/ops/init_ops.py:94: calling Zeros.__init__ (from tensorflow.python.ops.init_ops) with dtype is deprecated and will be removed in a future version.\n",
      "Instructions for updating:\n",
      "Call initializer instance with the dtype argument instead of passing it to the constructor\n",
      "WARNING:tensorflow:From /usr/local/lib/python3.10/dist-packages/tensorflow/python/ops/init_ops.py:94: calling Ones.__init__ (from tensorflow.python.ops.init_ops) with dtype is deprecated and will be removed in a future version.\n",
      "Instructions for updating:\n",
      "Call initializer instance with the dtype argument instead of passing it to the constructor\n",
      "WARNING:tensorflow:From /usr/local/lib/python3.10/dist-packages/keras/src/layers/normalization/batch_normalization.py:883: _colocate_with (from tensorflow.python.framework.ops) is deprecated and will be removed in a future version.\n",
      "Instructions for updating:\n",
      "Colocations handled automatically by placer.\n"
     ]
    },
    {
     "name": "stdout",
     "output_type": "stream",
     "text": [
      " Done.\n"
     ]
    }
   ],
   "source": [
    "print ('Loading Network...')\n",
    "model_path = '/content/Models/my_model_densenet.h5'\n",
    "densenet_model  = tf.keras.models.load_model(model_path)\n",
    "print(' Done.')"
   ]
  },
  {
   "cell_type": "markdown",
   "metadata": {
    "id": "_D0yl50WloRZ"
   },
   "source": [
    "## Data generators using ImageDataGenerator from keras"
   ]
  },
  {
   "cell_type": "markdown",
   "metadata": {
    "id": "amwELHsMl5Cg"
   },
   "source": [
    "**Preparing fitz dataset**"
   ]
  },
  {
   "cell_type": "markdown",
   "metadata": {
    "id": "HYQ4a09ZmhVu"
   },
   "source": [
    "# Image generator "
   ]
  },
  {
   "cell_type": "code",
   "execution_count": null,
   "metadata": {
    "colab": {
     "base_uri": "https://localhost:8080/",
     "height": 183
    },
    "id": "DF-v0OT6pKG8",
    "outputId": "75287279-b935-4dd2-ce95-8293715fd631"
   },
   "outputs": [
    {
     "name": "stdout",
     "output_type": "stream",
     "text": [
      "Collecting argparse\n",
      "  Downloading argparse-1.4.0-py2.py3-none-any.whl (23 kB)\n",
      "Installing collected packages: argparse\n",
      "Successfully installed argparse-1.4.0\n"
     ]
    },
    {
     "data": {
      "application/vnd.colab-display-data+json": {
       "pip_warning": {
        "packages": [
         "argparse"
        ]
       }
      }
     },
     "metadata": {},
     "output_type": "display_data"
    }
   ],
   "source": [
    "!pip install argparse"
   ]
  },
  {
   "cell_type": "code",
   "execution_count": null,
   "metadata": {
    "colab": {
     "base_uri": "https://localhost:8080/"
    },
    "id": "MLiQGIHEo_x7",
    "outputId": "a18d624c-b4bc-42aa-a796-98c2ba1ee839"
   },
   "outputs": [
    {
     "name": "stdout",
     "output_type": "stream",
     "text": [
      "Training using the following parameters:\n",
      "augment: True\n",
      "batch_size: 40\n",
      "checkpoint_frequency: 1000\n",
      "dataset_root: /usr/xtmp/hannah/segkeras/nn-isic2019/dataset/\n",
      "decay_start_iteration: 15000\n",
      "detailed_logs: False\n",
      "early_stop_patience: 8\n",
      "experiment_root: FL_Aug_MEL\n",
      "gpu_device: 0\n",
      "heavy_augment: False\n",
      "init_epoch: 0\n",
      "initial_checkpoint: None\n",
      "is_train: 1\n",
      "learning_rate: 1e-06\n",
      "load_weights: None\n",
      "loading_threads: 8\n",
      "loss_type: 1\n",
      "margin: soft\n",
      "num_classes: 7\n",
      "num_epochs: 25\n",
      "num_gpus: 1\n",
      "resume: False\n",
      "sizeH: 224\n",
      "sizeW: 224\n",
      "skip_class: MEL\n",
      "train_iterations: 25000\n"
     ]
    }
   ],
   "source": [
    "from argument_parser import myParser\n",
    "args = myParser()"
   ]
  },
  {
   "cell_type": "code",
   "execution_count": null,
   "metadata": {
    "colab": {
     "base_uri": "https://localhost:8080/"
    },
    "id": "J0N-pc_JuKAi",
    "outputId": "71343565-783d-4ff1-f0bf-cf4d3a88a391"
   },
   "outputs": [
    {
     "name": "stdout",
     "output_type": "stream",
     "text": [
      "Loading Data Generators...\n",
      "Loading Testing Dataset...\n",
      "   Done.\n"
     ]
    }
   ],
   "source": [
    "#Fitz Darker only\n",
    "from data_generators import fitzpatrick17kImageDataset\n",
    "## Loading Data Generators\n",
    "ROOT = '/content/Datasets/dataset/fitzpatrick 17k /'\n",
    "\n",
    "print('Loading Data Generators...')\n",
    "#args.is_train =  # Training Set\n",
    "args.num_classes = 3\n",
    "args.sizeW = 224\n",
    "args.sizeH = 224\n",
    "args.dataset_root = ROOT\n",
    "args.is_train = 2 # Validation Set\n",
    "Testing_generator_darker_only = fitzpatrick17kImageDataset(args)\n",
    "# args.is_train = 1 # Validation Set\n",
    "# train_generator = ISICImageDataset(args)\n",
    "print('   Done.')\n"
   ]
  },
  {
   "cell_type": "code",
   "execution_count": null,
   "metadata": {
    "colab": {
     "base_uri": "https://localhost:8080/"
    },
    "id": "HgsqykNOnhKr",
    "outputId": "9fbe0225-2ecf-49bb-c5b9-64580abfae39"
   },
   "outputs": [
    {
     "name": "stdout",
     "output_type": "stream",
     "text": [
      "Loading Data Generators...\n",
      "Loading Testing Dataset...\n",
      "   Done.\n"
     ]
    }
   ],
   "source": [
    "#Fitz Lighter only\n",
    "from data_generators import fitzpatrick17kImageDataset\n",
    "## Loading Data Generators\n",
    "ROOT = '/content/Datasets/dataset/fitzpatrick 17k /'\n",
    "\n",
    "print('Loading Data Generators...')\n",
    "#args.is_train =  # Training Set\n",
    "args.num_classes = 3\n",
    "args.sizeW = 224\n",
    "args.sizeH = 224\n",
    "args.dataset_root = ROOT\n",
    "args.is_train = 2 # Validation Set  change the condition on common.py before running\n",
    "Testing_generator_lighter_only = fitzpatrick17kImageDataset(args)\n",
    "# args.is_train = 1 # Validation Set\n",
    "# train_generator = ISICImageDataset(args)\n",
    "print('   Done.')\n",
    "\n",
    "#/content/drive/MyDrive/Assala Master Project/Datasets/dataset/fitzpatrick 17k /Darker_Only"
   ]
  },
  {
   "cell_type": "code",
   "execution_count": null,
   "metadata": {
    "colab": {
     "base_uri": "https://localhost:8080/"
    },
    "id": "sLQGdhPsn2n2",
    "outputId": "5e09e531-f89e-4df3-cc29-85fe4d453a7c"
   },
   "outputs": [
    {
     "name": "stdout",
     "output_type": "stream",
     "text": [
      "Loading Data Generators...\n",
      "Loading Validation Dataset...\n",
      "   Done.\n"
     ]
    }
   ],
   "source": [
    "#Fitz ALL images\n",
    "from data_generators import fitzpatrick17kImageDataset\n",
    "## Loading Data Generators\n",
    "ROOT = '/content/Datasets/dataset/fitzpatrick 17k /'\n",
    "\n",
    "print('Loading Data Generators...')\n",
    "#args.is_train =  # Training Set\n",
    "args.num_classes = 3\n",
    "args.sizeW = 224\n",
    "args.sizeH = 224\n",
    "args.dataset_root = ROOT\n",
    "args.is_train = 0 # Validation Set\n",
    "Testing_generator_ALL = fitzpatrick17kImageDataset(args)\n",
    "# args.is_train = 1 # Validation Set\n",
    "# train_generator = ISICImageDataset(args)\n",
    "print('   Done.')\n",
    "\n",
    "#/content/drive/MyDrive/Assala Master Project/Datasets/dataset/fitzpatrick 17k /Darker_Only"
   ]
  },
  {
   "cell_type": "code",
   "execution_count": null,
   "metadata": {
    "colab": {
     "base_uri": "https://localhost:8080/"
    },
    "id": "IEZd-bpRa0yB",
    "outputId": "8c821927-1ed2-413c-ad66-6b96110870bd"
   },
   "outputs": [
    {
     "name": "stdout",
     "output_type": "stream",
     "text": [
      "Loading Data Generators...\n",
      "class_names:['MEL', 'NV', 'BCC', 'AK', 'BKL', 'SCC']\n",
      "skip_class:['DF', 'VASC']\n",
      "Loading Testing Dataset...\n",
      "   Done.\n"
     ]
    }
   ],
   "source": [
    "#ISIC\n",
    "from data_generators import ISICImageDataset\n",
    "## Loading Data Generators\n",
    "ROOT = '/content/Datasets/ISIC2019/ISIC_2019_Training_Input/'\n",
    "\n",
    "print('Loading Data Generators...')\n",
    "args.is_train = 2 # Training Set\n",
    "args.num_classes = 6\n",
    "args.sizeW = 224\n",
    "args.sizeH = 224\n",
    "args.dataset_root = ROOT\n",
    "args.is_train = 2 # Validation Set\n",
    "Validation_generator = ISICImageDataset(args)\n",
    "# args.is_train = 1 # Validation Set\n",
    "# train_generator = ISICImageDataset(args)\n",
    "print('   Done.')"
   ]
  },
  {
   "cell_type": "markdown",
   "metadata": {
    "id": "97NnDrgJ8Ue2"
   },
   "source": [
    "## Find the best optimal parameter for ODIN\n"
   ]
  },
  {
   "cell_type": "code",
   "execution_count": null,
   "metadata": {
    "id": "8yuFqH0OvIFp"
   },
   "outputs": [],
   "source": [
    "import numpy as np\n",
    "from PIL import Image\n",
    "from tensorflow.keras.preprocessing.image import ImageDataGenerator\n",
    "\n",
    "\n",
    "def Compute_baseline_softmax_scores(model, generator_in, generator_out):\n",
    "    \"\"\"\n",
    "    Calculate the base confidence of the output, no perturbation added here, no temperature scaling used.\n",
    "    Directly copy the original prediction results.\n",
    "    \"\"\"\n",
    "    print('Begin to compute baseline softmax scores')\n",
    "    distributions = ['In', 'Out']\n",
    "\n",
    "    for dist in distributions:\n",
    "        if dist == 'In':\n",
    "            generator = generator_in\n",
    "        elif dist == 'Out':\n",
    "            generator = generator_out\n",
    "\n",
    "        with open(\"/content/ODIN_denseNet_{}.txt\".format(dist), 'w') as f:\n",
    "            # Access file paths from the generator\n",
    "            file_paths = generator.filepaths\n",
    "            for i in range(len(file_paths)):\n",
    "                thisImg = Image.open(file_paths[i]).convert(\"RGB\")\n",
    "                thisImg = np.expand_dims(np.asarray(thisImg.resize((224,224)))/255, axis=0)\n",
    "                softmax_probs = model.predict(thisImg)\n",
    "                softmax_score = np.max(softmax_probs)\n",
    "                f.write(\"{}\\n\".format(softmax_score))\n",
    "        f.close()"
   ]
  },
  {
   "cell_type": "code",
   "execution_count": null,
   "metadata": {
    "id": "JwgcrcDHCL4V"
   },
   "outputs": [],
   "source": [
    "def compute_baseline_softmax_scores(model, generator_in, generator_out):\n",
    "    \"\"\"\n",
    "    Calculate the base confidence of the output, no perturbation added here, no temperature scaling used.\n",
    "    Directly copy the original prediction results.\n",
    "    \"\"\"\n",
    "    print('Begin to compute baseline softmax scores')\n",
    "    distributions = ['In', 'Out']\n",
    "\n",
    "\n",
    "    for dist in distributions:\n",
    "        if dist == 'In':\n",
    "            generator = generator_in\n",
    "        elif dist == 'Out':\n",
    "            generator = generator_out\n",
    "\n",
    "        with open(\"./densenet121_Base_{}.txt\".format(dist), 'w') as f:\n",
    "            for i in range(len(generator.fids)):\n",
    "                # print('thisFid: '+str(generator.fids[i]))\n",
    "                thisImg = Image.open(generator.fids[i]+'.jpg').convert(\"RGB\")\n",
    "                thisImg = np.expand_dims(np.asarray(thisImg.resize((224,224)))/255, axis =0)\n",
    "                softmax_probs = model.predict(thisImg)\n",
    "                softmax_score = np.max(softmax_probs)\n",
    "                f.write(\"{}\\n\".format(softmax_score))\n",
    "        f.close()"
   ]
  },
  {
   "cell_type": "markdown",
   "metadata": {
    "id": "aCNBpl5TbBIj"
   },
   "source": [
    "the perturbation function "
   ]
  },
  {
   "cell_type": "code",
   "execution_count": null,
   "metadata": {
    "id": "jF1g8NvqxKJe"
   },
   "outputs": [],
   "source": [
    "from tqdm import trange\n",
    "\n",
    "def get_perturbation_helper_func(model, temperature, num_classes):\n",
    "    \"\"\" Return Keras functions for calculating perturbations. \"\"\"\n",
    "    # Compute loss based on the second last layer's output and temperature scaling\n",
    "    dense_pred_layer_output = model.get_layer('dense_4').output\n",
    "    scaled_dense_pred_output = dense_pred_layer_output / temperature\n",
    "\n",
    "    print(dense_pred_layer_output)\n",
    "    print(scaled_dense_pred_output)\n",
    "\n",
    "    print(K.argmax(model.outputs))\n",
    "\n",
    "    label_tensor = K.one_hot(K.argmax(model.outputs), 1)\n",
    "    tf.print(label_tensor)\n",
    "    loss = K.sparse_categorical_crossentropy(label_tensor, scaled_dense_pred_output, from_logits=True)\n",
    "    grad_loss = K.gradients(loss, model.inputs)\n",
    "\n",
    "    # The learning phase flag is a bool tensor (0 = test, 1 = train)\n",
    "    compute_perturbations = K.function(model.inputs + [K.learning_phase()], grad_loss)\n",
    "\n",
    "    # https://keras.io/getting-started/faq/#how-can-i-obtain-the-output-of-an-intermediate-layer\n",
    "    get_scaled_dense_pred_output = K.function(model.inputs + [K.learning_phase()], [scaled_dense_pred_output])\n",
    "\n",
    "    return compute_perturbations, get_scaled_dense_pred_output"
   ]
  },
  {
   "cell_type": "markdown",
   "metadata": {
    "id": "JU_pImXqY91M"
   },
   "source": [
    "### Find the best parameters :"
   ]
  },
  {
   "cell_type": "code",
   "execution_count": null,
   "metadata": {
    "id": "CO6-96wbdrfw"
   },
   "outputs": [],
   "source": [
    "import os\n",
    "import numpy as np\n",
    "import keras.backend as K\n",
    "import cv2\n",
    "from PIL import Image\n",
    "from odin import norm_perturbations\n",
    "from scipy.special import softmax\n",
    "\n",
    "def compute_odin_softmax_scores(model, generator_in, generator_out, num_classes = 6, batch_size = 1):\n",
    "    distributions = ['In', 'Out']\n",
    "\n",
    "    # This file is used for recording what parameter combinations were already computed.\n",
    "    progress_file = os.path.join('Done.txt')\n",
    "    done_set = set()\n",
    "    if os.path.exists(progress_file):\n",
    "        with open(progress_file, 'r') as f:\n",
    "            done_set = set(line.rstrip('\\n') for line in f)\n",
    "\n",
    "    # ODIN parameters\n",
    "\n",
    "    model_name = 'DenseNet201'\n",
    "    #Grid Search\n",
    "    temperatures = [1000, 500, 200, 100, 50, 20, 10, 5, 2, 1]\n",
    "    \n",
    "    magnitudes = np.round(np.arange(0, 0.0041, 0.0002), 4)\n",
    "\n",
    "    need_norm_perturbations = 1\n",
    "\n",
    "\n",
    "\n",
    "#     model_param_map = get_transfer_model_param_map()\n",
    "    image_data_format = K.image_data_format()\n",
    "    learning_phase = 0 # 0 = test, 1 = train\n",
    "\n",
    "\n",
    "\n",
    "    for temperature in temperatures:\n",
    "        compute_perturbations, get_scaled_dense_pred_output = get_perturbation_helper_func(model, temperature, num_classes)\n",
    "\n",
    "        for magnitude in magnitudes:\n",
    "            for dist in distributions:\n",
    "                # Skip if the parameter combination has done\n",
    "                param_comb_id = \"{}, {}, {}\".format( dist, temperature, magnitude)\n",
    "                if param_comb_id in done_set:\n",
    "                    print('Skip ', param_comb_id)\n",
    "                    continue\n",
    "\n",
    "                if dist == 'In':\n",
    "                    generator = generator_in\n",
    "                elif dist == 'Out':\n",
    "                    generator = generator_out\n",
    "\n",
    "                print(\"\\n===== Temperature: {}, Magnitude: {}, {}-Distribution =====\".format(temperature, magnitude, dist))\n",
    "\n",
    "                try:\n",
    "                    f = open(\"./densenet121_ODIN_{}_{}_{}.txt\".format(temperature, magnitude,dist), 'w')\n",
    "                    for i in trange(len(generator.fids)):\n",
    "                        thisFid = generator.fids[i]\n",
    "                        images = np.expand_dims(cv2.resize(np.array(Image.open(thisFid+'.jpg').convert(\"RGB\"))/255, (224,224), interpolation=cv2.INTER_LINEAR), axis = 0)\n",
    "\n",
    "                        perturbations = compute_perturbations([images, learning_phase])[0]\n",
    "                    # Get sign of perturbations\n",
    "                        perturbations = np.sign(perturbations)\n",
    "\n",
    "                    # Normalize the perturbations to the same space of image\n",
    "                    # https://github.com/facebookresearch/odin/issues/5\n",
    "                    # Perturbations divided by ISIC Training Set STD\n",
    "                        if need_norm_perturbations:\n",
    "                            perturbations = norm_perturbations(perturbations, image_data_format)\n",
    "\n",
    "                    # Add perturbations to images\n",
    "                        perturbative_images = images - magnitude * perturbations\n",
    "\n",
    "                    # Calculate the confidence after adding perturbations\n",
    "                        dense_pred_outputs = get_scaled_dense_pred_output([perturbative_images, learning_phase])[0]\n",
    "                        softmax_probs = softmax(dense_pred_outputs)\n",
    "                        softmax_scores = np.max(softmax_probs, axis=-1)\n",
    "\n",
    "                        for s in softmax_scores:\n",
    "                            f.write(\"{}\\n\".format(s))\n",
    "                    f.close()\n",
    "\n",
    "                    with open(progress_file, 'a') as f_done:\n",
    "                        f_done.write(\"{}\\n\".format(param_comb_id))\n",
    "\n",
    "                except FileNotFoundError:\n",
    "                    # Handle the \"File not found\" error\n",
    "                    print(f\"File not found for {param_comb_id}. Skipping...\")\n",
    "                    continue\n",
    "                last_processed_combination = param_comb_id\n",
    "\n"
   ]
  },
  {
   "cell_type": "code",
   "execution_count": null,
   "metadata": {
    "id": "wiCMEp-45Q93"
   },
   "outputs": [],
   "source": [
    "import os\n",
    "import numpy as np\n",
    "import keras.backend as K\n",
    "import cv2\n",
    "from PIL import Image\n",
    "from odin import norm_perturbations\n",
    "from scipy.special import softmax\n",
    "\n",
    "def compute_odin_softmax_scores(model, generator_in, generator_out, num_classes=6, batch_size=1):\n",
    "    distributions = ['In', 'Out']\n",
    "\n",
    "    # This file is used for recording what parameter combinations were already computed.\n",
    "    progress_file = os.path.join('Done.txt')\n",
    "    done_set = set()\n",
    "    if os.path.exists(progress_file):\n",
    "        with open(progress_file, 'r') as f:\n",
    "            done_set = set(line.rstrip('\\n') for line in f)\n",
    "\n",
    "    # ODIN parameters\n",
    "    model_name = 'DenseNet201'\n",
    "    #temperatures = [1000, 500, 200, 100, 50, 20, 10, 5, 2, 1]\n",
    "    #temperatures 200\n",
    "\n",
    "    #magnitudes = np.round(np.arange(0.0002, 0.0041, 0.0002), 4)\n",
    "    #magnitudes = np.round([0.0002, 0.0041], 4)\n",
    "    need_norm_perturbations = 1\n",
    "    image_data_format = K.image_data_format()\n",
    "    learning_phase = 0  # 0 = test, 1 = train\n",
    "\n",
    "    for temperature in temperatures:\n",
    "        compute_perturbations, get_scaled_dense_pred_output = get_perturbation_helper_func(model, temperature, num_classes)\n",
    "\n",
    "        for magnitude in magnitudes:\n",
    "            for dist in distributions:\n",
    "                # Skip if the parameter combination has done\n",
    "                param_comb_id = \"{}, {}, {}\".format(dist, temperature, magnitude)\n",
    "                if param_comb_id in done_set:\n",
    "                    print('Skip ', param_comb_id)\n",
    "                    continue\n",
    "\n",
    "                if dist == 'In':\n",
    "                    generator = generator_in\n",
    "                elif dist == 'Out':\n",
    "                    generator = generator_out\n",
    "\n",
    "                print(\"\\n===== Temperature: {}, Magnitude: {}, {}-Distribution =====\".format(temperature, magnitude, dist))\n",
    "\n",
    "                # Check if the output file already exists, and if it does, skip processing\n",
    "                output_file_path = \"./densenet121_ODIN_{}_{}_{}.txt\".format(temperature, magnitude, dist)\n",
    "                if os.path.exists(output_file_path):\n",
    "                    print(f\"Output file {output_file_path} already exists. Skipping...\")\n",
    "                    continue\n",
    "\n",
    "                try:\n",
    "                    f = open(output_file_path, 'w')\n",
    "                    for i in trange(len(generator.fids)):\n",
    "                        thisFid = generator.fids[i]\n",
    "                        images = np.expand_dims(cv2.resize(np.array(Image.open(thisFid + '.jpg').convert(\"RGB\")) / 255,\n",
    "                                                           (224, 224), interpolation=cv2.INTER_LINEAR), axis=0)\n",
    "\n",
    "                        perturbations = compute_perturbations([images, learning_phase])[0]\n",
    "                        perturbations = np.sign(perturbations)\n",
    "\n",
    "                        if need_norm_perturbations:\n",
    "                            perturbations = norm_perturbations(perturbations, image_data_format)\n",
    "\n",
    "                        perturbative_images = images - magnitude * perturbations\n",
    "\n",
    "                        dense_pred_outputs = get_scaled_dense_pred_output([perturbative_images, learning_phase])[0]\n",
    "                        softmax_probs = softmax(dense_pred_outputs)\n",
    "                        softmax_scores = np.max(softmax_probs, axis=-1)\n",
    "\n",
    "                        for s in softmax_scores:\n",
    "                            f.write(\"{}\\n\".format(s))\n",
    "                    f.close()\n",
    "\n",
    "                    with open(progress_file, 'a') as f_done:\n",
    "                        f_done.write(\"{}\\n\".format(param_comb_id))\n",
    "\n",
    "                except Exception as e:\n",
    "                    # Handle any exceptions that might occur during file processing\n",
    "                    print(f\"An error occurred for {param_comb_id}: {str(e)}\")\n",
    "                    continue\n",
    "\n",
    "                last_processed_combination = param_comb_id\n"
   ]
  },
  {
   "cell_type": "code",
   "execution_count": null,
   "metadata": {
    "id": "Bo6hTeBnISxW"
   },
   "outputs": [],
   "source": [
    "compute_odin_softmax_scores(densenet_model, Validation_generator, Testing_generator_darker_only)"
   ]
  },
  {
   "cell_type": "code",
   "execution_count": null,
   "metadata": {
    "colab": {
     "base_uri": "https://localhost:8080/",
     "height": 633
    },
    "id": "4vEDdXx7IWnm",
    "outputId": "eaa9200f-6759-438a-a9bb-fc9731d3088c"
   },
   "outputs": [
    {
     "name": "stdout",
     "output_type": "stream",
     "text": [
      "Tensor(\"dense_4/BiasAdd:0\", shape=(?, 6), dtype=float32)\n",
      "Tensor(\"truediv:0\", shape=(?, 6), dtype=float32)\n",
      "Tensor(\"ArgMax:0\", shape=(1, ?), dtype=int64)\n",
      "\n",
      "===== Temperature: 200, Magnitude: 0.0002, In-Distribution =====\n"
     ]
    },
    {
     "name": "stderr",
     "output_type": "stream",
     "text": [
      "100%|██████████| 2495/2495 [39:20<00:00,  1.06it/s]\n"
     ]
    },
    {
     "name": "stdout",
     "output_type": "stream",
     "text": [
      "\n",
      "===== Temperature: 200, Magnitude: 0.0002, Out-Distribution =====\n"
     ]
    },
    {
     "name": "stderr",
     "output_type": "stream",
     "text": [
      " 94%|█████████▍| 10241/10904 [2:42:16<10:30,  1.05it/s]\n"
     ]
    },
    {
     "name": "stdout",
     "output_type": "stream",
     "text": [
      "File not found for Out, 200, 0.0002. Skipping...\n",
      "Tensor(\"dense_4/BiasAdd:0\", shape=(?, 6), dtype=float32)\n",
      "Tensor(\"truediv_1:0\", shape=(?, 6), dtype=float32)\n",
      "Tensor(\"ArgMax_2:0\", shape=(1, ?), dtype=int64)\n",
      "\n",
      "===== Temperature: 50, Magnitude: 0.0002, In-Distribution =====\n"
     ]
    },
    {
     "name": "stderr",
     "output_type": "stream",
     "text": [
      " 73%|███████▎  | 1820/2495 [20:36<07:38,  1.47it/s]\n"
     ]
    },
    {
     "ename": "KeyboardInterrupt",
     "evalue": "ignored",
     "output_type": "error",
     "traceback": [
      "\u001b[0;31m---------------------------------------------------------------------------\u001b[0m",
      "\u001b[0;31mKeyboardInterrupt\u001b[0m                         Traceback (most recent call last)",
      "\u001b[0;32m<ipython-input-22-104c3a8ba04c>\u001b[0m in \u001b[0;36m<cell line: 1>\u001b[0;34m()\u001b[0m\n\u001b[0;32m----> 1\u001b[0;31m \u001b[0mcompute_odin_softmax_scores\u001b[0m\u001b[0;34m(\u001b[0m\u001b[0mdensenet_model\u001b[0m\u001b[0;34m,\u001b[0m \u001b[0mValidation_generator\u001b[0m\u001b[0;34m,\u001b[0m \u001b[0mTesting_generator_lighter_only\u001b[0m\u001b[0;34m)\u001b[0m\u001b[0;34m\u001b[0m\u001b[0;34m\u001b[0m\u001b[0m\n\u001b[0m",
      "\u001b[0;32m<ipython-input-21-8b44b2029cc1>\u001b[0m in \u001b[0;36mcompute_odin_softmax_scores\u001b[0;34m(model, generator_in, generator_out, num_classes, batch_size)\u001b[0m\n\u001b[1;32m     65\u001b[0m                         \u001b[0mimages\u001b[0m \u001b[0;34m=\u001b[0m \u001b[0mnp\u001b[0m\u001b[0;34m.\u001b[0m\u001b[0mexpand_dims\u001b[0m\u001b[0;34m(\u001b[0m\u001b[0mcv2\u001b[0m\u001b[0;34m.\u001b[0m\u001b[0mresize\u001b[0m\u001b[0;34m(\u001b[0m\u001b[0mnp\u001b[0m\u001b[0;34m.\u001b[0m\u001b[0marray\u001b[0m\u001b[0;34m(\u001b[0m\u001b[0mImage\u001b[0m\u001b[0;34m.\u001b[0m\u001b[0mopen\u001b[0m\u001b[0;34m(\u001b[0m\u001b[0mthisFid\u001b[0m\u001b[0;34m+\u001b[0m\u001b[0;34m'.jpg'\u001b[0m\u001b[0;34m)\u001b[0m\u001b[0;34m.\u001b[0m\u001b[0mconvert\u001b[0m\u001b[0;34m(\u001b[0m\u001b[0;34m\"RGB\"\u001b[0m\u001b[0;34m)\u001b[0m\u001b[0;34m)\u001b[0m\u001b[0;34m/\u001b[0m\u001b[0;36m255\u001b[0m\u001b[0;34m,\u001b[0m \u001b[0;34m(\u001b[0m\u001b[0;36m224\u001b[0m\u001b[0;34m,\u001b[0m\u001b[0;36m224\u001b[0m\u001b[0;34m)\u001b[0m\u001b[0;34m,\u001b[0m \u001b[0minterpolation\u001b[0m\u001b[0;34m=\u001b[0m\u001b[0mcv2\u001b[0m\u001b[0;34m.\u001b[0m\u001b[0mINTER_LINEAR\u001b[0m\u001b[0;34m)\u001b[0m\u001b[0;34m,\u001b[0m \u001b[0maxis\u001b[0m \u001b[0;34m=\u001b[0m \u001b[0;36m0\u001b[0m\u001b[0;34m)\u001b[0m\u001b[0;34m\u001b[0m\u001b[0;34m\u001b[0m\u001b[0m\n\u001b[1;32m     66\u001b[0m \u001b[0;34m\u001b[0m\u001b[0m\n\u001b[0;32m---> 67\u001b[0;31m                         \u001b[0mperturbations\u001b[0m \u001b[0;34m=\u001b[0m \u001b[0mcompute_perturbations\u001b[0m\u001b[0;34m(\u001b[0m\u001b[0;34m[\u001b[0m\u001b[0mimages\u001b[0m\u001b[0;34m,\u001b[0m \u001b[0mlearning_phase\u001b[0m\u001b[0;34m]\u001b[0m\u001b[0;34m)\u001b[0m\u001b[0;34m[\u001b[0m\u001b[0;36m0\u001b[0m\u001b[0;34m]\u001b[0m\u001b[0;34m\u001b[0m\u001b[0;34m\u001b[0m\u001b[0m\n\u001b[0m\u001b[1;32m     68\u001b[0m                     \u001b[0;31m# Get sign of perturbations\u001b[0m\u001b[0;34m\u001b[0m\u001b[0;34m\u001b[0m\u001b[0m\n\u001b[1;32m     69\u001b[0m                         \u001b[0mperturbations\u001b[0m \u001b[0;34m=\u001b[0m \u001b[0mnp\u001b[0m\u001b[0;34m.\u001b[0m\u001b[0msign\u001b[0m\u001b[0;34m(\u001b[0m\u001b[0mperturbations\u001b[0m\u001b[0;34m)\u001b[0m\u001b[0;34m\u001b[0m\u001b[0;34m\u001b[0m\u001b[0m\n",
      "\u001b[0;32m/usr/local/lib/python3.10/dist-packages/keras/src/backend.py\u001b[0m in \u001b[0;36m__call__\u001b[0;34m(self, inputs)\u001b[0m\n\u001b[1;32m   4607\u001b[0m             \u001b[0mself\u001b[0m\u001b[0;34m.\u001b[0m\u001b[0m_make_callable\u001b[0m\u001b[0;34m(\u001b[0m\u001b[0mfeed_arrays\u001b[0m\u001b[0;34m,\u001b[0m \u001b[0mfeed_symbols\u001b[0m\u001b[0;34m,\u001b[0m \u001b[0msymbol_vals\u001b[0m\u001b[0;34m,\u001b[0m \u001b[0msession\u001b[0m\u001b[0;34m)\u001b[0m\u001b[0;34m\u001b[0m\u001b[0;34m\u001b[0m\u001b[0m\n\u001b[1;32m   4608\u001b[0m \u001b[0;34m\u001b[0m\u001b[0m\n\u001b[0;32m-> 4609\u001b[0;31m         \u001b[0mfetched\u001b[0m \u001b[0;34m=\u001b[0m \u001b[0mself\u001b[0m\u001b[0;34m.\u001b[0m\u001b[0m_callable_fn\u001b[0m\u001b[0;34m(\u001b[0m\u001b[0;34m*\u001b[0m\u001b[0marray_vals\u001b[0m\u001b[0;34m,\u001b[0m \u001b[0mrun_metadata\u001b[0m\u001b[0;34m=\u001b[0m\u001b[0mself\u001b[0m\u001b[0;34m.\u001b[0m\u001b[0mrun_metadata\u001b[0m\u001b[0;34m)\u001b[0m\u001b[0;34m\u001b[0m\u001b[0;34m\u001b[0m\u001b[0m\n\u001b[0m\u001b[1;32m   4610\u001b[0m         \u001b[0mself\u001b[0m\u001b[0;34m.\u001b[0m\u001b[0m_call_fetch_callbacks\u001b[0m\u001b[0;34m(\u001b[0m\u001b[0mfetched\u001b[0m\u001b[0;34m[\u001b[0m\u001b[0;34m-\u001b[0m\u001b[0mlen\u001b[0m\u001b[0;34m(\u001b[0m\u001b[0mself\u001b[0m\u001b[0;34m.\u001b[0m\u001b[0m_fetches\u001b[0m\u001b[0;34m)\u001b[0m \u001b[0;34m:\u001b[0m\u001b[0;34m]\u001b[0m\u001b[0;34m)\u001b[0m\u001b[0;34m\u001b[0m\u001b[0;34m\u001b[0m\u001b[0m\n\u001b[1;32m   4611\u001b[0m         output_structure = tf.nest.pack_sequence_as(\n",
      "\u001b[0;32m/usr/local/lib/python3.10/dist-packages/tensorflow/python/client/session.py\u001b[0m in \u001b[0;36m__call__\u001b[0;34m(self, *args, **kwargs)\u001b[0m\n\u001b[1;32m   1480\u001b[0m       \u001b[0;32mtry\u001b[0m\u001b[0;34m:\u001b[0m\u001b[0;34m\u001b[0m\u001b[0;34m\u001b[0m\u001b[0m\n\u001b[1;32m   1481\u001b[0m         \u001b[0mrun_metadata_ptr\u001b[0m \u001b[0;34m=\u001b[0m \u001b[0mtf_session\u001b[0m\u001b[0;34m.\u001b[0m\u001b[0mTF_NewBuffer\u001b[0m\u001b[0;34m(\u001b[0m\u001b[0;34m)\u001b[0m \u001b[0;32mif\u001b[0m \u001b[0mrun_metadata\u001b[0m \u001b[0;32melse\u001b[0m \u001b[0;32mNone\u001b[0m\u001b[0;34m\u001b[0m\u001b[0;34m\u001b[0m\u001b[0m\n\u001b[0;32m-> 1482\u001b[0;31m         ret = tf_session.TF_SessionRunCallable(self._session._session,\n\u001b[0m\u001b[1;32m   1483\u001b[0m                                                \u001b[0mself\u001b[0m\u001b[0;34m.\u001b[0m\u001b[0m_handle\u001b[0m\u001b[0;34m,\u001b[0m \u001b[0margs\u001b[0m\u001b[0;34m,\u001b[0m\u001b[0;34m\u001b[0m\u001b[0;34m\u001b[0m\u001b[0m\n\u001b[1;32m   1484\u001b[0m                                                run_metadata_ptr)\n",
      "\u001b[0;31mKeyboardInterrupt\u001b[0m: "
     ]
    }
   ],
   "source": [
    "compute_odin_softmax_scores(densenet_model, Validation_generator, Testing_generator_lighter_only)"
   ]
  },
  {
   "cell_type": "code",
   "execution_count": null,
   "metadata": {
    "colab": {
     "base_uri": "https://localhost:8080/",
     "height": 425
    },
    "id": "PVujuxAHbYdZ",
    "outputId": "003bf5b5-79bb-4c61-a69f-984671a88cc3"
   },
   "outputs": [
    {
     "name": "stdout",
     "output_type": "stream",
     "text": [
      "Tensor(\"dense_4/BiasAdd:0\", shape=(?, 6), dtype=float32)\n",
      "Tensor(\"truediv:0\", shape=(?, 6), dtype=float32)\n",
      "Tensor(\"ArgMax:0\", shape=(1, ?), dtype=int64)\n",
      "\n",
      "===== Temperature: 200, Magnitude: 0.0002, In-Distribution =====\n"
     ]
    },
    {
     "name": "stderr",
     "output_type": "stream",
     "text": [
      "  8%|▊         | 203/2495 [03:49<43:09,  1.13s/it]\n"
     ]
    },
    {
     "ename": "KeyboardInterrupt",
     "evalue": "ignored",
     "output_type": "error",
     "traceback": [
      "\u001b[0;31m---------------------------------------------------------------------------\u001b[0m",
      "\u001b[0;31mKeyboardInterrupt\u001b[0m                         Traceback (most recent call last)",
      "\u001b[0;32m<ipython-input-18-9af6f2381680>\u001b[0m in \u001b[0;36m<cell line: 1>\u001b[0;34m()\u001b[0m\n\u001b[0;32m----> 1\u001b[0;31m \u001b[0mcompute_odin_softmax_scores\u001b[0m\u001b[0;34m(\u001b[0m\u001b[0mdensenet_model\u001b[0m\u001b[0;34m,\u001b[0m \u001b[0mValidation_generator\u001b[0m\u001b[0;34m,\u001b[0m \u001b[0mTesting_generator_ALL\u001b[0m\u001b[0;34m)\u001b[0m\u001b[0;34m\u001b[0m\u001b[0;34m\u001b[0m\u001b[0m\n\u001b[0m",
      "\u001b[0;32m<ipython-input-15-8b44b2029cc1>\u001b[0m in \u001b[0;36mcompute_odin_softmax_scores\u001b[0;34m(model, generator_in, generator_out, num_classes, batch_size)\u001b[0m\n\u001b[1;32m     63\u001b[0m                     \u001b[0;32mfor\u001b[0m \u001b[0mi\u001b[0m \u001b[0;32min\u001b[0m \u001b[0mtrange\u001b[0m\u001b[0;34m(\u001b[0m\u001b[0mlen\u001b[0m\u001b[0;34m(\u001b[0m\u001b[0mgenerator\u001b[0m\u001b[0;34m.\u001b[0m\u001b[0mfids\u001b[0m\u001b[0;34m)\u001b[0m\u001b[0;34m)\u001b[0m\u001b[0;34m:\u001b[0m\u001b[0;34m\u001b[0m\u001b[0;34m\u001b[0m\u001b[0m\n\u001b[1;32m     64\u001b[0m                         \u001b[0mthisFid\u001b[0m \u001b[0;34m=\u001b[0m \u001b[0mgenerator\u001b[0m\u001b[0;34m.\u001b[0m\u001b[0mfids\u001b[0m\u001b[0;34m[\u001b[0m\u001b[0mi\u001b[0m\u001b[0;34m]\u001b[0m\u001b[0;34m\u001b[0m\u001b[0;34m\u001b[0m\u001b[0m\n\u001b[0;32m---> 65\u001b[0;31m                         \u001b[0mimages\u001b[0m \u001b[0;34m=\u001b[0m \u001b[0mnp\u001b[0m\u001b[0;34m.\u001b[0m\u001b[0mexpand_dims\u001b[0m\u001b[0;34m(\u001b[0m\u001b[0mcv2\u001b[0m\u001b[0;34m.\u001b[0m\u001b[0mresize\u001b[0m\u001b[0;34m(\u001b[0m\u001b[0mnp\u001b[0m\u001b[0;34m.\u001b[0m\u001b[0marray\u001b[0m\u001b[0;34m(\u001b[0m\u001b[0mImage\u001b[0m\u001b[0;34m.\u001b[0m\u001b[0mopen\u001b[0m\u001b[0;34m(\u001b[0m\u001b[0mthisFid\u001b[0m\u001b[0;34m+\u001b[0m\u001b[0;34m'.jpg'\u001b[0m\u001b[0;34m)\u001b[0m\u001b[0;34m.\u001b[0m\u001b[0mconvert\u001b[0m\u001b[0;34m(\u001b[0m\u001b[0;34m\"RGB\"\u001b[0m\u001b[0;34m)\u001b[0m\u001b[0;34m)\u001b[0m\u001b[0;34m/\u001b[0m\u001b[0;36m255\u001b[0m\u001b[0;34m,\u001b[0m \u001b[0;34m(\u001b[0m\u001b[0;36m224\u001b[0m\u001b[0;34m,\u001b[0m\u001b[0;36m224\u001b[0m\u001b[0;34m)\u001b[0m\u001b[0;34m,\u001b[0m \u001b[0minterpolation\u001b[0m\u001b[0;34m=\u001b[0m\u001b[0mcv2\u001b[0m\u001b[0;34m.\u001b[0m\u001b[0mINTER_LINEAR\u001b[0m\u001b[0;34m)\u001b[0m\u001b[0;34m,\u001b[0m \u001b[0maxis\u001b[0m \u001b[0;34m=\u001b[0m \u001b[0;36m0\u001b[0m\u001b[0;34m)\u001b[0m\u001b[0;34m\u001b[0m\u001b[0;34m\u001b[0m\u001b[0m\n\u001b[0m\u001b[1;32m     66\u001b[0m \u001b[0;34m\u001b[0m\u001b[0m\n\u001b[1;32m     67\u001b[0m                         \u001b[0mperturbations\u001b[0m \u001b[0;34m=\u001b[0m \u001b[0mcompute_perturbations\u001b[0m\u001b[0;34m(\u001b[0m\u001b[0;34m[\u001b[0m\u001b[0mimages\u001b[0m\u001b[0;34m,\u001b[0m \u001b[0mlearning_phase\u001b[0m\u001b[0;34m]\u001b[0m\u001b[0;34m)\u001b[0m\u001b[0;34m[\u001b[0m\u001b[0;36m0\u001b[0m\u001b[0;34m]\u001b[0m\u001b[0;34m\u001b[0m\u001b[0;34m\u001b[0m\u001b[0m\n",
      "\u001b[0;32m/usr/local/lib/python3.10/dist-packages/PIL/Image.py\u001b[0m in \u001b[0;36mopen\u001b[0;34m(fp, mode, formats)\u001b[0m\n\u001b[1;32m   3234\u001b[0m         \u001b[0mexclusive_fp\u001b[0m \u001b[0;34m=\u001b[0m \u001b[0;32mTrue\u001b[0m\u001b[0;34m\u001b[0m\u001b[0;34m\u001b[0m\u001b[0m\n\u001b[1;32m   3235\u001b[0m \u001b[0;34m\u001b[0m\u001b[0m\n\u001b[0;32m-> 3236\u001b[0;31m     \u001b[0mprefix\u001b[0m \u001b[0;34m=\u001b[0m \u001b[0mfp\u001b[0m\u001b[0;34m.\u001b[0m\u001b[0mread\u001b[0m\u001b[0;34m(\u001b[0m\u001b[0;36m16\u001b[0m\u001b[0;34m)\u001b[0m\u001b[0;34m\u001b[0m\u001b[0;34m\u001b[0m\u001b[0m\n\u001b[0m\u001b[1;32m   3237\u001b[0m \u001b[0;34m\u001b[0m\u001b[0m\n\u001b[1;32m   3238\u001b[0m     \u001b[0mpreinit\u001b[0m\u001b[0;34m(\u001b[0m\u001b[0;34m)\u001b[0m\u001b[0;34m\u001b[0m\u001b[0;34m\u001b[0m\u001b[0m\n",
      "\u001b[0;31mKeyboardInterrupt\u001b[0m: "
     ]
    }
   ],
   "source": [
    "compute_odin_softmax_scores(densenet_model, Validation_generator, Testing_generator_ALL)"
   ]
  },
  {
   "cell_type": "code",
   "execution_count": null,
   "metadata": {
    "colab": {
     "base_uri": "https://localhost:8080/"
    },
    "id": "haVpmpDSFpAS",
    "outputId": "3408e216-6fc3-45da-ec3f-adbc62655856"
   },
   "outputs": [
    {
     "name": "stdout",
     "output_type": "stream",
     "text": [
      "Tensor(\"dense_4/BiasAdd:0\", shape=(?, 6), dtype=float32)\n",
      "Tensor(\"truediv_22:0\", shape=(?, 6), dtype=float32)\n",
      "Tensor(\"ArgMax_44:0\", shape=(1, ?), dtype=int64)\n",
      "\n",
      "===== Temperature: 200, Magnitude: 0.0002, In-Distribution =====\n"
     ]
    },
    {
     "name": "stderr",
     "output_type": "stream",
     "text": [
      "  4%|▍         | 100/2495 [01:20<31:57,  1.25it/s]\n"
     ]
    },
    {
     "name": "stdout",
     "output_type": "stream",
     "text": [
      "\n",
      "===== Temperature: 200, Magnitude: 0.0002, Out-Distribution =====\n"
     ]
    },
    {
     "name": "stderr",
     "output_type": "stream",
     "text": [
      "  1%|          | 100/12222 [01:42<3:26:30,  1.02s/it]\n"
     ]
    },
    {
     "name": "stdout",
     "output_type": "stream",
     "text": [
      "\n",
      "===== Temperature: 200, Magnitude: 0.0041, In-Distribution =====\n"
     ]
    },
    {
     "name": "stderr",
     "output_type": "stream",
     "text": [
      "  4%|▍         | 100/2495 [01:08<27:13,  1.47it/s]\n"
     ]
    },
    {
     "name": "stdout",
     "output_type": "stream",
     "text": [
      "\n",
      "===== Temperature: 200, Magnitude: 0.0041, Out-Distribution =====\n"
     ]
    },
    {
     "name": "stderr",
     "output_type": "stream",
     "text": [
      "  1%|          | 100/12222 [01:05<2:12:22,  1.53it/s]\n"
     ]
    },
    {
     "name": "stdout",
     "output_type": "stream",
     "text": [
      "Tensor(\"dense_4/BiasAdd:0\", shape=(?, 6), dtype=float32)\n",
      "Tensor(\"truediv_23:0\", shape=(?, 6), dtype=float32)\n",
      "Tensor(\"ArgMax_46:0\", shape=(1, ?), dtype=int64)\n",
      "\n",
      "===== Temperature: 100, Magnitude: 0.0002, In-Distribution =====\n"
     ]
    },
    {
     "name": "stderr",
     "output_type": "stream",
     "text": [
      "  4%|▍         | 100/2495 [01:22<32:47,  1.22it/s]\n"
     ]
    },
    {
     "name": "stdout",
     "output_type": "stream",
     "text": [
      "\n",
      "===== Temperature: 100, Magnitude: 0.0002, Out-Distribution =====\n"
     ]
    },
    {
     "name": "stderr",
     "output_type": "stream",
     "text": [
      "  1%|          | 100/12222 [01:06<2:14:22,  1.50it/s]\n"
     ]
    },
    {
     "name": "stdout",
     "output_type": "stream",
     "text": [
      "\n",
      "===== Temperature: 100, Magnitude: 0.0041, In-Distribution =====\n"
     ]
    },
    {
     "name": "stderr",
     "output_type": "stream",
     "text": [
      "  4%|▍         | 100/2495 [01:07<27:04,  1.47it/s]\n"
     ]
    },
    {
     "name": "stdout",
     "output_type": "stream",
     "text": [
      "\n",
      "===== Temperature: 100, Magnitude: 0.0041, Out-Distribution =====\n"
     ]
    },
    {
     "name": "stderr",
     "output_type": "stream",
     "text": [
      "  1%|          | 100/12222 [01:04<2:11:15,  1.54it/s]\n"
     ]
    },
    {
     "name": "stdout",
     "output_type": "stream",
     "text": [
      "Tensor(\"dense_4/BiasAdd:0\", shape=(?, 6), dtype=float32)\n",
      "Tensor(\"truediv_24:0\", shape=(?, 6), dtype=float32)\n",
      "Tensor(\"ArgMax_48:0\", shape=(1, ?), dtype=int64)\n",
      "\n",
      "===== Temperature: 50, Magnitude: 0.0002, In-Distribution =====\n"
     ]
    },
    {
     "name": "stderr",
     "output_type": "stream",
     "text": [
      "  4%|▍         | 100/2495 [01:23<33:29,  1.19it/s]\n"
     ]
    },
    {
     "name": "stdout",
     "output_type": "stream",
     "text": [
      "\n",
      "===== Temperature: 50, Magnitude: 0.0002, Out-Distribution =====\n"
     ]
    },
    {
     "name": "stderr",
     "output_type": "stream",
     "text": [
      "  1%|          | 100/12222 [01:09<2:21:14,  1.43it/s]\n"
     ]
    },
    {
     "name": "stdout",
     "output_type": "stream",
     "text": [
      "\n",
      "===== Temperature: 50, Magnitude: 0.0041, In-Distribution =====\n"
     ]
    },
    {
     "name": "stderr",
     "output_type": "stream",
     "text": [
      "  4%|▍         | 100/2495 [01:10<27:57,  1.43it/s]\n"
     ]
    },
    {
     "name": "stdout",
     "output_type": "stream",
     "text": [
      "\n",
      "===== Temperature: 50, Magnitude: 0.0041, Out-Distribution =====\n"
     ]
    },
    {
     "name": "stderr",
     "output_type": "stream",
     "text": [
      "  1%|          | 100/12222 [01:07<2:15:34,  1.49it/s]\n"
     ]
    },
    {
     "name": "stdout",
     "output_type": "stream",
     "text": [
      "Tensor(\"dense_4/BiasAdd:0\", shape=(?, 6), dtype=float32)\n",
      "Tensor(\"truediv_25:0\", shape=(?, 6), dtype=float32)\n",
      "Tensor(\"ArgMax_50:0\", shape=(1, ?), dtype=int64)\n",
      "\n",
      "===== Temperature: 20, Magnitude: 0.0002, In-Distribution =====\n"
     ]
    },
    {
     "name": "stderr",
     "output_type": "stream",
     "text": [
      "  4%|▍         | 100/2495 [01:20<32:10,  1.24it/s]\n"
     ]
    },
    {
     "name": "stdout",
     "output_type": "stream",
     "text": [
      "\n",
      "===== Temperature: 20, Magnitude: 0.0002, Out-Distribution =====\n"
     ]
    },
    {
     "name": "stderr",
     "output_type": "stream",
     "text": [
      "  1%|          | 100/12222 [01:03<2:09:15,  1.56it/s]\n"
     ]
    },
    {
     "name": "stdout",
     "output_type": "stream",
     "text": [
      "\n",
      "===== Temperature: 20, Magnitude: 0.0041, In-Distribution =====\n"
     ]
    },
    {
     "name": "stderr",
     "output_type": "stream",
     "text": [
      "  4%|▍         | 100/2495 [01:06<26:24,  1.51it/s]\n"
     ]
    },
    {
     "name": "stdout",
     "output_type": "stream",
     "text": [
      "\n",
      "===== Temperature: 20, Magnitude: 0.0041, Out-Distribution =====\n"
     ]
    },
    {
     "name": "stderr",
     "output_type": "stream",
     "text": [
      "  1%|          | 100/12222 [01:05<2:12:10,  1.53it/s]\n"
     ]
    },
    {
     "name": "stdout",
     "output_type": "stream",
     "text": [
      "Tensor(\"dense_4/BiasAdd:0\", shape=(?, 6), dtype=float32)\n",
      "Tensor(\"truediv_26:0\", shape=(?, 6), dtype=float32)\n",
      "Tensor(\"ArgMax_52:0\", shape=(1, ?), dtype=int64)\n",
      "\n",
      "===== Temperature: 10, Magnitude: 0.0002, In-Distribution =====\n"
     ]
    },
    {
     "name": "stderr",
     "output_type": "stream",
     "text": [
      "  4%|▍         | 100/2495 [01:20<32:05,  1.24it/s]\n"
     ]
    },
    {
     "name": "stdout",
     "output_type": "stream",
     "text": [
      "\n",
      "===== Temperature: 10, Magnitude: 0.0002, Out-Distribution =====\n"
     ]
    },
    {
     "name": "stderr",
     "output_type": "stream",
     "text": [
      "  1%|          | 100/12222 [01:05<2:11:48,  1.53it/s]\n"
     ]
    },
    {
     "name": "stdout",
     "output_type": "stream",
     "text": [
      "\n",
      "===== Temperature: 10, Magnitude: 0.0041, In-Distribution =====\n"
     ]
    },
    {
     "name": "stderr",
     "output_type": "stream",
     "text": [
      "  4%|▍         | 100/2495 [01:05<26:01,  1.53it/s]\n"
     ]
    },
    {
     "name": "stdout",
     "output_type": "stream",
     "text": [
      "\n",
      "===== Temperature: 10, Magnitude: 0.0041, Out-Distribution =====\n"
     ]
    },
    {
     "name": "stderr",
     "output_type": "stream",
     "text": [
      "  1%|          | 100/12222 [01:03<2:08:58,  1.57it/s]\n"
     ]
    },
    {
     "name": "stdout",
     "output_type": "stream",
     "text": [
      "Tensor(\"dense_4/BiasAdd:0\", shape=(?, 6), dtype=float32)\n",
      "Tensor(\"truediv_27:0\", shape=(?, 6), dtype=float32)\n",
      "Tensor(\"ArgMax_54:0\", shape=(1, ?), dtype=int64)\n",
      "\n",
      "===== Temperature: 5, Magnitude: 0.0002, In-Distribution =====\n"
     ]
    },
    {
     "name": "stderr",
     "output_type": "stream",
     "text": [
      "  4%|▍         | 100/2495 [01:20<32:13,  1.24it/s]\n"
     ]
    },
    {
     "name": "stdout",
     "output_type": "stream",
     "text": [
      "\n",
      "===== Temperature: 5, Magnitude: 0.0002, Out-Distribution =====\n"
     ]
    },
    {
     "name": "stderr",
     "output_type": "stream",
     "text": [
      "  1%|          | 100/12222 [01:05<2:12:53,  1.52it/s]\n"
     ]
    },
    {
     "name": "stdout",
     "output_type": "stream",
     "text": [
      "\n",
      "===== Temperature: 5, Magnitude: 0.0041, In-Distribution =====\n"
     ]
    },
    {
     "name": "stderr",
     "output_type": "stream",
     "text": [
      "  4%|▍         | 100/2495 [01:05<26:10,  1.52it/s]\n"
     ]
    },
    {
     "name": "stdout",
     "output_type": "stream",
     "text": [
      "\n",
      "===== Temperature: 5, Magnitude: 0.0041, Out-Distribution =====\n"
     ]
    },
    {
     "name": "stderr",
     "output_type": "stream",
     "text": [
      "  1%|          | 100/12222 [01:06<2:14:36,  1.50it/s]\n"
     ]
    },
    {
     "name": "stdout",
     "output_type": "stream",
     "text": [
      "Tensor(\"dense_4/BiasAdd:0\", shape=(?, 6), dtype=float32)\n",
      "Tensor(\"truediv_28:0\", shape=(?, 6), dtype=float32)\n",
      "Tensor(\"ArgMax_56:0\", shape=(1, ?), dtype=int64)\n",
      "\n",
      "===== Temperature: 2, Magnitude: 0.0002, In-Distribution =====\n"
     ]
    },
    {
     "name": "stderr",
     "output_type": "stream",
     "text": [
      "  4%|▍         | 100/2495 [01:23<33:20,  1.20it/s]\n"
     ]
    },
    {
     "name": "stdout",
     "output_type": "stream",
     "text": [
      "\n",
      "===== Temperature: 2, Magnitude: 0.0002, Out-Distribution =====\n"
     ]
    },
    {
     "name": "stderr",
     "output_type": "stream",
     "text": [
      "  1%|          | 100/12222 [01:07<2:16:07,  1.48it/s]\n"
     ]
    },
    {
     "name": "stdout",
     "output_type": "stream",
     "text": [
      "\n",
      "===== Temperature: 2, Magnitude: 0.0041, In-Distribution =====\n"
     ]
    },
    {
     "name": "stderr",
     "output_type": "stream",
     "text": [
      "  4%|▍         | 100/2495 [01:06<26:32,  1.50it/s]\n"
     ]
    },
    {
     "name": "stdout",
     "output_type": "stream",
     "text": [
      "\n",
      "===== Temperature: 2, Magnitude: 0.0041, Out-Distribution =====\n"
     ]
    },
    {
     "name": "stderr",
     "output_type": "stream",
     "text": [
      "  1%|          | 100/12222 [01:05<2:11:45,  1.53it/s]\n"
     ]
    },
    {
     "name": "stdout",
     "output_type": "stream",
     "text": [
      "Tensor(\"dense_4/BiasAdd:0\", shape=(?, 6), dtype=float32)\n",
      "Tensor(\"truediv_29:0\", shape=(?, 6), dtype=float32)\n",
      "Tensor(\"ArgMax_58:0\", shape=(1, ?), dtype=int64)\n",
      "\n",
      "===== Temperature: 1, Magnitude: 0.0002, In-Distribution =====\n"
     ]
    },
    {
     "name": "stderr",
     "output_type": "stream",
     "text": [
      "  4%|▍         | 100/2495 [01:25<34:00,  1.17it/s]\n"
     ]
    },
    {
     "name": "stdout",
     "output_type": "stream",
     "text": [
      "\n",
      "===== Temperature: 1, Magnitude: 0.0002, Out-Distribution =====\n"
     ]
    },
    {
     "name": "stderr",
     "output_type": "stream",
     "text": [
      "  1%|          | 100/12222 [01:10<2:22:26,  1.42it/s]\n"
     ]
    },
    {
     "name": "stdout",
     "output_type": "stream",
     "text": [
      "\n",
      "===== Temperature: 1, Magnitude: 0.0041, In-Distribution =====\n"
     ]
    },
    {
     "name": "stderr",
     "output_type": "stream",
     "text": [
      "  4%|▍         | 100/2495 [01:10<28:18,  1.41it/s]\n"
     ]
    },
    {
     "name": "stdout",
     "output_type": "stream",
     "text": [
      "\n",
      "===== Temperature: 1, Magnitude: 0.0041, Out-Distribution =====\n"
     ]
    },
    {
     "name": "stderr",
     "output_type": "stream",
     "text": [
      "  1%|          | 100/12222 [01:09<2:19:52,  1.44it/s]\n"
     ]
    }
   ],
   "source": [
    "compute_odin_softmax_scores(densenet_model, Validation_generator, Testing_generator_ALL)"
   ]
  },
  {
   "cell_type": "code",
   "execution_count": null,
   "metadata": {
    "colab": {
     "base_uri": "https://localhost:8080/",
     "height": 1000
    },
    "id": "4LMmxFsZYdrt",
    "outputId": "ecde263e-c581-49e7-cf86-6f95fd21703b"
   },
   "outputs": [
    {
     "name": "stdout",
     "output_type": "stream",
     "text": [
      "Tensor(\"dense_4/BiasAdd:0\", shape=(?, 6), dtype=float32)\n",
      "Tensor(\"truediv_1:0\", shape=(?, 6), dtype=float32)\n",
      "Tensor(\"ArgMax_2:0\", shape=(1, ?), dtype=int64)\n",
      "\n",
      "===== Temperature: 200, Magnitude: 0.0002, In-Distribution =====\n",
      "Output file ./densenet121_ODIN_200_0.0002_In.txt already exists. Skipping...\n",
      "\n",
      "===== Temperature: 200, Magnitude: 0.0002, Out-Distribution =====\n"
     ]
    },
    {
     "name": "stderr",
     "output_type": "stream",
     "text": [
      "100%|██████████| 1318/1318 [22:30<00:00,  1.02s/it]\n"
     ]
    },
    {
     "name": "stdout",
     "output_type": "stream",
     "text": [
      "\n",
      "===== Temperature: 200, Magnitude: 0.0041, In-Distribution =====\n"
     ]
    },
    {
     "name": "stderr",
     "output_type": "stream",
     "text": [
      "100%|██████████| 2495/2495 [41:55<00:00,  1.01s/it]\n"
     ]
    },
    {
     "name": "stdout",
     "output_type": "stream",
     "text": [
      "\n",
      "===== Temperature: 200, Magnitude: 0.0041, Out-Distribution =====\n"
     ]
    },
    {
     "name": "stderr",
     "output_type": "stream",
     "text": [
      "100%|██████████| 1318/1318 [15:53<00:00,  1.38it/s]\n"
     ]
    },
    {
     "name": "stdout",
     "output_type": "stream",
     "text": [
      "Tensor(\"dense_4/BiasAdd:0\", shape=(?, 6), dtype=float32)\n",
      "Tensor(\"truediv_2:0\", shape=(?, 6), dtype=float32)\n",
      "Tensor(\"ArgMax_4:0\", shape=(1, ?), dtype=int64)\n",
      "\n",
      "===== Temperature: 100, Magnitude: 0.0002, In-Distribution =====\n"
     ]
    },
    {
     "name": "stderr",
     "output_type": "stream",
     "text": [
      "100%|██████████| 2495/2495 [30:41<00:00,  1.35it/s]\n"
     ]
    },
    {
     "name": "stdout",
     "output_type": "stream",
     "text": [
      "\n",
      "===== Temperature: 100, Magnitude: 0.0002, Out-Distribution =====\n"
     ]
    },
    {
     "name": "stderr",
     "output_type": "stream",
     "text": [
      "100%|██████████| 1318/1318 [15:40<00:00,  1.40it/s]\n"
     ]
    },
    {
     "name": "stdout",
     "output_type": "stream",
     "text": [
      "\n",
      "===== Temperature: 100, Magnitude: 0.0041, In-Distribution =====\n"
     ]
    },
    {
     "name": "stderr",
     "output_type": "stream",
     "text": [
      "100%|██████████| 2495/2495 [30:16<00:00,  1.37it/s]\n"
     ]
    },
    {
     "name": "stdout",
     "output_type": "stream",
     "text": [
      "\n",
      "===== Temperature: 100, Magnitude: 0.0041, Out-Distribution =====\n"
     ]
    },
    {
     "name": "stderr",
     "output_type": "stream",
     "text": [
      "100%|██████████| 1318/1318 [15:30<00:00,  1.42it/s]\n"
     ]
    },
    {
     "name": "stdout",
     "output_type": "stream",
     "text": [
      "Tensor(\"dense_4/BiasAdd:0\", shape=(?, 6), dtype=float32)\n",
      "Tensor(\"truediv_3:0\", shape=(?, 6), dtype=float32)\n",
      "Tensor(\"ArgMax_6:0\", shape=(1, ?), dtype=int64)\n",
      "\n",
      "===== Temperature: 50, Magnitude: 0.0002, In-Distribution =====\n"
     ]
    },
    {
     "name": "stderr",
     "output_type": "stream",
     "text": [
      "100%|██████████| 2495/2495 [30:15<00:00,  1.37it/s]\n"
     ]
    },
    {
     "name": "stdout",
     "output_type": "stream",
     "text": [
      "\n",
      "===== Temperature: 50, Magnitude: 0.0002, Out-Distribution =====\n"
     ]
    },
    {
     "name": "stderr",
     "output_type": "stream",
     "text": [
      " 58%|█████▊    | 760/1318 [09:04<06:40,  1.39it/s]\n"
     ]
    },
    {
     "name": "stdout",
     "output_type": "stream",
     "text": [
      "An error occurred for Out, 50, 0.0002: [Errno 2] No such file or directory: '/content/drive/MyDrive/Assala Master Project/Datasets/dataset/fitzpatrick 17k /Darker_Only/Darker_Skin_Tones/neurofibromatosis-von-reckling-hausen-syndrome5.jpg'\n",
      "\n",
      "===== Temperature: 50, Magnitude: 0.0041, In-Distribution =====\n"
     ]
    },
    {
     "name": "stderr",
     "output_type": "stream",
     "text": [
      "  0%|          | 0/2495 [00:00<?, ?it/s]\n"
     ]
    },
    {
     "name": "stdout",
     "output_type": "stream",
     "text": [
      "An error occurred for In, 50, 0.0041: [Errno 2] No such file or directory: '/content/drive/MyDrive/Assala Master Project/Datasets/ISIC2019/ISIC_2019_Training_Input/ISIC_2019_Training_Input/ISIC_0000000.jpg'\n",
      "\n",
      "===== Temperature: 50, Magnitude: 0.0041, Out-Distribution =====\n"
     ]
    },
    {
     "name": "stderr",
     "output_type": "stream",
     "text": [
      "  0%|          | 0/1318 [00:00<?, ?it/s]\n"
     ]
    },
    {
     "name": "stdout",
     "output_type": "stream",
     "text": [
      "An error occurred for Out, 50, 0.0041: [Errno 2] No such file or directory: '/content/drive/MyDrive/Assala Master Project/Datasets/dataset/fitzpatrick 17k /Darker_Only/Darker_Skin_Tones/cutaneous_larva_migrans13.jpg'\n",
      "Tensor(\"dense_4/BiasAdd:0\", shape=(?, 6), dtype=float32)\n",
      "Tensor(\"truediv_4:0\", shape=(?, 6), dtype=float32)\n",
      "Tensor(\"ArgMax_8:0\", shape=(1, ?), dtype=int64)\n",
      "\n",
      "===== Temperature: 20, Magnitude: 0.0002, In-Distribution =====\n"
     ]
    },
    {
     "name": "stderr",
     "output_type": "stream",
     "text": [
      " 40%|████      | 1003/2495 [12:16<18:16,  1.36it/s]\n"
     ]
    },
    {
     "ename": "KeyboardInterrupt",
     "evalue": "ignored",
     "output_type": "error",
     "traceback": [
      "\u001b[0;31m---------------------------------------------------------------------------\u001b[0m",
      "\u001b[0;31mKeyboardInterrupt\u001b[0m                         Traceback (most recent call last)",
      "\u001b[0;32m<ipython-input-21-6815bb244c1b>\u001b[0m in \u001b[0;36m<cell line: 1>\u001b[0;34m()\u001b[0m\n\u001b[0;32m----> 1\u001b[0;31m \u001b[0mcompute_odin_softmax_scores\u001b[0m\u001b[0;34m(\u001b[0m\u001b[0mdensenet_model\u001b[0m\u001b[0;34m,\u001b[0m \u001b[0mValidation_generator\u001b[0m\u001b[0;34m,\u001b[0m \u001b[0mTesting_generator_darker_only\u001b[0m\u001b[0;34m)\u001b[0m\u001b[0;34m\u001b[0m\u001b[0;34m\u001b[0m\u001b[0m\n\u001b[0m",
      "\u001b[0;32m<ipython-input-20-56fb813c23f8>\u001b[0m in \u001b[0;36mcompute_odin_softmax_scores\u001b[0;34m(model, generator_in, generator_out, num_classes, batch_size)\u001b[0m\n\u001b[1;32m     59\u001b[0m                                                            (224, 224), interpolation=cv2.INTER_LINEAR), axis=0)\n\u001b[1;32m     60\u001b[0m \u001b[0;34m\u001b[0m\u001b[0m\n\u001b[0;32m---> 61\u001b[0;31m                         \u001b[0mperturbations\u001b[0m \u001b[0;34m=\u001b[0m \u001b[0mcompute_perturbations\u001b[0m\u001b[0;34m(\u001b[0m\u001b[0;34m[\u001b[0m\u001b[0mimages\u001b[0m\u001b[0;34m,\u001b[0m \u001b[0mlearning_phase\u001b[0m\u001b[0;34m]\u001b[0m\u001b[0;34m)\u001b[0m\u001b[0;34m[\u001b[0m\u001b[0;36m0\u001b[0m\u001b[0;34m]\u001b[0m\u001b[0;34m\u001b[0m\u001b[0;34m\u001b[0m\u001b[0m\n\u001b[0m\u001b[1;32m     62\u001b[0m                         \u001b[0mperturbations\u001b[0m \u001b[0;34m=\u001b[0m \u001b[0mnp\u001b[0m\u001b[0;34m.\u001b[0m\u001b[0msign\u001b[0m\u001b[0;34m(\u001b[0m\u001b[0mperturbations\u001b[0m\u001b[0;34m)\u001b[0m\u001b[0;34m\u001b[0m\u001b[0;34m\u001b[0m\u001b[0m\n\u001b[1;32m     63\u001b[0m \u001b[0;34m\u001b[0m\u001b[0m\n",
      "\u001b[0;32m/usr/local/lib/python3.10/dist-packages/keras/src/backend.py\u001b[0m in \u001b[0;36m__call__\u001b[0;34m(self, inputs)\u001b[0m\n\u001b[1;32m   4607\u001b[0m             \u001b[0mself\u001b[0m\u001b[0;34m.\u001b[0m\u001b[0m_make_callable\u001b[0m\u001b[0;34m(\u001b[0m\u001b[0mfeed_arrays\u001b[0m\u001b[0;34m,\u001b[0m \u001b[0mfeed_symbols\u001b[0m\u001b[0;34m,\u001b[0m \u001b[0msymbol_vals\u001b[0m\u001b[0;34m,\u001b[0m \u001b[0msession\u001b[0m\u001b[0;34m)\u001b[0m\u001b[0;34m\u001b[0m\u001b[0;34m\u001b[0m\u001b[0m\n\u001b[1;32m   4608\u001b[0m \u001b[0;34m\u001b[0m\u001b[0m\n\u001b[0;32m-> 4609\u001b[0;31m         \u001b[0mfetched\u001b[0m \u001b[0;34m=\u001b[0m \u001b[0mself\u001b[0m\u001b[0;34m.\u001b[0m\u001b[0m_callable_fn\u001b[0m\u001b[0;34m(\u001b[0m\u001b[0;34m*\u001b[0m\u001b[0marray_vals\u001b[0m\u001b[0;34m,\u001b[0m \u001b[0mrun_metadata\u001b[0m\u001b[0;34m=\u001b[0m\u001b[0mself\u001b[0m\u001b[0;34m.\u001b[0m\u001b[0mrun_metadata\u001b[0m\u001b[0;34m)\u001b[0m\u001b[0;34m\u001b[0m\u001b[0;34m\u001b[0m\u001b[0m\n\u001b[0m\u001b[1;32m   4610\u001b[0m         \u001b[0mself\u001b[0m\u001b[0;34m.\u001b[0m\u001b[0m_call_fetch_callbacks\u001b[0m\u001b[0;34m(\u001b[0m\u001b[0mfetched\u001b[0m\u001b[0;34m[\u001b[0m\u001b[0;34m-\u001b[0m\u001b[0mlen\u001b[0m\u001b[0;34m(\u001b[0m\u001b[0mself\u001b[0m\u001b[0;34m.\u001b[0m\u001b[0m_fetches\u001b[0m\u001b[0;34m)\u001b[0m \u001b[0;34m:\u001b[0m\u001b[0;34m]\u001b[0m\u001b[0;34m)\u001b[0m\u001b[0;34m\u001b[0m\u001b[0;34m\u001b[0m\u001b[0m\n\u001b[1;32m   4611\u001b[0m         output_structure = tf.nest.pack_sequence_as(\n",
      "\u001b[0;32m/usr/local/lib/python3.10/dist-packages/tensorflow/python/client/session.py\u001b[0m in \u001b[0;36m__call__\u001b[0;34m(self, *args, **kwargs)\u001b[0m\n\u001b[1;32m   1480\u001b[0m       \u001b[0;32mtry\u001b[0m\u001b[0;34m:\u001b[0m\u001b[0;34m\u001b[0m\u001b[0;34m\u001b[0m\u001b[0m\n\u001b[1;32m   1481\u001b[0m         \u001b[0mrun_metadata_ptr\u001b[0m \u001b[0;34m=\u001b[0m \u001b[0mtf_session\u001b[0m\u001b[0;34m.\u001b[0m\u001b[0mTF_NewBuffer\u001b[0m\u001b[0;34m(\u001b[0m\u001b[0;34m)\u001b[0m \u001b[0;32mif\u001b[0m \u001b[0mrun_metadata\u001b[0m \u001b[0;32melse\u001b[0m \u001b[0;32mNone\u001b[0m\u001b[0;34m\u001b[0m\u001b[0;34m\u001b[0m\u001b[0m\n\u001b[0;32m-> 1482\u001b[0;31m         ret = tf_session.TF_SessionRunCallable(self._session._session,\n\u001b[0m\u001b[1;32m   1483\u001b[0m                                                \u001b[0mself\u001b[0m\u001b[0;34m.\u001b[0m\u001b[0m_handle\u001b[0m\u001b[0;34m,\u001b[0m \u001b[0margs\u001b[0m\u001b[0;34m,\u001b[0m\u001b[0;34m\u001b[0m\u001b[0;34m\u001b[0m\u001b[0m\n\u001b[1;32m   1484\u001b[0m                                                run_metadata_ptr)\n",
      "\u001b[0;31mKeyboardInterrupt\u001b[0m: "
     ]
    }
   ],
   "source": [
    "compute_odin_softmax_scores(densenet_model, Validation_generator, Testing_generator_darker_only)"
   ]
  },
  {
   "cell_type": "code",
   "execution_count": null,
   "metadata": {
    "id": "_zQEm9jgV-dc"
   },
   "outputs": [],
   "source": [
    "#testing the subset of parameters\n",
    "import os\n",
    "import numpy as np\n",
    "import keras.backend as K\n",
    "import cv2\n",
    "from PIL import Image\n",
    "from odin import norm_perturbations\n",
    "from scipy.special import softmax\n",
    "\n",
    "\n",
    "need_norm_perturbations = 1\n",
    "best_auroc = 0.0\n",
    "best_auroc_params = None\n",
    "lowest_fpr = float('inf')\n",
    "lowest_fpr_params = None\n",
    "\n",
    "\n",
    "#We want to loop over all the saved scores\n",
    "In_scores_files =\"/Models/ODIN/Saved scores/In\"\n",
    "Out_scores_files = \"/Models/ODIN/Saved scores/Out\"\n",
    "\n",
    "\n",
    "\n",
    "\n",
    "in_dist_file=\"densenet121_ODIN_{}_{}_In.txt\".format(temperature, magnitude)\n",
    "out_dist_file=\"densenet121_ODIN_{}_{}_Out.txt\".format(temperature, magnitude)\n",
    "\n",
    "\n",
    "\n",
    " # Calculate AUROC\n",
    "auroc_value = auroc(in_dist_file=  , out_dist_file=out_dist_file)\n",
    "\n",
    "                    # Calculate FPR\n",
    "tpr, fpr = get_tpr_and_fpr(scores_in_test, scores_out_test, delta)\n",
    "\n",
    "                    # Update best AUROC and FPR if necessary\n",
    "if auroc_value > best_auroc:\n",
    "   best_auroc = auroc_value\n",
    "   best_auroc_params = (temperature, magnitude, dist)\n",
    "\n",
    "if fpr < lowest_fpr:\n",
    "   lowest_fpr = fpr\n",
    "   lowest_fpr_params = (temperature, magnitude, dist)\n",
    "\n",
    "print(\"Best AUROC: {:.4f}, Parameters: Temperature={}, Magnitude={}, Distribution={}\"\n",
    "      .format(best_auroc, *best_auroc_params))\n",
    "\n",
    "    # Print the lowest FPR and corresponding parameters\n",
    "print(\"Lowest FPR: {:.4f}, Parameters: Temperature={}, Magnitude={}, Distribution={}\"\n",
    "      .format(lowest_fpr, *lowest_fpr_params))"
   ]
  },
  {
   "cell_type": "code",
   "execution_count": null,
   "metadata": {
    "colab": {
     "base_uri": "https://localhost:8080/"
    },
    "id": "CQNrE1jwuZKO",
    "outputId": "f9e26abf-fb90-40e4-d163-0900c3066e4d"
   },
   "outputs": [
    {
     "name": "stdout",
     "output_type": "stream",
     "text": [
      "Tensor(\"dense_4/BiasAdd:0\", shape=(?, 6), dtype=float32)\n",
      "Tensor(\"truediv:0\", shape=(?, 6), dtype=float32)\n",
      "Tensor(\"ArgMax:0\", shape=(1, ?), dtype=int64)\n",
      "Skip  In, 1000, 0.0\n",
      "\n",
      "===== Temperature: 1000, Magnitude: 0.0, Out-Distribution =====\n"
     ]
    },
    {
     "name": "stderr",
     "output_type": "stream",
     "text": [
      "100%|██████████| 1318/1318 [27:31<00:00,  1.25s/it]\n"
     ]
    },
    {
     "name": "stdout",
     "output_type": "stream",
     "text": [
      "\n",
      "===== Temperature: 1000, Magnitude: 0.0002, In-Distribution =====\n"
     ]
    },
    {
     "name": "stderr",
     "output_type": "stream",
     "text": [
      "100%|██████████| 2495/2495 [29:22<00:00,  1.42it/s]\n"
     ]
    },
    {
     "name": "stdout",
     "output_type": "stream",
     "text": [
      "\n",
      "===== Temperature: 1000, Magnitude: 0.0002, Out-Distribution =====\n"
     ]
    },
    {
     "name": "stderr",
     "output_type": "stream",
     "text": [
      "100%|██████████| 1318/1318 [15:27<00:00,  1.42it/s]\n"
     ]
    },
    {
     "name": "stdout",
     "output_type": "stream",
     "text": [
      "\n",
      "===== Temperature: 1000, Magnitude: 0.0004, In-Distribution =====\n"
     ]
    },
    {
     "name": "stderr",
     "output_type": "stream",
     "text": [
      "100%|██████████| 2495/2495 [29:31<00:00,  1.41it/s]\n"
     ]
    },
    {
     "name": "stdout",
     "output_type": "stream",
     "text": [
      "\n",
      "===== Temperature: 1000, Magnitude: 0.0004, Out-Distribution =====\n"
     ]
    },
    {
     "name": "stderr",
     "output_type": "stream",
     "text": [
      "100%|██████████| 1318/1318 [15:33<00:00,  1.41it/s]\n"
     ]
    },
    {
     "name": "stdout",
     "output_type": "stream",
     "text": [
      "\n",
      "===== Temperature: 1000, Magnitude: 0.0006, In-Distribution =====\n"
     ]
    },
    {
     "name": "stderr",
     "output_type": "stream",
     "text": [
      "100%|██████████| 2495/2495 [30:08<00:00,  1.38it/s]\n"
     ]
    },
    {
     "name": "stdout",
     "output_type": "stream",
     "text": [
      "\n",
      "===== Temperature: 1000, Magnitude: 0.0006, Out-Distribution =====\n"
     ]
    },
    {
     "name": "stderr",
     "output_type": "stream",
     "text": [
      "100%|██████████| 1318/1318 [15:52<00:00,  1.38it/s]\n"
     ]
    },
    {
     "name": "stdout",
     "output_type": "stream",
     "text": [
      "\n",
      "===== Temperature: 1000, Magnitude: 0.0008, In-Distribution =====\n"
     ]
    },
    {
     "name": "stderr",
     "output_type": "stream",
     "text": [
      "100%|██████████| 2495/2495 [29:59<00:00,  1.39it/s]\n"
     ]
    },
    {
     "name": "stdout",
     "output_type": "stream",
     "text": [
      "\n",
      "===== Temperature: 1000, Magnitude: 0.0008, Out-Distribution =====\n"
     ]
    },
    {
     "name": "stderr",
     "output_type": "stream",
     "text": [
      "100%|██████████| 1318/1318 [15:45<00:00,  1.39it/s]\n"
     ]
    },
    {
     "name": "stdout",
     "output_type": "stream",
     "text": [
      "\n",
      "===== Temperature: 1000, Magnitude: 0.001, In-Distribution =====\n"
     ]
    },
    {
     "name": "stderr",
     "output_type": "stream",
     "text": [
      "100%|██████████| 2495/2495 [30:18<00:00,  1.37it/s]\n"
     ]
    },
    {
     "name": "stdout",
     "output_type": "stream",
     "text": [
      "\n",
      "===== Temperature: 1000, Magnitude: 0.001, Out-Distribution =====\n"
     ]
    },
    {
     "name": "stderr",
     "output_type": "stream",
     "text": [
      "100%|██████████| 1318/1318 [15:37<00:00,  1.41it/s]\n"
     ]
    },
    {
     "name": "stdout",
     "output_type": "stream",
     "text": [
      "\n",
      "===== Temperature: 1000, Magnitude: 0.0012, In-Distribution =====\n"
     ]
    },
    {
     "name": "stderr",
     "output_type": "stream",
     "text": [
      "100%|██████████| 2495/2495 [30:37<00:00,  1.36it/s]\n"
     ]
    },
    {
     "name": "stdout",
     "output_type": "stream",
     "text": [
      "\n",
      "===== Temperature: 1000, Magnitude: 0.0012, Out-Distribution =====\n"
     ]
    },
    {
     "name": "stderr",
     "output_type": "stream",
     "text": [
      "100%|██████████| 1318/1318 [15:46<00:00,  1.39it/s]\n"
     ]
    },
    {
     "name": "stdout",
     "output_type": "stream",
     "text": [
      "\n",
      "===== Temperature: 1000, Magnitude: 0.0014, In-Distribution =====\n"
     ]
    },
    {
     "name": "stderr",
     "output_type": "stream",
     "text": [
      "100%|██████████| 2495/2495 [30:12<00:00,  1.38it/s]\n"
     ]
    },
    {
     "name": "stdout",
     "output_type": "stream",
     "text": [
      "\n",
      "===== Temperature: 1000, Magnitude: 0.0014, Out-Distribution =====\n"
     ]
    },
    {
     "name": "stderr",
     "output_type": "stream",
     "text": [
      "100%|██████████| 1318/1318 [15:34<00:00,  1.41it/s]\n"
     ]
    },
    {
     "name": "stdout",
     "output_type": "stream",
     "text": [
      "\n",
      "===== Temperature: 1000, Magnitude: 0.0016, In-Distribution =====\n"
     ]
    },
    {
     "name": "stderr",
     "output_type": "stream",
     "text": [
      " 41%|████      | 1013/2495 [12:01<18:12,  1.36it/s]"
     ]
    }
   ],
   "source": [
    "compute_odin_softmax_scores(densenet_model,Validation_generator, Testing_generator_darker_only)"
   ]
  },
  {
   "cell_type": "code",
   "execution_count": null,
   "metadata": {
    "colab": {
     "base_uri": "https://localhost:8080/",
     "height": 911
    },
    "id": "vq7w6BWMMgPs",
    "outputId": "a93b836d-32b5-4191-e997-02f4b5061784"
   },
   "outputs": [
    {
     "name": "stdout",
     "output_type": "stream",
     "text": [
      "Tensor(\"dense_4/BiasAdd:0\", shape=(?, 6), dtype=float32)\n",
      "Tensor(\"truediv:0\", shape=(?, 6), dtype=float32)\n",
      "Tensor(\"ArgMax:0\", shape=(1, ?), dtype=int64)\n",
      "\n",
      "===== Temperature: 1000, Magnitude: 0.0, In-Distribution =====\n"
     ]
    },
    {
     "name": "stderr",
     "output_type": "stream",
     "text": [
      "100%|██████████| 2495/2495 [38:51<00:00,  1.07it/s]\n"
     ]
    },
    {
     "name": "stdout",
     "output_type": "stream",
     "text": [
      "\n",
      "===== Temperature: 1000, Magnitude: 0.0, Out-Distribution =====\n"
     ]
    },
    {
     "name": "stderr",
     "output_type": "stream",
     "text": [
      "100%|██████████| 1318/1318 [20:52<00:00,  1.05it/s]\n"
     ]
    },
    {
     "name": "stdout",
     "output_type": "stream",
     "text": [
      "\n",
      "===== Temperature: 1000, Magnitude: 0.0002, In-Distribution =====\n"
     ]
    },
    {
     "name": "stderr",
     "output_type": "stream",
     "text": [
      "100%|██████████| 2495/2495 [28:03<00:00,  1.48it/s]\n"
     ]
    },
    {
     "name": "stdout",
     "output_type": "stream",
     "text": [
      "\n",
      "===== Temperature: 1000, Magnitude: 0.0002, Out-Distribution =====\n"
     ]
    },
    {
     "name": "stderr",
     "output_type": "stream",
     "text": [
      "100%|██████████| 1318/1318 [14:49<00:00,  1.48it/s]\n"
     ]
    },
    {
     "name": "stdout",
     "output_type": "stream",
     "text": [
      "\n",
      "===== Temperature: 1000, Magnitude: 0.0004, In-Distribution =====\n"
     ]
    },
    {
     "name": "stderr",
     "output_type": "stream",
     "text": [
      "100%|██████████| 2495/2495 [28:23<00:00,  1.46it/s]\n"
     ]
    },
    {
     "name": "stdout",
     "output_type": "stream",
     "text": [
      "\n",
      "===== Temperature: 1000, Magnitude: 0.0004, Out-Distribution =====\n"
     ]
    },
    {
     "name": "stderr",
     "output_type": "stream",
     "text": [
      "100%|██████████| 1318/1318 [14:47<00:00,  1.49it/s]\n"
     ]
    },
    {
     "name": "stdout",
     "output_type": "stream",
     "text": [
      "\n",
      "===== Temperature: 1000, Magnitude: 0.0006, In-Distribution =====\n"
     ]
    },
    {
     "name": "stderr",
     "output_type": "stream",
     "text": [
      "100%|██████████| 2495/2495 [28:26<00:00,  1.46it/s]\n"
     ]
    },
    {
     "name": "stdout",
     "output_type": "stream",
     "text": [
      "\n",
      "===== Temperature: 1000, Magnitude: 0.0006, Out-Distribution =====\n"
     ]
    },
    {
     "name": "stderr",
     "output_type": "stream",
     "text": [
      "100%|██████████| 1318/1318 [14:52<00:00,  1.48it/s]\n"
     ]
    },
    {
     "name": "stdout",
     "output_type": "stream",
     "text": [
      "\n",
      "===== Temperature: 1000, Magnitude: 0.0008, In-Distribution =====\n"
     ]
    },
    {
     "name": "stderr",
     "output_type": "stream",
     "text": [
      "100%|██████████| 2495/2495 [28:49<00:00,  1.44it/s]\n"
     ]
    },
    {
     "name": "stdout",
     "output_type": "stream",
     "text": [
      "\n",
      "===== Temperature: 1000, Magnitude: 0.0008, Out-Distribution =====\n"
     ]
    },
    {
     "name": "stderr",
     "output_type": "stream",
     "text": [
      " 12%|█▏        | 164/1318 [01:51<13:04,  1.47it/s]\n"
     ]
    },
    {
     "ename": "FileNotFoundError",
     "evalue": "ignored",
     "output_type": "error",
     "traceback": [
      "\u001b[0;31m---------------------------------------------------------------------------\u001b[0m",
      "\u001b[0;31mFileNotFoundError\u001b[0m                         Traceback (most recent call last)",
      "\u001b[0;32m<ipython-input-13-5d8d70b06cf9>\u001b[0m in \u001b[0;36m<cell line: 1>\u001b[0;34m()\u001b[0m\n\u001b[0;32m----> 1\u001b[0;31m \u001b[0mcompute_odin_softmax_scores\u001b[0m\u001b[0;34m(\u001b[0m\u001b[0mdensenet_model\u001b[0m\u001b[0;34m,\u001b[0m\u001b[0mValidation_generator\u001b[0m\u001b[0;34m,\u001b[0m \u001b[0mTesting_generator_lighter_only\u001b[0m\u001b[0;34m)\u001b[0m\u001b[0;34m\u001b[0m\u001b[0;34m\u001b[0m\u001b[0m\n\u001b[0m",
      "\u001b[0;32m<ipython-input-12-0a7370da57c7>\u001b[0m in \u001b[0;36mcompute_odin_softmax_scores\u001b[0;34m(model, generator_in, generator_out, num_classes, batch_size)\u001b[0m\n\u001b[1;32m     52\u001b[0m                 \u001b[0;32mfor\u001b[0m \u001b[0mi\u001b[0m \u001b[0;32min\u001b[0m \u001b[0mtrange\u001b[0m\u001b[0;34m(\u001b[0m\u001b[0mlen\u001b[0m\u001b[0;34m(\u001b[0m\u001b[0mgenerator\u001b[0m\u001b[0;34m.\u001b[0m\u001b[0mfids\u001b[0m\u001b[0;34m)\u001b[0m\u001b[0;34m)\u001b[0m\u001b[0;34m:\u001b[0m\u001b[0;34m\u001b[0m\u001b[0;34m\u001b[0m\u001b[0m\n\u001b[1;32m     53\u001b[0m                     \u001b[0mthisFid\u001b[0m \u001b[0;34m=\u001b[0m \u001b[0mgenerator\u001b[0m\u001b[0;34m.\u001b[0m\u001b[0mfids\u001b[0m\u001b[0;34m[\u001b[0m\u001b[0mi\u001b[0m\u001b[0;34m]\u001b[0m\u001b[0;34m\u001b[0m\u001b[0;34m\u001b[0m\u001b[0m\n\u001b[0;32m---> 54\u001b[0;31m                     \u001b[0mimages\u001b[0m \u001b[0;34m=\u001b[0m \u001b[0mnp\u001b[0m\u001b[0;34m.\u001b[0m\u001b[0mexpand_dims\u001b[0m\u001b[0;34m(\u001b[0m\u001b[0mcv2\u001b[0m\u001b[0;34m.\u001b[0m\u001b[0mresize\u001b[0m\u001b[0;34m(\u001b[0m\u001b[0mnp\u001b[0m\u001b[0;34m.\u001b[0m\u001b[0marray\u001b[0m\u001b[0;34m(\u001b[0m\u001b[0mImage\u001b[0m\u001b[0;34m.\u001b[0m\u001b[0mopen\u001b[0m\u001b[0;34m(\u001b[0m\u001b[0mthisFid\u001b[0m\u001b[0;34m+\u001b[0m\u001b[0;34m'.jpg'\u001b[0m\u001b[0;34m)\u001b[0m\u001b[0;34m.\u001b[0m\u001b[0mconvert\u001b[0m\u001b[0;34m(\u001b[0m\u001b[0;34m\"RGB\"\u001b[0m\u001b[0;34m)\u001b[0m\u001b[0;34m)\u001b[0m\u001b[0;34m/\u001b[0m\u001b[0;36m255\u001b[0m\u001b[0;34m,\u001b[0m \u001b[0;34m(\u001b[0m\u001b[0;36m224\u001b[0m\u001b[0;34m,\u001b[0m\u001b[0;36m224\u001b[0m\u001b[0;34m)\u001b[0m\u001b[0;34m,\u001b[0m \u001b[0minterpolation\u001b[0m\u001b[0;34m=\u001b[0m\u001b[0mcv2\u001b[0m\u001b[0;34m.\u001b[0m\u001b[0mINTER_LINEAR\u001b[0m\u001b[0;34m)\u001b[0m\u001b[0;34m,\u001b[0m \u001b[0maxis\u001b[0m \u001b[0;34m=\u001b[0m \u001b[0;36m0\u001b[0m\u001b[0;34m)\u001b[0m\u001b[0;34m\u001b[0m\u001b[0;34m\u001b[0m\u001b[0m\n\u001b[0m\u001b[1;32m     55\u001b[0m \u001b[0;34m\u001b[0m\u001b[0m\n\u001b[1;32m     56\u001b[0m                     \u001b[0mperturbations\u001b[0m \u001b[0;34m=\u001b[0m \u001b[0mcompute_perturbations\u001b[0m\u001b[0;34m(\u001b[0m\u001b[0;34m[\u001b[0m\u001b[0mimages\u001b[0m\u001b[0;34m,\u001b[0m \u001b[0mlearning_phase\u001b[0m\u001b[0;34m]\u001b[0m\u001b[0;34m)\u001b[0m\u001b[0;34m[\u001b[0m\u001b[0;36m0\u001b[0m\u001b[0;34m]\u001b[0m\u001b[0;34m\u001b[0m\u001b[0;34m\u001b[0m\u001b[0m\n",
      "\u001b[0;32m/usr/local/lib/python3.10/dist-packages/PIL/Image.py\u001b[0m in \u001b[0;36mopen\u001b[0;34m(fp, mode, formats)\u001b[0m\n\u001b[1;32m   3225\u001b[0m \u001b[0;34m\u001b[0m\u001b[0m\n\u001b[1;32m   3226\u001b[0m     \u001b[0;32mif\u001b[0m \u001b[0mfilename\u001b[0m\u001b[0;34m:\u001b[0m\u001b[0;34m\u001b[0m\u001b[0;34m\u001b[0m\u001b[0m\n\u001b[0;32m-> 3227\u001b[0;31m         \u001b[0mfp\u001b[0m \u001b[0;34m=\u001b[0m \u001b[0mbuiltins\u001b[0m\u001b[0;34m.\u001b[0m\u001b[0mopen\u001b[0m\u001b[0;34m(\u001b[0m\u001b[0mfilename\u001b[0m\u001b[0;34m,\u001b[0m \u001b[0;34m\"rb\"\u001b[0m\u001b[0;34m)\u001b[0m\u001b[0;34m\u001b[0m\u001b[0;34m\u001b[0m\u001b[0m\n\u001b[0m\u001b[1;32m   3228\u001b[0m         \u001b[0mexclusive_fp\u001b[0m \u001b[0;34m=\u001b[0m \u001b[0;32mTrue\u001b[0m\u001b[0;34m\u001b[0m\u001b[0;34m\u001b[0m\u001b[0m\n\u001b[1;32m   3229\u001b[0m \u001b[0;34m\u001b[0m\u001b[0m\n",
      "\u001b[0;31mFileNotFoundError\u001b[0m: [Errno 2] No such file or directory: '/content/drive/MyDrive/Assala Master Project/Datasets/dataset/fitzpatrick 17k /Darker_Only/Darker_Skin_Tones/favus2.jpg'"
     ]
    }
   ],
   "source": [
    "compute_odin_softmax_scores(densenet_model,Validation_generator, Testing_generator_lighter_only)"
   ]
  },
  {
   "cell_type": "code",
   "execution_count": null,
   "metadata": {
    "id": "h_9G5PkOI9AF"
   },
   "outputs": [],
   "source": [
    "import os\n",
    "import numpy as np\n",
    "import keras.backend as K\n",
    "import cv2\n",
    "from PIL import Image\n",
    "from odin import norm_perturbations\n",
    "from scipy.special import softmax\n",
    "from tqdm import trange\n",
    "\n",
    "# ODIN parameters\n",
    "#temperatures = [1000, 500, 200, 100, 50, 20, 10, 5, 2, 1]\n",
    "#magnitudes = np.round(np.arange(0, 0.0041, 0.0002), 4)\n",
    "optimal_temperature = 200\n",
    "optimal_magnitude = 0.0002\n",
    "optimal_delta = 0.90385\n",
    "\n",
    "\n",
    "def compute_odin_softmax_scores (model, generator_in, generator_out, num_classes=6, batch_size=1):\n",
    "    distributions = ['In', 'Out']\n",
    "\n",
    "    # Specify the desired starting magnitude and temperature\n",
    "    start_magnitude = 0.0008\n",
    "    start_temperature = 1000\n",
    "\n",
    "    # Find the indices for the desired magnitude and temperature\n",
    "    start_magnitude_idx = np.where(magnitudes == start_magnitude)[0][0]\n",
    "    start_temperature_idx = temperatures.index(start_temperature)\n",
    "\n",
    "    # This file is used for recording what parameter combinations were already computed.\n",
    "    progress_file = os.path.join('Done.txt')\n",
    "    done_set = set()\n",
    "    if os.path.exists(progress_file):\n",
    "        with open(progress_file, 'r') as f:\n",
    "            done_set = set(line.rstrip('\\n') for line in f)\n",
    "\n",
    "    image_data_format = K.image_data_format()\n",
    "    learning_phase = 0  # 0 = test, 1 = train\n",
    "\n",
    "    need_norm_perturbations = 1\n",
    "\n",
    "    for temperature_idx, temperature in enumerate(temperatures[start_temperature_idx:]):\n",
    "\n",
    "        if temperature_idx == 0:\n",
    "            magnitude_start_idx = start_magnitude_idx\n",
    "        else:\n",
    "            magnitude_start_idx = 0\n",
    "\n",
    "        compute_perturbations, get_scaled_dense_pred_output = get_perturbation_helper_func(model, temperature, num_classes)\n",
    "\n",
    "        for magnitude_idx, magnitude in enumerate(magnitudes[magnitude_start_idx:]):\n",
    "            for dist in distributions:\n",
    "                # Skip if the parameter combination has been done\n",
    "                param_comb_id = \"{}, {}, {}\".format(dist, temperature, magnitude)\n",
    "                if param_comb_id in done_set:\n",
    "                    print('Skip ', param_comb_id)\n",
    "                    continue\n",
    "\n",
    "                if dist == 'In':\n",
    "                    generator = generator_in\n",
    "                elif dist == 'Out':\n",
    "                    generator = generator_out\n",
    "\n",
    "                print(\"\\n===== Temperature: {}, Magnitude: {}, {}-Distribution =====\".format(temperature, magnitude, dist))\n",
    "\n",
    "                f = open(\"./densenet121_ODIN_{}_{}_{}.txt\".format(temperature, magnitude, dist), 'w')\n",
    "\n",
    "                # Start from the beginning\n",
    "                for i in trange(len(generator.fids)):\n",
    "                    try:\n",
    "                        thisFid = generator.fids[i]\n",
    "                        images = np.expand_dims(\n",
    "                            cv2.resize(np.array(Image.open(thisFid + '.jpg').convert(\"RGB\")) / 255, (224, 224),\n",
    "                                       interpolation=cv2.INTER_LINEAR), axis=0)\n",
    "\n",
    "                        perturbations = compute_perturbations([images, learning_phase])[0]\n",
    "                        # Get the sign of perturbations\n",
    "                        perturbations = np.sign(perturbations)\n",
    "\n",
    "                        # Normalize the perturbations to the same space of the image\n",
    "                        if need_norm_perturbations:\n",
    "                            perturbations = norm_perturbations(perturbations, image_data_format)\n",
    "\n",
    "                        # Add perturbations to images\n",
    "                        perturbative_images = images - magnitude * perturbations\n",
    "\n",
    "                        # Calculate the confidence after adding perturbations\n",
    "                        dense_pred_outputs = get_scaled_dense_pred_output([perturbative_images, learning_phase])[0]\n",
    "                        softmax_probs = softmax(dense_pred_outputs)\n",
    "                        softmax_scores = np.max(softmax_probs, axis=-1)\n",
    "                        for s in softmax_scores:\n",
    "                            f.write(\"{}\\n\".format(s))\n",
    "                    except FileNotFoundError:\n",
    "                        print(f\"File not found for index {i}. Continuing...\")\n",
    "                        continue\n",
    "\n",
    "                f.close()\n",
    "\n",
    "                with open(progress_file, 'a') as f_done:\n",
    "                    f_done.write(\"{}\\n\".format(param_comb_id))\n"
   ]
  },
  {
   "cell_type": "markdown",
   "metadata": {
    "id": "Ql0mrBzDTuTt"
   },
   "source": [
    "## Setting the optimal parameters :"
   ]
  },
  {
   "cell_type": "code",
   "execution_count": null,
   "metadata": {
    "id": "NWFXBuxbbANq"
   },
   "outputs": [],
   "source": [
    "import os\n",
    "import numpy as np\n",
    "import keras.backend as K\n",
    "import cv2\n",
    "from PIL import Image\n",
    "from odin import norm_perturbations\n",
    "from odin import get_tpr_and_fpr, auroc\n",
    "from scipy.special import softmax\n",
    "from tqdm import trange\n",
    "from sklearn.metrics import roc_curve, auc\n",
    "\n",
    "# Optimal ODIN Parameters\n",
    "optimal_temperature = 200\n",
    "optimal_magnitude = 0.0002\n",
    "optimal_delta = 0.90385\n",
    "\n",
    "def compute_odin_parameters_and_metrics(model, generator_in, generator_out, num_classes=6, batch_size=1):\n",
    "    distributions = ['In', 'Out']\n",
    "    compute_perturbations, get_scaled_dense_pred_output = get_perturbation_helper_func(model, optimal_temperature, num_classes)\n",
    "\n",
    "    # This file is used for recording what parameter combinations were already computed.\n",
    "    progress_file = os.path.join('Done.txt')\n",
    "    done_set = set()\n",
    "    if os.path.exists(progress_file):\n",
    "        with open(progress_file, 'r') as f:\n",
    "            done_set = set(line.rstrip('\\n') for line in f)\n",
    "\n",
    "    image_data_format = K.image_data_format()\n",
    "    learning_phase = 0  # 0 = test, 1 = train\n",
    "\n",
    "    need_norm_perturbations = 1\n",
    "\n",
    "    # Initialize variables to store metrics\n",
    "    auroc_max = -1  # Initialize AUROC to a very low value\n",
    "    fpr_min = 1     # Initialize FPR to a very high value\n",
    "    odinparam_auroc_max = None\n",
    "    odinparam_fpr_min = None\n",
    "\n",
    "    for dist in distributions:\n",
    "        for magnitude in [optimal_magnitude]:\n",
    "            # Skip if the parameter combination has been done\n",
    "            param_comb_id = \"{}, {}, {}\".format(dist, optimal_temperature, magnitude)\n",
    "            if param_comb_id in done_set:\n",
    "                print('Skip ', param_comb_id)\n",
    "                continue\n",
    "\n",
    "            if dist == 'In':\n",
    "                generator = generator_in\n",
    "            elif dist == 'Out':\n",
    "                generator = generator_out\n",
    "\n",
    "            print(\"\\n===== Temperature: {}, Magnitude: {}, {}-Distribution =====\".format(optimal_temperature, magnitude, dist))\n",
    "\n",
    "            f = open(\"./densenet121_ODIN_{}_{}_{}.txt\".format(optimal_temperature, magnitude, dist), 'w')\n",
    "\n",
    "            # Start from the beginning\n",
    "            for i in trange(len(generator.fids)):\n",
    "                try:\n",
    "                    thisFid = generator.fids[i]\n",
    "                    images = np.expand_dims(\n",
    "                        cv2.resize(np.array(Image.open(thisFid + '.jpg').convert(\"RGB\")) / 255, (224, 224),\n",
    "                                   interpolation=cv2.INTER_LINEAR), axis=0)\n",
    "\n",
    "                    perturbations = compute_perturbations([images, learning_phase])[0]\n",
    "                    # Get the sign of perturbations\n",
    "                    perturbations = np.sign(perturbations)\n",
    "\n",
    "                    # Normalize the perturbations to the same space of the image\n",
    "                    if need_norm_perturbations:\n",
    "                        perturbations = norm_perturbations(perturbations, image_data_format)\n",
    "\n",
    "                    # Add perturbations to images\n",
    "                    perturbative_images = images - magnitude * perturbations\n",
    "\n",
    "                    # Calculate the confidence after adding perturbations\n",
    "                    dense_pred_outputs = get_scaled_dense_pred_output([perturbative_images, learning_phase])[0]\n",
    "                    softmax_probs = softmax(dense_pred_outputs)\n",
    "                    softmax_scores = np.max(softmax_probs, axis=-1)\n",
    "                    for s in softmax_scores:\n",
    "                        f.write(\"{}\\n\".format(s))\n",
    "                except FileNotFoundError:\n",
    "                    print(f\"File not found for index {i}. Continuing...\")\n",
    "                    continue\n",
    "\n",
    "            f.close()\n",
    "\n",
    "            with open(progress_file, 'a') as f_done:\n",
    "                f_done.write(\"{}\\n\".format(param_comb_id))\n",
    "\n",
    "\n",
    "# Call the function to compute ODIN parameters and metrics\n",
    "#compute_odin_parameters_and_metrics(densenet_model, Validation_generator, Testing_generator_lighter_only)\n"
   ]
  },
  {
   "cell_type": "code",
   "execution_count": null,
   "metadata": {
    "id": "b_FSBBS6upRo"
   },
   "outputs": [],
   "source": [
    "import os\n",
    "import numpy as np\n",
    "import keras.backend as K\n",
    "import cv2\n",
    "from PIL import Image\n",
    "from odin import norm_perturbations\n",
    "from scipy.special import softmax\n",
    "from tqdm import trange\n",
    "\n",
    "# Fixed ODIN Parameters\n",
    "#optimal_temperature = 2\n",
    "#optimal_magnitude = 0.0002\n",
    "\n",
    "optimal_temperature = 200\n",
    "optimal_magnitude = 0.0002\n",
    "\n",
    "def compute_odin_softmax_scores_fixed(model, generator_in, generator_out, num_classes=6, batch_size=1):\n",
    "    distributions = ['Out']\n",
    "    compute_perturbations, get_scaled_dense_pred_output = get_perturbation_helper_func(model, optimal_temperature, num_classes)\n",
    "\n",
    "    # This file is used for recording what parameter combinations were already computed.\n",
    "    progress_file = os.path.join('Done.txt')\n",
    "    done_set = set()\n",
    "    if os.path.exists(progress_file):\n",
    "        with open(progress_file, 'r') as f:\n",
    "            done_set = set(line.rstrip('\\n') for line in f)\n",
    "\n",
    "    image_data_format = K.image_data_format()\n",
    "    learning_phase = 0  # 0 = test, 1 = train\n",
    "    need_norm_perturbations = 1\n",
    "\n",
    "    for dist in distributions:\n",
    "        param_comb_id = \"{}, {}, {}\".format(dist, optimal_temperature, optimal_magnitude)\n",
    "        if param_comb_id in done_set:\n",
    "            print('Skip ', param_comb_id)\n",
    "            continue\n",
    "\n",
    "        if dist == 'In':\n",
    "            generator = generator_in\n",
    "        elif dist == 'Out':\n",
    "            generator = generator_out\n",
    "\n",
    "        print(\"\\n===== Temperature: {}, Magnitude: {}, {}-Distribution =====\".format(optimal_temperature, optimal_magnitude, dist))\n",
    "\n",
    "        f = open(\"./densenet121_ODIN_{}_{}_{}.txt\".format(optimal_temperature, optimal_magnitude, dist), 'w')\n",
    "\n",
    "        for i in trange(len(generator.fids)):\n",
    "            try:\n",
    "                thisFid = generator.fids[i]\n",
    "                images = np.expand_dims(\n",
    "                    cv2.resize(np.array(Image.open(thisFid + '.jpg').convert(\"RGB\")) / 255, (224, 224),\n",
    "                               interpolation=cv2.INTER_LINEAR), axis=0)\n",
    "\n",
    "                perturbations = compute_perturbations([images, learning_phase])[0]\n",
    "                # Get sign of perturbations\n",
    "                perturbations = np.sign(perturbations)\n",
    "\n",
    "                # Normalize the perturbations to the same space of image\n",
    "                if need_norm_perturbations:\n",
    "                    perturbations = norm_perturbations(perturbations, image_data_format)\n",
    "\n",
    "                # Add perturbations to images\n",
    "                perturbative_images = images - optimal_magnitude * perturbations\n",
    "\n",
    "                # Calculate the confidence after adding perturbations\n",
    "                dense_pred_outputs = get_scaled_dense_pred_output([perturbative_images, learning_phase])[0]\n",
    "                softmax_probs = softmax(dense_pred_outputs)\n",
    "                softmax_scores = np.max(softmax_probs, axis=-1)\n",
    "                for s in softmax_scores:\n",
    "                    f.write(\"{}\\n\".format(s))\n",
    "            except FileNotFoundError:\n",
    "                print(f\"File not found for index {i}. Continuing...\")\n",
    "                continue\n",
    "\n",
    "        f.close()\n",
    "\n",
    "        with open(progress_file, 'a') as f_done:\n",
    "            f_done.write(\"{}\\n\".format(param_comb_id))\n"
   ]
  },
  {
   "cell_type": "code",
   "execution_count": null,
   "metadata": {
    "colab": {
     "base_uri": "https://localhost:8080/"
    },
    "id": "F7R9EYh9heSp",
    "outputId": "43f817e0-b7f6-453d-daa5-1eaf070a1af1"
   },
   "outputs": [
    {
     "name": "stdout",
     "output_type": "stream",
     "text": [
      "Tensor(\"dense_4/BiasAdd:0\", shape=(?, 6), dtype=float32)\n",
      "Tensor(\"truediv_6:0\", shape=(?, 6), dtype=float32)\n",
      "Tensor(\"ArgMax_12:0\", shape=(1, ?), dtype=int64)\n",
      "\n",
      "===== Temperature: 200, Magnitude: 0.0002, Out-Distribution =====\n"
     ]
    },
    {
     "name": "stderr",
     "output_type": "stream",
     "text": [
      "100%|██████████| 1318/1318 [15:24<00:00,  1.43it/s]\n"
     ]
    }
   ],
   "source": [
    "compute_odin_softmax_scores_fixed(densenet_model,Validation_generator, Testing_generator_darker_only)"
   ]
  },
  {
   "cell_type": "code",
   "execution_count": null,
   "metadata": {
    "id": "aWwwGD_9W66O"
   },
   "outputs": [],
   "source": [
    "compute_odin_softmax_scores_fixed(densenet_model,Validation_generator, Testing_generator_lighter_only)"
   ]
  },
  {
   "cell_type": "code",
   "execution_count": null,
   "metadata": {
    "colab": {
     "base_uri": "https://localhost:8080/"
    },
    "id": "yn-6mj2liPE0",
    "outputId": "40d0712c-c67e-4025-d589-19cb31dd76b7"
   },
   "outputs": [
    {
     "name": "stdout",
     "output_type": "stream",
     "text": [
      "Tensor(\"dense_4/BiasAdd:0\", shape=(?, 6), dtype=float32)\n",
      "Tensor(\"truediv_2:0\", shape=(?, 6), dtype=float32)\n",
      "Tensor(\"ArgMax_4:0\", shape=(1, ?), dtype=int64)\n",
      "\n",
      "===== Temperature: 200, Magnitude: 0.0002, Out-Distribution =====\n"
     ]
    },
    {
     "name": "stderr",
     "output_type": "stream",
     "text": [
      "100%|██████████| 12222/12222 [2:11:44<00:00,  1.55it/s]\n"
     ]
    }
   ],
   "source": [
    "compute_odin_softmax_scores_fixed(densenet_model, Validation_generator, Testing_generator_ALL)"
   ]
  },
  {
   "cell_type": "markdown",
   "metadata": {
    "id": "Z3pmPu4Xievy"
   },
   "source": [
    "## Baseline scores"
   ]
  },
  {
   "cell_type": "code",
   "execution_count": null,
   "metadata": {
    "colab": {
     "base_uri": "https://localhost:8080/"
    },
    "id": "SuFiMav1xDar",
    "outputId": "4fccac5e-9c48-4d5c-f602-15f27143b14e"
   },
   "outputs": [
    {
     "name": "stdout",
     "output_type": "stream",
     "text": [
      "Begin to compute baseline softmax scores\n"
     ]
    },
    {
     "name": "stderr",
     "output_type": "stream",
     "text": [
      "/usr/local/lib/python3.10/dist-packages/keras/src/engine/training_v1.py:2359: UserWarning: `Model.state_updates` will be removed in a future version. This property should not be used in TensorFlow 2.0, as `updates` are applied automatically.\n",
      "  updates=self.state_updates,\n"
     ]
    }
   ],
   "source": [
    "#lighter only\n",
    "compute_baseline_softmax_scores(densenet_model, Validation_generator, Testing_generator_lighter_only)"
   ]
  },
  {
   "cell_type": "code",
   "execution_count": null,
   "metadata": {
    "colab": {
     "base_uri": "https://localhost:8080/"
    },
    "id": "yzyOY-lIiiCA",
    "outputId": "f11e8e07-5915-40a8-b91b-2ddae0f86a9b"
   },
   "outputs": [
    {
     "name": "stdout",
     "output_type": "stream",
     "text": [
      "Begin to compute baseline softmax scores\n"
     ]
    },
    {
     "name": "stderr",
     "output_type": "stream",
     "text": [
      "/usr/local/lib/python3.10/dist-packages/keras/src/engine/training_v1.py:2359: UserWarning: `Model.state_updates` will be removed in a future version. This property should not be used in TensorFlow 2.0, as `updates` are applied automatically.\n",
      "  updates=self.state_updates,\n"
     ]
    }
   ],
   "source": [
    "#darker only\n",
    "compute_baseline_softmax_scores(densenet_model, Validation_generator, Testing_generator_darker_only)"
   ]
  },
  {
   "cell_type": "code",
   "execution_count": null,
   "metadata": {
    "colab": {
     "base_uri": "https://localhost:8080/"
    },
    "id": "JMXMzBJaivPi",
    "outputId": "dab6afcf-5d4c-41d1-95ba-d52a59857e3a"
   },
   "outputs": [
    {
     "name": "stdout",
     "output_type": "stream",
     "text": [
      "Begin to compute baseline softmax scores\n"
     ]
    }
   ],
   "source": [
    "#ALL\n",
    "compute_baseline_softmax_scores(densenet_model, Validation_generator, Testing_generator_ALL)"
   ]
  },
  {
   "cell_type": "code",
   "execution_count": null,
   "metadata": {
    "id": "oZHN1-1nQd_R"
   },
   "outputs": [],
   "source": [
    "#find the ptimal threshold:\n",
    "# Concatenate the scores and create corresponding labels\n",
    "import numpy as np\n",
    "\n",
    "scores_in = np.loadtxt(\"/content/densenet121_ODIN_200_0.0002_In_Darker.txt\")\n",
    "scores_out = np.loadtxt(\"/content/densenet121_ODIN_200_0.0002_Out_Darker.txt\")\n",
    "scores_D = np.concatenate([scores_in, scores_out])\n",
    "labels_D = np.concatenate([np.zeros(len(scores_in)), np.ones(len(scores_out))])\n",
    "\n",
    "    # Use ROC curve to find the optimal threshold\n",
    "fpr, tpr, thresholds = roc_curve(labels_D, scores_D)\n",
    "optimal_threshold_D = thresholds[np.argmax(tpr - fpr)]"
   ]
  },
  {
   "cell_type": "code",
   "execution_count": null,
   "metadata": {
    "colab": {
     "base_uri": "https://localhost:8080/"
    },
    "id": "_6G6zVBpUWNg",
    "outputId": "452a49d9-5be1-44eb-ad74-f95d9f0ebe6b"
   },
   "outputs": [
    {
     "name": "stdout",
     "output_type": "stream",
     "text": [
      "0.17385952174663544\n"
     ]
    }
   ],
   "source": [
    "print(optimal_threshold_D)"
   ]
  },
  {
   "cell_type": "code",
   "execution_count": null,
   "metadata": {
    "colab": {
     "base_uri": "https://localhost:8080/"
    },
    "id": "tCJXT0Ev-cgI",
    "outputId": "98ab2db5-05ea-4601-bec0-7137170d6771"
   },
   "outputs": [
    {
     "name": "stdout",
     "output_type": "stream",
     "text": [
      "0.9962658286094666\n"
     ]
    }
   ],
   "source": [
    "print(optimal_threshold)"
   ]
  },
  {
   "cell_type": "code",
   "execution_count": null,
   "metadata": {
    "colab": {
     "base_uri": "https://localhost:8080/"
    },
    "id": "S9pDPd4QTEZD",
    "outputId": "18a6d69c-f472-47ec-c262-58740f2b187f"
   },
   "outputs": [
    {
     "name": "stdout",
     "output_type": "stream",
     "text": [
      "0.1690995991230011\n"
     ]
    }
   ],
   "source": [
    "#find the ptimal threshold:\n",
    "# Concatenate the scores and create corresponding labels\n",
    "import numpy as np\n",
    "\n",
    "scores_in = np.loadtxt(\"/content/densenet121_ODIN_200_0.0002_In_ALL.txt\")\n",
    "scores_out = np.loadtxt(\"/content/densenet121_ODIN_200_0.0002_Out_ALL.txt\")\n",
    "scores_ALL = np.concatenate([scores_in, scores_out])\n",
    "labels_ALL = np.concatenate([np.zeros(len(scores_in)), np.ones(len(scores_out))])\n",
    "\n",
    "    # Use ROC curve to find the optimal threshold\n",
    "fpr, tpr, thresholds = roc_curve(labels_ALL, scores_ALL)\n",
    "optimal_threshold = thresholds[np.argmax(tpr - fpr)]\n",
    "print(optimal_threshold)"
   ]
  },
  {
   "cell_type": "markdown",
   "metadata": {
    "id": "Y1fpbbruyx4r"
   },
   "source": [
    "## NN Softmax:"
   ]
  },
  {
   "cell_type": "markdown",
   "metadata": {
    "id": "Y1fpbbruyx4r"
   },
   "source": [
    "### Histogram:"
   ]
  },
  {
   "cell_type": "code",
   "execution_count": null,
   "metadata": {
    "colab": {
     "base_uri": "https://localhost:8080/",
     "height": 424
    },
    "id": "VckW80jBhB4p",
    "outputId": "cb55f8f4-d559-4790-f0c2-0885d1a4a110"
   },
   "outputs": [
    {
     "data": {
      "text/html": [
       "\n",
       "  <div id=\"df-d3dc5c81-187e-47c0-b971-c76d7296e448\" class=\"colab-df-container\">\n",
       "    <div>\n",
       "<style scoped>\n",
       "    .dataframe tbody tr th:only-of-type {\n",
       "        vertical-align: middle;\n",
       "    }\n",
       "\n",
       "    .dataframe tbody tr th {\n",
       "        vertical-align: top;\n",
       "    }\n",
       "\n",
       "    .dataframe thead th {\n",
       "        text-align: right;\n",
       "    }\n",
       "</style>\n",
       "<table border=\"1\" class=\"dataframe\">\n",
       "  <thead>\n",
       "    <tr style=\"text-align: right;\">\n",
       "      <th></th>\n",
       "      <th>Scores</th>\n",
       "      <th>Labels</th>\n",
       "    </tr>\n",
       "  </thead>\n",
       "  <tbody>\n",
       "    <tr>\n",
       "      <th>0</th>\n",
       "      <td>0.999318</td>\n",
       "      <td>2</td>\n",
       "    </tr>\n",
       "    <tr>\n",
       "      <th>1</th>\n",
       "      <td>0.819800</td>\n",
       "      <td>1</td>\n",
       "    </tr>\n",
       "    <tr>\n",
       "      <th>2</th>\n",
       "      <td>0.987357</td>\n",
       "      <td>1</td>\n",
       "    </tr>\n",
       "    <tr>\n",
       "      <th>3</th>\n",
       "      <td>1.000000</td>\n",
       "      <td>0</td>\n",
       "    </tr>\n",
       "    <tr>\n",
       "      <th>4</th>\n",
       "      <td>1.000000</td>\n",
       "      <td>0</td>\n",
       "    </tr>\n",
       "    <tr>\n",
       "      <th>...</th>\n",
       "      <td>...</td>\n",
       "      <td>...</td>\n",
       "    </tr>\n",
       "    <tr>\n",
       "      <th>17207</th>\n",
       "      <td>0.988635</td>\n",
       "      <td>1</td>\n",
       "    </tr>\n",
       "    <tr>\n",
       "      <th>17208</th>\n",
       "      <td>0.951698</td>\n",
       "      <td>1</td>\n",
       "    </tr>\n",
       "    <tr>\n",
       "      <th>17209</th>\n",
       "      <td>1.000000</td>\n",
       "      <td>1</td>\n",
       "    </tr>\n",
       "    <tr>\n",
       "      <th>17210</th>\n",
       "      <td>0.999990</td>\n",
       "      <td>0</td>\n",
       "    </tr>\n",
       "    <tr>\n",
       "      <th>17211</th>\n",
       "      <td>0.999823</td>\n",
       "      <td>1</td>\n",
       "    </tr>\n",
       "  </tbody>\n",
       "</table>\n",
       "<p>17212 rows × 2 columns</p>\n",
       "</div>\n",
       "    <div class=\"colab-df-buttons\">\n",
       "\n",
       "  <div class=\"colab-df-container\">\n",
       "    <button class=\"colab-df-convert\" onclick=\"convertToInteractive('df-d3dc5c81-187e-47c0-b971-c76d7296e448')\"\n",
       "            title=\"Convert this dataframe to an interactive table.\"\n",
       "            style=\"display:none;\">\n",
       "\n",
       "  <svg xmlns=\"http://www.w3.org/2000/svg\" height=\"24px\" viewBox=\"0 -960 960 960\">\n",
       "    <path d=\"M120-120v-720h720v720H120Zm60-500h600v-160H180v160Zm220 220h160v-160H400v160Zm0 220h160v-160H400v160ZM180-400h160v-160H180v160Zm440 0h160v-160H620v160ZM180-180h160v-160H180v160Zm440 0h160v-160H620v160Z\"/>\n",
       "  </svg>\n",
       "    </button>\n",
       "\n",
       "  <style>\n",
       "    .colab-df-container {\n",
       "      display:flex;\n",
       "      gap: 12px;\n",
       "    }\n",
       "\n",
       "    .colab-df-convert {\n",
       "      background-color: #E8F0FE;\n",
       "      border: none;\n",
       "      border-radius: 50%;\n",
       "      cursor: pointer;\n",
       "      display: none;\n",
       "      fill: #1967D2;\n",
       "      height: 32px;\n",
       "      padding: 0 0 0 0;\n",
       "      width: 32px;\n",
       "    }\n",
       "\n",
       "    .colab-df-convert:hover {\n",
       "      background-color: #E2EBFA;\n",
       "      box-shadow: 0px 1px 2px rgba(60, 64, 67, 0.3), 0px 1px 3px 1px rgba(60, 64, 67, 0.15);\n",
       "      fill: #174EA6;\n",
       "    }\n",
       "\n",
       "    .colab-df-buttons div {\n",
       "      margin-bottom: 4px;\n",
       "    }\n",
       "\n",
       "    [theme=dark] .colab-df-convert {\n",
       "      background-color: #3B4455;\n",
       "      fill: #D2E3FC;\n",
       "    }\n",
       "\n",
       "    [theme=dark] .colab-df-convert:hover {\n",
       "      background-color: #434B5C;\n",
       "      box-shadow: 0px 1px 3px 1px rgba(0, 0, 0, 0.15);\n",
       "      filter: drop-shadow(0px 1px 2px rgba(0, 0, 0, 0.3));\n",
       "      fill: #FFFFFF;\n",
       "    }\n",
       "  </style>\n",
       "\n",
       "    <script>\n",
       "      const buttonEl =\n",
       "        document.querySelector('#df-d3dc5c81-187e-47c0-b971-c76d7296e448 button.colab-df-convert');\n",
       "      buttonEl.style.display =\n",
       "        google.colab.kernel.accessAllowed ? 'block' : 'none';\n",
       "\n",
       "      async function convertToInteractive(key) {\n",
       "        const element = document.querySelector('#df-d3dc5c81-187e-47c0-b971-c76d7296e448');\n",
       "        const dataTable =\n",
       "          await google.colab.kernel.invokeFunction('convertToInteractive',\n",
       "                                                    [key], {});\n",
       "        if (!dataTable) return;\n",
       "\n",
       "        const docLinkHtml = 'Like what you see? Visit the ' +\n",
       "          '<a target=\"_blank\" href=https://colab.research.google.com/notebooks/data_table.ipynb>data table notebook</a>'\n",
       "          + ' to learn more about interactive tables.';\n",
       "        element.innerHTML = '';\n",
       "        dataTable['output_type'] = 'display_data';\n",
       "        await google.colab.output.renderOutput(dataTable, element);\n",
       "        const docLink = document.createElement('div');\n",
       "        docLink.innerHTML = docLinkHtml;\n",
       "        element.appendChild(docLink);\n",
       "      }\n",
       "    </script>\n",
       "  </div>\n",
       "\n",
       "\n",
       "<div id=\"df-0c1721a8-cda7-43a1-bd75-5f34c617f80b\">\n",
       "  <button class=\"colab-df-quickchart\" onclick=\"quickchart('df-0c1721a8-cda7-43a1-bd75-5f34c617f80b')\"\n",
       "            title=\"Suggest charts.\"\n",
       "            style=\"display:none;\">\n",
       "\n",
       "<svg xmlns=\"http://www.w3.org/2000/svg\" height=\"24px\"viewBox=\"0 0 24 24\"\n",
       "     width=\"24px\">\n",
       "    <g>\n",
       "        <path d=\"M19 3H5c-1.1 0-2 .9-2 2v14c0 1.1.9 2 2 2h14c1.1 0 2-.9 2-2V5c0-1.1-.9-2-2-2zM9 17H7v-7h2v7zm4 0h-2V7h2v10zm4 0h-2v-4h2v4z\"/>\n",
       "    </g>\n",
       "</svg>\n",
       "  </button>\n",
       "\n",
       "<style>\n",
       "  .colab-df-quickchart {\n",
       "      --bg-color: #E8F0FE;\n",
       "      --fill-color: #1967D2;\n",
       "      --hover-bg-color: #E2EBFA;\n",
       "      --hover-fill-color: #174EA6;\n",
       "      --disabled-fill-color: #AAA;\n",
       "      --disabled-bg-color: #DDD;\n",
       "  }\n",
       "\n",
       "  [theme=dark] .colab-df-quickchart {\n",
       "      --bg-color: #3B4455;\n",
       "      --fill-color: #D2E3FC;\n",
       "      --hover-bg-color: #434B5C;\n",
       "      --hover-fill-color: #FFFFFF;\n",
       "      --disabled-bg-color: #3B4455;\n",
       "      --disabled-fill-color: #666;\n",
       "  }\n",
       "\n",
       "  .colab-df-quickchart {\n",
       "    background-color: var(--bg-color);\n",
       "    border: none;\n",
       "    border-radius: 50%;\n",
       "    cursor: pointer;\n",
       "    display: none;\n",
       "    fill: var(--fill-color);\n",
       "    height: 32px;\n",
       "    padding: 0;\n",
       "    width: 32px;\n",
       "  }\n",
       "\n",
       "  .colab-df-quickchart:hover {\n",
       "    background-color: var(--hover-bg-color);\n",
       "    box-shadow: 0 1px 2px rgba(60, 64, 67, 0.3), 0 1px 3px 1px rgba(60, 64, 67, 0.15);\n",
       "    fill: var(--button-hover-fill-color);\n",
       "  }\n",
       "\n",
       "  .colab-df-quickchart-complete:disabled,\n",
       "  .colab-df-quickchart-complete:disabled:hover {\n",
       "    background-color: var(--disabled-bg-color);\n",
       "    fill: var(--disabled-fill-color);\n",
       "    box-shadow: none;\n",
       "  }\n",
       "\n",
       "  .colab-df-spinner {\n",
       "    border: 2px solid var(--fill-color);\n",
       "    border-color: transparent;\n",
       "    border-bottom-color: var(--fill-color);\n",
       "    animation:\n",
       "      spin 1s steps(1) infinite;\n",
       "  }\n",
       "\n",
       "  @keyframes spin {\n",
       "    0% {\n",
       "      border-color: transparent;\n",
       "      border-bottom-color: var(--fill-color);\n",
       "      border-left-color: var(--fill-color);\n",
       "    }\n",
       "    20% {\n",
       "      border-color: transparent;\n",
       "      border-left-color: var(--fill-color);\n",
       "      border-top-color: var(--fill-color);\n",
       "    }\n",
       "    30% {\n",
       "      border-color: transparent;\n",
       "      border-left-color: var(--fill-color);\n",
       "      border-top-color: var(--fill-color);\n",
       "      border-right-color: var(--fill-color);\n",
       "    }\n",
       "    40% {\n",
       "      border-color: transparent;\n",
       "      border-right-color: var(--fill-color);\n",
       "      border-top-color: var(--fill-color);\n",
       "    }\n",
       "    60% {\n",
       "      border-color: transparent;\n",
       "      border-right-color: var(--fill-color);\n",
       "    }\n",
       "    80% {\n",
       "      border-color: transparent;\n",
       "      border-right-color: var(--fill-color);\n",
       "      border-bottom-color: var(--fill-color);\n",
       "    }\n",
       "    90% {\n",
       "      border-color: transparent;\n",
       "      border-bottom-color: var(--fill-color);\n",
       "    }\n",
       "  }\n",
       "</style>\n",
       "\n",
       "  <script>\n",
       "    async function quickchart(key) {\n",
       "      const quickchartButtonEl =\n",
       "        document.querySelector('#' + key + ' button');\n",
       "      quickchartButtonEl.disabled = true;  // To prevent multiple clicks.\n",
       "      quickchartButtonEl.classList.add('colab-df-spinner');\n",
       "      try {\n",
       "        const charts = await google.colab.kernel.invokeFunction(\n",
       "            'suggestCharts', [key], {});\n",
       "      } catch (error) {\n",
       "        console.error('Error during call to suggestCharts:', error);\n",
       "      }\n",
       "      quickchartButtonEl.classList.remove('colab-df-spinner');\n",
       "      quickchartButtonEl.classList.add('colab-df-quickchart-complete');\n",
       "    }\n",
       "    (() => {\n",
       "      let quickchartButtonEl =\n",
       "        document.querySelector('#df-0c1721a8-cda7-43a1-bd75-5f34c617f80b button');\n",
       "      quickchartButtonEl.style.display =\n",
       "        google.colab.kernel.accessAllowed ? 'block' : 'none';\n",
       "    })();\n",
       "  </script>\n",
       "</div>\n",
       "    </div>\n",
       "  </div>\n"
      ],
      "text/plain": [
       "         Scores  Labels\n",
       "0      0.999318       2\n",
       "1      0.819800       1\n",
       "2      0.987357       1\n",
       "3      1.000000       0\n",
       "4      1.000000       0\n",
       "...         ...     ...\n",
       "17207  0.988635       1\n",
       "17208  0.951698       1\n",
       "17209  1.000000       1\n",
       "17210  0.999990       0\n",
       "17211  0.999823       1\n",
       "\n",
       "[17212 rows x 2 columns]"
      ]
     },
     "execution_count": 18,
     "metadata": {},
     "output_type": "execute_result"
    }
   ],
   "source": [
    "import pandas as pd\n",
    "\n",
    "# Load scores from your files\n",
    "in_dist_files_L = ['/content/densenet121_Base_In_Lighter_Only.txt']\n",
    "out_dist_files_L = ['/content/densenet121_Base_Out_Lighter_Only.txt']\n",
    "in_dist_files_D = ['/content/densenet121_Base_In_Darker_only.txt']\n",
    "out_dist_files_D = ['/content/densenet121_Base_Out_Darker_Only.txt']\n",
    "\n",
    "# Read scores from files into Pandas Series\n",
    "in_dist_scores_L = pd.Series([float(score) for score in open(in_dist_files_L[0]).readlines()])\n",
    "out_dist_scores_L = pd.Series([float(score) for score in open(out_dist_files_L[0]).readlines()])\n",
    "in_dist_scores_D = pd.Series([float(score) for score in open(in_dist_files_D[0]).readlines()])\n",
    "out_dist_scores_D = pd.Series([float(score) for score in open(out_dist_files_D[0]).readlines()])\n",
    "\n",
    "# Create labels for each set of scores\n",
    "in_dist_labels_L = pd.Series([0] * len(in_dist_scores_L))\n",
    "in_dist_labels_D = pd.Series([0] * len(in_dist_scores_D))\n",
    "\n",
    "out_dist_labels_L = pd.Series([1] * len(out_dist_scores_L))\n",
    "out_dist_labels_D = pd.Series([2] * len(out_dist_scores_D))\n",
    "\n",
    "\n",
    "\n",
    "\n",
    "\n",
    "# Concatenate scores and labels into a DataFrame\n",
    "df = pd.DataFrame({\n",
    "    'Scores': pd.concat([in_dist_scores_L , in_dist_scores_D, out_dist_scores_L, out_dist_scores_D]),\n",
    "    'Labels': pd.concat([in_dist_labels_L, in_dist_labels_D,out_dist_labels_L, out_dist_labels_D])\n",
    "})\n",
    "\n",
    "df = df.sample(frac=1, random_state=42).reset_index(drop=True)\n",
    "\n",
    "# Display the resulting DataFrame\n",
    "df\n"
   ]
  },
  {
   "cell_type": "code",
   "execution_count": null,
   "metadata": {
    "id": "yP7UDh8xPbaQ"
   },
   "outputs": [],
   "source": [
    "#Find the best threshold for each category\n",
    "from scipy.stats import gaussian_kde\n",
    "import numpy as np\n",
    "\n",
    "\n",
    "#x = np.arange(0.0000, 1.0000)\n",
    "x = np.arange(1.0, 5.0)\n",
    "\n",
    "t = gaussian_kde(df.Scores[df.Labels == 0].values)\n",
    "#e = gaussian_kde(error_df.re[error_df.labels == 0].values)\n",
    "f = gaussian_kde(df.Scores[df.Labels == 2].values)\n",
    "g = gaussian_kde(df.Scores[df.Labels == 1].values)\n",
    "idxs_L = np.argwhere(np.diff(np.sign(t(x) - g(x)))).flatten()#for light only\n",
    "idxs_D = np.argwhere(np.diff(np.sign(t(x) - f(x)))).flatten()#for dark only\n"
   ]
  },
  {
   "cell_type": "code",
   "execution_count": null,
   "metadata": {
    "colab": {
     "base_uri": "https://localhost:8080/"
    },
    "id": "3_W8431nR4yz",
    "outputId": "03cb67ba-2f54-4838-d91e-aad98f20a230"
   },
   "outputs": [
    {
     "name": "stdout",
     "output_type": "stream",
     "text": [
      "the threshold for the lighter category:  [0 1]\n",
      "the threshold for the darker category:  [0 1]\n"
     ]
    }
   ],
   "source": [
    "print(\"the threshold for the lighter category: \",idxs_L)\n",
    "print(\"the threshold for the darker category: \",idxs_D)"
   ]
  },
  {
   "cell_type": "code",
   "execution_count": null,
   "metadata": {
    "colab": {
     "base_uri": "https://localhost:8080/",
     "height": 424
    },
    "id": "HxmS6zek6kHX",
    "outputId": "984b7563-e67c-4e64-a5b1-8569757c2945"
   },
   "outputs": [
    {
     "data": {
      "text/html": [
       "\n",
       "  <div id=\"df-cee8a610-43a0-4fce-b02b-b0a3f020b61f\" class=\"colab-df-container\">\n",
       "    <div>\n",
       "<style scoped>\n",
       "    .dataframe tbody tr th:only-of-type {\n",
       "        vertical-align: middle;\n",
       "    }\n",
       "\n",
       "    .dataframe tbody tr th {\n",
       "        vertical-align: top;\n",
       "    }\n",
       "\n",
       "    .dataframe thead th {\n",
       "        text-align: right;\n",
       "    }\n",
       "</style>\n",
       "<table border=\"1\" class=\"dataframe\">\n",
       "  <thead>\n",
       "    <tr style=\"text-align: right;\">\n",
       "      <th></th>\n",
       "      <th>Scores</th>\n",
       "      <th>Labels</th>\n",
       "      <th>Output</th>\n",
       "    </tr>\n",
       "  </thead>\n",
       "  <tbody>\n",
       "    <tr>\n",
       "      <th>0</th>\n",
       "      <td>0.999318</td>\n",
       "      <td>2</td>\n",
       "      <td>0</td>\n",
       "    </tr>\n",
       "    <tr>\n",
       "      <th>1</th>\n",
       "      <td>0.819800</td>\n",
       "      <td>1</td>\n",
       "      <td>1</td>\n",
       "    </tr>\n",
       "    <tr>\n",
       "      <th>2</th>\n",
       "      <td>0.987357</td>\n",
       "      <td>1</td>\n",
       "      <td>1</td>\n",
       "    </tr>\n",
       "    <tr>\n",
       "      <th>3</th>\n",
       "      <td>1.000000</td>\n",
       "      <td>0</td>\n",
       "      <td>0</td>\n",
       "    </tr>\n",
       "    <tr>\n",
       "      <th>4</th>\n",
       "      <td>1.000000</td>\n",
       "      <td>0</td>\n",
       "      <td>0</td>\n",
       "    </tr>\n",
       "    <tr>\n",
       "      <th>...</th>\n",
       "      <td>...</td>\n",
       "      <td>...</td>\n",
       "      <td>...</td>\n",
       "    </tr>\n",
       "    <tr>\n",
       "      <th>17207</th>\n",
       "      <td>0.988635</td>\n",
       "      <td>1</td>\n",
       "      <td>1</td>\n",
       "    </tr>\n",
       "    <tr>\n",
       "      <th>17208</th>\n",
       "      <td>0.951698</td>\n",
       "      <td>1</td>\n",
       "      <td>1</td>\n",
       "    </tr>\n",
       "    <tr>\n",
       "      <th>17209</th>\n",
       "      <td>1.000000</td>\n",
       "      <td>1</td>\n",
       "      <td>0</td>\n",
       "    </tr>\n",
       "    <tr>\n",
       "      <th>17210</th>\n",
       "      <td>0.999990</td>\n",
       "      <td>0</td>\n",
       "      <td>0</td>\n",
       "    </tr>\n",
       "    <tr>\n",
       "      <th>17211</th>\n",
       "      <td>0.999823</td>\n",
       "      <td>1</td>\n",
       "      <td>0</td>\n",
       "    </tr>\n",
       "  </tbody>\n",
       "</table>\n",
       "<p>17212 rows × 3 columns</p>\n",
       "</div>\n",
       "    <div class=\"colab-df-buttons\">\n",
       "\n",
       "  <div class=\"colab-df-container\">\n",
       "    <button class=\"colab-df-convert\" onclick=\"convertToInteractive('df-cee8a610-43a0-4fce-b02b-b0a3f020b61f')\"\n",
       "            title=\"Convert this dataframe to an interactive table.\"\n",
       "            style=\"display:none;\">\n",
       "\n",
       "  <svg xmlns=\"http://www.w3.org/2000/svg\" height=\"24px\" viewBox=\"0 -960 960 960\">\n",
       "    <path d=\"M120-120v-720h720v720H120Zm60-500h600v-160H180v160Zm220 220h160v-160H400v160Zm0 220h160v-160H400v160ZM180-400h160v-160H180v160Zm440 0h160v-160H620v160ZM180-180h160v-160H180v160Zm440 0h160v-160H620v160Z\"/>\n",
       "  </svg>\n",
       "    </button>\n",
       "\n",
       "  <style>\n",
       "    .colab-df-container {\n",
       "      display:flex;\n",
       "      gap: 12px;\n",
       "    }\n",
       "\n",
       "    .colab-df-convert {\n",
       "      background-color: #E8F0FE;\n",
       "      border: none;\n",
       "      border-radius: 50%;\n",
       "      cursor: pointer;\n",
       "      display: none;\n",
       "      fill: #1967D2;\n",
       "      height: 32px;\n",
       "      padding: 0 0 0 0;\n",
       "      width: 32px;\n",
       "    }\n",
       "\n",
       "    .colab-df-convert:hover {\n",
       "      background-color: #E2EBFA;\n",
       "      box-shadow: 0px 1px 2px rgba(60, 64, 67, 0.3), 0px 1px 3px 1px rgba(60, 64, 67, 0.15);\n",
       "      fill: #174EA6;\n",
       "    }\n",
       "\n",
       "    .colab-df-buttons div {\n",
       "      margin-bottom: 4px;\n",
       "    }\n",
       "\n",
       "    [theme=dark] .colab-df-convert {\n",
       "      background-color: #3B4455;\n",
       "      fill: #D2E3FC;\n",
       "    }\n",
       "\n",
       "    [theme=dark] .colab-df-convert:hover {\n",
       "      background-color: #434B5C;\n",
       "      box-shadow: 0px 1px 3px 1px rgba(0, 0, 0, 0.15);\n",
       "      filter: drop-shadow(0px 1px 2px rgba(0, 0, 0, 0.3));\n",
       "      fill: #FFFFFF;\n",
       "    }\n",
       "  </style>\n",
       "\n",
       "    <script>\n",
       "      const buttonEl =\n",
       "        document.querySelector('#df-cee8a610-43a0-4fce-b02b-b0a3f020b61f button.colab-df-convert');\n",
       "      buttonEl.style.display =\n",
       "        google.colab.kernel.accessAllowed ? 'block' : 'none';\n",
       "\n",
       "      async function convertToInteractive(key) {\n",
       "        const element = document.querySelector('#df-cee8a610-43a0-4fce-b02b-b0a3f020b61f');\n",
       "        const dataTable =\n",
       "          await google.colab.kernel.invokeFunction('convertToInteractive',\n",
       "                                                    [key], {});\n",
       "        if (!dataTable) return;\n",
       "\n",
       "        const docLinkHtml = 'Like what you see? Visit the ' +\n",
       "          '<a target=\"_blank\" href=https://colab.research.google.com/notebooks/data_table.ipynb>data table notebook</a>'\n",
       "          + ' to learn more about interactive tables.';\n",
       "        element.innerHTML = '';\n",
       "        dataTable['output_type'] = 'display_data';\n",
       "        await google.colab.output.renderOutput(dataTable, element);\n",
       "        const docLink = document.createElement('div');\n",
       "        docLink.innerHTML = docLinkHtml;\n",
       "        element.appendChild(docLink);\n",
       "      }\n",
       "    </script>\n",
       "  </div>\n",
       "\n",
       "\n",
       "<div id=\"df-ff30cd1f-9fb1-4cb1-84d4-35c9b6954705\">\n",
       "  <button class=\"colab-df-quickchart\" onclick=\"quickchart('df-ff30cd1f-9fb1-4cb1-84d4-35c9b6954705')\"\n",
       "            title=\"Suggest charts.\"\n",
       "            style=\"display:none;\">\n",
       "\n",
       "<svg xmlns=\"http://www.w3.org/2000/svg\" height=\"24px\"viewBox=\"0 0 24 24\"\n",
       "     width=\"24px\">\n",
       "    <g>\n",
       "        <path d=\"M19 3H5c-1.1 0-2 .9-2 2v14c0 1.1.9 2 2 2h14c1.1 0 2-.9 2-2V5c0-1.1-.9-2-2-2zM9 17H7v-7h2v7zm4 0h-2V7h2v10zm4 0h-2v-4h2v4z\"/>\n",
       "    </g>\n",
       "</svg>\n",
       "  </button>\n",
       "\n",
       "<style>\n",
       "  .colab-df-quickchart {\n",
       "      --bg-color: #E8F0FE;\n",
       "      --fill-color: #1967D2;\n",
       "      --hover-bg-color: #E2EBFA;\n",
       "      --hover-fill-color: #174EA6;\n",
       "      --disabled-fill-color: #AAA;\n",
       "      --disabled-bg-color: #DDD;\n",
       "  }\n",
       "\n",
       "  [theme=dark] .colab-df-quickchart {\n",
       "      --bg-color: #3B4455;\n",
       "      --fill-color: #D2E3FC;\n",
       "      --hover-bg-color: #434B5C;\n",
       "      --hover-fill-color: #FFFFFF;\n",
       "      --disabled-bg-color: #3B4455;\n",
       "      --disabled-fill-color: #666;\n",
       "  }\n",
       "\n",
       "  .colab-df-quickchart {\n",
       "    background-color: var(--bg-color);\n",
       "    border: none;\n",
       "    border-radius: 50%;\n",
       "    cursor: pointer;\n",
       "    display: none;\n",
       "    fill: var(--fill-color);\n",
       "    height: 32px;\n",
       "    padding: 0;\n",
       "    width: 32px;\n",
       "  }\n",
       "\n",
       "  .colab-df-quickchart:hover {\n",
       "    background-color: var(--hover-bg-color);\n",
       "    box-shadow: 0 1px 2px rgba(60, 64, 67, 0.3), 0 1px 3px 1px rgba(60, 64, 67, 0.15);\n",
       "    fill: var(--button-hover-fill-color);\n",
       "  }\n",
       "\n",
       "  .colab-df-quickchart-complete:disabled,\n",
       "  .colab-df-quickchart-complete:disabled:hover {\n",
       "    background-color: var(--disabled-bg-color);\n",
       "    fill: var(--disabled-fill-color);\n",
       "    box-shadow: none;\n",
       "  }\n",
       "\n",
       "  .colab-df-spinner {\n",
       "    border: 2px solid var(--fill-color);\n",
       "    border-color: transparent;\n",
       "    border-bottom-color: var(--fill-color);\n",
       "    animation:\n",
       "      spin 1s steps(1) infinite;\n",
       "  }\n",
       "\n",
       "  @keyframes spin {\n",
       "    0% {\n",
       "      border-color: transparent;\n",
       "      border-bottom-color: var(--fill-color);\n",
       "      border-left-color: var(--fill-color);\n",
       "    }\n",
       "    20% {\n",
       "      border-color: transparent;\n",
       "      border-left-color: var(--fill-color);\n",
       "      border-top-color: var(--fill-color);\n",
       "    }\n",
       "    30% {\n",
       "      border-color: transparent;\n",
       "      border-left-color: var(--fill-color);\n",
       "      border-top-color: var(--fill-color);\n",
       "      border-right-color: var(--fill-color);\n",
       "    }\n",
       "    40% {\n",
       "      border-color: transparent;\n",
       "      border-right-color: var(--fill-color);\n",
       "      border-top-color: var(--fill-color);\n",
       "    }\n",
       "    60% {\n",
       "      border-color: transparent;\n",
       "      border-right-color: var(--fill-color);\n",
       "    }\n",
       "    80% {\n",
       "      border-color: transparent;\n",
       "      border-right-color: var(--fill-color);\n",
       "      border-bottom-color: var(--fill-color);\n",
       "    }\n",
       "    90% {\n",
       "      border-color: transparent;\n",
       "      border-bottom-color: var(--fill-color);\n",
       "    }\n",
       "  }\n",
       "</style>\n",
       "\n",
       "  <script>\n",
       "    async function quickchart(key) {\n",
       "      const quickchartButtonEl =\n",
       "        document.querySelector('#' + key + ' button');\n",
       "      quickchartButtonEl.disabled = true;  // To prevent multiple clicks.\n",
       "      quickchartButtonEl.classList.add('colab-df-spinner');\n",
       "      try {\n",
       "        const charts = await google.colab.kernel.invokeFunction(\n",
       "            'suggestCharts', [key], {});\n",
       "      } catch (error) {\n",
       "        console.error('Error during call to suggestCharts:', error);\n",
       "      }\n",
       "      quickchartButtonEl.classList.remove('colab-df-spinner');\n",
       "      quickchartButtonEl.classList.add('colab-df-quickchart-complete');\n",
       "    }\n",
       "    (() => {\n",
       "      let quickchartButtonEl =\n",
       "        document.querySelector('#df-ff30cd1f-9fb1-4cb1-84d4-35c9b6954705 button');\n",
       "      quickchartButtonEl.style.display =\n",
       "        google.colab.kernel.accessAllowed ? 'block' : 'none';\n",
       "    })();\n",
       "  </script>\n",
       "</div>\n",
       "    </div>\n",
       "  </div>\n"
      ],
      "text/plain": [
       "         Scores  Labels  Output\n",
       "0      0.999318       2       0\n",
       "1      0.819800       1       1\n",
       "2      0.987357       1       1\n",
       "3      1.000000       0       0\n",
       "4      1.000000       0       0\n",
       "...         ...     ...     ...\n",
       "17207  0.988635       1       1\n",
       "17208  0.951698       1       1\n",
       "17209  1.000000       1       0\n",
       "17210  0.999990       0       0\n",
       "17211  0.999823       1       0\n",
       "\n",
       "[17212 rows x 3 columns]"
      ]
     },
     "execution_count": 39,
     "metadata": {},
     "output_type": "execute_result"
    }
   ],
   "source": [
    "# Define the optimal threshold\n",
    "#optimal_threshold = 0.9962658286094666\n",
    "optimal_theshold = 1\n",
    "# Create the \"Output\" column based on the condition\n",
    "df['Output'] = (df['Scores'] < optimal_threshold).astype(int)\n",
    "\n",
    "# Display the resulting DataFrame\n",
    "df\n"
   ]
  },
  {
   "cell_type": "code",
   "execution_count": null,
   "metadata": {
    "colab": {
     "base_uri": "https://localhost:8080/"
    },
    "id": "fKGTh8PcPotU",
    "outputId": "6c866bd1-a579-484f-facc-3fcfe1c6324c"
   },
   "outputs": [
    {
     "name": "stdout",
     "output_type": "stream",
     "text": [
      "Count of softmax scores of lighter samples bellow threshold: 8231\n",
      "Count of softmax scores of darker samples bellow threshold: 919\n",
      "Count of softmax scores of inlier above threshold: 4552\n"
     ]
    }
   ],
   "source": [
    "#plotting and counting all the scores\n",
    "# Filter rows based on conditions\n",
    "base_Lighter = df[(df['Labels'] == 1) & (df['Output'] == 1) ]['Scores']\n",
    "base_Darker = df[(df['Labels'] == 2)& (df['Output'] == 1) ]['Scores']\n",
    "base_Inlier = df[(df['Labels'] == 0) &(df['Output'] == 0) ]['Scores']\n",
    "\n",
    "# Print counts\n",
    "print(\"Count of softmax scores of lighter samples bellow threshold:\", len(base_Lighter))\n",
    "print(\"Count of softmax scores of darker samples bellow threshold:\", len(base_Darker))\n",
    "print(\"Count of softmax scores of inlier above threshold:\", len(base_Inlier))"
   ]
  },
  {
   "cell_type": "code",
   "execution_count": null,
   "metadata": {
    "colab": {
     "base_uri": "https://localhost:8080/"
    },
    "id": "Ni1R5Y5MUcR5",
    "outputId": "f35cb57a-0d8d-49b2-f7e9-4c088ece231c"
   },
   "outputs": [
    {
     "name": "stdout",
     "output_type": "stream",
     "text": [
      "Count of softmax scores of lighter samples above threshold: 2673\n",
      "Count of softmax scores of darker samples above threshold: 399\n",
      "Count of softmax scores of inlier bellow threshold: 438\n"
     ]
    }
   ],
   "source": [
    "#plotting and counting all the re\n",
    "# Filter rows based on conditions\n",
    "base_Lighter = df[(df['Labels'] == 1) & (df['Output'] == 0) ]['Scores']\n",
    "base_Darker = df[(df['Labels'] == 2)& (df['Output'] == 0) ]['Scores']\n",
    "base_Inlier = df[(df['Labels'] == 0) &(df['Output'] == 1) ]['Scores']\n",
    "\n",
    "# Print counts\n",
    "print(\"Count of softmax scores of lighter samples above threshold:\", len(base_Lighter))\n",
    "print(\"Count of softmax scores of darker samples above threshold:\", len(base_Darker))\n",
    "print(\"Count of softmax scores of inlier bellow threshold:\", len(base_Inlier))"
   ]
  },
  {
   "cell_type": "code",
   "execution_count": null,
   "metadata": {
    "colab": {
     "base_uri": "https://localhost:8080/"
    },
    "id": "Tj0jVzISVMLf",
    "outputId": "6aa07a54-649d-4fc2-f304-de13fe31d176"
   },
   "outputs": [
    {
     "name": "stdout",
     "output_type": "stream",
     "text": [
      "Count of softmax scores of lighter samples : 10904\n",
      "Count of softmax scores of darker samples: 1318\n",
      "Count of softmax scores of inlier : 4990\n"
     ]
    }
   ],
   "source": [
    "#plotting and counting all the re\n",
    "# Filter rows based on conditions\n",
    "base_Lighter = df[(df['Labels'] == 1)  ]['Scores']\n",
    "base_Darker = df[(df['Labels'] == 2) ]['Scores']\n",
    "base_Inlier = df[(df['Labels'] == 0) ]['Scores']\n",
    "\n",
    "# Print counts\n",
    "print(\"Count of softmax scores of lighter samples :\", len(base_Lighter))\n",
    "print(\"Count of softmax scores of darker samples:\", len(base_Darker))\n",
    "print(\"Count of softmax scores of inlier :\", len(base_Inlier))"
   ]
  },
  {
   "cell_type": "code",
   "execution_count": null,
   "metadata": {
    "colab": {
     "base_uri": "https://localhost:8080/",
     "height": 564
    },
    "id": "3Aziet7nQm-e",
    "outputId": "793498f4-cadf-4a6b-ba70-ba7016e6e8f2"
   },
   "outputs": [
    {
     "data": {
      "image/png": "[encoded data removed]",
      "text/plain": [
       "<Figure size 1000x600 with 1 Axes>"
      ]
     },
     "metadata": {},
     "output_type": "display_data"
    }
   ],
   "source": [
    "import matplotlib.pyplot as plt\n",
    "\n",
    "\n",
    "\n",
    "\n",
    "\n",
    "# Plot histograms\n",
    "plt.figure(figsize=(10, 6))\n",
    "plt.hist(abs(base_Lighter), bins=20, alpha=0.5, color=\"turquoise\", label=\"Outliers (FST I-IV Light)\")\n",
    "plt.hist(abs(base_Darker), bins=20, alpha=0.5, color=\"darkorange\", label=\"Outliers (FST V-VI Dark)\")\n",
    "\n",
    "# Add titles and labels\n",
    "#plt.title(\"NN Softmax Scores Histograms for Different Categories\")\n",
    "plt.xlabel(\"softmax score\")\n",
    "plt.ylabel(\"Count\")\n",
    "plt.legend()\n",
    "plt.title(\"NN Softmax Scores Histograms for the Fitzpartrick 17k dataset\")\n",
    "plt.show()"
   ]
  },
  {
   "cell_type": "code",
   "execution_count": null,
   "metadata": {
    "colab": {
     "base_uri": "https://localhost:8080/",
     "height": 511
    },
    "id": "_5l--oifhg53",
    "outputId": "52957f22-7ee5-417a-fede-e722a805036f"
   },
   "outputs": [
    {
     "data": {
      "image/png": "[encoded data removed]",
      "text/plain": [
       "<Figure size 1000x600 with 1 Axes>"
      ]
     },
     "metadata": {},
     "output_type": "display_data"
    }
   ],
   "source": [
    "import matplotlib.pyplot as plt\n",
    "\n",
    "\n",
    "\n",
    "\n",
    "\n",
    "# Plot histograms\n",
    "plt.figure(figsize=(10, 6))\n",
    "plt.hist(abs(base_Inlier), bins=20, alpha=0.5, color=\"blue\", label=\"Inliers (ISIC2019)\")\n",
    "#plt.hist(abs(base_Darker), bins=20, alpha=0.5, color=\"darkorange\", label=\"Outliers (FST V-VI Dark)\")\n",
    "\n",
    "# Add titles and labels\n",
    "#plt.title(\"NN Softmax Scores Histograms for Different Categories\")\n",
    "plt.xlabel(\"softmax score\")\n",
    "plt.ylabel(\"Count\")\n",
    "plt.legend()\n",
    "plt.title(\"NN Softmax Scores Histograms for the ISIC 2019 dataset\")\n",
    "plt.show()"
   ]
  },
  {
   "cell_type": "markdown",
   "metadata": {
    "id": "_qOO_7j5Rowz"
   },
   "source": [
    "## ODIN"
   ]
  },
  {
   "cell_type": "markdown",
   "metadata": {
    "id": "OZxaJtCgnTd2"
   },
   "source": [
    "### Histograms"
   ]
  },
  {
   "cell_type": "code",
   "execution_count": null,
   "metadata": {
    "id": "Rak2gSHCRtXP"
   },
   "outputs": [],
   "source": [
    "import pandas as pd\n",
    "\n",
    "\n",
    "in_dist_files_L = ['/content/densenet121_ODIN_200_0.0002_In_Lighter_Only.txt']\n",
    "out_dist_files_L = ['/content/densenet121_ODIN_200_0.0002_Out_Lighter_Only.txt']\n",
    "in_dist_files_D = ['/content/densenet121_ODIN_200_0.0002_In_Darker.txt']\n",
    "out_dist_files_D = ['/content/densenet121_ODIN_200_0.0002_Out_Darker.txt']\n",
    "\n",
    "\n",
    "in_dist_scores_L = pd.Series([float(score) for score in open(in_dist_files_L[0]).readlines()])\n",
    "in_dist_scores_D = pd.Series([float(score) for score in open(in_dist_files_D[0]).readlines()])\n",
    "\n",
    "out_dist_scores_L = pd.Series([float(score) for score in open(out_dist_files_L[0]).readlines()])\n",
    "out_dist_scores_D = pd.Series([float(score) for score in open(out_dist_files_D[0]).readlines()])\n",
    "\n",
    "# Create labels for each set of scores\n",
    "in_dist_labels_L = pd.Series([0] * len(in_dist_scores_L))\n",
    "in_dist_labels_D = pd.Series([1] * len(in_dist_scores_D))\n",
    "\n",
    "out_dist_labels_L = pd.Series([2] * len(out_dist_scores_L))\n",
    "out_dist_labels_D = pd.Series([3] * len(out_dist_scores_D))\n",
    "\n",
    "\n",
    "\n",
    "\n",
    "# Concatenate scores and labels\n",
    "in_dist_L_df = pd.concat([in_dist_scores_L, in_dist_labels_L], axis=1)\n",
    "in_dist_L_df.columns = ['Scores', 'Labels']\n",
    "\n",
    "in_dist_D_df = pd.concat([in_dist_scores_D, in_dist_labels_D], axis=1)\n",
    "in_dist_D_df.columns = ['Scores', 'Labels']\n",
    "\n",
    "out_dist_L_df = pd.concat([out_dist_scores_L, out_dist_labels_L], axis=1)\n",
    "out_dist_L_df.columns = ['Scores', 'Labels']\n",
    "\n",
    "out_dist_D_df = pd.concat([out_dist_scores_D, out_dist_labels_D], axis=1)\n",
    "out_dist_D_df.columns = ['Scores', 'Labels']\n",
    "\n",
    "\n",
    "\n",
    "\n",
    "df = pd.DataFrame({\n",
    "    'Scores': pd.concat([in_dist_scores_L,in_dist_scores_D, out_dist_scores_L, out_dist_scores_D]),\n",
    "    'Labels': pd.concat([in_dist_labels_L,in_dist_scores_D,out_dist_labels_L, out_dist_labels_D])\n",
    "})"
   ]
  },
  {
   "cell_type": "code",
   "execution_count": null,
   "metadata": {
    "id": "JFeI7PFbci8V"
   },
   "outputs": [],
   "source": [
    "out_dist_D_df[\"Labels\"] = 3  # Assign label 2 to dark\n",
    "out_dist_L_df[\"Labels\"] = 2  # Assign label 1 to light\n",
    "in_dist_L_df[\"Labels\"] = 0  # Assign label 0 to train\n",
    "in_dist_D_df[\"Labels\"] = 1 # Assign label 0 to train\n",
    "\n",
    "# Concatenate the DataFrames into one\n",
    "df = pd.concat([in_dist_L_df,in_dist_D_df, out_dist_L_df, out_dist_D_df], ignore_index=True)\n",
    "df= df.sample(frac=1, random_state=42).reset_index(drop=True)"
   ]
  },
  {
   "cell_type": "code",
   "execution_count": null,
   "metadata": {
    "colab": {
     "base_uri": "https://localhost:8080/",
     "height": 424
    },
    "id": "s7EveUmWSIq9",
    "outputId": "dc359b92-3c9f-4825-95c3-bf0ee5e8919b"
   },
   "outputs": [
    {
     "data": {
      "text/html": [
       "\n",
       "  <div id=\"df-0d7326b7-6c15-4519-9f78-a67a2ad2723b\" class=\"colab-df-container\">\n",
       "    <div>\n",
       "<style scoped>\n",
       "    .dataframe tbody tr th:only-of-type {\n",
       "        vertical-align: middle;\n",
       "    }\n",
       "\n",
       "    .dataframe tbody tr th {\n",
       "        vertical-align: top;\n",
       "    }\n",
       "\n",
       "    .dataframe thead th {\n",
       "        text-align: right;\n",
       "    }\n",
       "</style>\n",
       "<table border=\"1\" class=\"dataframe\">\n",
       "  <thead>\n",
       "    <tr style=\"text-align: right;\">\n",
       "      <th></th>\n",
       "      <th>Scores</th>\n",
       "      <th>Labels</th>\n",
       "    </tr>\n",
       "  </thead>\n",
       "  <tbody>\n",
       "    <tr>\n",
       "      <th>0</th>\n",
       "      <td>0.176261</td>\n",
       "      <td>2</td>\n",
       "    </tr>\n",
       "    <tr>\n",
       "      <th>1</th>\n",
       "      <td>0.178890</td>\n",
       "      <td>2</td>\n",
       "    </tr>\n",
       "    <tr>\n",
       "      <th>2</th>\n",
       "      <td>0.175219</td>\n",
       "      <td>2</td>\n",
       "    </tr>\n",
       "    <tr>\n",
       "      <th>3</th>\n",
       "      <td>0.180510</td>\n",
       "      <td>2</td>\n",
       "    </tr>\n",
       "    <tr>\n",
       "      <th>4</th>\n",
       "      <td>0.176538</td>\n",
       "      <td>1</td>\n",
       "    </tr>\n",
       "    <tr>\n",
       "      <th>...</th>\n",
       "      <td>...</td>\n",
       "      <td>...</td>\n",
       "    </tr>\n",
       "    <tr>\n",
       "      <th>16544</th>\n",
       "      <td>0.177684</td>\n",
       "      <td>2</td>\n",
       "    </tr>\n",
       "    <tr>\n",
       "      <th>16545</th>\n",
       "      <td>0.174562</td>\n",
       "      <td>2</td>\n",
       "    </tr>\n",
       "    <tr>\n",
       "      <th>16546</th>\n",
       "      <td>0.198327</td>\n",
       "      <td>2</td>\n",
       "    </tr>\n",
       "    <tr>\n",
       "      <th>16547</th>\n",
       "      <td>0.177203</td>\n",
       "      <td>0</td>\n",
       "    </tr>\n",
       "    <tr>\n",
       "      <th>16548</th>\n",
       "      <td>0.176370</td>\n",
       "      <td>3</td>\n",
       "    </tr>\n",
       "  </tbody>\n",
       "</table>\n",
       "<p>16549 rows × 2 columns</p>\n",
       "</div>\n",
       "    <div class=\"colab-df-buttons\">\n",
       "\n",
       "  <div class=\"colab-df-container\">\n",
       "    <button class=\"colab-df-convert\" onclick=\"convertToInteractive('df-0d7326b7-6c15-4519-9f78-a67a2ad2723b')\"\n",
       "            title=\"Convert this dataframe to an interactive table.\"\n",
       "            style=\"display:none;\">\n",
       "\n",
       "  <svg xmlns=\"http://www.w3.org/2000/svg\" height=\"24px\" viewBox=\"0 -960 960 960\">\n",
       "    <path d=\"M120-120v-720h720v720H120Zm60-500h600v-160H180v160Zm220 220h160v-160H400v160Zm0 220h160v-160H400v160ZM180-400h160v-160H180v160Zm440 0h160v-160H620v160ZM180-180h160v-160H180v160Zm440 0h160v-160H620v160Z\"/>\n",
       "  </svg>\n",
       "    </button>\n",
       "\n",
       "  <style>\n",
       "    .colab-df-container {\n",
       "      display:flex;\n",
       "      gap: 12px;\n",
       "    }\n",
       "\n",
       "    .colab-df-convert {\n",
       "      background-color: #E8F0FE;\n",
       "      border: none;\n",
       "      border-radius: 50%;\n",
       "      cursor: pointer;\n",
       "      display: none;\n",
       "      fill: #1967D2;\n",
       "      height: 32px;\n",
       "      padding: 0 0 0 0;\n",
       "      width: 32px;\n",
       "    }\n",
       "\n",
       "    .colab-df-convert:hover {\n",
       "      background-color: #E2EBFA;\n",
       "      box-shadow: 0px 1px 2px rgba(60, 64, 67, 0.3), 0px 1px 3px 1px rgba(60, 64, 67, 0.15);\n",
       "      fill: #174EA6;\n",
       "    }\n",
       "\n",
       "    .colab-df-buttons div {\n",
       "      margin-bottom: 4px;\n",
       "    }\n",
       "\n",
       "    [theme=dark] .colab-df-convert {\n",
       "      background-color: #3B4455;\n",
       "      fill: #D2E3FC;\n",
       "    }\n",
       "\n",
       "    [theme=dark] .colab-df-convert:hover {\n",
       "      background-color: #434B5C;\n",
       "      box-shadow: 0px 1px 3px 1px rgba(0, 0, 0, 0.15);\n",
       "      filter: drop-shadow(0px 1px 2px rgba(0, 0, 0, 0.3));\n",
       "      fill: #FFFFFF;\n",
       "    }\n",
       "  </style>\n",
       "\n",
       "    <script>\n",
       "      const buttonEl =\n",
       "        document.querySelector('#df-0d7326b7-6c15-4519-9f78-a67a2ad2723b button.colab-df-convert');\n",
       "      buttonEl.style.display =\n",
       "        google.colab.kernel.accessAllowed ? 'block' : 'none';\n",
       "\n",
       "      async function convertToInteractive(key) {\n",
       "        const element = document.querySelector('#df-0d7326b7-6c15-4519-9f78-a67a2ad2723b');\n",
       "        const dataTable =\n",
       "          await google.colab.kernel.invokeFunction('convertToInteractive',\n",
       "                                                    [key], {});\n",
       "        if (!dataTable) return;\n",
       "\n",
       "        const docLinkHtml = 'Like what you see? Visit the ' +\n",
       "          '<a target=\"_blank\" href=https://colab.research.google.com/notebooks/data_table.ipynb>data table notebook</a>'\n",
       "          + ' to learn more about interactive tables.';\n",
       "        element.innerHTML = '';\n",
       "        dataTable['output_type'] = 'display_data';\n",
       "        await google.colab.output.renderOutput(dataTable, element);\n",
       "        const docLink = document.createElement('div');\n",
       "        docLink.innerHTML = docLinkHtml;\n",
       "        element.appendChild(docLink);\n",
       "      }\n",
       "    </script>\n",
       "  </div>\n",
       "\n",
       "\n",
       "<div id=\"df-405a1424-2139-4809-9be0-25666fa8b8eb\">\n",
       "  <button class=\"colab-df-quickchart\" onclick=\"quickchart('df-405a1424-2139-4809-9be0-25666fa8b8eb')\"\n",
       "            title=\"Suggest charts.\"\n",
       "            style=\"display:none;\">\n",
       "\n",
       "<svg xmlns=\"http://www.w3.org/2000/svg\" height=\"24px\"viewBox=\"0 0 24 24\"\n",
       "     width=\"24px\">\n",
       "    <g>\n",
       "        <path d=\"M19 3H5c-1.1 0-2 .9-2 2v14c0 1.1.9 2 2 2h14c1.1 0 2-.9 2-2V5c0-1.1-.9-2-2-2zM9 17H7v-7h2v7zm4 0h-2V7h2v10zm4 0h-2v-4h2v4z\"/>\n",
       "    </g>\n",
       "</svg>\n",
       "  </button>\n",
       "\n",
       "<style>\n",
       "  .colab-df-quickchart {\n",
       "      --bg-color: #E8F0FE;\n",
       "      --fill-color: #1967D2;\n",
       "      --hover-bg-color: #E2EBFA;\n",
       "      --hover-fill-color: #174EA6;\n",
       "      --disabled-fill-color: #AAA;\n",
       "      --disabled-bg-color: #DDD;\n",
       "  }\n",
       "\n",
       "  [theme=dark] .colab-df-quickchart {\n",
       "      --bg-color: #3B4455;\n",
       "      --fill-color: #D2E3FC;\n",
       "      --hover-bg-color: #434B5C;\n",
       "      --hover-fill-color: #FFFFFF;\n",
       "      --disabled-bg-color: #3B4455;\n",
       "      --disabled-fill-color: #666;\n",
       "  }\n",
       "\n",
       "  .colab-df-quickchart {\n",
       "    background-color: var(--bg-color);\n",
       "    border: none;\n",
       "    border-radius: 50%;\n",
       "    cursor: pointer;\n",
       "    display: none;\n",
       "    fill: var(--fill-color);\n",
       "    height: 32px;\n",
       "    padding: 0;\n",
       "    width: 32px;\n",
       "  }\n",
       "\n",
       "  .colab-df-quickchart:hover {\n",
       "    background-color: var(--hover-bg-color);\n",
       "    box-shadow: 0 1px 2px rgba(60, 64, 67, 0.3), 0 1px 3px 1px rgba(60, 64, 67, 0.15);\n",
       "    fill: var(--button-hover-fill-color);\n",
       "  }\n",
       "\n",
       "  .colab-df-quickchart-complete:disabled,\n",
       "  .colab-df-quickchart-complete:disabled:hover {\n",
       "    background-color: var(--disabled-bg-color);\n",
       "    fill: var(--disabled-fill-color);\n",
       "    box-shadow: none;\n",
       "  }\n",
       "\n",
       "  .colab-df-spinner {\n",
       "    border: 2px solid var(--fill-color);\n",
       "    border-color: transparent;\n",
       "    border-bottom-color: var(--fill-color);\n",
       "    animation:\n",
       "      spin 1s steps(1) infinite;\n",
       "  }\n",
       "\n",
       "  @keyframes spin {\n",
       "    0% {\n",
       "      border-color: transparent;\n",
       "      border-bottom-color: var(--fill-color);\n",
       "      border-left-color: var(--fill-color);\n",
       "    }\n",
       "    20% {\n",
       "      border-color: transparent;\n",
       "      border-left-color: var(--fill-color);\n",
       "      border-top-color: var(--fill-color);\n",
       "    }\n",
       "    30% {\n",
       "      border-color: transparent;\n",
       "      border-left-color: var(--fill-color);\n",
       "      border-top-color: var(--fill-color);\n",
       "      border-right-color: var(--fill-color);\n",
       "    }\n",
       "    40% {\n",
       "      border-color: transparent;\n",
       "      border-right-color: var(--fill-color);\n",
       "      border-top-color: var(--fill-color);\n",
       "    }\n",
       "    60% {\n",
       "      border-color: transparent;\n",
       "      border-right-color: var(--fill-color);\n",
       "    }\n",
       "    80% {\n",
       "      border-color: transparent;\n",
       "      border-right-color: var(--fill-color);\n",
       "      border-bottom-color: var(--fill-color);\n",
       "    }\n",
       "    90% {\n",
       "      border-color: transparent;\n",
       "      border-bottom-color: var(--fill-color);\n",
       "    }\n",
       "  }\n",
       "</style>\n",
       "\n",
       "  <script>\n",
       "    async function quickchart(key) {\n",
       "      const quickchartButtonEl =\n",
       "        document.querySelector('#' + key + ' button');\n",
       "      quickchartButtonEl.disabled = true;  // To prevent multiple clicks.\n",
       "      quickchartButtonEl.classList.add('colab-df-spinner');\n",
       "      try {\n",
       "        const charts = await google.colab.kernel.invokeFunction(\n",
       "            'suggestCharts', [key], {});\n",
       "      } catch (error) {\n",
       "        console.error('Error during call to suggestCharts:', error);\n",
       "      }\n",
       "      quickchartButtonEl.classList.remove('colab-df-spinner');\n",
       "      quickchartButtonEl.classList.add('colab-df-quickchart-complete');\n",
       "    }\n",
       "    (() => {\n",
       "      let quickchartButtonEl =\n",
       "        document.querySelector('#df-405a1424-2139-4809-9be0-25666fa8b8eb button');\n",
       "      quickchartButtonEl.style.display =\n",
       "        google.colab.kernel.accessAllowed ? 'block' : 'none';\n",
       "    })();\n",
       "  </script>\n",
       "</div>\n",
       "    </div>\n",
       "  </div>\n"
      ],
      "text/plain": [
       "         Scores  Labels\n",
       "0      0.176261       2\n",
       "1      0.178890       2\n",
       "2      0.175219       2\n",
       "3      0.180510       2\n",
       "4      0.176538       1\n",
       "...         ...     ...\n",
       "16544  0.177684       2\n",
       "16545  0.174562       2\n",
       "16546  0.198327       2\n",
       "16547  0.177203       0\n",
       "16548  0.176370       3\n",
       "\n",
       "[16549 rows x 2 columns]"
      ]
     },
     "execution_count": 11,
     "metadata": {},
     "output_type": "execute_result"
    }
   ],
   "source": [
    "df"
   ]
  },
  {
   "cell_type": "code",
   "execution_count": null,
   "metadata": {
    "colab": {
     "base_uri": "https://localhost:8080/",
     "height": 424
    },
    "id": "c78g5XFZSiTC",
    "outputId": "7ffbfd02-4176-4966-f726-c2097a068627"
   },
   "outputs": [
    {
     "data": {
      "text/html": [
       "\n",
       "  <div id=\"df-15a7387b-16d1-4b08-b787-790edfbdd084\" class=\"colab-df-container\">\n",
       "    <div>\n",
       "<style scoped>\n",
       "    .dataframe tbody tr th:only-of-type {\n",
       "        vertical-align: middle;\n",
       "    }\n",
       "\n",
       "    .dataframe tbody tr th {\n",
       "        vertical-align: top;\n",
       "    }\n",
       "\n",
       "    .dataframe thead th {\n",
       "        text-align: right;\n",
       "    }\n",
       "</style>\n",
       "<table border=\"1\" class=\"dataframe\">\n",
       "  <thead>\n",
       "    <tr style=\"text-align: right;\">\n",
       "      <th></th>\n",
       "      <th>Scores</th>\n",
       "      <th>Labels</th>\n",
       "      <th>Output</th>\n",
       "    </tr>\n",
       "  </thead>\n",
       "  <tbody>\n",
       "    <tr>\n",
       "      <th>0</th>\n",
       "      <td>0.176261</td>\n",
       "      <td>2</td>\n",
       "      <td>1</td>\n",
       "    </tr>\n",
       "    <tr>\n",
       "      <th>1</th>\n",
       "      <td>0.178890</td>\n",
       "      <td>2</td>\n",
       "      <td>1</td>\n",
       "    </tr>\n",
       "    <tr>\n",
       "      <th>2</th>\n",
       "      <td>0.175219</td>\n",
       "      <td>2</td>\n",
       "      <td>1</td>\n",
       "    </tr>\n",
       "    <tr>\n",
       "      <th>3</th>\n",
       "      <td>0.180510</td>\n",
       "      <td>2</td>\n",
       "      <td>0</td>\n",
       "    </tr>\n",
       "    <tr>\n",
       "      <th>4</th>\n",
       "      <td>0.176538</td>\n",
       "      <td>1</td>\n",
       "      <td>1</td>\n",
       "    </tr>\n",
       "    <tr>\n",
       "      <th>...</th>\n",
       "      <td>...</td>\n",
       "      <td>...</td>\n",
       "      <td>...</td>\n",
       "    </tr>\n",
       "    <tr>\n",
       "      <th>16544</th>\n",
       "      <td>0.177684</td>\n",
       "      <td>2</td>\n",
       "      <td>1</td>\n",
       "    </tr>\n",
       "    <tr>\n",
       "      <th>16545</th>\n",
       "      <td>0.174562</td>\n",
       "      <td>2</td>\n",
       "      <td>1</td>\n",
       "    </tr>\n",
       "    <tr>\n",
       "      <th>16546</th>\n",
       "      <td>0.198327</td>\n",
       "      <td>2</td>\n",
       "      <td>0</td>\n",
       "    </tr>\n",
       "    <tr>\n",
       "      <th>16547</th>\n",
       "      <td>0.177203</td>\n",
       "      <td>0</td>\n",
       "      <td>1</td>\n",
       "    </tr>\n",
       "    <tr>\n",
       "      <th>16548</th>\n",
       "      <td>0.176370</td>\n",
       "      <td>3</td>\n",
       "      <td>1</td>\n",
       "    </tr>\n",
       "  </tbody>\n",
       "</table>\n",
       "<p>16549 rows × 3 columns</p>\n",
       "</div>\n",
       "    <div class=\"colab-df-buttons\">\n",
       "\n",
       "  <div class=\"colab-df-container\">\n",
       "    <button class=\"colab-df-convert\" onclick=\"convertToInteractive('df-15a7387b-16d1-4b08-b787-790edfbdd084')\"\n",
       "            title=\"Convert this dataframe to an interactive table.\"\n",
       "            style=\"display:none;\">\n",
       "\n",
       "  <svg xmlns=\"http://www.w3.org/2000/svg\" height=\"24px\" viewBox=\"0 -960 960 960\">\n",
       "    <path d=\"M120-120v-720h720v720H120Zm60-500h600v-160H180v160Zm220 220h160v-160H400v160Zm0 220h160v-160H400v160ZM180-400h160v-160H180v160Zm440 0h160v-160H620v160ZM180-180h160v-160H180v160Zm440 0h160v-160H620v160Z\"/>\n",
       "  </svg>\n",
       "    </button>\n",
       "\n",
       "  <style>\n",
       "    .colab-df-container {\n",
       "      display:flex;\n",
       "      gap: 12px;\n",
       "    }\n",
       "\n",
       "    .colab-df-convert {\n",
       "      background-color: #E8F0FE;\n",
       "      border: none;\n",
       "      border-radius: 50%;\n",
       "      cursor: pointer;\n",
       "      display: none;\n",
       "      fill: #1967D2;\n",
       "      height: 32px;\n",
       "      padding: 0 0 0 0;\n",
       "      width: 32px;\n",
       "    }\n",
       "\n",
       "    .colab-df-convert:hover {\n",
       "      background-color: #E2EBFA;\n",
       "      box-shadow: 0px 1px 2px rgba(60, 64, 67, 0.3), 0px 1px 3px 1px rgba(60, 64, 67, 0.15);\n",
       "      fill: #174EA6;\n",
       "    }\n",
       "\n",
       "    .colab-df-buttons div {\n",
       "      margin-bottom: 4px;\n",
       "    }\n",
       "\n",
       "    [theme=dark] .colab-df-convert {\n",
       "      background-color: #3B4455;\n",
       "      fill: #D2E3FC;\n",
       "    }\n",
       "\n",
       "    [theme=dark] .colab-df-convert:hover {\n",
       "      background-color: #434B5C;\n",
       "      box-shadow: 0px 1px 3px 1px rgba(0, 0, 0, 0.15);\n",
       "      filter: drop-shadow(0px 1px 2px rgba(0, 0, 0, 0.3));\n",
       "      fill: #FFFFFF;\n",
       "    }\n",
       "  </style>\n",
       "\n",
       "    <script>\n",
       "      const buttonEl =\n",
       "        document.querySelector('#df-15a7387b-16d1-4b08-b787-790edfbdd084 button.colab-df-convert');\n",
       "      buttonEl.style.display =\n",
       "        google.colab.kernel.accessAllowed ? 'block' : 'none';\n",
       "\n",
       "      async function convertToInteractive(key) {\n",
       "        const element = document.querySelector('#df-15a7387b-16d1-4b08-b787-790edfbdd084');\n",
       "        const dataTable =\n",
       "          await google.colab.kernel.invokeFunction('convertToInteractive',\n",
       "                                                    [key], {});\n",
       "        if (!dataTable) return;\n",
       "\n",
       "        const docLinkHtml = 'Like what you see? Visit the ' +\n",
       "          '<a target=\"_blank\" href=https://colab.research.google.com/notebooks/data_table.ipynb>data table notebook</a>'\n",
       "          + ' to learn more about interactive tables.';\n",
       "        element.innerHTML = '';\n",
       "        dataTable['output_type'] = 'display_data';\n",
       "        await google.colab.output.renderOutput(dataTable, element);\n",
       "        const docLink = document.createElement('div');\n",
       "        docLink.innerHTML = docLinkHtml;\n",
       "        element.appendChild(docLink);\n",
       "      }\n",
       "    </script>\n",
       "  </div>\n",
       "\n",
       "\n",
       "<div id=\"df-3689d145-3f28-4a82-b2d5-1ca4c6779849\">\n",
       "  <button class=\"colab-df-quickchart\" onclick=\"quickchart('df-3689d145-3f28-4a82-b2d5-1ca4c6779849')\"\n",
       "            title=\"Suggest charts.\"\n",
       "            style=\"display:none;\">\n",
       "\n",
       "<svg xmlns=\"http://www.w3.org/2000/svg\" height=\"24px\"viewBox=\"0 0 24 24\"\n",
       "     width=\"24px\">\n",
       "    <g>\n",
       "        <path d=\"M19 3H5c-1.1 0-2 .9-2 2v14c0 1.1.9 2 2 2h14c1.1 0 2-.9 2-2V5c0-1.1-.9-2-2-2zM9 17H7v-7h2v7zm4 0h-2V7h2v10zm4 0h-2v-4h2v4z\"/>\n",
       "    </g>\n",
       "</svg>\n",
       "  </button>\n",
       "\n",
       "<style>\n",
       "  .colab-df-quickchart {\n",
       "      --bg-color: #E8F0FE;\n",
       "      --fill-color: #1967D2;\n",
       "      --hover-bg-color: #E2EBFA;\n",
       "      --hover-fill-color: #174EA6;\n",
       "      --disabled-fill-color: #AAA;\n",
       "      --disabled-bg-color: #DDD;\n",
       "  }\n",
       "\n",
       "  [theme=dark] .colab-df-quickchart {\n",
       "      --bg-color: #3B4455;\n",
       "      --fill-color: #D2E3FC;\n",
       "      --hover-bg-color: #434B5C;\n",
       "      --hover-fill-color: #FFFFFF;\n",
       "      --disabled-bg-color: #3B4455;\n",
       "      --disabled-fill-color: #666;\n",
       "  }\n",
       "\n",
       "  .colab-df-quickchart {\n",
       "    background-color: var(--bg-color);\n",
       "    border: none;\n",
       "    border-radius: 50%;\n",
       "    cursor: pointer;\n",
       "    display: none;\n",
       "    fill: var(--fill-color);\n",
       "    height: 32px;\n",
       "    padding: 0;\n",
       "    width: 32px;\n",
       "  }\n",
       "\n",
       "  .colab-df-quickchart:hover {\n",
       "    background-color: var(--hover-bg-color);\n",
       "    box-shadow: 0 1px 2px rgba(60, 64, 67, 0.3), 0 1px 3px 1px rgba(60, 64, 67, 0.15);\n",
       "    fill: var(--button-hover-fill-color);\n",
       "  }\n",
       "\n",
       "  .colab-df-quickchart-complete:disabled,\n",
       "  .colab-df-quickchart-complete:disabled:hover {\n",
       "    background-color: var(--disabled-bg-color);\n",
       "    fill: var(--disabled-fill-color);\n",
       "    box-shadow: none;\n",
       "  }\n",
       "\n",
       "  .colab-df-spinner {\n",
       "    border: 2px solid var(--fill-color);\n",
       "    border-color: transparent;\n",
       "    border-bottom-color: var(--fill-color);\n",
       "    animation:\n",
       "      spin 1s steps(1) infinite;\n",
       "  }\n",
       "\n",
       "  @keyframes spin {\n",
       "    0% {\n",
       "      border-color: transparent;\n",
       "      border-bottom-color: var(--fill-color);\n",
       "      border-left-color: var(--fill-color);\n",
       "    }\n",
       "    20% {\n",
       "      border-color: transparent;\n",
       "      border-left-color: var(--fill-color);\n",
       "      border-top-color: var(--fill-color);\n",
       "    }\n",
       "    30% {\n",
       "      border-color: transparent;\n",
       "      border-left-color: var(--fill-color);\n",
       "      border-top-color: var(--fill-color);\n",
       "      border-right-color: var(--fill-color);\n",
       "    }\n",
       "    40% {\n",
       "      border-color: transparent;\n",
       "      border-right-color: var(--fill-color);\n",
       "      border-top-color: var(--fill-color);\n",
       "    }\n",
       "    60% {\n",
       "      border-color: transparent;\n",
       "      border-right-color: var(--fill-color);\n",
       "    }\n",
       "    80% {\n",
       "      border-color: transparent;\n",
       "      border-right-color: var(--fill-color);\n",
       "      border-bottom-color: var(--fill-color);\n",
       "    }\n",
       "    90% {\n",
       "      border-color: transparent;\n",
       "      border-bottom-color: var(--fill-color);\n",
       "    }\n",
       "  }\n",
       "</style>\n",
       "\n",
       "  <script>\n",
       "    async function quickchart(key) {\n",
       "      const quickchartButtonEl =\n",
       "        document.querySelector('#' + key + ' button');\n",
       "      quickchartButtonEl.disabled = true;  // To prevent multiple clicks.\n",
       "      quickchartButtonEl.classList.add('colab-df-spinner');\n",
       "      try {\n",
       "        const charts = await google.colab.kernel.invokeFunction(\n",
       "            'suggestCharts', [key], {});\n",
       "      } catch (error) {\n",
       "        console.error('Error during call to suggestCharts:', error);\n",
       "      }\n",
       "      quickchartButtonEl.classList.remove('colab-df-spinner');\n",
       "      quickchartButtonEl.classList.add('colab-df-quickchart-complete');\n",
       "    }\n",
       "    (() => {\n",
       "      let quickchartButtonEl =\n",
       "        document.querySelector('#df-3689d145-3f28-4a82-b2d5-1ca4c6779849 button');\n",
       "      quickchartButtonEl.style.display =\n",
       "        google.colab.kernel.accessAllowed ? 'block' : 'none';\n",
       "    })();\n",
       "  </script>\n",
       "</div>\n",
       "    </div>\n",
       "  </div>\n"
      ],
      "text/plain": [
       "         Scores  Labels  Output\n",
       "0      0.176261       2       1\n",
       "1      0.178890       2       1\n",
       "2      0.175219       2       1\n",
       "3      0.180510       2       0\n",
       "4      0.176538       1       1\n",
       "...         ...     ...     ...\n",
       "16544  0.177684       2       1\n",
       "16545  0.174562       2       1\n",
       "16546  0.198327       2       0\n",
       "16547  0.177203       0       1\n",
       "16548  0.176370       3       1\n",
       "\n",
       "[16549 rows x 3 columns]"
      ]
     },
     "execution_count": 31,
     "metadata": {},
     "output_type": "execute_result"
    }
   ],
   "source": [
    "# Define the optimal threshold\n",
    "optimal_threshold =  0.1799#1799 #0.197895 #0.172632\n",
    "\n",
    "# Create the \"Output\" column based on the condition\n",
    "df['Output'] = (df['Scores'] < optimal_threshold).astype(int)\n",
    "\n",
    "# Display the resulting DataFrame\n",
    "df"
   ]
  },
  {
   "cell_type": "code",
   "execution_count": null,
   "metadata": {
    "colab": {
     "base_uri": "https://localhost:8080/"
    },
    "id": "MSYDnlUeoPim",
    "outputId": "13656864-6777-4751-f58a-ca5f47bca130"
   },
   "outputs": [
    {
     "name": "stdout",
     "output_type": "stream",
     "text": [
      "Count of ODIN scores of lighter samples bellow threshold: 8580\n",
      "Count of ODIN scores of darker samples bellow threshold: 957\n",
      "Count of ODIN scores of inlier above threshold: 992\n"
     ]
    }
   ],
   "source": [
    "#plotting and counting all the re\n",
    "# Filter rows based on conditions\n",
    "ODIN_Lighter = df[(df['Labels'] == 2) & (df['Output'] == 1) ]['Scores']\n",
    "ODIN_Darker = df[(df['Labels'] == 3)& (df['Output'] == 1) ]['Scores']\n",
    "ODIN_Inlier = df[(df['Labels'] == 0) &(df['Output'] == 0) ]['Scores']\n",
    "\n",
    "# Print counts\n",
    "print(\"Count of ODIN scores of lighter samples bellow threshold:\", len(ODIN_Lighter))\n",
    "print(\"Count of ODIN scores of darker samples bellow threshold:\", len(ODIN_Darker))\n",
    "print(\"Count of ODIN scores of inlier above threshold:\", len(ODIN_Inlier))"
   ]
  },
  {
   "cell_type": "code",
   "execution_count": null,
   "metadata": {
    "colab": {
     "base_uri": "https://localhost:8080/"
    },
    "id": "iT5EhB3STe0I",
    "outputId": "3d2a2ad7-609c-4093-978b-b8d42a1fb57c"
   },
   "outputs": [
    {
     "name": "stdout",
     "output_type": "stream",
     "text": [
      "Count of ODIN scores of lighter samples bellow threshold: 8580\n",
      "Count of ODIN scores of darker samples bellow threshold: 957\n",
      "Count of ODIN scores of inlier above threshold: 992\n"
     ]
    }
   ],
   "source": [
    "#plotting and counting all the re\n",
    "# Filter rows based on conditions\n",
    "ODIN_Lighter = df[(df['Labels'] == 1) & (df['Output'] == 1) ]['Scores']\n",
    "ODIN_Darker = df[(df['Labels'] == 2)& (df['Output'] == 1) ]['Scores']\n",
    "ODIN_Inlier = df[(df['Labels'] == 0) &(df['Output'] == 0) ]['Scores']\n",
    "\n",
    "# Print counts\n",
    "print(\"Count of ODIN scores of lighter samples bellow threshold:\", len(ODIN_Lighter))\n",
    "print(\"Count of ODIN scores of darker samples bellow threshold:\", len(ODIN_Darker))\n",
    "print(\"Count of ODIN scores of inlier above threshold:\", len(ODIN_Inlier))"
   ]
  },
  {
   "cell_type": "code",
   "execution_count": null,
   "metadata": {
    "colab": {
     "base_uri": "https://localhost:8080/"
    },
    "id": "qXIxiLbEoyo1",
    "outputId": "8434c5c4-13fc-4e86-8312-db6a4f333ae7"
   },
   "outputs": [
    {
     "name": "stdout",
     "output_type": "stream",
     "text": [
      "Count of ODIN scores of lighter samples above threshold: 1661\n",
      "Count of ODIN scores of darker samples above threshold: 361\n",
      "Count of ODIN scores of inlier bellow threshold: 1503\n"
     ]
    }
   ],
   "source": [
    "ODIN_Lighter = df[(df['Labels'] == 2) & (df['Output'] == 0) ]['Scores']\n",
    "ODIN_Darker = df[(df['Labels'] == 3)& (df['Output'] == 0) ]['Scores']\n",
    "ODIN_Inlier = df[(df['Labels'] == 0) &(df['Output'] == 1) ]['Scores']\n",
    "\n",
    "# Print counts\n",
    "print(\"Count of ODIN scores of lighter samples above threshold:\", len(ODIN_Lighter))\n",
    "print(\"Count of ODIN scores of darker samples above threshold:\", len(ODIN_Darker))\n",
    "print(\"Count of ODIN scores of inlier bellow threshold:\", len(ODIN_Inlier))"
   ]
  },
  {
   "cell_type": "code",
   "execution_count": null,
   "metadata": {
    "colab": {
     "base_uri": "https://localhost:8080/"
    },
    "id": "MAg3Xtx4UTZ9",
    "outputId": "a5ad8dd6-98f6-40aa-af08-1575fb98d8b2"
   },
   "outputs": [
    {
     "name": "stdout",
     "output_type": "stream",
     "text": [
      "Count of ODIN scores of lighter samples above threshold: 1661\n",
      "Count of ODIN scores of darker samples above threshold: 361\n",
      "Count of ODIN scores of inlier bellow threshold: 1503\n"
     ]
    }
   ],
   "source": [
    "ODIN_Lighter = df[(df['Labels'] == 2) & (df['Output'] == 0) ]['Scores']\n",
    "ODIN_Darker = df[(df['Labels'] == 3)& (df['Output'] == 0) ]['Scores']\n",
    "ODIN_Inlier = df[(df['Labels'] == 0) &(df['Output'] == 1) ]['Scores']\n",
    "\n",
    "# Print counts\n",
    "print(\"Count of ODIN scores of lighter samples above threshold:\", len(ODIN_Lighter))\n",
    "print(\"Count of ODIN scores of darker samples above threshold:\", len(ODIN_Darker))\n",
    "print(\"Count of ODIN scores of inlier bellow threshold:\", len(ODIN_Inlier))"
   ]
  },
  {
   "cell_type": "code",
   "execution_count": null,
   "metadata": {
    "colab": {
     "base_uri": "https://localhost:8080/"
    },
    "id": "ej2kA23vo4Mw",
    "outputId": "840890c8-df10-451a-8c08-10f2e898480e"
   },
   "outputs": [
    {
     "name": "stdout",
     "output_type": "stream",
     "text": [
      "Count of ODIN scores of lighter samples : 10241\n",
      "Count of ODIN scores of darker samples: 1318\n",
      "Count of ODIN scores of inlier : 2495\n"
     ]
    }
   ],
   "source": [
    "#plotting and counting all the re\n",
    "# Filter rows based on conditions\n",
    "ODIN_Lighter = df[(df['Labels'] == 2)  ]['Scores']\n",
    "ODIN_Darker = df[(df['Labels'] == 3) ]['Scores']\n",
    "ODIN_Inlier = df[(df['Labels'] == 0) ]['Scores']\n",
    "\n",
    "# Print counts\n",
    "print(\"Count of ODIN scores of lighter samples :\", len(ODIN_Lighter))\n",
    "print(\"Count of ODIN scores of darker samples:\", len(ODIN_Darker))\n",
    "print(\"Count of ODIN scores of inlier :\", len(ODIN_Inlier))"
   ]
  },
  {
   "cell_type": "code",
   "execution_count": null,
   "metadata": {
    "colab": {
     "base_uri": "https://localhost:8080/"
    },
    "id": "_eErcoAPUF7W",
    "outputId": "e0998a10-5b64-4334-be2c-fcc643f7a33a"
   },
   "outputs": [
    {
     "name": "stdout",
     "output_type": "stream",
     "text": [
      "Count of ODIN scores of lighter samples : 10241\n",
      "Count of ODIN scores of darker samples: 1318\n",
      "Count of ODIN scores of inlier : 2495\n"
     ]
    }
   ],
   "source": [
    "#plotting and counting all the re\n",
    "# Filter rows based on conditions\n",
    "ODIN_Lighter = df[(df['Labels'] == 2)  ]['Scores']\n",
    "ODIN_Darker = df[(df['Labels'] == 3) ]['Scores']\n",
    "ODIN_Inlier = df[(df['Labels'] == 0) ]['Scores']\n",
    "\n",
    "# Print counts\n",
    "print(\"Count of ODIN scores of lighter samples :\", len(ODIN_Lighter))\n",
    "print(\"Count of ODIN scores of darker samples:\", len(ODIN_Darker))\n",
    "print(\"Count of ODIN scores of inlier :\", len(ODIN_Inlier))"
   ]
  },
  {
   "cell_type": "code",
   "execution_count": null,
   "metadata": {
    "colab": {
     "base_uri": "https://localhost:8080/",
     "height": 580
    },
    "id": "NU2bumiUSPiX",
    "outputId": "5d3c3810-9631-49b9-c24d-4f4027ae9a27"
   },
   "outputs": [
    {
     "data": {
      "image/png": "[encoded data removed]",
      "text/plain": [
       "<Figure size 1000x600 with 1 Axes>"
      ]
     },
     "metadata": {},
     "output_type": "display_data"
    }
   ],
   "source": [
    "import matplotlib.pyplot as plt\n",
    "\n",
    "\n",
    "\n",
    "\n",
    "\n",
    "# Plot histograms\n",
    "plt.figure(figsize=(10, 6))\n",
    "plt.hist(abs(ODIN_Lighter), bins=20, alpha=0.5, color=\"turquoise\", label=\"Outliers (FST I-IV Light)\")\n",
    "plt.hist(abs(ODIN_Darker), bins=20, alpha=0.5, color=\"darkorange\", label=\"Outliers (FST V-VI Dark)\")\n",
    "\n",
    "# Add titles and labels\n",
    "#plt.title(\"NN Softmax Scores Histograms for Different Categories\")\n",
    "plt.xlabel(\"ODIN score\",fontsize=16)\n",
    "plt.ylabel(\"Count\",fontsize=16)\n",
    "plt.legend()\n",
    "plt.title(\"ODIN Scores Histograms for the Fitzpartrick 17k skintypes\",fontsize=18)\n",
    "plt.xticks(fontsize=14)\n",
    "plt.yticks(fontsize=14)\n",
    "\n",
    "ax = plt.gca()  # Get the current axes\n",
    "ax.spines['top'].set_visible(False)\n",
    "ax.spines['right'].set_visible(False)\n",
    "\n",
    "plt.show()"
   ]
  },
  {
   "cell_type": "code",
   "execution_count": null,
   "metadata": {
    "colab": {
     "background_save": true,
     "base_uri": "https://localhost:8080/",
     "height": 507
    },
    "id": "TfQvOQUUUvBa",
    "outputId": "e9667969-82ff-470f-e128-d41802fa4a6d"
   },
   "outputs": [
    {
     "data": {
      "image/png": "[encoded data removed]",
      "text/plain": [
       "<Figure size 1000x600 with 1 Axes>"
      ]
     },
     "metadata": {},
     "output_type": "display_data"
    }
   ],
   "source": [
    "import matplotlib.pyplot as plt\n",
    "\n",
    "\n",
    "\n",
    "\n",
    "\n",
    "# Plot histograms\n",
    "plt.figure(figsize=(10, 6))\n",
    "plt.hist(abs(ODIN_Inlier), bins=20, alpha=0.5, color=\"blue\", label=\"Inliers (ISIC2019)\")\n",
    "#plt.hist(abs(base_Darker), bins=20, alpha=0.5, color=\"darkorange\", label=\"Outliers (FST V-VI Dark)\")\n",
    "\n",
    "# Add titles and labels\n",
    "#plt.title(\"NN Softmax Scores Histograms for Different Categories\")\n",
    "plt.xlabel(\"ODIN score\")\n",
    "plt.ylabel(\"Count\")\n",
    "plt.legend()\n",
    "plt.title(\"ODIN Scores Histograms for ISIC 2019 dataset\")\n",
    "plt.show()"
   ]
  },
  {
   "cell_type": "code",
   "execution_count": null,
   "metadata": {
    "id": "Tve8f5bZzung"
   },
   "outputs": [],
   "source": []
  }
 ],
 "metadata": {
  "colab": {
   "provenance": []
  },
  "kernelspec": {
   "display_name": "Python 3",
   "language": "python",
   "name": "python3"
  },
  "language_info": {
   "codemirror_mode": {
    "name": "ipython",
    "version": 3
   },
   "file_extension": ".py",
   "mimetype": "text/x-python",
   "name": "python",
   "nbconvert_exporter": "python",
   "pygments_lexer": "ipython3",
   "version": "3.8.3"
  }
 },
 "nbformat": 4,
 "nbformat_minor": 1
}
