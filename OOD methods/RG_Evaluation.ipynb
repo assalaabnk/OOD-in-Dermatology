{
 "cells": [
  {
   "cell_type": "markdown",
   "metadata": {
    "id": "NYIsVqRtGzlp"
   },
   "source": [
    "# Data Preparation"
   ]
  },
  {
   "cell_type": "markdown",
   "metadata": {
    "id": "rooqIInkOoG5"
   },
   "source": [
    "## Upload the training and testing Datasets:\n",
    "\n",
    "ISIC2019 dataset:\n",
    "- import the ground truth csv file\n",
    "- import the ISIC2019 data samples as in distribution\n",
    "resource: https://challenge.isic-archive.com/data/\n",
    "\n",
    "Fitzpatric17k dataset:\n",
    "- import the fitz17k data samples as outlier and divide them into dark OOD sample (FST V-VI) and light OOD sample (FST I-IV)\n",
    "resource: https://github.com/mattgroh/fitzpatrick17k"
   ]
  },
  {
   "cell_type": "code",
   "execution_count": 37,
   "metadata": {
    "id": "spI1CnuFG4qP"
   },
   "outputs": [],
   "source": [
    "import os\n",
    "import pandas as pd\n",
    "import numpy as np\n",
    "from pathlib import Path\n",
    "from PIL import Image\n",
    "import shutil\n",
    "\n",
    "from sklearn import model_selection\n",
    "from sklearn.datasets import make_classification\n",
    "from sklearn.model_selection import train_test_split\n",
    "from sklearn.decomposition import PCA\n",
    "\n",
    "import importlib\n",
    "import matplotlib.pyplot as plt\n",
    "\n",
    "import torchmetrics\n",
    "import torch\n",
    "import torch.nn.functional as F\n",
    "from torch import nn\n",
    "import torch.optim as optim\n",
    "from sklearn.model_selection import KFold\n",
    "from torch.utils.data import ConcatDataset\n",
    "\n",
    "\n"
   ]
  },
  {
   "cell_type": "markdown",
   "metadata": {
    "id": "vTB7dKZP079a"
   },
   "source": [
    "## 1.Import Datasets"
   ]
  },
  {
   "cell_type": "markdown",
   "metadata": {
    "id": "vTB7dKZP079a"
   },
   "source": [
    "#### 1.1 ISIC2019 Dataset"
   ]
  },
  {
   "cell_type": "code",
   "execution_count": null,
   "metadata": {
    "id": "TZ1OvbrBiu1g"
   },
   "outputs": [],
   "source": [
    "# ISIC2019 dataset\n",
    "\n",
    "groundtruth = pd.read_csv(\"...Path to Ground_truth.csv...\")\n",
    "groundtruth = groundtruth.set_index(\"image\")\n",
    "indist = list(groundtruth.index)\n",
    "X_data = []\n",
    "folder_dir = \"..Path to ISIC data folder...\"\n",
    "images = Path(folder_dir).glob(\"*.jpg\")\n",
    "count = 0\n",
    "for i in list(images)[:10000]:\n",
    "    image = Image.open(i).convert(\"RGB\")\n",
    "    img_resize = np.array(image.resize((32, 32), Image.Resampling.LANCZOS)).ravel()\n",
    "    if i.stem in indist:\n",
    "        X_data.append(img_resize)\n",
    "        count += 1\n"
   ]
  },
  {
   "cell_type": "markdown",
   "metadata": {
    "id": "vTB7dKZP079a"
   },
   "source": [
    "#### 1.2 FitzPatrick17K Dataset"
   ]
  },
  {
   "cell_type": "code",
   "execution_count": 7,
   "metadata": {
    "id": "6nbGYqdFi3BY"
   },
   "outputs": [],
   "source": [
    "#Fitz17k dataset\n",
    "\n",
    "ood_FST_V_VI = []  #Dark OOD\n",
    "ood_FST_I_IV = []  #Light_OOD\n",
    "ood_data = []      #ALL OOD\n",
    "\n",
    "FST_V_VI_dir = \"..Path to the folder\"   #Dark images  \n",
    "FST_I_IV_dir = \"..Path to the folder\"   #Light images\n",
    "ALL_dir = \"..Path to the folder\"        #All the images\n",
    "\n",
    "\n",
    "FST_V_VI_images = Path(FST_V_VI_dir).glob(\"*.jpg\")\n",
    "for i in FST_V_VI_images:\n",
    "    image = Image.open(i).convert(\"RGB\")\n",
    "    img_resize = np.array(image.resize((32, 32), Image.Resampling.LANCZOS)).ravel()\n",
    "    #### 1.2 FitzPatrick17K Dataset.append(img_resize)\n",
    "    ood_data.append(img_resize)\n",
    "\n",
    "\n",
    "FST_I_IV_images = Path(FST_I_IV_dir).glob(\"*.jpg\")\n",
    "for i in list(FST_I_IV_images)[:3300]:\n",
    "    image = Image.open(i).convert(\"RGB\")\n",
    "    img_resize = np.array(image.resize((32, 32), Image.Resampling.LANCZOS)).ravel()\n",
    "    ood_FST_I_IV.append(img_resize)\n",
    "    ood_data.append(img_resize)"
   ]
  },
  {
   "cell_type": "markdown",
   "metadata": {
    "id": "vTB7dKZP079a"
   },
   "source": [
    "#### 1.3 Data Labeling"
   ]
  },
  {
   "cell_type": "code",
   "execution_count": 9,
   "metadata": {
    "id": "yeX_qwxbIEzd"
   },
   "outputs": [],
   "source": [
    "ood_data = np.array(ood_data)\n",
    "ood_FST_I_IV= np.array(ood_FST_I_IV)\n",
    "ood_FST_V_VI = np.array(ood_FST_V_VI)\n",
    "\n",
    "X_array = np.array(X_data)\n",
    "ood_array = np.array(ood_data)  #for all\n",
    "ood_D_array = np.array(ood_darker) #for darker only\n",
    "ood_L_array = np.array(ood_lighter) #for lighter only"
   ]
  },
  {
   "cell_type": "markdown",
   "metadata": {
    "id": "Ui8VvXdfH9cl"
   },
   "source": [
    "Label the data sets for each skin tone category "
   ]
  },
  {
   "cell_type": "code",
   "execution_count": null,
   "metadata": {
    "colab": {
     "base_uri": "https://localhost:8080/"
    },
    "id": "oI-C1LROFsnc",
    "outputId": "24f0d5ee-1134-477e-e349-89f622d708ca"
   },
   "outputs": [
    {
     "name": "stdout",
     "output_type": "stream",
     "text": [
      "(13300, 3072) (13300,)\n"
     ]
    }
   ],
   "source": [
    "#FST I-IV category\n",
    "y_ind = np.zeros(X_array.shape[0])  # Inlier \n",
    "y_ood= np.ones(ood_L_array.shape[0]) # OutLier \n",
    "\n",
    "X = np.concatenate([X_array, ood_L_array ])\n",
    "y = np.concatenate([y_ind, y_ood])\n",
    "print(X.shape, y.shape)"
   ]
  },
  {
   "cell_type": "code",
   "execution_count": null,
   "metadata": {
    "colab": {
     "base_uri": "https://localhost:8080/"
    },
    "id": "f8bBKxnjIRSW",
    "outputId": "91ade8c2-a925-4b96-be5a-0a68bfac5b9d"
   },
   "outputs": [
    {
     "name": "stdout",
     "output_type": "stream",
     "text": [
      "(11318, 3072) (11318,)\n"
     ]
    }
   ],
   "source": [
    "#FST V-VI Category\n",
    "\n",
    "y_ind = np.zeros(X_array.shape[0]) \n",
    "y_ood= np.ones(ood_D_array.shape[0]) \n",
    "\n",
    "X = np.concatenate([X_array, ood_D_array ])\n",
    "y = np.concatenate([y_ind, y_ood])\n",
    "print(X.shape, y.shape)"
   ]
  },
  {
   "cell_type": "code",
   "execution_count": null,
   "metadata": {
    "colab": {
     "base_uri": "https://localhost:8080/"
    },
    "id": "2zAesF_oIgZb",
    "outputId": "dd578596-435e-442e-9f0e-58bb1ef3b172"
   },
   "outputs": [
    {
     "name": "stdout",
     "output_type": "stream",
     "text": [
      "(14618, 3072) (14618,)\n"
     ]
    }
   ],
   "source": [
    "#ALL\n",
    "\n",
    "y_ind = np.zeros(X_array.shape[0])   \n",
    "y_ood= np.ones(ood_array.shape[0]) \n",
    "\n",
    "X = np.concatenate([X_array, ood_array ])\n",
    "y = np.concatenate([y_ind, y_ood])\n",
    "print(X.shape, y.shape)"
   ]
  },
  {
   "cell_type": "markdown",
   "metadata": {
    "id": "vTB7dKZP079a"
   },
   "source": [
    "## 2. PCA Visualization"
   ]
  },
  {
   "cell_type": "markdown",
   "metadata": {
    "id": "yUGuNFx30bZq"
   },
   "source": [
    "Multi-Labeling for PCA visualization"
   ]
  },
  {
   "cell_type": "code",
   "execution_count": 13,
   "metadata": {
    "colab": {
     "base_uri": "https://localhost:8080/"
    },
    "id": "A-YPqLgK0C3X",
    "outputId": "f4d5e572-08fc-42c2-a268-33895f7cd8e4"
   },
   "outputs": [
    {
     "name": "stdout",
     "output_type": "stream",
     "text": [
      "(14618, 3072) (14618,)\n"
     ]
    }
   ],
   "source": [
    "y_ind = np.zeros(X_array.shape[0])  #Inlier\n",
    "y_ood= np.ones(ood_array.shape[0]) *1 # OOD sample\n",
    "y_ood_D = np.ones(ood_D_array.shape[0]) * 2  # OOD sample FST V-VI\n",
    "y_ood_L = np.ones(ood_L_array.shape[0]) * 3  # OOD sample FST I-IV\n",
    "X = np.concatenate([X_array, ood_D_array, ood_L_array])\n",
    "y = np.concatenate([y_ind, y_ood_D, y_ood_L])\n",
    "print(X.shape, y.shape)"
   ]
  },
  {
   "cell_type": "code",
   "execution_count": 24,
   "metadata": {
    "colab": {
     "base_uri": "https://localhost:8080/",
     "height": 489
    },
    "id": "66cbZQVsE2Cp",
    "outputId": "6feab93e-90c7-4b7f-8961-e2243bfaa446"
   },
   "outputs": [
    {
     "name": "stdout",
     "output_type": "stream",
     "text": [
      "explained variance ratio (first two components): [0.44557194 0.12567861]\n"
     ]
    },
    {
     "data": {
      "image/png": "[encoded data removed]",
      "text/plain": [
       "<Figure size 640x480 with 1 Axes>"
      ]
     },
     "metadata": {},
     "output_type": "display_data"
    }
   ],
   "source": [
    "from sklearn.decomposition import PCA\n",
    "import aux\n",
    "\n",
    "\n",
    "importlib.reload(aux)\n",
    "\n",
    "pca = PCA(n_components=2)\n",
    "X_pca = pca.fit_transform(X)\n",
    "\n",
    "print(\n",
    "    \"explained variance ratio (first two components): %s\"\n",
    "    % str(pca.explained_variance_ratio_)\n",
    ")\n",
    "\n",
    "aux.plot_pca(X_pca, y)\n",
    "\n",
    "plt.show()"
   ]
  },
  {
   "cell_type": "markdown",
   "metadata": {
    "id": "XOmaF29ghag3"
   },
   "source": [
    "## 3.Data Loaders"
   ]
  },
  {
   "cell_type": "code",
   "execution_count": 42,
   "metadata": {
    "colab": {
     "base_uri": "https://localhost:8080/"
    },
    "id": "lMx6tfm7dBky",
    "outputId": "e6028d0f-c5c0-48b6-8df3-06cffd862886"
   },
   "outputs": [
    {
     "name": "stdout",
     "output_type": "stream",
     "text": [
      "The black module is not an IPython extension.\n"
     ]
    },
    {
     "name": "stderr",
     "output_type": "stream",
     "text": [
      "UsageError: Line magic function `%%black` not found.\n"
     ]
    }
   ],
   "source": [
    "from torchvision import transforms as tfs\n",
    "\n",
    "transforms_train = [\n",
    "    tfs.RandomHorizontalFlip(p=0.5),\n",
    "    # tfs.RandomAutocontrast(p=0.5),\n",
    "    # tfs.RandomAdjustSharpness(p=0.5, sharpness_factor=0.7),\n",
    "    tfs.RandomAffine(0, scale=(0.7, 1.0)),\n",
    "    tfs.Resize((16, 16)),\n",
    "    # tfs.Grayscale(1),\n",
    "    tfs.ToTensor(),\n",
    "    # tfs.Normalize(mean=0.46 ,std=0.32)\n",
    "]\n",
    "\n",
    "transforms_test = [\n",
    "    tfs.Resize((16, 16)),\n",
    "    # tfs.Grayscale(1),\n",
    "    tfs.ToTensor(),\n",
    "    # tfs.Normalize(mean=0.46 ,std=0.32)\n",
    "]"
   ]
  },
  {
   "cell_type": "markdown",
   "metadata": {
    "id": "XOmaF29ghag3"
   },
   "source": [
    "Splitting the train dataset into training set (80%) and validation set (20%)"
   ]
  },
  {
   "cell_type": "code",
   "execution_count": null,
   "metadata": {
    "id": "eSWii1K94dm4"
   },
   "outputs": [],
   "source": [
    "from torchvision.datasets import ImageFolder\n",
    "from torch.utils.data import DataLoader, random_split\n",
    "\n",
    "train_data_path = \"\"\n",
    "image_data_train = ImageFolder(train_data_path, transform=tfs.Compose(transforms_train))\n",
    "total_size = len(image_data_train)\n",
    "train_size = int(0.8 * total_size)  # 80% for training\n",
    "valid_size = total_size - train_size\n",
    "\n",
    "\n",
    "train_dataset, valid_dataset = random_split(image_data_train, [train_size, valid_size])"
   ]
  },
  {
   "cell_type": "code",
   "execution_count": null,
   "metadata": {
    "id": "yLMoNuAUD_a2"
   },
   "outputs": [],
   "source": [
    "\n",
    "#ALL\n",
    "image_data_test_ALL = ImageFolder( \"path_to the folder\", transform=tfs.Compose(transforms_test))\n",
    "\n",
    "#FST V-VI \n",
    "image_data_test_darker = ImageFolder( \"path to the folder\", transform=tfs.Compose(transforms_test))\n",
    "\n",
    "#FST I-IV\n",
    "image_data_test_lighter = ImageFolder(\"path to the folder\", transform=tfs.Compose(transforms_test))\n",
    "\n"
   ]
  },
  {
   "cell_type": "code",
   "execution_count": null,
   "metadata": {
    "id": "oPNTa1mwi31v"
   },
   "outputs": [],
   "source": [
    "#FitzPatrick17K data loader as Out of distribution\n",
    "data_loader_test_ALL = DataLoader(image_data_test_ALL, batch_size=100, shuffle=True) \n",
    "data_loader_test_Darker = DataLoader(image_data_test_darker, batch_size=100, shuffle=True)\n",
    "data_loader_test_Lighter = DataLoader(image_data_test_lighter , batch_size=100 , shuffle=True ) "
   ]
  },
  {
   "cell_type": "code",
   "execution_count": null,
   "metadata": {
    "id": "4hCzzFZg45qT"
   },
   "outputs": [],
   "source": [
    "# ISIC data loader as in distribution\n",
    "batch_size = 100\n",
    "data_loader_train = DataLoader(train_dataset, batch_size=batch_size, shuffle=True)\n",
    "data_loader_validation = DataLoader(valid_dataset, batch_size=batch_size, shuffle=False)\n"
   ]
  },
  {
   "cell_type": "markdown",
   "metadata": {
    "id": "PB2KEFAX10of"
   },
   "source": [
    "\n",
    "\n",
    "---\n",
    "\n",
    "\n",
    "\n",
    "---\n",
    "\n"
   ]
  },
  {
   "cell_type": "markdown",
   "metadata": {
    "id": "DFdS1DPFsKtU"
   },
   "source": [
    "## 4. RG Evaluation "
   ]
  },
  {
   "cell_type": "markdown",
   "metadata": {
    "id": "GjNfFEkiG4qW"
   },
   "source": [
    "## 4.1 One Class SVM"
   ]
  },
  {
   "cell_type": "markdown",
   "metadata": {
    "id": "GjNfFEkiG4qW"
   },
   "source": [
    "Load the OneSVM pickle file and split the train dataset into train and test sets"
   ]
  },
  {
   "cell_type": "code",
   "execution_count": 25,
   "metadata": {
    "id": "n1sAJ1LRG4qW"
   },
   "outputs": [],
   "source": [
    "from sklearn.svm import OneClassSVM\n",
    "import pickle\n",
    "\n",
    "with open('One_SVM_model.pkl', 'rb') as file:\n",
    "    onesvm = pickle.load(file)\n",
    "\n",
    "X_train, X_test, y_train, y_test = train_test_split(X_pca, y, test_size=0.4, stratify=y, random_state=42)"
   ]
  },
  {
   "cell_type": "code",
   "execution_count": null,
   "metadata": {
    "colab": {
     "base_uri": "https://localhost:8080/"
    },
    "id": "XIuyNa1SvI6y",
    "outputId": "50c9547e-dfb9-44ce-c297-fd9bb3e8712e"
   },
   "outputs": [
    {
     "data": {
      "text/plain": [
       "array([ 1., -1.,  1., ..., -1., -1.,  1.])"
      ]
     },
     "execution_count": 153,
     "metadata": {},
     "output_type": "execute_result"
    }
   ],
   "source": [
    "y_test[y_test == 1] = -1\n",
    "y_test[y_test == 0] = 1\n",
    "y_test"
   ]
  },
  {
   "cell_type": "markdown",
   "metadata": {
    "id": "W65nw3IAG4qX"
   },
   "source": [
    "## 4.1.1 Performance metrics calculation"
   ]
  },
  {
   "cell_type": "markdown",
   "metadata": {
    "id": "GjNfFEkiG4qW"
   },
   "source": [
    "Calculate the F1-score and roc-auc-score for each skin tone category and extact the Representation Gap between FST V-VI and FST I-IV scores"
   ]
  },
  {
   "cell_type": "markdown",
   "metadata": {
    "id": "KcRGYmdPyLIt"
   },
   "source": [
    "### FST I-IV"
   ]
  },
  {
   "cell_type": "code",
   "execution_count": null,
   "metadata": {
    "colab": {
     "base_uri": "https://localhost:8080/"
    },
    "id": "aar4bs_pFwNT",
    "outputId": "fe991d81-a16f-4449-e458-d7489740a86d"
   },
   "outputs": [
    {
     "name": "stdout",
     "output_type": "stream",
     "text": [
      "auc scores light: [0.50931337 0.49562582 0.51743269 0.5276257  0.50112787]\n",
      "Mean auc score light: 0.5102250933157141\n",
      "Standard deviation of auc scores light: 0.011414553365299595\n"
     ]
    }
   ],
   "source": [
    "#auc\n",
    "from sklearn.model_selection import cross_val_score\n",
    "from sklearn.metrics import make_scorer, roc_auc_score\n",
    "\n",
    "# Define a custom scoring function for ROC AUC\n",
    "roc_auc_scorer = make_scorer(roc_auc_score)\n",
    "\n",
    "# Perform cross-validation with ROC AUC scoring\n",
    "auc_scores_all = cross_val_score(onesvm, X_test, y_test, cv=5, scoring=roc_auc_scorer)\n",
    "print(\"auc scores light:\", auc_scores_all)\n",
    "print(\"Mean auc score light:\", auc_scores_all.mean())\n",
    "print(\"Standard deviation of auc scores light:\", auc_scores_all.std())\n"
   ]
  },
  {
   "cell_type": "code",
   "execution_count": null,
   "metadata": {
    "colab": {
     "base_uri": "https://localhost:8080/"
    },
    "id": "xM_dyUlPyU-y",
    "outputId": "6e11d006-d8cd-4035-8dc7-2cfa0973d5ad"
   },
   "outputs": [
    {
     "name": "stdout",
     "output_type": "stream",
     "text": [
      "F1 scores: [0.65335235 0.68975069 0.66855524 0.68508287 0.68927336]\n",
      "Mean F1 score: 0.6772029032847702\n",
      "Standard deviation of F1 scores: 0.014204700299303792\n"
     ]
    }
   ],
   "source": [
    "#f1 score\n",
    "f1_scores1 = cross_val_score(onesvm, X_test, y_test, cv=5, scoring='f1')\n",
    "print(\"F1 scores:\", f1_scores1)\n",
    "print(\"Mean F1 score:\", f1_scores1.mean())\n",
    "print(\"Standard deviation of F1 scores:\", f1_scores1.std())"
   ]
  },
  {
   "cell_type": "markdown",
   "metadata": {
    "id": "5PqhpnYzyPTA"
   },
   "source": [
    "### FST V-VI "
   ]
  },
  {
   "cell_type": "code",
   "execution_count": null,
   "metadata": {
    "colab": {
     "base_uri": "https://localhost:8080/"
    },
    "id": "kj2tZKDGyQ9R",
    "outputId": "0166917c-79ec-4834-b140-60bd8a4e08d8"
   },
   "outputs": [
    {
     "name": "stdout",
     "output_type": "stream",
     "text": [
      "auc scores dark: [0.54009301 0.60359965 0.52022417 0.51873258 0.51623073]\n",
      "Mean auc score dark: 0.5397760272703749\n",
      "Standard deviation of auc scores dark: 0.03302434876420588\n"
     ]
    }
   ],
   "source": [
    "#auc\n",
    "\n",
    "roc_auc_scorer = make_scorer(roc_auc_score)\n",
    "auc_scores_all = cross_val_score(onesvm, X_test, y_test, cv=5, scoring=roc_auc_scorer)\n",
    "\n",
    "print(\"auc scores dark:\", auc_scores_all)\n",
    "print(\"Mean auc score dark:\", auc_scores_all.mean())\n",
    "print(\"Standard deviation of auc scores dark:\", auc_scores_all.std())\n"
   ]
  },
  {
   "cell_type": "code",
   "execution_count": null,
   "metadata": {
    "colab": {
     "base_uri": "https://localhost:8080/"
    },
    "id": "HqJNxDe3yXUk",
    "outputId": "6009c504-fc09-4c52-9af4-eb01f7744b03"
   },
   "outputs": [
    {
     "name": "stdout",
     "output_type": "stream",
     "text": [
      "F1 scores: [0.7267312  0.71981777 0.71982116 0.69465649 0.68659004]\n",
      "Mean F1 score: 0.7095233311540607\n",
      "Standard deviation of F1 scores: 0.015843550049450913\n"
     ]
    }
   ],
   "source": [
    "#F1 score\n",
    "f1_scores1 = cross_val_score(onesvm, X_test, y_test, cv=5, scoring='f1')\n",
    "print(\"F1 scores:\", f1_scores1)\n",
    "print(\"Mean F1 score:\", f1_scores1.mean())\n",
    "print(\"Standard deviation of F1 scores:\", f1_scores1.std())"
   ]
  },
  {
   "cell_type": "markdown",
   "metadata": {
    "id": "Tcp21YRCyRno"
   },
   "source": [
    "### ALL"
   ]
  },
  {
   "cell_type": "code",
   "execution_count": null,
   "metadata": {
    "colab": {
     "base_uri": "https://localhost:8080/"
    },
    "id": "O0f31KaPyS_Z",
    "outputId": "bc51a7fc-42d4-4d85-dd07-44283acf50df"
   },
   "outputs": [
    {
     "name": "stdout",
     "output_type": "stream",
     "text": [
      "auc scores all: [0.50931337 0.49562582 0.51743269 0.5276257  0.50112787]\n",
      "Mean auc score all: 0.5102250933157141\n",
      "Standard deviation of auc scores all: 0.011414553365299595\n"
     ]
    }
   ],
   "source": [
    "#auc\n",
    "roc_auc_scorer = make_scorer(roc_auc_score)\n",
    "auc_scores_all = cross_val_score(onesvm, X_test, y_test, cv=5, scoring=roc_auc_scorer)\n",
    "\n",
    "print(\"auc scores all:\", auc_scores_all)\n",
    "print(\"Mean auc score all:\", auc_scores_all.mean())\n",
    "print(\"Standard deviation of auc scores all:\", auc_scores_all.std())\n"
   ]
  },
  {
   "cell_type": "code",
   "execution_count": null,
   "metadata": {
    "colab": {
     "base_uri": "https://localhost:8080/"
    },
    "id": "e5qmPWm9ybAL",
    "outputId": "3a1b8da5-2bac-4e15-b854-5e9dea13c4bd"
   },
   "outputs": [
    {
     "name": "stdout",
     "output_type": "stream",
     "text": [
      "F1 scores: [0.63364993 0.63846662 0.62962963 0.64621677 0.65231572]\n",
      "Mean F1 score: 0.6400557348232299\n",
      "Standard deviation of F1 scores: 0.00825262203677053\n"
     ]
    }
   ],
   "source": [
    "#F1 score\n",
    "f1_scores1 = cross_val_score(onesvm, X_test, y_test, cv=5, scoring='f1')\n",
    "\n",
    "print(\"F1 scores:\", f1_scores1)\n",
    "print(\"Mean F1 score:\", f1_scores1.mean())\n",
    "print(\"Standard deviation of F1 scores:\", f1_scores1.std())"
   ]
  },
  {
   "cell_type": "markdown",
   "metadata": {
    "id": "0HUPYf9GA3Md"
   },
   "source": [
    "## 4.1.2 Histograms"
   ]
  },
  {
   "cell_type": "markdown",
   "metadata": {
    "id": "GjNfFEkiG4qW"
   },
   "source": [
    "Plot the abnormal scores destributions satrified b skin tones "
   ]
  },
  {
   "cell_type": "code",
   "execution_count": 26,
   "metadata": {
    "colab": {
     "base_uri": "https://localhost:8080/"
    },
    "id": "cbnWJ5bLA5Cx",
    "outputId": "5eff66b8-ea0a-4feb-9df1-10eb2cd91478"
   },
   "outputs": [
    {
     "name": "stdout",
     "output_type": "stream",
     "text": [
      "Number of inliers samples: 4001\n",
      "Number of darker outliers samples: 527\n",
      "Number of lighter outliers samples: 1320\n"
     ]
    }
   ],
   "source": [
    "Calculate the F1-score and roc-auc-score for each skin tone category and extact the Representation Gap between FST V-VI and FST I-IV scoresanomaly_scores_inliers = onesvm.score_samples(X_test[y_test== 0])\n",
    "anomaly_scores_darker = onesvm.score_samples(X_test[y_test== 2])\n",
    "anomaly_scores_lighter= onesvm.score_samples(X_test[y_test == 3])\n",
    "\n",
    "print(\"Number of inliers samples:\", np.sum(y_test == 0))\n",
    "print(\"Number of darker outliers samples:\", np.sum(y_test == 2))\n",
    "print(\"Number of lighter outliers samples:\", np.sum(y_test == 3))"
   ]
  },
  {
   "cell_type": "code",
   "execution_count": 28,
   "metadata": {
    "colab": {
     "base_uri": "https://localhost:8080/",
     "height": 580
    },
    "id": "hDOllQsGHv1Q",
    "outputId": "6f79bf29-5f30-4e84-8667-c16128824fe3"
   },
   "outputs": [
    {
     "data": {
      "image/png": "[encoded data removed]",
      "text/plain": [
       "<Figure size 1000x600 with 1 Axes>"
      ]
     },
     "metadata": {},
     "output_type": "display_data"
    }
   ],
   "source": [
    "from aux_vis import plot_Histogram\n",
    "\n",
    "plot_Histogram(anomaly_scores_lighter,anomaly_scores_darker,'OneSVM scores for Fitz17k skin types','Anomaly Score','Count')"
   ]
  },
  {
   "cell_type": "markdown",
   "metadata": {
    "id": "JgQycoOK1xdg"
   },
   "source": [
    "\n",
    "\n",
    "---\n",
    "\n",
    "\n",
    "\n",
    "---\n",
    "\n"
   ]
  },
  {
   "cell_type": "markdown",
   "metadata": {
    "id": "DAHc8WnXb8Rz"
   },
   "source": [
    "## 4.2 Isolation Forest"
   ]
  },
  {
   "cell_type": "markdown",
   "metadata": {
    "id": "GjNfFEkiG4qW"
   },
   "source": [
    "Load the Isolation Forest pickle file "
   ]
  },
  {
   "cell_type": "code",
   "execution_count": null,
   "metadata": {
    "id": "HCGUUW7JG4qk"
   },
   "outputs": [],
   "source": [
    "# Load the model Load the OneSVM pickle file and split the train dataset into train and test setsfrom the file\n",
    "with open('isolation_forest_model.pkl', 'rb') as file:\n",
    "    best_clf = pickle.load(file)"
   ]
  },
  {
   "cell_type": "markdown",
   "metadata": {
    "id": "e4wLimyhz_ug"
   },
   "source": [
    "## 4.2.1 Performance metrics calculation"
   ]
  },
  {
   "cell_type": "markdown",
   "metadata": {
    "id": "GjNfFEkiG4qW"
   },
   "source": [
    "Calculate the F1-score and roc-auc-score for each skin tone category and extact the Representation Gap between FST V-VI and FST I-IV scores"
   ]
  },
  {
   "cell_type": "markdown",
   "metadata": {
    "id": "QrnxyuxIncFb"
   },
   "source": [
    "### All"
   ]
  },
  {
   "cell_type": "markdown",
   "metadata": {
    "id": "0-nf8w96ocOd"
   },
   "source": [
    "auc:"
   ]
  },
  {
   "cell_type": "code",
   "execution_count": null,
   "metadata": {
    "colab": {
     "base_uri": "https://localhost:8080/"
    },
    "id": "dr66z-sgnadZ",
    "outputId": "47e1ee82-8db5-4cee-879b-ead199c8a77a"
   },
   "outputs": [
    {
     "name": "stdout",
     "output_type": "stream",
     "text": [
      "auc scores all: [0.50931337 0.52837945 0.51348128 0.540607   0.53968405]\n",
      "Mean auc score all: 0.5262930324023477\n",
      "Standard deviation of auc scores all: 0.0129692868633459\n"
     ]
    }
   ],
   "source": [
    "#auc calculationF1 score:\n",
    "from sklearn.model_selection import cross_val_score\n",
    "from sklearn.metrics import make_scorer, roc_auc_score\n",
    "\n",
    "# Define a custom scoring function for ROC AUC\n",
    "roc_auc_scorer = make_scorer(roc_auc_score)\n",
    "\n",
    "# Perform cross-validation with ROC AUC scoring\n",
    "auc_scores_all = cross_val_score(best_clf, X_test, y_test, cv=5, scoring=roc_auc_scorer)\n",
    "print(\"auc scores all:\", auc_scores_all)\n",
    "print(\"Mean auc score all:\", auc_scores_all.mean())\n",
    "print(\"Standard deviation of auc scores all:\", auc_scores_all.std())"
   ]
  },
  {
   "cell_type": "code",
   "execution_count": null,
   "metadata": {
    "colab": {
     "base_uri": "https://localhost:8080/"
    },
    "id": "T5HHGzsjoO5h",
    "outputId": "8f4be771-7c71-4a1d-a9e7-21b4ec2eebbb"
   },
   "outputs": [
    {
     "data": {
      "text/plain": [
       "array([ 1., -1.,  1., ..., -1., -1.,  1.])"
      ]
     },
     "execution_count": 38,
     "metadata": {},
     "output_type": "execute_result"
    }
   ],
   "source": [
    "y_test[y_test == 1] = -1\n",
    "y_test[y_test == 0] = 1\n",
    "y_test"
   ]
  },
  {
   "cell_type": "markdown",
   "metadata": {
    "id": "0-nf8w96ocOd"
   },
   "source": [
    "F1 score:"
   ]
  },
  {
   "cell_type": "code",
   "execution_count": null,
   "metadata": {
    "colab": {
     "base_uri": "https://localhost:8080/"
    },
    "id": "r5hABAsXobcM",
    "outputId": "fed9c63f-acf6-4260-9d7b-9608f3d377a8"
   },
   "outputs": [
    {
     "name": "stdout",
     "output_type": "stream",
     "text": [
      "F1 scores: [0.76848354 0.76989247 0.77498664 0.73318633 0.76584318]\n",
      "Mean F1 score: 0.7624784318834912\n",
      "Standard deviation of F1 scores: 0.014945456839712332\n"
     ]
    }
   ],
   "source": [
    "f1_scores1 = cross_val_score(best_clf, X_test, y_test, cv=5, scoring='f1')\n",
    "print(\"F1 scores:\", f1_scores1)\n",
    "print(\"Mean F1 score:\", f1_scores1.mean())\n",
    "print(\"Standard deviation of F1 scores:\", f1_scores1.std())"
   ]
  },
  {
   "cell_type": "markdown",
   "metadata": {
    "id": "HAxPhrQipJgd"
   },
   "source": [
    "### FST V-VI"
   ]
  },
  {
   "cell_type": "markdown",
   "metadata": {
    "id": "q048qXZppSa0"
   },
   "source": [
    "auc:"
   ]
  },
  {
   "cell_type": "code",
   "execution_count": null,
   "metadata": {
    "colab": {
     "base_uri": "https://localhost:8080/"
    },
    "id": "wD671y5vpRzq",
    "outputId": "887cd85a-c369-4d4a-8d8c-f587fea24eaa"
   },
   "outputs": [
    {
     "name": "stdout",
     "output_type": "stream",
     "text": [
      "auc scores darker: [0.47346126 0.47801434 0.49056669 0.44948821 0.47609108]\n",
      "Mean auc score darker: 0.4735243159745933\n",
      "Standard deviation of auc scores darker: 0.013378563385241177\n"
     ]
    }
   ],
   "source": [
    "\n",
    "auc_scores_darker = cross_val_score(best_clf, X_test, y_test, cv=5, scoring=roc_auc_scorer)\n",
    "\n",
    "print(\"auc scores darker:\", auc_scores_darker)\n",
    "print(\"Mean auc score darker:\", auc_scores_darker.mean())\n",
    "print(\"Standard deviation of auc scores darker:\", auc_scores_darker.std())"
   ]
  },
  {
   "cell_type": "markdown",
   "metadata": {
    "id": "qS0jzyW1pTeF"
   },
   "source": [
    "F1 score:"
   ]
  },
  {
   "cell_type": "code",
   "execution_count": null,
   "metadata": {
    "colab": {
     "base_uri": "https://localhost:8080/"
    },
    "id": "v94Gd8WCpqeJ",
    "outputId": "626f7e85-113b-47d7-fa0f-d3afabeed06c"
   },
   "outputs": [
    {
     "data": {
      "text/plain": [
       "array([1., 1., 1., ..., 1., 1., 1.])"
      ]
     },
     "execution_count": 49,
     "metadata": {},
     "output_type": "execute_result"
    }
   ],
   "source": [
    "y_test[y_test == 1] = -1\n",
    "y_test[y_test == 0] = 1\n",
    "y_test"
   ]
  },
  {
   "cell_type": "code",
   "execution_count": null,
   "metadata": {
    "colab": {
     "base_uri": "https://localhost:8080/"
    },
    "id": "XYzJKFL4pP6_",
    "outputId": "5b9d9eab-07f8-4b31-b4ad-5127e52519ed"
   },
   "outputs": [
    {
     "name": "stdout",
     "output_type": "stream",
     "text": [
      "F1 scores darker: [0.8915212  0.89944479 0.89068323 0.89912827 0.90135635]\n",
      "Mean F1 score darker: 0.8964267666331601\n",
      "Standard deviation of F1 scores darker: 0.004421768548569421\n"
     ]
    }
   ],
   "source": [
    "f1_scores_darker = cross_val_score(best_clf, X_test, y_test, cv=5, scoring='f1')\n",
    "print(\"F1 scores darker:\", f1_scores_darker)\n",
    "print(\"Mean F1 score darker:\", f1_scores_darker.mean())\n",
    "print(\"Standard deviation of F1 scores darker:\", f1_scores_darker.std())"
   ]
  },
  {
   "cell_type": "markdown",
   "metadata": {
    "id": "BFLcHQMdrFLI"
   },
   "source": [
    "### FST I-IV"
   ]
  },
  {
   "cell_type": "markdown",
   "metadata": {
    "id": "Oi8JagrvrHEc"
   },
   "source": [
    "auc:"
   ]
  },
  {
   "cell_type": "code",
   "execution_count": null,
   "metadata": {
    "colab": {
     "base_uri": "https://localhost:8080/"
    },
    "id": "il4y7dnTrF_3",
    "outputId": "927ede90-4512-4482-864d-6aa7abc89de4"
   },
   "outputs": [
    {
     "name": "stdout",
     "output_type": "stream",
     "text": [
      "auc scores lighter: [0.53125    0.52981061 0.5305092  0.52122134 0.52230987]\n",
      "Mean auc score lighter: 0.5270202030607065\n",
      "Standard deviation of auc scores lighter: 0.004328156370330682\n"
     ]
    }
   ],
   "source": [
    "\n",
    "auc_scores_lighter = cross_val_score(best_clf, X_test, y_test, cv=5, scoring=roc_auc_scorer)\n",
    "\n",
    "print(\"auc scores lighter:\", auc_scores_lighter)\n",
    "print(\"Mean auc score lighter:\", auc_scores_lighter.mean())\n",
    "print(\"Standard deviation of auc scores lighter:\", auc_scores_lighter.std())"
   ]
  },
  {
   "cell_type": "markdown",
   "metadata": {
    "id": "rgfaMo-ZrI0C"
   },
   "source": [
    "F1 score:"
   ]
  },
  {
   "cell_type": "code",
   "execution_count": null,
   "metadata": {
    "colab": {
     "base_uri": "https://localhost:8080/"
    },
    "id": "nyAvHVgLrRu-",
    "outputId": "3e537a2a-e559-4b81-b4ae-85abc64cfd7a"
   },
   "outputs": [
    {
     "data": {
      "text/plain": [
       "array([ 1., -1.,  1., ...,  1.,  1.,  1.])"
      ]
     },
     "execution_count": 124,
     "metadata": {},
     "output_type": "execute_result"
    }
   ],
   "source": [
    "y_test[y_test == 1] = -1\n",
    "y_test[y_test == 0] = 1\n",
    "y_test"
   ]
  },
  {
   "cell_type": "code",
   "execution_count": null,
   "metadata": {
    "colab": {
     "base_uri": "https://localhost:8080/"
    },
    "id": "C0y8yKM5rGUa",
    "outputId": "113fe02d-391c-4a59-bb4c-e0a72f3cdf25"
   },
   "outputs": [
    {
     "name": "stdout",
     "output_type": "stream",
     "text": [
      "F1 scores lighter: [0.80182232 0.80519481 0.7954023  0.80433542 0.81179138]\n",
      "Mean F1 score lighter: 0.8037092471426975\n",
      "Standard deviation of F1 scores lighter: 0.005300674973846504\n"
     ]
    }
   ],
   "source": [
    "f1_scores_lighter = cross_val_score(best_clf, X_test, y_test, cv=5, scoring='f1')\n",
    "print(\"F1 scores lighter:\", f1_scores_lighter)\n",
    "print(\"Mean F1 score lighter:\", f1_scores_lighter.mean())\n",
    "print(\"Standard deviation of F1 scores lighter:\", f1_scores_lighter.std())"
   ]
  },
  {
   "cell_type": "markdown",
   "metadata": {
    "id": "vVkKXhfUf2WI"
   },
   "source": [
    "## 4.2.2 Histograms"
   ]
  },
  {
   "cell_type": "markdown",
   "metadata": {
    "id": "GjNfFEkiG4qW"
   },
   "source": [
    "Plot the abnormal scores destributions satrified by skin tones For the IF model"
   ]
  },
  {
   "cell_type": "code",
   "execution_count": null,
   "metadata": {
    "colab": {
     "base_uri": "https://localhost:8080/"
    },
    "id": "OQzI99P2f6VX",
    "outputId": "b7200ef9-7558-4c4b-ea63-7bfb128b96e3"
   },
   "outputs": [
    {
     "name": "stdout",
     "output_type": "stream",
     "text": [
      "Number of inliers samples: 4001\n",
      "Number of darker outliers samples: 527\n",
      "Number of lighter outliers samples: 1320\n"
     ]
    }
   ],
   "source": [
    "Plot the abnormal scores destributions satrified b skin tones anomaly_scores_inliers = best_clf.score_samples(X_test[y_test== 0])\n",
    "anomaly_scores_darker = best_clf.score_samples(X_test[y_test== 2])\n",
    "anomaly_scores_lighter= best_clf.score_samples(X_test[y_test == 3])\n",
    "\n",
    "print(\"Number of inliers samples:\", np.sum(y_test == 0))\n",
    "print(\"Number of darker outliers samples:\", np.sum(y_test == 2))\n",
    "print(\"Number of lighter outliers samples:\", np.sum(y_test == 3))"
   ]
  },
  {
   "cell_type": "code",
   "execution_count": null,
   "metadata": {
    "colab": {
     "base_uri": "https://localhost:8080/",
     "height": 580
    },
    "id": "tejQV7p0vVyF",
    "outputId": "41965fed-8f37-4436-adaa-52c36046ff97"
   },
   "outputs": [
    {
     "data": {
      "image/png": "[encoded data removed]",
      "text/plain": [
       "<Figure size 1000x600 with 1 Axes>"
      ]
     },
     "metadata": {},
     "output_type": "display_data"
    }
   ],
   "source": [
    "from aux_vis import plot_Histogram\n",
    "\n",
    "plot_Histogram(anomaly_scores_lighter,anomaly_scores_darker,'IF scores for Fitz17k skin types','Anomaly Score','Count')"
   ]
  },
  {
   "cell_type": "markdown",
   "metadata": {
    "id": "PH6LLJHQ1vEW"
   },
   "source": [
    "\n",
    "\n",
    "---\n",
    "\n"
   ]
  },
  {
   "cell_type": "markdown",
   "metadata": {
    "id": "YERnIhTfG4qr"
   },
   "source": [
    "## 4.3 AutoEncoder"
   ]
  },
  {
   "cell_type": "code",
   "execution_count": 32,
   "metadata": {
    "id": "OqWu8vtwxgll"
   },
   "outputs": [],
   "source": [
    "from ae.py import Autoencoder\n",
    "from torchsummary import summary\n"
   ]
  },
  {
   "cell_type": "markdown",
   "metadata": {
    "id": "00IKvHaU8c7m"
   },
   "source": [
    "Load the saved weights pickle file of the AutoEncoder "
   ]
  },
  {
   "cell_type": "code",
   "execution_count": 33,
   "metadata": {
    "colab": {
     "base_uri": "https://localhost:8080/"
    },
    "id": "ZNzqjsGiG4qs",
    "outputId": "c24aad2c-b7bb-497b-8ff2-1e3b6349389e"
   },
   "outputs": [
    {
     "data": {
      "text/plain": [
       "<All keys matched successfully>"
      ]
     },
     "execution_count": 33,
     "metadata": {},
     "output_type": "execute_result"
    }
   ],
   "source": [
    "ae = Autoencoder()\n",
    "ae.load_state_dict(torch.load(\"/content/autoencoder.pkl\", map_location=\"cpu\"))"
   ]
  },
  {
   "cell_type": "markdown",
   "metadata": {
    "id": "AnQJ9OxnTqOF"
   },
   "source": [
    "load the reconstruction error_df"
   ]
  },
  {
   "cell_type": "code",
   "execution_count": null,
   "metadata": {
    "colab": {
     "base_uri": "https://localhost:8080/",
     "height": 424
    },
    "id": "4sCI3gemk6SM",
    "outputId": "ae6ff537-feb8-488e-dc06-0153668311d1"
   },
   "outputs": [
    {
     "data": {
      "text/html": [
       "\n",
       "  <div id=\"df-1fd3d3d3-d6bc-4687-8cfb-fcbe61de0d31\" class=\"colab-df-container\">\n",
       "    <div>\n",
       "<style scoped>\n",
       "    .dataframe tbody tr th:only-of-type {\n",
       "        vertical-align: middle;\n",
       "    }\n",
       "\n",
       "    .dataframe tbody tr th {\n",
       "        vertical-align: top;\n",
       "    }\n",
       "\n",
       "    .dataframe thead th {\n",
       "        text-align: right;\n",
       "    }\n",
       "</style>\n",
       "<table border=\"1\" class=\"dataframe\">\n",
       "  <thead>\n",
       "    <tr style=\"text-align: right;\">\n",
       "      <th></th>\n",
       "      <th>re</th>\n",
       "      <th>labels</th>\n",
       "    </tr>\n",
       "  </thead>\n",
       "  <tbody>\n",
       "    <tr>\n",
       "      <th>0</th>\n",
       "      <td>4.342609</td>\n",
       "      <td>0</td>\n",
       "    </tr>\n",
       "    <tr>\n",
       "      <th>1</th>\n",
       "      <td>4.265398</td>\n",
       "      <td>0</td>\n",
       "    </tr>\n",
       "    <tr>\n",
       "      <th>2</th>\n",
       "      <td>4.080728</td>\n",
       "      <td>0</td>\n",
       "    </tr>\n",
       "    <tr>\n",
       "      <th>3</th>\n",
       "      <td>24.960615</td>\n",
       "      <td>2</td>\n",
       "    </tr>\n",
       "    <tr>\n",
       "      <th>4</th>\n",
       "      <td>10.046871</td>\n",
       "      <td>0</td>\n",
       "    </tr>\n",
       "    <tr>\n",
       "      <th>...</th>\n",
       "      <td>...</td>\n",
       "      <td>...</td>\n",
       "    </tr>\n",
       "    <tr>\n",
       "      <th>32481</th>\n",
       "      <td>44.714958</td>\n",
       "      <td>1</td>\n",
       "    </tr>\n",
       "    <tr>\n",
       "      <th>32482</th>\n",
       "      <td>2.297856</td>\n",
       "      <td>0</td>\n",
       "    </tr>\n",
       "    <tr>\n",
       "      <th>32483</th>\n",
       "      <td>2.614737</td>\n",
       "      <td>0</td>\n",
       "    </tr>\n",
       "    <tr>\n",
       "      <th>32484</th>\n",
       "      <td>4.884062</td>\n",
       "      <td>0</td>\n",
       "    </tr>\n",
       "    <tr>\n",
       "      <th>32485</th>\n",
       "      <td>22.133991</td>\n",
       "      <td>1</td>\n",
       "    </tr>\n",
       "  </tbody>\n",
       "</table>\n",
       "<p>32486 rows × 2 columns</p>\n",
       "</div>\n",
       "    <div class=\"colab-df-buttons\">\n",
       "\n",
       "  <div class=\"colab-df-container\">\n",
       "    <button class=\"colab-df-convert\" onclick=\"convertToInteractive('df-1fd3d3d3-d6bc-4687-8cfb-fcbe61de0d31')\"\n",
       "            title=\"Convert this dataframe to an interactive table.\"\n",
       "            style=\"display:none;\">\n",
       "\n",
       "  <svg xmlns=\"http://www.w3.org/2000/svg\" height=\"24px\" viewBox=\"0 -960 960 960\">\n",
       "    <path d=\"M120-120v-720h720v720H120Zm60-500h600v-160H180v160Zm220 220h160v-160H400v160Zm0 220h160v-160H400v160ZM180-400h160v-160H180v160Zm440 0h160v-160H620v160ZM180-180h160v-160H180v160Zm440 0h160v-160H620v160Z\"/>\n",
       "  </svg>\n",
       "    </button>\n",
       "\n",
       "  <style>\n",
       "    .colab-df-container {\n",
       "      display:flex;\n",
       "      gap: 12px;\n",
       "    }\n",
       "\n",
       "    .colab-df-convert {\n",
       "      background-color: #E8F0FE;\n",
       "      border: none;\n",
       "      border-radius: 50%;\n",
       "      cursor: pointer;\n",
       "      display: none;\n",
       "      fill: #1967D2;\n",
       "      height: 32px;\n",
       "      padding: 0 0 0 0;\n",
       "      width: 32px;\n",
       "    }\n",
       "\n",
       "    .colab-df-convert:hover {\n",
       "      background-color: #E2EBFA;\n",
       "      box-shadow: 0px 1px 2px rgba(60, 64, 67, 0.3), 0px 1px 3px 1px rgba(60, 64, 67, 0.15);\n",
       "      fill: #174EA6;\n",
       "    }\n",
       "\n",
       "    .colab-df-buttons div {\n",
       "      margin-bottom: 4px;\n",
       "    }\n",
       "\n",
       "    [theme=dark] .colab-df-convert {\n",
       "      background-color: #3B4455;\n",
       "      fill: #D2E3FC;\n",
       "    }\n",
       "\n",
       "    [theme=dark] .colab-df-convert:hover {\n",
       "      background-color: #434B5C;\n",
       "      box-shadow: 0px 1px 3px 1px rgba(0, 0, 0, 0.15);\n",
       "      filter: drop-shadow(0px 1px 2px rgba(0, 0, 0, 0.3));\n",
       "      fill: #FFFFFF;\n",
       "    }\n",
       "  </style>\n",
       "\n",
       "    <script>\n",
       "      const buttonEl =\n",
       "        document.querySelector('#df-1fd3d3d3-d6bc-4687-8cfb-fcbe61de0d31 button.colab-df-convert');\n",
       "      buttonEl.style.display =\n",
       "        google.colab.kernel.accessAllowed ? 'block' : 'none';\n",
       "\n",
       "      async function convertToInteractive(key) {\n",
       "        const element = document.querySelector('#df-1fd3d3d3-d6bc-4687-8cfb-fcbe61de0d31');\n",
       "        const dataTable =\n",
       "          await google.colab.kernel.invokeFunction('convertToInteractive',\n",
       "                                                    [key], {});\n",
       "        if (!dataTable) return;\n",
       "\n",
       "        const docLinkHtml = 'Like what you see? Visit the ' +\n",
       "          '<a target=\"_blank\" href=https://colab.research.google.com/notebooks/data_table.ipynb>data table notebook</a>'\n",
       "          + ' to learn more about interactive tables.';\n",
       "        element.innerHTML = '';\n",
       "        dataTable['output_type'] = 'display_data';\n",
       "        await google.colab.output.renderOutput(dataTable, element);\n",
       "        const docLink = document.createElement('div');\n",
       "        docLink.innerHTML = docLinkHtml;\n",
       "        element.appendChild(docLink);\n",
       "      }\n",
       "    </script>\n",
       "  </div>\n",
       "\n",
       "\n",
       "<div id=\"df-dc69cbad-d8a5-4474-8d17-e611cd6e74ae\">\n",
       "  <button class=\"colab-df-quickchart\" onclick=\"quickchart('df-dc69cbad-d8a5-4474-8d17-e611cd6e74ae')\"\n",
       "            title=\"Suggest charts.\"\n",
       "            style=\"display:none;\">\n",
       "\n",
       "<svg xmlns=\"http://www.w3.org/2000/svg\" height=\"24px\"viewBox=\"0 0 24 24\"\n",
       "     width=\"24px\">\n",
       "    <g>\n",
       "        <path d=\"M19 3H5c-1.1 0-2 .9-2 2v14c0 1.1.9 2 2 2h14c1.1 0 2-.9 2-2V5c0-1.1-.9-2-2-2zM9 17H7v-7h2v7zm4 0h-2V7h2v10zm4 0h-2v-4h2v4z\"/>\n",
       "    </g>\n",
       "</svg>\n",
       "  </button>\n",
       "\n",
       "<style>\n",
       "  .colab-df-quickchart {\n",
       "      --bg-color: #E8F0FE;\n",
       "      --fill-color: #1967D2;\n",
       "      --hover-bg-color: #E2EBFA;\n",
       "      --hover-fill-color: #174EA6;\n",
       "      --disabled-fill-color: #AAA;\n",
       "      --disabled-bg-color: #DDD;\n",
       "  }\n",
       "\n",
       "  [theme=dark] .colab-df-quickchart {\n",
       "      --bg-color: #3B4455;\n",
       "      --fill-color: #D2E3FC;\n",
       "      --hover-bg-color: #434B5C;\n",
       "      --hover-fill-color: #FFFFFF;\n",
       "      --disabled-bg-color: #3B4455;\n",
       "      --disabled-fill-color: #666;\n",
       "  }\n",
       "\n",
       "  .colab-df-quickchart {\n",
       "    background-color: var(--bg-color);\n",
       "    border: none;\n",
       "    border-radius: 50%;\n",
       "    cursor: pointer;\n",
       "    display: none;\n",
       "    fill: var(--fill-color);\n",
       "    height: 32px;\n",
       "    padding: 0;\n",
       "    width: 32px;\n",
       "  }\n",
       "\n",
       "  .colab-df-quickchart:hover {\n",
       "    background-color: var(--hover-bg-color);\n",
       "    box-shadow: 0 1px 2px rgba(60, 64, 67, 0.3), 0 1px 3px 1px rgba(60, 64, 67, 0.15);\n",
       "    fill: var(--button-hover-fill-color);\n",
       "  }\n",
       "\n",
       "  .colab-df-quickchart-complete:disabled,\n",
       "  .colab-df-quickchart-complete:disabled:hover {\n",
       "    background-color: var(--disabled-bg-color);\n",
       "    fill: var(--disabled-fill-color);\n",
       "    box-shadow: none;\n",
       "  }\n",
       "\n",
       "  .colab-df-spinner {\n",
       "    border: 2px solid var(--fill-color);\n",
       "    border-color: transparent;\n",
       "    border-bottom-color: var(--fill-color);\n",
       "    animation:\n",
       "      spin 1s steps(1) infinite;\n",
       "  }\n",
       "\n",
       "  @keyframes spin {\n",
       "    0% {\n",
       "      border-color: transparent;\n",
       "      border-bottom-color: var(--fill-color);\n",
       "      border-left-color: var(--fill-color);\n",
       "    }\n",
       "    20% {\n",
       "      border-color: transparent;\n",
       "      border-left-color: var(--fill-color);\n",
       "      border-top-color: var(--fill-color);\n",
       "    }\n",
       "    30% {\n",
       "      border-color: transparent;\n",
       "      border-left-color: var(--fill-color);\n",
       "      border-top-color: var(--fill-color);\n",
       "      border-right-color: var(--fill-color);\n",
       "    }\n",
       "    40% {\n",
       "      border-color: transparent;\n",
       "      border-right-color: var(--fill-color);\n",
       "      border-top-color: var(--fill-color);\n",
       "    }\n",
       "    60% {\n",
       "      border-color: transparent;\n",
       "      border-right-color: var(--fill-color);\n",
       "    }\n",
       "    80% {\n",
       "      border-color: transparent;\n",
       "      border-right-color: var(--fill-color);\n",
       "      border-bottom-color: var(--fill-color);\n",
       "    }\n",
       "    90% {\n",
       "      border-color: transparent;\n",
       "      border-bottom-color: var(--fill-color);\n",
       "    }\n",
       "  }\n",
       "</style>\n",
       "\n",
       "  <script>\n",
       "    async function quickchart(key) {\n",
       "      const quickchartButtonEl =\n",
       "        document.querySelector('#' + key + ' button');\n",
       "      quickchartButtonEl.disabled = true;  // To prevent multiple clicks.\n",
       "      quickchartButtonEl.classList.add('colab-df-spinner');\n",
       "      try {\n",
       "        const charts = await google.colab.kernel.invokeFunction(\n",
       "            'suggestCharts', [key], {});\n",
       "      } catch (error) {\n",
       "        console.error('Error during call to suggestCharts:', error);\n",
       "      }\n",
       "      quickchartButtonEl.classList.remove('colab-df-spinner');\n",
       "      quickchartButtonEl.classList.add('colab-df-quickchart-complete');\n",
       "    }\n",
       "    (() => {\n",
       "      let quickchartButtonEl =\n",
       "        document.querySelector('#df-dc69cbad-d8a5-4474-8d17-e611cd6e74ae button');\n",
       "      quickchartButtonEl.style.display =\n",
       "        google.colab.kernel.accessAllowed ? 'block' : 'none';\n",
       "    })();\n",
       "  </script>\n",
       "</div>\n",
       "    </div>\n",
       "  </div>\n"
      ],
      "text/plain": [
       "              re  labels\n",
       "0       4.342609       0\n",
       "1       4.265398       0\n",
       "2       4.080728       0\n",
       "3      24.960615       2\n",
       "4      10.046871       0\n",
       "...          ...     ...\n",
       "32481  44.714958       1\n",
       "32482   2.297856       0\n",
       "32483   2.614737       0\n",
       "32484   4.884062       0\n",
       "32485  22.133991       1\n",
       "\n",
       "[32486 rows x 2 columns]"
      ]
     },
     "execution_count": 12,
     "metadata": {},
     "output_type": "execute_result"
    }
   ],
   "source": [
    "error_df = pd.read_csv('error_df.csv')\n",
    "error_df"
   ]
  },
  {
   "cell_type": "markdown",
   "metadata": {
    "id": "00IKvHaU8c7m"
   },
   "source": [
    "Find the Threshold vales of FST V-VI and FST I-IV categories"
   ]
  },
  {
   "cell_type": "code",
   "execution_count": null,
   "metadata": {
    "id": "lFbA7AV6kcvR"
   },
   "outputs": [],
   "source": [
    "from scipy.stats import gaussian_kde\n",
    "\n",
    "x = np.arange(0, 100)\n",
    "t = gaussian_kde(error_df.re[error_df.labels == 0].values)\n",
    "#e = gaussian_kde(error_df.re[error_df.labels == 0].values)\n",
    "f = gaussian_kde(error_df.re[error_df.labels == 2].values)\n",
    "g = gaussian_kde(error_df.re[error_df.labels == 1].values)\n",
    "idxs_L = np.argwhere(np.diff(np.sign(t(x) - g(x)))).flatten() #FST I-IV\n",
    "idxs_D = np.argwhere(np.diff(np.sign(t(x) - f(x)))).flatten() #FST V-VI\n"
   ]
  },
  {
   "cell_type": "code",
   "execution_count": null,
   "metadata": {
    "colab": {
     "base_uri": "https://localhost:8080/"
    },
    "id": "430y7Yw_m1JP",
    "outputId": "d39c5e6f-d64a-4e3e-b518-be5a96977fb6"
   },
   "outputs": [
    {
     "name": "stdout",
     "output_type": "stream",
     "text": [
      "[7] [8]\n"
     ]
    }
   ],
   "source": [
    "print(idxs_L,idxs_D)"
   ]
  },
  {
   "cell_type": "code",
   "execution_count": null,
   "metadata": {
    "colab": {
     "base_uri": "https://localhost:8080/",
     "height": 424
    },
    "id": "d6qziHV4k1u8",
    "outputId": "3205a17c-311c-4c56-830f-2641980a8ae7"
   },
   "outputs": [
    {
     "data": {
      "text/html": [
       "\n",
       "  <div id=\"df-eabf67d4-3ecb-45ef-a710-b9ccd9c99ae1\" class=\"colab-df-container\">\n",
       "    <div>\n",
       "<style scoped>\n",
       "    .dataframe tbody tr th:only-of-type {\n",
       "        vertical-align: middle;\n",
       "    }\n",
       "\n",
       "    .dataframe tbody tr th {\n",
       "        vertical-align: top;\n",
       "    }\n",
       "\n",
       "    .dataframe thead th {\n",
       "        text-align: right;\n",
       "    }\n",
       "</style>\n",
       "<table border=\"1\" class=\"dataframe\">\n",
       "  <thead>\n",
       "    <tr style=\"text-align: right;\">\n",
       "      <th></th>\n",
       "      <th>re</th>\n",
       "      <th>labels</th>\n",
       "      <th>output</th>\n",
       "    </tr>\n",
       "  </thead>\n",
       "  <tbody>\n",
       "    <tr>\n",
       "      <th>0</th>\n",
       "      <td>4.342609</td>\n",
       "      <td>0</td>\n",
       "      <td>0</td>\n",
       "    </tr>\n",
       "    <tr>\n",
       "      <th>1</th>\n",
       "      <td>4.265398</td>\n",
       "      <td>0</td>\n",
       "      <td>0</td>\n",
       "    </tr>\n",
       "    <tr>\n",
       "      <th>2</th>\n",
       "      <td>4.080728</td>\n",
       "      <td>0</td>\n",
       "      <td>0</td>\n",
       "    </tr>\n",
       "    <tr>\n",
       "      <th>3</th>\n",
       "      <td>24.960615</td>\n",
       "      <td>2</td>\n",
       "      <td>1</td>\n",
       "    </tr>\n",
       "    <tr>\n",
       "      <th>4</th>\n",
       "      <td>10.046871</td>\n",
       "      <td>0</td>\n",
       "      <td>1</td>\n",
       "    </tr>\n",
       "    <tr>\n",
       "      <th>...</th>\n",
       "      <td>...</td>\n",
       "      <td>...</td>\n",
       "      <td>...</td>\n",
       "    </tr>\n",
       "    <tr>\n",
       "      <th>32481</th>\n",
       "      <td>44.714958</td>\n",
       "      <td>1</td>\n",
       "      <td>1</td>\n",
       "    </tr>\n",
       "    <tr>\n",
       "      <th>32482</th>\n",
       "      <td>2.297856</td>\n",
       "      <td>0</td>\n",
       "      <td>0</td>\n",
       "    </tr>\n",
       "    <tr>\n",
       "      <th>32483</th>\n",
       "      <td>2.614737</td>\n",
       "      <td>0</td>\n",
       "      <td>0</td>\n",
       "    </tr>\n",
       "    <tr>\n",
       "      <th>32484</th>\n",
       "      <td>4.884062</td>\n",
       "      <td>0</td>\n",
       "      <td>0</td>\n",
       "    </tr>\n",
       "    <tr>\n",
       "      <th>32485</th>\n",
       "      <td>22.133991</td>\n",
       "      <td>1</td>\n",
       "      <td>1</td>\n",
       "    </tr>\n",
       "  </tbody>\n",
       "</table>\n",
       "<p>32486 rows × 3 columns</p>\n",
       "</div>\n",
       "    <div class=\"colab-df-buttons\">\n",
       "\n",
       "  <div class=\"colab-df-container\">\n",
       "    <button class=\"colab-df-convert\" onclick=\"convertToInteractive('df-eabf67d4-3ecb-45ef-a710-b9ccd9c99ae1')\"\n",
       "            title=\"Convert this dataframe to an interactive table.\"\n",
       "            style=\"display:none;\">\n",
       "\n",
       "  <svg xmlns=\"http://www.w3.org/2000/svg\" height=\"24px\" viewBox=\"0 -960 960 960\">\n",
       "    <path d=\"M120-120v-720h720v720H120Zm60-500h600v-160H180v160Zm220 220h160v-160H400v160Zm0 220h160v-160H400v160ZM180-400h160v-160H180v160Zm440 0h160v-160H620v160ZM180-180h160v-160H180v160Zm440 0h160v-160H620v160Z\"/>\n",
       "  </svg>\n",
       "    </button>\n",
       "\n",
       "  <style>\n",
       "    .colab-df-container {\n",
       "      display:flex;\n",
       "      gap: 12px;\n",
       "    }\n",
       "\n",
       "    .colab-df-convert {\n",
       "      background-color: #E8F0FE;\n",
       "      border: none;\n",
       "      border-radius: 50%;\n",
       "      cursor: pointer;\n",
       "      display: none;\n",
       "      fill: #1967D2;\n",
       "      height: 32px;\n",
       "      padding: 0 0 0 0;\n",
       "      width: 32px;\n",
       "    }\n",
       "\n",
       "    .colab-df-convert:hover {\n",
       "      background-color: #E2EBFA;\n",
       "      box-shadow: 0px 1px 2px rgba(60, 64, 67, 0.3), 0px 1px 3px 1px rgba(60, 64, 67, 0.15);\n",
       "      fill: #174EA6;\n",
       "    }\n",
       "\n",
       "    .colab-df-buttons div {\n",
       "      margin-bottom: 4px;\n",
       "    }\n",
       "\n",
       "    [theme=dark] .colab-df-convert {\n",
       "      background-color: #3B4455;\n",
       "      fill: #D2E3FC;\n",
       "    }\n",
       "\n",
       "    [theme=dark] .colab-df-convert:hover {\n",
       "      background-color: #434B5C;\n",
       "      box-shadow: 0px 1px 3px 1px rgba(0, 0, 0, 0.15);\n",
       "      filter: drop-shadow(0px 1px 2px rgba(0, 0, 0, 0.3));\n",
       "      fill: #FFFFFF;\n",
       "    }\n",
       "  </style>\n",
       "\n",
       "    <script>\n",
       "      const buttonEl =\n",
       "        document.querySelector('#df-eabf67d4-3ecb-45ef-a710-b9ccd9c99ae1 button.colab-df-convert');\n",
       "      buttonEl.style.display =\n",
       "        google.colab.kernel.accessAllowed ? 'block' : 'none';\n",
       "\n",
       "      async function convertToInteractive(key) {\n",
       "        const element = document.querySelector('#df-eabf67d4-3ecb-45ef-a710-b9ccd9c99ae1');\n",
       "        const dataTable =\n",
       "          await google.colab.kernel.invokeFunction('convertToInteractive',\n",
       "                                                    [key], {});\n",
       "        if (!dataTable) return;\n",
       "\n",
       "        const docLinkHtml = 'Like what you see? Visit the ' +\n",
       "          '<a target=\"_blank\" href=https://colab.research.google.com/notebooks/data_table.ipynb>data table notebook</a>'\n",
       "          + ' to learn more about interactive tables.';\n",
       "        element.innerHTML = '';\n",
       "        dataTable['output_type'] = 'display_data';\n",
       "        await google.colab.output.renderOutput(dataTable, element);\n",
       "        const docLink = document.createElement('div');\n",
       "        docLink.innerHTML = docLinkHtml;\n",
       "        element.appendChild(docLink);\n",
       "      }\n",
       "    </script>\n",
       "  </div>\n",
       "\n",
       "\n",
       "<div id=\"df-825d4bed-9a34-4344-b2bf-589f4e7b6983\">\n",
       "  <button class=\"colab-df-quickchart\" onclick=\"quickchart('df-825d4bed-9a34-4344-b2bf-589f4e7b6983')\"\n",
       "            title=\"Suggest charts.\"\n",
       "            style=\"display:none;\">\n",
       "\n",
       "<svg xmlns=\"http://www.w3.org/2000/svg\" height=\"24px\"viewBox=\"0 0 24 24\"\n",
       "     width=\"24px\">\n",
       "    <g>\n",
       "        <path d=\"M19 3H5c-1.1 0-2 .9-2 2v14c0 1.1.9 2 2 2h14c1.1 0 2-.9 2-2V5c0-1.1-.9-2-2-2zM9 17H7v-7h2v7zm4 0h-2V7h2v10zm4 0h-2v-4h2v4z\"/>\n",
       "    </g>\n",
       "</svg>\n",
       "  </button>\n",
       "\n",
       "<style>\n",
       "  .colab-df-quickchart {\n",
       "      --bg-color: #E8F0FE;\n",
       "      --fill-color: #1967D2;\n",
       "      --hover-bg-color: #E2EBFA;\n",
       "      --hover-fill-color: #174EA6;\n",
       "      --disabled-fill-color: #AAA;\n",
       "      --disabled-bg-color: #DDD;\n",
       "  }\n",
       "\n",
       "  [theme=dark] .colab-df-quickchart {\n",
       "      --bg-color: #3B4455;\n",
       "      --fill-color: #D2E3FC;\n",
       "      --hover-bg-color: #434B5C;\n",
       "      --hover-fill-color: #FFFFFF;\n",
       "      --disabled-bg-color: #3B4455;\n",
       "      --disabled-fill-color: #666;\n",
       "  }\n",
       "\n",
       "  .colab-df-quickchart {\n",
       "    background-color: var(--bg-color);\n",
       "    border: none;\n",
       "    border-radius: 50%;\n",
       "    cursor: pointer;\n",
       "    display: none;\n",
       "    fill: var(--fill-color);\n",
       "    height: 32px;\n",
       "    padding: 0;\n",
       "    width: 32px;\n",
       "  }\n",
       "\n",
       "  .colab-df-quickchart:hover {\n",
       "    background-color: var(--hover-bg-color);\n",
       "    box-shadow: 0 1px 2px rgba(60, 64, 67, 0.3), 0 1px 3px 1px rgba(60, 64, 67, 0.15);\n",
       "    fill: var(--button-hover-fill-color);\n",
       "  }\n",
       "\n",
       "  .colab-df-quickchart-complete:disabled,\n",
       "  .colab-df-quickchart-complete:disabled:hover {\n",
       "    background-color: var(--disabled-bg-color);\n",
       "    fill: var(--disabled-fill-color);\n",
       "    box-shadow: none;\n",
       "  }\n",
       "\n",
       "  .colab-df-spinner {\n",
       "    border: 2px solid var(--fill-color);\n",
       "    border-color: transparent;\n",
       "    border-bottom-color: var(--fill-color);\n",
       "    animation:\n",
       "      spin 1s steps(1) infinite;\n",
       "  }\n",
       "\n",
       "  @keyframes spin {\n",
       "    0% {\n",
       "      border-color: transparent;\n",
       "      border-bottom-color: var(--fill-color);\n",
       "      border-left-color: var(--fill-color);\n",
       "    }\n",
       "    20% {\n",
       "      border-color: transparent;\n",
       "      border-left-color: var(--fill-color);\n",
       "      border-top-color: var(--fill-color);\n",
       "    }\n",
       "    30% {\n",
       "      border-color: transparent;\n",
       "      border-left-color: var(--fill-color);\n",
       "      border-top-color: var(--fill-color);\n",
       "      border-right-color: var(--fill-color);\n",
       "    }\n",
       "    40% {\n",
       "      border-color: transparent;\n",
       "      border-right-color: var(--fill-color);\n",
       "      border-top-color: var(--fill-color);\n",
       "    }\n",
       "    60% {\n",
       "      border-color: transparent;\n",
       "      border-right-color: var(--fill-color);\n",
       "    }\n",
       "    80% {\n",
       "      border-color: transparent;\n",
       "      border-right-color: var(--fill-color);\n",
       "      border-bottom-color: var(--fill-color);\n",
       "    }\n",
       "    90% {\n",
       "      border-color: transparent;\n",
       "      border-bottom-color: var(--fill-color);\n",
       "    }\n",
       "  }\n",
       "</style>\n",
       "\n",
       "  <script>\n",
       "    async function quickchart(key) {\n",
       "      const quickchartButtonEl =\n",
       "        document.querySelector('#' + key + ' button');\n",
       "      quickchartButtonEl.disabled = true;  // To prevent multiple clicks.\n",
       "      quickchartButtonEl.classList.add('colab-df-spinner');\n",
       "      try {\n",
       "        const charts = await google.colab.kernel.invokeFunction(\n",
       "            'suggestCharts', [key], {});\n",
       "      } catch (error) {\n",
       "        console.error('Error during call to suggestCharts:', error);\n",
       "      }\n",
       "      quickchartButtonEl.classList.remove('colab-df-spinner');\n",
       "      quickchartButtonEl.classList.add('colab-df-quickchart-complete');\n",
       "    }\n",
       "    (() => {\n",
       "      let quickchartButtonEl =\n",
       "        document.querySelector('#df-825d4bed-9a34-4344-b2bf-589f4e7b6983 button');\n",
       "      quickchartButtonEl.style.display =\n",
       "        google.colab.kernel.accessAllowed ? 'block' : 'none';\n",
       "    })();\n",
       "  </script>\n",
       "</div>\n",
       "    </div>\n",
       "  </div>\n"
      ],
      "text/plain": [
       "              re  labels  output\n",
       "0       4.342609       0       0\n",
       "1       4.265398       0       0\n",
       "2       4.080728       0       0\n",
       "3      24.960615       2       1\n",
       "4      10.046871       0       1\n",
       "...          ...     ...     ...\n",
       "32481  44.714958       1       1\n",
       "32482   2.297856       0       0\n",
       "32483   2.614737       0       0\n",
       "32484   4.884062       0       0\n",
       "32485  22.133991       1       1\n",
       "\n",
       "[32486 rows x 3 columns]"
      ]
     },
     "execution_count": 16,
     "metadata": {},
     "output_type": "execute_result"
    }
   ],
   "source": [
    "threshold_fixed_L = idxs_L\n",
    "threshold_fixed_D = idxs_D\n",
    "\n",
    "def apply_threshold(x):\n",
    "    if (x <= threshold_fixed_L) & (x <= threshold_fixed_D):\n",
    "        return 0\n",
    "    else:\n",
    "        return 1\n",
    "\n",
    "\n",
    "\n",
    "error_df['output'] = error_df['re'].apply(apply_threshold)\n",
    "error_df"
   ]
  },
  {
   "cell_type": "markdown",
   "metadata": {
    "id": "PwcfbyCA0MeH"
   },
   "source": [
    "### 4.3.1 Histograms"
   ]
  },
  {
   "cell_type": "markdown",
   "metadata": {
    "id": "GjNfFEkiG4qW"
   },
   "source": [
    "Plot the abnormal scores destributions satrified by skin tones For the Ae model"
   ]
  },
  {
   "cell_type": "code",
   "execution_count": null,
   "metadata": {
    "colab": {
     "base_uri": "https://localhost:8080/"
    },
    "id": "Ld7QWtlWnPR8",
    "outputId": "a8be33fa-c00b-4cb9-d8ec-6ac07b615a92"
   },
   "outputs": [
    {
     "name": "stdout",
     "output_type": "stream",
     "text": [
      "Count of lighter: 9974\n",
      "Count of darker: 1296\n",
      "Count of inlier: 16935\n"
     ]
    }
   ],
   "source": [
    "re_Lighter = error_df[(error_df['labels'] == 1) & (error_df['output'] == 1)]['re']\n",
    "re_Darker = error_df[(error_df['labels'] == 2) & (error_df['output'] == 1)]['re']\n",
    "re_Inlier = error_df[(error_df['labels'] == 0) & (error_df['output'] == 0)]['re']\n",
    "\n",
    "# Print counts\n",
    "print(\"Count of lighter:\", len(re_Lighter))Plot the abnormal scores destributions satrified by skin tones For the IF model\n",
    "print(\"Count of darker:\", len(re_Darker))\n",
    "print(\"Count of inlier:\", len(re_Inlier))"
   ]
  },
  {
   "cell_type": "code",
   "execution_count": null,
   "metadata": {
    "colab": {
     "base_uri": "https://localhost:8080/",
     "height": 580
    },
    "id": "byGQplSp3seQ",
    "outputId": "a11bbd43-af43-40a2-b76b-c860620f517f"
   },
   "outputs": [
    {
     "data": {
      "image/png": "[encoded data removed]",
      "text/plain": [
       "<Figure size 1000x600 with 1 Axes>"
      ]
     },
     "metadata": {},
     "output_type": "display_data"
    }
   ],
   "source": [
    "from aux_vis import plot_Histogram\n",
    "\n",
    "plot_Histogram(re_Lighter,re_Darker,'reconstruction error for Fitz17k skin types','re','Count')"
   ]
  },
  {
   "cell_type": "markdown",
   "metadata": {
    "id": "pJepsii4lS2s"
   },
   "source": [
    "### 4.3.2 Performance metrics calculation"
   ]
  },
  {
   "cell_type": "code",
   "execution_count": null,
   "metadata": {
    "id": "fFletv9RbgW_"
   },
   "outputs": [],
   "source": [
    "from torch.utils.data import DataLoader, ConcatDataset\n",
    "from sklearn.model_selection import KFold\n",
    "from aux_ae.py import train_and_evaluate\n",
    "\n",
    "device = \"cuda\" if torch.cuda.is_available() else \"cpu\"\n",
    "ae = Autoencoder()\n",
    "ae.to(device)\n",
    "\n",
    "criterion = nn.BCELoss()\n",
    "optimizer = optim.Adam(ae.parameters(), lr=0.0001, betas=(0.5, 0.999))"
   ]
  },
  {
   "cell_type": "markdown",
   "metadata": {
    "id": "7gt5sub8pq-k"
   },
   "source": [
    "### FST I-IV"
   ]
  },
  {
   "cell_type": "code",
   "execution_count": null,
   "metadata": {
    "colab": {
     "base_uri": "https://localhost:8080/"
    },
    "id": "P9kBaJqJb5Zo",
    "outputId": "c68118c8-18a8-4e56-a2db-c3a1ce00ea09"
   },
   "outputs": [
    {
     "name": "stdout",
     "output_type": "stream",
     "text": [
      "Fold 1\n",
      "[Fold 1, Epoch 1, Batch 50] Loss: 0.689\n",
      "[Fold 1, Epoch 1, Batch 100] Loss: 0.682\n",
      "[Fold 1, Epoch 1, Batch 150] Loss: 0.665\n",
      "[Fold 1, Epoch 1, Batch 200] Loss: 0.656\n",
      "[Fold 1, Epoch 1, Batch 250] Loss: 0.649\n",
      "[Fold 1, Epoch 2, Batch 50] Loss: 0.925\n",
      "[Fold 1, Epoch 2, Batch 100] Loss: 0.626\n",
      "[Fold 1, Epoch 2, Batch 150] Loss: 0.607\n",
      "[Fold 1, Epoch 2, Batch 200] Loss: 0.593\n",
      "[Fold 1, Epoch 2, Batch 250] Loss: 0.585\n",
      "[Fold 1, Epoch 3, Batch 50] Loss: 0.832\n",
      "[Fold 1, Epoch 3, Batch 100] Loss: 0.574\n",
      "[Fold 1, Epoch 3, Batch 150] Loss: 0.571\n",
      "[Fold 1, Epoch 3, Batch 200] Loss: 0.569\n",
      "[Fold 1, Epoch 3, Batch 250] Loss: 0.565\n",
      "[Fold 1, Epoch 4, Batch 50] Loss: 0.814\n",
      "[Fold 1, Epoch 4, Batch 100] Loss: 0.562\n",
      "[Fold 1, Epoch 4, Batch 150] Loss: 0.564\n",
      "[Fold 1, Epoch 4, Batch 200] Loss: 0.559\n",
      "[Fold 1, Epoch 4, Batch 250] Loss: 0.557\n",
      "[Fold 1, Epoch 5, Batch 50] Loss: 0.798\n",
      "[Fold 1, Epoch 5, Batch 100] Loss: 0.554\n",
      "[Fold 1, Epoch 5, Batch 150] Loss: 0.556\n",
      "[Fold 1, Epoch 5, Batch 200] Loss: 0.554\n",
      "[Fold 1, Epoch 5, Batch 250] Loss: 0.551\n",
      "[Fold 1, Epoch 6, Batch 50] Loss: 0.792\n",
      "[Fold 1, Epoch 6, Batch 100] Loss: 0.547\n",
      "[Fold 1, Epoch 6, Batch 150] Loss: 0.546\n",
      "[Fold 1, Epoch 6, Batch 200] Loss: 0.546\n",
      "[Fold 1, Epoch 6, Batch 250] Loss: 0.544\n",
      "[Fold 1, Epoch 7, Batch 50] Loss: 0.783\n",
      "[Fold 1, Epoch 7, Batch 100] Loss: 0.542\n",
      "[Fold 1, Epoch 7, Batch 150] Loss: 0.542\n",
      "[Fold 1, Epoch 7, Batch 200] Loss: 0.542\n",
      "[Fold 1, Epoch 7, Batch 250] Loss: 0.542\n",
      "[Fold 1, Epoch 8, Batch 50] Loss: 0.777\n",
      "[Fold 1, Epoch 8, Batch 100] Loss: 0.541\n",
      "[Fold 1, Epoch 8, Batch 150] Loss: 0.539\n",
      "[Fold 1, Epoch 8, Batch 200] Loss: 0.539\n",
      "[Fold 1, Epoch 8, Batch 250] Loss: 0.537\n",
      "[Fold 1, Epoch 9, Batch 50] Loss: 0.772\n",
      "[Fold 1, Epoch 9, Batch 100] Loss: 0.538\n",
      "[Fold 1, Epoch 9, Batch 150] Loss: 0.536\n",
      "[Fold 1, Epoch 9, Batch 200] Loss: 0.538\n",
      "[Fold 1, Epoch 9, Batch 250] Loss: 0.536\n",
      "[Fold 1, Epoch 10, Batch 50] Loss: 0.771\n",
      "[Fold 1, Epoch 10, Batch 100] Loss: 0.535\n",
      "[Fold 1, Epoch 10, Batch 150] Loss: 0.534\n",
      "[Fold 1, Epoch 10, Batch 200] Loss: 0.533\n",
      "[Fold 1, Epoch 10, Batch 250] Loss: 0.536\n",
      "[Fold 1, Epoch 11, Batch 50] Loss: 0.769\n",
      "[Fold 1, Epoch 11, Batch 100] Loss: 0.535\n",
      "[Fold 1, Epoch 11, Batch 150] Loss: 0.530\n",
      "[Fold 1, Epoch 11, Batch 200] Loss: 0.533\n",
      "[Fold 1, Epoch 11, Batch 250] Loss: 0.534\n",
      "[Fold 1, Epoch 12, Batch 50] Loss: 0.768\n",
      "[Fold 1, Epoch 12, Batch 100] Loss: 0.532\n",
      "[Fold 1, Epoch 12, Batch 150] Loss: 0.531\n",
      "[Fold 1, Epoch 12, Batch 200] Loss: 0.530\n",
      "[Fold 1, Epoch 12, Batch 250] Loss: 0.532\n",
      "[Fold 1, Epoch 13, Batch 50] Loss: 0.765\n",
      "[Fold 1, Epoch 13, Batch 100] Loss: 0.531\n",
      "[Fold 1, Epoch 13, Batch 150] Loss: 0.529\n",
      "[Fold 1, Epoch 13, Batch 200] Loss: 0.531\n",
      "[Fold 1, Epoch 13, Batch 250] Loss: 0.529\n",
      "[Fold 1, Epoch 14, Batch 50] Loss: 0.762\n",
      "[Fold 1, Epoch 14, Batch 100] Loss: 0.529\n",
      "[Fold 1, Epoch 14, Batch 150] Loss: 0.530\n",
      "[Fold 1, Epoch 14, Batch 200] Loss: 0.529\n",
      "[Fold 1, Epoch 14, Batch 250] Loss: 0.529\n",
      "[Fold 1, Epoch 15, Batch 50] Loss: 0.759\n",
      "[Fold 1, Epoch 15, Batch 100] Loss: 0.527\n",
      "[Fold 1, Epoch 15, Batch 150] Loss: 0.528\n",
      "[Fold 1, Epoch 15, Batch 200] Loss: 0.529\n",
      "[Fold 1, Epoch 15, Batch 250] Loss: 0.530\n",
      "[Fold 1, Epoch 16, Batch 50] Loss: 0.759\n",
      "[Fold 1, Epoch 16, Batch 100] Loss: 0.527\n",
      "[Fold 1, Epoch 16, Batch 150] Loss: 0.526\n",
      "[Fold 1, Epoch 16, Batch 200] Loss: 0.527\n",
      "[Fold 1, Epoch 16, Batch 250] Loss: 0.530\n",
      "[Fold 1, Epoch 17, Batch 50] Loss: 0.757\n",
      "[Fold 1, Epoch 17, Batch 100] Loss: 0.526\n",
      "[Fold 1, Epoch 17, Batch 150] Loss: 0.523\n",
      "[Fold 1, Epoch 17, Batch 200] Loss: 0.527\n",
      "[Fold 1, Epoch 17, Batch 250] Loss: 0.528\n",
      "[Fold 1, Epoch 18, Batch 50] Loss: 0.762\n",
      "[Fold 1, Epoch 18, Batch 100] Loss: 0.525\n",
      "[Fold 1, Epoch 18, Batch 150] Loss: 0.525\n",
      "[Fold 1, Epoch 18, Batch 200] Loss: 0.527\n",
      "[Fold 1, Epoch 18, Batch 250] Loss: 0.524\n",
      "[Fold 1, Epoch 19, Batch 50] Loss: 0.754\n",
      "[Fold 1, Epoch 19, Batch 100] Loss: 0.525\n",
      "[Fold 1, Epoch 19, Batch 150] Loss: 0.526\n",
      "[Fold 1, Epoch 19, Batch 200] Loss: 0.526\n",
      "[Fold 1, Epoch 19, Batch 250] Loss: 0.526\n",
      "[Fold 1, Epoch 20, Batch 50] Loss: 0.758\n",
      "[Fold 1, Epoch 20, Batch 100] Loss: 0.527\n",
      "[Fold 1, Epoch 20, Batch 150] Loss: 0.521\n",
      "[Fold 1, Epoch 20, Batch 200] Loss: 0.524\n",
      "[Fold 1, Epoch 20, Batch 250] Loss: 0.524\n",
      "[Fold 1, Epoch 21, Batch 50] Loss: 0.754\n",
      "[Fold 1, Epoch 21, Batch 100] Loss: 0.526\n",
      "[Fold 1, Epoch 21, Batch 150] Loss: 0.521\n",
      "[Fold 1, Epoch 21, Batch 200] Loss: 0.524\n",
      "[Fold 1, Epoch 21, Batch 250] Loss: 0.524\n",
      "[Fold 1, Epoch 22, Batch 50] Loss: 0.757\n",
      "[Fold 1, Epoch 22, Batch 100] Loss: 0.525\n",
      "[Fold 1, Epoch 22, Batch 150] Loss: 0.523\n",
      "[Fold 1, Epoch 22, Batch 200] Loss: 0.523\n",
      "[Fold 1, Epoch 22, Batch 250] Loss: 0.522\n"
     ]
    },
    {
     "name": "stderr",
     "output_type": "stream",
     "text": [
      "<ipython-input-56-6d359246784e>:50: UserWarning: Creating a tensor from a list of numpy.ndarrays is extremely slow. Please consider converting the list to a single numpy.ndarray with numpy.array() before converting to a tensor. (Triggered internally at ../torch/csrc/utils/tensor_new.cpp:245.)\n",
      "  auc = aucroc(torch.tensor(true_labels), torch.tensor(predicted_labels))\n"
     ]
    },
    {
     "name": "stdout",
     "output_type": "stream",
     "text": [
      "Fold 2\n",
      "[Fold 2, Epoch 1, Batch 50] Loss: 0.525\n",
      "[Fold 2, Epoch 1, Batch 100] Loss: 0.526\n",
      "[Fold 2, Epoch 1, Batch 150] Loss: 0.527\n",
      "[Fold 2, Epoch 1, Batch 200] Loss: 0.524\n",
      "[Fold 2, Epoch 1, Batch 250] Loss: 0.524\n",
      "[Fold 2, Epoch 2, Batch 50] Loss: 0.757\n",
      "[Fold 2, Epoch 2, Batch 100] Loss: 0.523\n",
      "[Fold 2, Epoch 2, Batch 150] Loss: 0.527\n",
      "[Fold 2, Epoch 2, Batch 200] Loss: 0.523\n",
      "[Fold 2, Epoch 2, Batch 250] Loss: 0.522\n",
      "[Fold 2, Epoch 3, Batch 50] Loss: 0.757\n",
      "[Fold 2, Epoch 3, Batch 100] Loss: 0.524\n",
      "[Fold 2, Epoch 3, Batch 150] Loss: 0.524\n",
      "[Fold 2, Epoch 3, Batch 200] Loss: 0.524\n",
      "[Fold 2, Epoch 3, Batch 250] Loss: 0.524\n",
      "[Fold 2, Epoch 4, Batch 50] Loss: 0.753\n",
      "[Fold 2, Epoch 4, Batch 100] Loss: 0.523\n",
      "[Fold 2, Epoch 4, Batch 150] Loss: 0.526\n",
      "[Fold 2, Epoch 4, Batch 200] Loss: 0.526\n",
      "[Fold 2, Epoch 4, Batch 250] Loss: 0.522\n",
      "[Fold 2, Epoch 5, Batch 50] Loss: 0.753\n",
      "[Fold 2, Epoch 5, Batch 100] Loss: 0.524\n",
      "[Fold 2, Epoch 5, Batch 150] Loss: 0.525\n",
      "[Fold 2, Epoch 5, Batch 200] Loss: 0.523\n",
      "[Fold 2, Epoch 5, Batch 250] Loss: 0.523\n",
      "[Fold 2, Epoch 6, Batch 50] Loss: 0.755\n",
      "[Fold 2, Epoch 6, Batch 100] Loss: 0.524\n",
      "[Fold 2, Epoch 6, Batch 150] Loss: 0.521\n",
      "[Fold 2, Epoch 6, Batch 200] Loss: 0.522\n",
      "[Fold 2, Epoch 6, Batch 250] Loss: 0.523\n",
      "[Fold 2, Epoch 7, Batch 50] Loss: 0.754\n",
      "[Fold 2, Epoch 7, Batch 100] Loss: 0.522\n",
      "[Fold 2, Epoch 7, Batch 150] Loss: 0.522\n",
      "[Fold 2, Epoch 7, Batch 200] Loss: 0.524\n",
      "[Fold 2, Epoch 7, Batch 250] Loss: 0.523\n",
      "[Fold 2, Epoch 8, Batch 50] Loss: 0.752\n",
      "[Fold 2, Epoch 8, Batch 100] Loss: 0.522\n",
      "[Fold 2, Epoch 8, Batch 150] Loss: 0.522\n",
      "[Fold 2, Epoch 8, Batch 200] Loss: 0.525\n",
      "[Fold 2, Epoch 8, Batch 250] Loss: 0.520\n",
      "[Fold 2, Epoch 9, Batch 50] Loss: 0.751\n",
      "[Fold 2, Epoch 9, Batch 100] Loss: 0.521\n",
      "[Fold 2, Epoch 9, Batch 150] Loss: 0.525\n",
      "[Fold 2, Epoch 9, Batch 200] Loss: 0.522\n",
      "[Fold 2, Epoch 9, Batch 250] Loss: 0.520\n",
      "[Fold 2, Epoch 10, Batch 50] Loss: 0.757\n",
      "[Fold 2, Epoch 10, Batch 100] Loss: 0.522\n",
      "[Fold 2, Epoch 10, Batch 150] Loss: 0.520\n",
      "[Fold 2, Epoch 10, Batch 200] Loss: 0.520\n",
      "[Fold 2, Epoch 10, Batch 250] Loss: 0.521\n",
      "[Fold 2, Epoch 11, Batch 50] Loss: 0.753\n",
      "[Fold 2, Epoch 11, Batch 100] Loss: 0.520\n",
      "[Fold 2, Epoch 11, Batch 150] Loss: 0.524\n",
      "[Fold 2, Epoch 11, Batch 200] Loss: 0.522\n",
      "[Fold 2, Epoch 11, Batch 250] Loss: 0.520\n",
      "[Fold 2, Epoch 12, Batch 50] Loss: 0.751\n",
      "[Fold 2, Epoch 12, Batch 100] Loss: 0.521\n",
      "[Fold 2, Epoch 12, Batch 150] Loss: 0.520\n",
      "[Fold 2, Epoch 12, Batch 200] Loss: 0.523\n",
      "[Fold 2, Epoch 12, Batch 250] Loss: 0.522\n",
      "[Fold 2, Epoch 13, Batch 50] Loss: 0.749\n",
      "[Fold 2, Epoch 13, Batch 100] Loss: 0.521\n",
      "[Fold 2, Epoch 13, Batch 150] Loss: 0.521\n",
      "[Fold 2, Epoch 13, Batch 200] Loss: 0.521\n",
      "[Fold 2, Epoch 13, Batch 250] Loss: 0.521\n",
      "[Fold 2, Epoch 14, Batch 50] Loss: 0.750\n",
      "[Fold 2, Epoch 14, Batch 100] Loss: 0.521\n",
      "[Fold 2, Epoch 14, Batch 150] Loss: 0.521\n",
      "[Fold 2, Epoch 14, Batch 200] Loss: 0.520\n",
      "[Fold 2, Epoch 14, Batch 250] Loss: 0.523\n",
      "[Fold 2, Epoch 15, Batch 50] Loss: 0.749\n",
      "[Fold 2, Epoch 15, Batch 100] Loss: 0.519\n",
      "[Fold 2, Epoch 15, Batch 150] Loss: 0.521\n",
      "[Fold 2, Epoch 15, Batch 200] Loss: 0.520\n",
      "[Fold 2, Epoch 15, Batch 250] Loss: 0.522\n",
      "[Fold 2, Epoch 16, Batch 50] Loss: 0.750\n",
      "[Fold 2, Epoch 16, Batch 100] Loss: 0.520\n",
      "[Fold 2, Epoch 16, Batch 150] Loss: 0.519\n",
      "[Fold 2, Epoch 16, Batch 200] Loss: 0.521\n",
      "[Fold 2, Epoch 16, Batch 250] Loss: 0.522\n",
      "[Fold 2, Epoch 17, Batch 50] Loss: 0.746\n",
      "[Fold 2, Epoch 17, Batch 100] Loss: 0.521\n",
      "[Fold 2, Epoch 17, Batch 150] Loss: 0.519\n",
      "[Fold 2, Epoch 17, Batch 200] Loss: 0.521\n",
      "[Fold 2, Epoch 17, Batch 250] Loss: 0.521\n",
      "[Fold 2, Epoch 18, Batch 50] Loss: 0.753\n",
      "[Fold 2, Epoch 18, Batch 100] Loss: 0.519\n",
      "[Fold 2, Epoch 18, Batch 150] Loss: 0.520\n",
      "[Fold 2, Epoch 18, Batch 200] Loss: 0.518\n",
      "[Fold 2, Epoch 18, Batch 250] Loss: 0.519\n",
      "[Fold 2, Epoch 19, Batch 50] Loss: 0.751\n",
      "[Fold 2, Epoch 19, Batch 100] Loss: 0.521\n",
      "[Fold 2, Epoch 19, Batch 150] Loss: 0.520\n",
      "[Fold 2, Epoch 19, Batch 200] Loss: 0.518\n",
      "[Fold 2, Epoch 19, Batch 250] Loss: 0.519\n",
      "[Fold 2, Epoch 20, Batch 50] Loss: 0.751\n",
      "[Fold 2, Epoch 20, Batch 100] Loss: 0.520\n",
      "[Fold 2, Epoch 20, Batch 150] Loss: 0.520\n",
      "[Fold 2, Epoch 20, Batch 200] Loss: 0.518\n",
      "[Fold 2, Epoch 20, Batch 250] Loss: 0.520\n",
      "[Fold 2, Epoch 21, Batch 50] Loss: 0.749\n",
      "[Fold 2, Epoch 21, Batch 100] Loss: 0.521\n",
      "[Fold 2, Epoch 21, Batch 150] Loss: 0.519\n",
      "[Fold 2, Epoch 21, Batch 200] Loss: 0.519\n",
      "[Fold 2, Epoch 21, Batch 250] Loss: 0.521\n",
      "[Fold 2, Epoch 22, Batch 50] Loss: 0.748\n",
      "[Fold 2, Epoch 22, Batch 100] Loss: 0.518\n",
      "[Fold 2, Epoch 22, Batch 150] Loss: 0.520\n",
      "[Fold 2, Epoch 22, Batch 200] Loss: 0.519\n",
      "[Fold 2, Epoch 22, Batch 250] Loss: 0.520\n",
      "Fold 3\n",
      "[Fold 3, Epoch 1, Batch 50] Loss: 0.519\n",
      "[Fold 3, Epoch 1, Batch 100] Loss: 0.520\n",
      "[Fold 3, Epoch 1, Batch 150] Loss: 0.518\n",
      "[Fold 3, Epoch 1, Batch 200] Loss: 0.517\n",
      "[Fold 3, Epoch 1, Batch 250] Loss: 0.517\n",
      "[Fold 3, Epoch 2, Batch 50] Loss: 0.750\n",
      "[Fold 3, Epoch 2, Batch 100] Loss: 0.518\n",
      "[Fold 3, Epoch 2, Batch 150] Loss: 0.518\n",
      "[Fold 3, Epoch 2, Batch 200] Loss: 0.518\n",
      "[Fold 3, Epoch 2, Batch 250] Loss: 0.517\n",
      "[Fold 3, Epoch 3, Batch 50] Loss: 0.746\n",
      "[Fold 3, Epoch 3, Batch 100] Loss: 0.518\n",
      "[Fold 3, Epoch 3, Batch 150] Loss: 0.520\n",
      "[Fold 3, Epoch 3, Batch 200] Loss: 0.519\n",
      "[Fold 3, Epoch 3, Batch 250] Loss: 0.517\n",
      "[Fold 3, Epoch 4, Batch 50] Loss: 0.748\n",
      "[Fold 3, Epoch 4, Batch 100] Loss: 0.518\n",
      "[Fold 3, Epoch 4, Batch 150] Loss: 0.518\n",
      "[Fold 3, Epoch 4, Batch 200] Loss: 0.518\n",
      "[Fold 3, Epoch 4, Batch 250] Loss: 0.517\n",
      "[Fold 3, Epoch 5, Batch 50] Loss: 0.745\n",
      "[Fold 3, Epoch 5, Batch 100] Loss: 0.519\n",
      "[Fold 3, Epoch 5, Batch 150] Loss: 0.517\n",
      "[Fold 3, Epoch 5, Batch 200] Loss: 0.516\n",
      "[Fold 3, Epoch 5, Batch 250] Loss: 0.519\n",
      "[Fold 3, Epoch 6, Batch 50] Loss: 0.745\n",
      "[Fold 3, Epoch 6, Batch 100] Loss: 0.519\n",
      "[Fold 3, Epoch 6, Batch 150] Loss: 0.518\n",
      "[Fold 3, Epoch 6, Batch 200] Loss: 0.518\n",
      "[Fold 3, Epoch 6, Batch 250] Loss: 0.519\n",
      "[Fold 3, Epoch 7, Batch 50] Loss: 0.744\n",
      "[Fold 3, Epoch 7, Batch 100] Loss: 0.517\n",
      "[Fold 3, Epoch 7, Batch 150] Loss: 0.519\n",
      "[Fold 3, Epoch 7, Batch 200] Loss: 0.518\n",
      "[Fold 3, Epoch 7, Batch 250] Loss: 0.518\n",
      "[Fold 3, Epoch 8, Batch 50] Loss: 0.747\n",
      "[Fold 3, Epoch 8, Batch 100] Loss: 0.517\n",
      "[Fold 3, Epoch 8, Batch 150] Loss: 0.519\n",
      "[Fold 3, Epoch 8, Batch 200] Loss: 0.517\n",
      "[Fold 3, Epoch 8, Batch 250] Loss: 0.517\n",
      "[Fold 3, Epoch 9, Batch 50] Loss: 0.746\n",
      "[Fold 3, Epoch 9, Batch 100] Loss: 0.517\n",
      "[Fold 3, Epoch 9, Batch 150] Loss: 0.517\n",
      "[Fold 3, Epoch 9, Batch 200] Loss: 0.520\n",
      "[Fold 3, Epoch 9, Batch 250] Loss: 0.517\n",
      "[Fold 3, Epoch 10, Batch 50] Loss: 0.748\n",
      "[Fold 3, Epoch 10, Batch 100] Loss: 0.517\n",
      "[Fold 3, Epoch 10, Batch 150] Loss: 0.519\n",
      "[Fold 3, Epoch 10, Batch 200] Loss: 0.516\n",
      "[Fold 3, Epoch 10, Batch 250] Loss: 0.518\n",
      "[Fold 3, Epoch 11, Batch 50] Loss: 0.745\n",
      "[Fold 3, Epoch 11, Batch 100] Loss: 0.515\n",
      "[Fold 3, Epoch 11, Batch 150] Loss: 0.520\n",
      "[Fold 3, Epoch 11, Batch 200] Loss: 0.519\n",
      "[Fold 3, Epoch 11, Batch 250] Loss: 0.515\n",
      "[Fold 3, Epoch 12, Batch 50] Loss: 0.747\n",
      "[Fold 3, Epoch 12, Batch 100] Loss: 0.519\n",
      "[Fold 3, Epoch 12, Batch 150] Loss: 0.517\n",
      "[Fold 3, Epoch 12, Batch 200] Loss: 0.517\n",
      "[Fold 3, Epoch 12, Batch 250] Loss: 0.515\n",
      "[Fold 3, Epoch 13, Batch 50] Loss: 0.746\n",
      "[Fold 3, Epoch 13, Batch 100] Loss: 0.519\n",
      "[Fold 3, Epoch 13, Batch 150] Loss: 0.515\n",
      "[Fold 3, Epoch 13, Batch 200] Loss: 0.518\n",
      "[Fold 3, Epoch 13, Batch 250] Loss: 0.517\n",
      "[Fold 3, Epoch 14, Batch 50] Loss: 0.743\n",
      "[Fold 3, Epoch 14, Batch 100] Loss: 0.518\n",
      "[Fold 3, Epoch 14, Batch 150] Loss: 0.515\n",
      "[Fold 3, Epoch 14, Batch 200] Loss: 0.519\n",
      "[Fold 3, Epoch 14, Batch 250] Loss: 0.520\n",
      "[Fold 3, Epoch 15, Batch 50] Loss: 0.744\n",
      "[Fold 3, Epoch 15, Batch 100] Loss: 0.518\n",
      "[Fold 3, Epoch 15, Batch 150] Loss: 0.517\n",
      "[Fold 3, Epoch 15, Batch 200] Loss: 0.519\n",
      "[Fold 3, Epoch 15, Batch 250] Loss: 0.517\n",
      "[Fold 3, Epoch 16, Batch 50] Loss: 0.745\n",
      "[Fold 3, Epoch 16, Batch 100] Loss: 0.518\n",
      "[Fold 3, Epoch 16, Batch 150] Loss: 0.516\n",
      "[Fold 3, Epoch 16, Batch 200] Loss: 0.516\n",
      "[Fold 3, Epoch 16, Batch 250] Loss: 0.519\n",
      "[Fold 3, Epoch 17, Batch 50] Loss: 0.744\n",
      "[Fold 3, Epoch 17, Batch 100] Loss: 0.519\n",
      "[Fold 3, Epoch 17, Batch 150] Loss: 0.518\n",
      "[Fold 3, Epoch 17, Batch 200] Loss: 0.517\n",
      "[Fold 3, Epoch 17, Batch 250] Loss: 0.515\n",
      "[Fold 3, Epoch 18, Batch 50] Loss: 0.745\n",
      "[Fold 3, Epoch 18, Batch 100] Loss: 0.518\n",
      "[Fold 3, Epoch 18, Batch 150] Loss: 0.515\n",
      "[Fold 3, Epoch 18, Batch 200] Loss: 0.517\n",
      "[Fold 3, Epoch 18, Batch 250] Loss: 0.516\n",
      "[Fold 3, Epoch 19, Batch 50] Loss: 0.746\n",
      "[Fold 3, Epoch 19, Batch 100] Loss: 0.515\n",
      "[Fold 3, Epoch 19, Batch 150] Loss: 0.519\n",
      "[Fold 3, Epoch 19, Batch 200] Loss: 0.515\n",
      "[Fold 3, Epoch 19, Batch 250] Loss: 0.518\n",
      "[Fold 3, Epoch 20, Batch 50] Loss: 0.744\n",
      "[Fold 3, Epoch 20, Batch 100] Loss: 0.517\n",
      "[Fold 3, Epoch 20, Batch 150] Loss: 0.518\n",
      "[Fold 3, Epoch 20, Batch 200] Loss: 0.518\n",
      "[Fold 3, Epoch 20, Batch 250] Loss: 0.516\n",
      "[Fold 3, Epoch 21, Batch 50] Loss: 0.742\n",
      "[Fold 3, Epoch 21, Batch 100] Loss: 0.516\n",
      "[Fold 3, Epoch 21, Batch 150] Loss: 0.518\n",
      "[Fold 3, Epoch 21, Batch 200] Loss: 0.516\n",
      "[Fold 3, Epoch 21, Batch 250] Loss: 0.518\n",
      "[Fold 3, Epoch 22, Batch 50] Loss: 0.747\n",
      "[Fold 3, Epoch 22, Batch 100] Loss: 0.517\n",
      "[Fold 3, Epoch 22, Batch 150] Loss: 0.517\n",
      "[Fold 3, Epoch 22, Batch 200] Loss: 0.515\n",
      "[Fold 3, Epoch 22, Batch 250] Loss: 0.516\n",
      "Fold 4\n",
      "[Fold 4, Epoch 1, Batch 50] Loss: 0.518\n",
      "[Fold 4, Epoch 1, Batch 100] Loss: 0.516\n",
      "[Fold 4, Epoch 1, Batch 150] Loss: 0.516\n",
      "[Fold 4, Epoch 1, Batch 200] Loss: 0.519\n",
      "[Fold 4, Epoch 1, Batch 250] Loss: 0.517\n",
      "[Fold 4, Epoch 2, Batch 50] Loss: 0.742\n",
      "[Fold 4, Epoch 2, Batch 100] Loss: 0.517\n",
      "[Fold 4, Epoch 2, Batch 150] Loss: 0.516\n",
      "[Fold 4, Epoch 2, Batch 200] Loss: 0.520\n",
      "[Fold 4, Epoch 2, Batch 250] Loss: 0.519\n",
      "[Fold 4, Epoch 3, Batch 50] Loss: 0.745\n",
      "[Fold 4, Epoch 3, Batch 100] Loss: 0.515\n",
      "[Fold 4, Epoch 3, Batch 150] Loss: 0.518\n",
      "[Fold 4, Epoch 3, Batch 200] Loss: 0.520\n",
      "[Fold 4, Epoch 3, Batch 250] Loss: 0.517\n",
      "[Fold 4, Epoch 4, Batch 50] Loss: 0.740\n",
      "[Fold 4, Epoch 4, Batch 100] Loss: 0.519\n",
      "[Fold 4, Epoch 4, Batch 150] Loss: 0.518\n",
      "[Fold 4, Epoch 4, Batch 200] Loss: 0.518\n",
      "[Fold 4, Epoch 4, Batch 250] Loss: 0.516\n",
      "[Fold 4, Epoch 5, Batch 50] Loss: 0.742\n",
      "[Fold 4, Epoch 5, Batch 100] Loss: 0.518\n",
      "[Fold 4, Epoch 5, Batch 150] Loss: 0.518\n",
      "[Fold 4, Epoch 5, Batch 200] Loss: 0.516\n",
      "[Fold 4, Epoch 5, Batch 250] Loss: 0.517\n",
      "[Fold 4, Epoch 6, Batch 50] Loss: 0.746\n",
      "[Fold 4, Epoch 6, Batch 100] Loss: 0.515\n",
      "[Fold 4, Epoch 6, Batch 150] Loss: 0.517\n",
      "[Fold 4, Epoch 6, Batch 200] Loss: 0.519\n",
      "[Fold 4, Epoch 6, Batch 250] Loss: 0.515\n",
      "[Fold 4, Epoch 7, Batch 50] Loss: 0.747\n",
      "[Fold 4, Epoch 7, Batch 100] Loss: 0.517\n",
      "[Fold 4, Epoch 7, Batch 150] Loss: 0.514\n",
      "[Fold 4, Epoch 7, Batch 200] Loss: 0.517\n",
      "[Fold 4, Epoch 7, Batch 250] Loss: 0.517\n",
      "[Fold 4, Epoch 8, Batch 50] Loss: 0.746\n",
      "[Fold 4, Epoch 8, Batch 100] Loss: 0.514\n",
      "[Fold 4, Epoch 8, Batch 150] Loss: 0.518\n",
      "[Fold 4, Epoch 8, Batch 200] Loss: 0.515\n",
      "[Fold 4, Epoch 8, Batch 250] Loss: 0.518\n",
      "[Fold 4, Epoch 9, Batch 50] Loss: 0.743\n",
      "[Fold 4, Epoch 9, Batch 100] Loss: 0.518\n",
      "[Fold 4, Epoch 9, Batch 150] Loss: 0.517\n",
      "[Fold 4, Epoch 9, Batch 200] Loss: 0.515\n",
      "[Fold 4, Epoch 9, Batch 250] Loss: 0.518\n",
      "[Fold 4, Epoch 10, Batch 50] Loss: 0.744\n",
      "[Fold 4, Epoch 10, Batch 100] Loss: 0.515\n",
      "[Fold 4, Epoch 10, Batch 150] Loss: 0.518\n",
      "[Fold 4, Epoch 10, Batch 200] Loss: 0.520\n",
      "[Fold 4, Epoch 10, Batch 250] Loss: 0.517\n",
      "[Fold 4, Epoch 11, Batch 50] Loss: 0.743\n",
      "[Fold 4, Epoch 11, Batch 100] Loss: 0.517\n",
      "[Fold 4, Epoch 11, Batch 150] Loss: 0.518\n",
      "[Fold 4, Epoch 11, Batch 200] Loss: 0.518\n",
      "[Fold 4, Epoch 11, Batch 250] Loss: 0.517\n",
      "[Fold 4, Epoch 12, Batch 50] Loss: 0.744\n",
      "[Fold 4, Epoch 12, Batch 100] Loss: 0.515\n",
      "[Fold 4, Epoch 12, Batch 150] Loss: 0.515\n",
      "[Fold 4, Epoch 12, Batch 200] Loss: 0.518\n",
      "[Fold 4, Epoch 12, Batch 250] Loss: 0.517\n",
      "[Fold 4, Epoch 13, Batch 50] Loss: 0.747\n",
      "[Fold 4, Epoch 13, Batch 100] Loss: 0.518\n",
      "[Fold 4, Epoch 13, Batch 150] Loss: 0.517\n",
      "[Fold 4, Epoch 13, Batch 200] Loss: 0.517\n",
      "[Fold 4, Epoch 13, Batch 250] Loss: 0.514\n",
      "[Fold 4, Epoch 14, Batch 50] Loss: 0.744\n",
      "[Fold 4, Epoch 14, Batch 100] Loss: 0.520\n",
      "[Fold 4, Epoch 14, Batch 150] Loss: 0.516\n",
      "[Fold 4, Epoch 14, Batch 200] Loss: 0.516\n",
      "[Fold 4, Epoch 14, Batch 250] Loss: 0.515\n",
      "[Fold 4, Epoch 15, Batch 50] Loss: 0.742\n",
      "[Fold 4, Epoch 15, Batch 100] Loss: 0.516\n",
      "[Fold 4, Epoch 15, Batch 150] Loss: 0.518\n",
      "[Fold 4, Epoch 15, Batch 200] Loss: 0.517\n",
      "[Fold 4, Epoch 15, Batch 250] Loss: 0.516\n",
      "[Fold 4, Epoch 16, Batch 50] Loss: 0.743\n",
      "[Fold 4, Epoch 16, Batch 100] Loss: 0.516\n",
      "[Fold 4, Epoch 16, Batch 150] Loss: 0.517\n",
      "[Fold 4, Epoch 16, Batch 200] Loss: 0.516\n",
      "[Fold 4, Epoch 16, Batch 250] Loss: 0.520\n",
      "[Fold 4, Epoch 17, Batch 50] Loss: 0.744\n",
      "[Fold 4, Epoch 17, Batch 100] Loss: 0.515\n",
      "[Fold 4, Epoch 17, Batch 150] Loss: 0.516\n",
      "[Fold 4, Epoch 17, Batch 200] Loss: 0.517\n",
      "[Fold 4, Epoch 17, Batch 250] Loss: 0.517\n",
      "[Fold 4, Epoch 18, Batch 50] Loss: 0.743\n",
      "[Fold 4, Epoch 18, Batch 100] Loss: 0.516\n",
      "[Fold 4, Epoch 18, Batch 150] Loss: 0.514\n",
      "[Fold 4, Epoch 18, Batch 200] Loss: 0.516\n",
      "[Fold 4, Epoch 18, Batch 250] Loss: 0.518\n",
      "[Fold 4, Epoch 19, Batch 50] Loss: 0.746\n",
      "[Fold 4, Epoch 19, Batch 100] Loss: 0.521\n",
      "[Fold 4, Epoch 19, Batch 150] Loss: 0.517\n",
      "[Fold 4, Epoch 19, Batch 200] Loss: 0.516\n",
      "[Fold 4, Epoch 19, Batch 250] Loss: 0.515\n",
      "[Fold 4, Epoch 20, Batch 50] Loss: 0.740\n",
      "[Fold 4, Epoch 20, Batch 100] Loss: 0.515\n",
      "[Fold 4, Epoch 20, Batch 150] Loss: 0.516\n",
      "[Fold 4, Epoch 20, Batch 200] Loss: 0.517\n",
      "[Fold 4, Epoch 20, Batch 250] Loss: 0.517\n",
      "[Fold 4, Epoch 21, Batch 50] Loss: 0.745\n",
      "[Fold 4, Epoch 21, Batch 100] Loss: 0.517\n",
      "[Fold 4, Epoch 21, Batch 150] Loss: 0.514\n",
      "[Fold 4, Epoch 21, Batch 200] Loss: 0.516\n",
      "[Fold 4, Epoch 21, Batch 250] Loss: 0.519\n",
      "[Fold 4, Epoch 22, Batch 50] Loss: 0.744\n",
      "[Fold 4, Epoch 22, Batch 100] Loss: 0.513\n",
      "[Fold 4, Epoch 22, Batch 150] Loss: 0.517\n",
      "[Fold 4, Epoch 22, Batch 200] Loss: 0.516\n",
      "[Fold 4, Epoch 22, Batch 250] Loss: 0.516\n",
      "Mean AUC: 0.9797, Std AUC: 0.0058\n",
      "Mean F1 Score: 0.9252, Std F1 Score: 0.0104\n"
     ]
    }
   ],
   "source": [
    "dataset = ConcatDataset([ image_data_train , image_data_test_lighter])\n",
    "\n",
    "train_and_evaluate(ae, criterion, optimizer, dataset)\n"
   ]
  },
  {
   "cell_type": "markdown",
   "metadata": {
    "id": "8sF2NJACgScr"
   },
   "source": [
    "### FST V-VI"
   ]
  },
  {
   "cell_type": "code",
   "execution_count": null,
   "metadata": {
    "colab": {
     "base_uri": "https://localhost:8080/"
    },
    "id": "QgZby3EvKSEE",
    "outputId": "fe8f3399-a11f-4cdf-a2ee-1b91a5b2c90a"
   },
   "outputs": [
    {
     "name": "stdout",
     "output_type": "stream",
     "text": [
      "Fold 1\n",
      "[Fold 1, Epoch 1, Batch 50] Loss: 0.486\n",
      "[Fold 1, Epoch 1, Batch 100] Loss: 0.484\n",
      "[Fold 1, Epoch 1, Batch 150] Loss: 0.484\n",
      "[Fold 1, Epoch 1, Batch 200] Loss: 0.486\n",
      "[Fold 1, Epoch 2, Batch 50] Loss: 0.485\n",
      "[Fold 1, Epoch 2, Batch 100] Loss: 0.485\n",
      "[Fold 1, Epoch 2, Batch 150] Loss: 0.487\n",
      "[Fold 1, Epoch 2, Batch 200] Loss: 0.483\n",
      "[Fold 1, Epoch 3, Batch 50] Loss: 0.487\n",
      "[Fold 1, Epoch 3, Batch 100] Loss: 0.484\n",
      "[Fold 1, Epoch 3, Batch 150] Loss: 0.487\n",
      "[Fold 1, Epoch 3, Batch 200] Loss: 0.482\n",
      "[Fold 1, Epoch 4, Batch 50] Loss: 0.485\n",
      "[Fold 1, Epoch 4, Batch 100] Loss: 0.487\n",
      "[Fold 1, Epoch 4, Batch 150] Loss: 0.484\n",
      "[Fold 1, Epoch 4, Batch 200] Loss: 0.484\n",
      "[Fold 1, Epoch 5, Batch 50] Loss: 0.484\n",
      "[Fold 1, Epoch 5, Batch 100] Loss: 0.483\n",
      "[Fold 1, Epoch 5, Batch 150] Loss: 0.487\n",
      "[Fold 1, Epoch 5, Batch 200] Loss: 0.486\n",
      "[Fold 1, Epoch 6, Batch 50] Loss: 0.484\n",
      "[Fold 1, Epoch 6, Batch 100] Loss: 0.486\n",
      "[Fold 1, Epoch 6, Batch 150] Loss: 0.484\n",
      "[Fold 1, Epoch 6, Batch 200] Loss: 0.486\n",
      "[Fold 1, Epoch 7, Batch 50] Loss: 0.484\n",
      "[Fold 1, Epoch 7, Batch 100] Loss: 0.484\n",
      "[Fold 1, Epoch 7, Batch 150] Loss: 0.486\n",
      "[Fold 1, Epoch 7, Batch 200] Loss: 0.486\n",
      "[Fold 1, Epoch 8, Batch 50] Loss: 0.483\n",
      "[Fold 1, Epoch 8, Batch 100] Loss: 0.489\n",
      "[Fold 1, Epoch 8, Batch 150] Loss: 0.483\n",
      "[Fold 1, Epoch 8, Batch 200] Loss: 0.484\n",
      "[Fold 1, Epoch 9, Batch 50] Loss: 0.482\n",
      "[Fold 1, Epoch 9, Batch 100] Loss: 0.485\n",
      "[Fold 1, Epoch 9, Batch 150] Loss: 0.485\n",
      "[Fold 1, Epoch 9, Batch 200] Loss: 0.487\n",
      "[Fold 1, Epoch 10, Batch 50] Loss: 0.484\n",
      "[Fold 1, Epoch 10, Batch 100] Loss: 0.485\n",
      "[Fold 1, Epoch 10, Batch 150] Loss: 0.485\n",
      "[Fold 1, Epoch 10, Batch 200] Loss: 0.486\n",
      "[Fold 1, Epoch 11, Batch 50] Loss: 0.484\n",
      "[Fold 1, Epoch 11, Batch 100] Loss: 0.485\n",
      "[Fold 1, Epoch 11, Batch 150] Loss: 0.486\n",
      "[Fold 1, Epoch 11, Batch 200] Loss: 0.485\n",
      "[Fold 1, Epoch 12, Batch 50] Loss: 0.485\n",
      "[Fold 1, Epoch 12, Batch 100] Loss: 0.486\n",
      "[Fold 1, Epoch 12, Batch 150] Loss: 0.485\n",
      "[Fold 1, Epoch 12, Batch 200] Loss: 0.484\n",
      "[Fold 1, Epoch 13, Batch 50] Loss: 0.483\n",
      "[Fold 1, Epoch 13, Batch 100] Loss: 0.484\n",
      "[Fold 1, Epoch 13, Batch 150] Loss: 0.486\n",
      "[Fold 1, Epoch 13, Batch 200] Loss: 0.486\n",
      "[Fold 1, Epoch 14, Batch 50] Loss: 0.487\n",
      "[Fold 1, Epoch 14, Batch 100] Loss: 0.484\n",
      "[Fold 1, Epoch 14, Batch 150] Loss: 0.485\n",
      "[Fold 1, Epoch 14, Batch 200] Loss: 0.484\n",
      "[Fold 1, Epoch 15, Batch 50] Loss: 0.484\n",
      "[Fold 1, Epoch 15, Batch 100] Loss: 0.486\n",
      "[Fold 1, Epoch 15, Batch 150] Loss: 0.485\n",
      "[Fold 1, Epoch 15, Batch 200] Loss: 0.485\n",
      "[Fold 1, Epoch 16, Batch 50] Loss: 0.486\n",
      "[Fold 1, Epoch 16, Batch 100] Loss: 0.482\n",
      "[Fold 1, Epoch 16, Batch 150] Loss: 0.486\n",
      "[Fold 1, Epoch 16, Batch 200] Loss: 0.485\n",
      "[Fold 1, Epoch 17, Batch 50] Loss: 0.486\n",
      "[Fold 1, Epoch 17, Batch 100] Loss: 0.484\n",
      "[Fold 1, Epoch 17, Batch 150] Loss: 0.487\n",
      "[Fold 1, Epoch 17, Batch 200] Loss: 0.483\n",
      "[Fold 1, Epoch 18, Batch 50] Loss: 0.483\n",
      "[Fold 1, Epoch 18, Batch 100] Loss: 0.485\n",
      "[Fold 1, Epoch 18, Batch 150] Loss: 0.487\n",
      "[Fold 1, Epoch 18, Batch 200] Loss: 0.484\n",
      "[Fold 1, Epoch 19, Batch 50] Loss: 0.485\n",
      "[Fold 1, Epoch 19, Batch 100] Loss: 0.485\n",
      "[Fold 1, Epoch 19, Batch 150] Loss: 0.486\n",
      "[Fold 1, Epoch 19, Batch 200] Loss: 0.484\n",
      "[Fold 1, Epoch 20, Batch 50] Loss: 0.483\n",
      "[Fold 1, Epoch 20, Batch 100] Loss: 0.486\n",
      "[Fold 1, Epoch 20, Batch 150] Loss: 0.486\n",
      "[Fold 1, Epoch 20, Batch 200] Loss: 0.484\n",
      "[Fold 1, Epoch 21, Batch 50] Loss: 0.485\n",
      "[Fold 1, Epoch 21, Batch 100] Loss: 0.484\n",
      "[Fold 1, Epoch 21, Batch 150] Loss: 0.486\n",
      "[Fold 1, Epoch 21, Batch 200] Loss: 0.484\n",
      "[Fold 1, Epoch 22, Batch 50] Loss: 0.486\n",
      "[Fold 1, Epoch 22, Batch 100] Loss: 0.486\n",
      "[Fold 1, Epoch 22, Batch 150] Loss: 0.483\n",
      "[Fold 1, Epoch 22, Batch 200] Loss: 0.485\n",
      "Fold 2\n",
      "[Fold 2, Epoch 1, Batch 50] Loss: 0.486\n",
      "[Fold 2, Epoch 1, Batch 100] Loss: 0.484\n",
      "[Fold 2, Epoch 1, Batch 150] Loss: 0.483\n",
      "[Fold 2, Epoch 1, Batch 200] Loss: 0.483\n",
      "[Fold 2, Epoch 2, Batch 50] Loss: 0.484\n",
      "[Fold 2, Epoch 2, Batch 100] Loss: 0.485\n",
      "[Fold 2, Epoch 2, Batch 150] Loss: 0.485\n",
      "[Fold 2, Epoch 2, Batch 200] Loss: 0.482\n",
      "[Fold 2, Epoch 3, Batch 50] Loss: 0.486\n",
      "[Fold 2, Epoch 3, Batch 100] Loss: 0.483\n",
      "[Fold 2, Epoch 3, Batch 150] Loss: 0.483\n",
      "[Fold 2, Epoch 3, Batch 200] Loss: 0.484\n",
      "[Fold 2, Epoch 4, Batch 50] Loss: 0.486\n",
      "[Fold 2, Epoch 4, Batch 100] Loss: 0.483\n",
      "[Fold 2, Epoch 4, Batch 150] Loss: 0.484\n",
      "[Fold 2, Epoch 4, Batch 200] Loss: 0.482\n",
      "[Fold 2, Epoch 5, Batch 50] Loss: 0.484\n",
      "[Fold 2, Epoch 5, Batch 100] Loss: 0.484\n",
      "[Fold 2, Epoch 5, Batch 150] Loss: 0.485\n",
      "[Fold 2, Epoch 5, Batch 200] Loss: 0.483\n",
      "[Fold 2, Epoch 6, Batch 50] Loss: 0.482\n",
      "[Fold 2, Epoch 6, Batch 100] Loss: 0.486\n",
      "[Fold 2, Epoch 6, Batch 150] Loss: 0.486\n",
      "[Fold 2, Epoch 6, Batch 200] Loss: 0.482\n",
      "[Fold 2, Epoch 7, Batch 50] Loss: 0.483\n",
      "[Fold 2, Epoch 7, Batch 100] Loss: 0.484\n",
      "[Fold 2, Epoch 7, Batch 150] Loss: 0.481\n",
      "[Fold 2, Epoch 7, Batch 200] Loss: 0.488\n",
      "[Fold 2, Epoch 8, Batch 50] Loss: 0.483\n",
      "[Fold 2, Epoch 8, Batch 100] Loss: 0.487\n",
      "[Fold 2, Epoch 8, Batch 150] Loss: 0.483\n",
      "[Fold 2, Epoch 8, Batch 200] Loss: 0.483\n",
      "[Fold 2, Epoch 9, Batch 50] Loss: 0.485\n",
      "[Fold 2, Epoch 9, Batch 100] Loss: 0.484\n",
      "[Fold 2, Epoch 9, Batch 150] Loss: 0.483\n",
      "[Fold 2, Epoch 9, Batch 200] Loss: 0.484\n",
      "[Fold 2, Epoch 10, Batch 50] Loss: 0.485\n",
      "[Fold 2, Epoch 10, Batch 100] Loss: 0.485\n",
      "[Fold 2, Epoch 10, Batch 150] Loss: 0.482\n",
      "[Fold 2, Epoch 10, Batch 200] Loss: 0.484\n",
      "[Fold 2, Epoch 11, Batch 50] Loss: 0.485\n",
      "[Fold 2, Epoch 11, Batch 100] Loss: 0.483\n",
      "[Fold 2, Epoch 11, Batch 150] Loss: 0.483\n",
      "[Fold 2, Epoch 11, Batch 200] Loss: 0.484\n",
      "[Fold 2, Epoch 12, Batch 50] Loss: 0.486\n",
      "[Fold 2, Epoch 12, Batch 100] Loss: 0.483\n",
      "[Fold 2, Epoch 12, Batch 150] Loss: 0.483\n",
      "[Fold 2, Epoch 12, Batch 200] Loss: 0.484\n",
      "[Fold 2, Epoch 13, Batch 50] Loss: 0.486\n",
      "[Fold 2, Epoch 13, Batch 100] Loss: 0.484\n",
      "[Fold 2, Epoch 13, Batch 150] Loss: 0.483\n",
      "[Fold 2, Epoch 13, Batch 200] Loss: 0.483\n",
      "[Fold 2, Epoch 14, Batch 50] Loss: 0.485\n",
      "[Fold 2, Epoch 14, Batch 100] Loss: 0.481\n",
      "[Fold 2, Epoch 14, Batch 150] Loss: 0.482\n",
      "[Fold 2, Epoch 14, Batch 200] Loss: 0.486\n",
      "[Fold 2, Epoch 15, Batch 50] Loss: 0.482\n",
      "[Fold 2, Epoch 15, Batch 100] Loss: 0.482\n",
      "[Fold 2, Epoch 15, Batch 150] Loss: 0.485\n",
      "[Fold 2, Epoch 15, Batch 200] Loss: 0.485\n",
      "[Fold 2, Epoch 16, Batch 50] Loss: 0.486\n",
      "[Fold 2, Epoch 16, Batch 100] Loss: 0.482\n",
      "[Fold 2, Epoch 16, Batch 150] Loss: 0.488\n",
      "[Fold 2, Epoch 16, Batch 200] Loss: 0.480\n",
      "[Fold 2, Epoch 17, Batch 50] Loss: 0.484\n",
      "[Fold 2, Epoch 17, Batch 100] Loss: 0.485\n",
      "[Fold 2, Epoch 17, Batch 150] Loss: 0.485\n",
      "[Fold 2, Epoch 17, Batch 200] Loss: 0.482\n",
      "[Fold 2, Epoch 18, Batch 50] Loss: 0.487\n",
      "[Fold 2, Epoch 18, Batch 100] Loss: 0.483\n",
      "[Fold 2, Epoch 18, Batch 150] Loss: 0.484\n",
      "[Fold 2, Epoch 18, Batch 200] Loss: 0.480\n",
      "[Fold 2, Epoch 19, Batch 50] Loss: 0.486\n",
      "[Fold 2, Epoch 19, Batch 100] Loss: 0.486\n",
      "[Fold 2, Epoch 19, Batch 150] Loss: 0.480\n",
      "[Fold 2, Epoch 19, Batch 200] Loss: 0.483\n",
      "[Fold 2, Epoch 20, Batch 50] Loss: 0.486\n",
      "[Fold 2, Epoch 20, Batch 100] Loss: 0.483\n",
      "[Fold 2, Epoch 20, Batch 150] Loss: 0.483\n",
      "[Fold 2, Epoch 20, Batch 200] Loss: 0.483\n",
      "[Fold 2, Epoch 21, Batch 50] Loss: 0.485\n",
      "[Fold 2, Epoch 21, Batch 100] Loss: 0.484\n",
      "[Fold 2, Epoch 21, Batch 150] Loss: 0.485\n",
      "[Fold 2, Epoch 21, Batch 200] Loss: 0.481\n",
      "[Fold 2, Epoch 22, Batch 50] Loss: 0.483\n",
      "[Fold 2, Epoch 22, Batch 100] Loss: 0.485\n",
      "[Fold 2, Epoch 22, Batch 150] Loss: 0.484\n",
      "[Fold 2, Epoch 22, Batch 200] Loss: 0.483\n",
      "Fold 3\n",
      "[Fold 3, Epoch 1, Batch 50] Loss: 0.483\n",
      "[Fold 3, Epoch 1, Batch 100] Loss: 0.484\n",
      "[Fold 3, Epoch 1, Batch 150] Loss: 0.483\n",
      "[Fold 3, Epoch 1, Batch 200] Loss: 0.485\n",
      "[Fold 3, Epoch 2, Batch 50] Loss: 0.483\n",
      "[Fold 3, Epoch 2, Batch 100] Loss: 0.483\n",
      "[Fold 3, Epoch 2, Batch 150] Loss: 0.484\n",
      "[Fold 3, Epoch 2, Batch 200] Loss: 0.486\n",
      "[Fold 3, Epoch 3, Batch 50] Loss: 0.484\n",
      "[Fold 3, Epoch 3, Batch 100] Loss: 0.484\n",
      "[Fold 3, Epoch 3, Batch 150] Loss: 0.486\n",
      "[Fold 3, Epoch 3, Batch 200] Loss: 0.482\n",
      "[Fold 3, Epoch 4, Batch 50] Loss: 0.486\n",
      "[Fold 3, Epoch 4, Batch 100] Loss: 0.480\n",
      "[Fold 3, Epoch 4, Batch 150] Loss: 0.483\n",
      "[Fold 3, Epoch 4, Batch 200] Loss: 0.486\n",
      "[Fold 3, Epoch 5, Batch 50] Loss: 0.484\n",
      "[Fold 3, Epoch 5, Batch 100] Loss: 0.485\n",
      "[Fold 3, Epoch 5, Batch 150] Loss: 0.483\n",
      "[Fold 3, Epoch 5, Batch 200] Loss: 0.483\n",
      "[Fold 3, Epoch 6, Batch 50] Loss: 0.483\n",
      "[Fold 3, Epoch 6, Batch 100] Loss: 0.484\n",
      "[Fold 3, Epoch 6, Batch 150] Loss: 0.483\n",
      "[Fold 3, Epoch 6, Batch 200] Loss: 0.485\n",
      "[Fold 3, Epoch 7, Batch 50] Loss: 0.484\n",
      "[Fold 3, Epoch 7, Batch 100] Loss: 0.484\n",
      "[Fold 3, Epoch 7, Batch 150] Loss: 0.482\n",
      "[Fold 3, Epoch 7, Batch 200] Loss: 0.486\n",
      "[Fold 3, Epoch 8, Batch 50] Loss: 0.484\n",
      "[Fold 3, Epoch 8, Batch 100] Loss: 0.486\n",
      "[Fold 3, Epoch 8, Batch 150] Loss: 0.483\n",
      "[Fold 3, Epoch 8, Batch 200] Loss: 0.483\n",
      "[Fold 3, Epoch 9, Batch 50] Loss: 0.483\n",
      "[Fold 3, Epoch 9, Batch 100] Loss: 0.484\n",
      "[Fold 3, Epoch 9, Batch 150] Loss: 0.484\n",
      "[Fold 3, Epoch 9, Batch 200] Loss: 0.484\n",
      "[Fold 3, Epoch 10, Batch 50] Loss: 0.484\n",
      "[Fold 3, Epoch 10, Batch 100] Loss: 0.485\n",
      "[Fold 3, Epoch 10, Batch 150] Loss: 0.483\n",
      "[Fold 3, Epoch 10, Batch 200] Loss: 0.484\n",
      "[Fold 3, Epoch 11, Batch 50] Loss: 0.485\n",
      "[Fold 3, Epoch 11, Batch 100] Loss: 0.484\n",
      "[Fold 3, Epoch 11, Batch 150] Loss: 0.481\n",
      "[Fold 3, Epoch 11, Batch 200] Loss: 0.485\n",
      "[Fold 3, Epoch 12, Batch 50] Loss: 0.484\n",
      "[Fold 3, Epoch 12, Batch 100] Loss: 0.485\n",
      "[Fold 3, Epoch 12, Batch 150] Loss: 0.483\n",
      "[Fold 3, Epoch 12, Batch 200] Loss: 0.483\n",
      "[Fold 3, Epoch 13, Batch 50] Loss: 0.485\n",
      "[Fold 3, Epoch 13, Batch 100] Loss: 0.483\n",
      "[Fold 3, Epoch 13, Batch 150] Loss: 0.485\n",
      "[Fold 3, Epoch 13, Batch 200] Loss: 0.482\n",
      "[Fold 3, Epoch 14, Batch 50] Loss: 0.482\n",
      "[Fold 3, Epoch 14, Batch 100] Loss: 0.485\n",
      "[Fold 3, Epoch 14, Batch 150] Loss: 0.484\n",
      "[Fold 3, Epoch 14, Batch 200] Loss: 0.484\n",
      "[Fold 3, Epoch 15, Batch 50] Loss: 0.484\n",
      "[Fold 3, Epoch 15, Batch 100] Loss: 0.482\n",
      "[Fold 3, Epoch 15, Batch 150] Loss: 0.484\n",
      "[Fold 3, Epoch 15, Batch 200] Loss: 0.485\n",
      "[Fold 3, Epoch 16, Batch 50] Loss: 0.485\n",
      "[Fold 3, Epoch 16, Batch 100] Loss: 0.486\n",
      "[Fold 3, Epoch 16, Batch 150] Loss: 0.483\n",
      "[Fold 3, Epoch 16, Batch 200] Loss: 0.481\n",
      "[Fold 3, Epoch 17, Batch 50] Loss: 0.484\n",
      "[Fold 3, Epoch 17, Batch 100] Loss: 0.485\n",
      "[Fold 3, Epoch 17, Batch 150] Loss: 0.482\n",
      "[Fold 3, Epoch 17, Batch 200] Loss: 0.483\n",
      "[Fold 3, Epoch 18, Batch 50] Loss: 0.483\n",
      "[Fold 3, Epoch 18, Batch 100] Loss: 0.483\n",
      "[Fold 3, Epoch 18, Batch 150] Loss: 0.485\n",
      "[Fold 3, Epoch 18, Batch 200] Loss: 0.483\n",
      "[Fold 3, Epoch 19, Batch 50] Loss: 0.485\n",
      "[Fold 3, Epoch 19, Batch 100] Loss: 0.481\n",
      "[Fold 3, Epoch 19, Batch 150] Loss: 0.484\n",
      "[Fold 3, Epoch 19, Batch 200] Loss: 0.485\n",
      "[Fold 3, Epoch 20, Batch 50] Loss: 0.484\n",
      "[Fold 3, Epoch 20, Batch 100] Loss: 0.481\n",
      "[Fold 3, Epoch 20, Batch 150] Loss: 0.485\n",
      "[Fold 3, Epoch 20, Batch 200] Loss: 0.484\n",
      "[Fold 3, Epoch 21, Batch 50] Loss: 0.485\n",
      "[Fold 3, Epoch 21, Batch 100] Loss: 0.481\n",
      "[Fold 3, Epoch 21, Batch 150] Loss: 0.486\n",
      "[Fold 3, Epoch 21, Batch 200] Loss: 0.482\n",
      "[Fold 3, Epoch 22, Batch 50] Loss: 0.483\n",
      "[Fold 3, Epoch 22, Batch 100] Loss: 0.483\n",
      "[Fold 3, Epoch 22, Batch 150] Loss: 0.484\n",
      "[Fold 3, Epoch 22, Batch 200] Loss: 0.484\n",
      "Fold 4\n",
      "[Fold 4, Epoch 1, Batch 50] Loss: 0.486\n",
      "[Fold 4, Epoch 1, Batch 100] Loss: 0.486\n",
      "[Fold 4, Epoch 1, Batch 150] Loss: 0.484\n",
      "[Fold 4, Epoch 1, Batch 200] Loss: 0.482\n",
      "[Fold 4, Epoch 2, Batch 50] Loss: 0.484\n",
      "[Fold 4, Epoch 2, Batch 100] Loss: 0.482\n",
      "[Fold 4, Epoch 2, Batch 150] Loss: 0.487\n",
      "[Fold 4, Epoch 2, Batch 200] Loss: 0.486\n",
      "[Fold 4, Epoch 3, Batch 50] Loss: 0.486\n",
      "[Fold 4, Epoch 3, Batch 100] Loss: 0.483\n",
      "[Fold 4, Epoch 3, Batch 150] Loss: 0.485\n",
      "[Fold 4, Epoch 3, Batch 200] Loss: 0.484\n",
      "[Fold 4, Epoch 4, Batch 50] Loss: 0.486\n",
      "[Fold 4, Epoch 4, Batch 100] Loss: 0.485\n",
      "[Fold 4, Epoch 4, Batch 150] Loss: 0.483\n",
      "[Fold 4, Epoch 4, Batch 200] Loss: 0.485\n",
      "[Fold 4, Epoch 5, Batch 50] Loss: 0.485\n",
      "[Fold 4, Epoch 5, Batch 100] Loss: 0.487\n",
      "[Fold 4, Epoch 5, Batch 150] Loss: 0.483\n",
      "[Fold 4, Epoch 5, Batch 200] Loss: 0.484\n",
      "[Fold 4, Epoch 6, Batch 50] Loss: 0.486\n",
      "[Fold 4, Epoch 6, Batch 100] Loss: 0.486\n",
      "[Fold 4, Epoch 6, Batch 150] Loss: 0.484\n",
      "[Fold 4, Epoch 6, Batch 200] Loss: 0.483\n",
      "[Fold 4, Epoch 7, Batch 50] Loss: 0.484\n",
      "[Fold 4, Epoch 7, Batch 100] Loss: 0.486\n",
      "[Fold 4, Epoch 7, Batch 150] Loss: 0.485\n",
      "[Fold 4, Epoch 7, Batch 200] Loss: 0.483\n",
      "[Fold 4, Epoch 8, Batch 50] Loss: 0.485\n",
      "[Fold 4, Epoch 8, Batch 100] Loss: 0.485\n",
      "[Fold 4, Epoch 8, Batch 150] Loss: 0.482\n",
      "[Fold 4, Epoch 8, Batch 200] Loss: 0.486\n",
      "[Fold 4, Epoch 9, Batch 50] Loss: 0.483\n",
      "[Fold 4, Epoch 9, Batch 100] Loss: 0.484\n",
      "[Fold 4, Epoch 9, Batch 150] Loss: 0.485\n",
      "[Fold 4, Epoch 9, Batch 200] Loss: 0.485\n",
      "[Fold 4, Epoch 10, Batch 50] Loss: 0.487\n",
      "[Fold 4, Epoch 10, Batch 100] Loss: 0.484\n",
      "[Fold 4, Epoch 10, Batch 150] Loss: 0.485\n",
      "[Fold 4, Epoch 10, Batch 200] Loss: 0.482\n",
      "[Fold 4, Epoch 11, Batch 50] Loss: 0.489\n",
      "[Fold 4, Epoch 11, Batch 100] Loss: 0.485\n",
      "[Fold 4, Epoch 11, Batch 150] Loss: 0.480\n",
      "[Fold 4, Epoch 11, Batch 200] Loss: 0.484\n",
      "[Fold 4, Epoch 12, Batch 50] Loss: 0.487\n",
      "[Fold 4, Epoch 12, Batch 100] Loss: 0.482\n",
      "[Fold 4, Epoch 12, Batch 150] Loss: 0.484\n",
      "[Fold 4, Epoch 12, Batch 200] Loss: 0.485\n",
      "[Fold 4, Epoch 13, Batch 50] Loss: 0.487\n",
      "[Fold 4, Epoch 13, Batch 100] Loss: 0.485\n",
      "[Fold 4, Epoch 13, Batch 150] Loss: 0.484\n",
      "[Fold 4, Epoch 13, Batch 200] Loss: 0.482\n",
      "[Fold 4, Epoch 14, Batch 50] Loss: 0.488\n",
      "[Fold 4, Epoch 14, Batch 100] Loss: 0.485\n",
      "[Fold 4, Epoch 14, Batch 150] Loss: 0.482\n",
      "[Fold 4, Epoch 14, Batch 200] Loss: 0.483\n",
      "[Fold 4, Epoch 15, Batch 50] Loss: 0.486\n",
      "[Fold 4, Epoch 15, Batch 100] Loss: 0.483\n",
      "[Fold 4, Epoch 15, Batch 150] Loss: 0.483\n",
      "[Fold 4, Epoch 15, Batch 200] Loss: 0.486\n",
      "[Fold 4, Epoch 16, Batch 50] Loss: 0.487\n",
      "[Fold 4, Epoch 16, Batch 100] Loss: 0.484\n",
      "[Fold 4, Epoch 16, Batch 150] Loss: 0.485\n",
      "[Fold 4, Epoch 16, Batch 200] Loss: 0.482\n",
      "[Fold 4, Epoch 17, Batch 50] Loss: 0.484\n",
      "[Fold 4, Epoch 17, Batch 100] Loss: 0.486\n",
      "[Fold 4, Epoch 17, Batch 150] Loss: 0.484\n",
      "[Fold 4, Epoch 17, Batch 200] Loss: 0.483\n",
      "[Fold 4, Epoch 18, Batch 50] Loss: 0.485\n",
      "[Fold 4, Epoch 18, Batch 100] Loss: 0.487\n",
      "[Fold 4, Epoch 18, Batch 150] Loss: 0.485\n",
      "[Fold 4, Epoch 18, Batch 200] Loss: 0.481\n",
      "[Fold 4, Epoch 19, Batch 50] Loss: 0.485\n",
      "[Fold 4, Epoch 19, Batch 100] Loss: 0.485\n",
      "[Fold 4, Epoch 19, Batch 150] Loss: 0.484\n",
      "[Fold 4, Epoch 19, Batch 200] Loss: 0.484\n",
      "[Fold 4, Epoch 20, Batch 50] Loss: 0.486\n",
      "[Fold 4, Epoch 20, Batch 100] Loss: 0.484\n",
      "[Fold 4, Epoch 20, Batch 150] Loss: 0.484\n",
      "[Fold 4, Epoch 20, Batch 200] Loss: 0.483\n",
      "[Fold 4, Epoch 21, Batch 50] Loss: 0.484\n",
      "[Fold 4, Epoch 21, Batch 100] Loss: 0.484\n",
      "[Fold 4, Epoch 21, Batch 150] Loss: 0.485\n",
      "[Fold 4, Epoch 21, Batch 200] Loss: 0.484\n",
      "[Fold 4, Epoch 22, Batch 50] Loss: 0.484\n",
      "[Fold 4, Epoch 22, Batch 100] Loss: 0.483\n",
      "[Fold 4, Epoch 22, Batch 150] Loss: 0.483\n",
      "[Fold 4, Epoch 22, Batch 200] Loss: 0.487\n",
      "Mean AUC: 0.9855, Std AUC: 0.0071\n",
      "Mean F1 Score: 0.9369, Std F1 Score: 0.0138\n"
     ]
    }
   ],
   "source": [
    "dataset = ConcatDataset([ image_data_train , image_data_test_darker])\n",
    "train_and_evaluate(ae, criterion, optimizer, dataset)\n"
   ]
  },
  {
   "cell_type": "markdown",
   "metadata": {
    "id": "eclx7Q4vsvR3"
   },
   "source": [
    "### For All"
   ]
  },
  {
   "cell_type": "code",
   "execution_count": null,
   "metadata": {
    "colab": {
     "base_uri": "https://localhost:8080/"
    },
    "id": "g9JLUZi6R4zJ",
    "outputId": "2d89e1ea-4ee0-4326-9bf0-a8687cb8580d"
   },
   "outputs": [
    {
     "name": "stdout",
     "output_type": "stream",
     "text": [
      "Fold 1\n",
      "[Fold 1, Epoch 1, Batch 50] Loss: 0.688\n",
      "[Fold 1, Epoch 1, Batch 100] Loss: 0.675\n",
      "[Fold 1, Epoch 1, Batch 150] Loss: 0.665\n",
      "[Fold 1, Epoch 1, Batch 200] Loss: 0.657\n",
      "[Fold 1, Epoch 1, Batch 250] Loss: 0.652\n",
      "[Fold 1, Epoch 2, Batch 50] Loss: 1.059\n",
      "[Fold 1, Epoch 2, Batch 100] Loss: 0.634\n",
      "[Fold 1, Epoch 2, Batch 150] Loss: 0.620\n",
      "[Fold 1, Epoch 2, Batch 200] Loss: 0.601\n",
      "[Fold 1, Epoch 2, Batch 250] Loss: 0.586\n",
      "[Fold 1, Epoch 3, Batch 50] Loss: 0.949\n",
      "[Fold 1, Epoch 3, Batch 100] Loss: 0.568\n",
      "[Fold 1, Epoch 3, Batch 150] Loss: 0.566\n",
      "[Fold 1, Epoch 3, Batch 200] Loss: 0.560\n",
      "[Fold 1, Epoch 3, Batch 250] Loss: 0.556\n",
      "[Fold 1, Epoch 4, Batch 50] Loss: 0.915\n",
      "[Fold 1, Epoch 4, Batch 100] Loss: 0.555\n",
      "[Fold 1, Epoch 4, Batch 150] Loss: 0.554\n",
      "[Fold 1, Epoch 4, Batch 200] Loss: 0.551\n",
      "[Fold 1, Epoch 4, Batch 250] Loss: 0.550\n",
      "[Fold 1, Epoch 5, Batch 50] Loss: 0.898\n",
      "[Fold 1, Epoch 5, Batch 100] Loss: 0.549\n",
      "[Fold 1, Epoch 5, Batch 150] Loss: 0.546\n",
      "[Fold 1, Epoch 5, Batch 200] Loss: 0.546\n",
      "[Fold 1, Epoch 5, Batch 250] Loss: 0.546\n",
      "[Fold 1, Epoch 6, Batch 50] Loss: 0.891\n",
      "[Fold 1, Epoch 6, Batch 100] Loss: 0.542\n",
      "[Fold 1, Epoch 6, Batch 150] Loss: 0.542\n",
      "[Fold 1, Epoch 6, Batch 200] Loss: 0.542\n",
      "[Fold 1, Epoch 6, Batch 250] Loss: 0.542\n",
      "[Fold 1, Epoch 7, Batch 50] Loss: 0.886\n",
      "[Fold 1, Epoch 7, Batch 100] Loss: 0.541\n",
      "[Fold 1, Epoch 7, Batch 150] Loss: 0.539\n",
      "[Fold 1, Epoch 7, Batch 200] Loss: 0.538\n",
      "[Fold 1, Epoch 7, Batch 250] Loss: 0.536\n",
      "[Fold 1, Epoch 8, Batch 50] Loss: 0.881\n",
      "[Fold 1, Epoch 8, Batch 100] Loss: 0.539\n",
      "[Fold 1, Epoch 8, Batch 150] Loss: 0.538\n",
      "[Fold 1, Epoch 8, Batch 200] Loss: 0.536\n",
      "[Fold 1, Epoch 8, Batch 250] Loss: 0.533\n",
      "[Fold 1, Epoch 9, Batch 50] Loss: 0.876\n",
      "[Fold 1, Epoch 9, Batch 100] Loss: 0.535\n",
      "[Fold 1, Epoch 9, Batch 150] Loss: 0.536\n",
      "[Fold 1, Epoch 9, Batch 200] Loss: 0.533\n",
      "[Fold 1, Epoch 9, Batch 250] Loss: 0.535\n",
      "[Fold 1, Epoch 10, Batch 50] Loss: 0.874\n",
      "[Fold 1, Epoch 10, Batch 100] Loss: 0.535\n",
      "[Fold 1, Epoch 10, Batch 150] Loss: 0.531\n",
      "[Fold 1, Epoch 10, Batch 200] Loss: 0.533\n",
      "[Fold 1, Epoch 10, Batch 250] Loss: 0.533\n",
      "[Fold 1, Epoch 11, Batch 50] Loss: 0.876\n",
      "[Fold 1, Epoch 11, Batch 100] Loss: 0.534\n",
      "[Fold 1, Epoch 11, Batch 150] Loss: 0.532\n",
      "[Fold 1, Epoch 11, Batch 200] Loss: 0.532\n",
      "[Fold 1, Epoch 11, Batch 250] Loss: 0.531\n",
      "[Fold 1, Epoch 12, Batch 50] Loss: 0.868\n",
      "[Fold 1, Epoch 12, Batch 100] Loss: 0.531\n",
      "[Fold 1, Epoch 12, Batch 150] Loss: 0.532\n",
      "[Fold 1, Epoch 12, Batch 200] Loss: 0.532\n",
      "[Fold 1, Epoch 12, Batch 250] Loss: 0.531\n",
      "[Fold 1, Epoch 13, Batch 50] Loss: 0.872\n",
      "[Fold 1, Epoch 13, Batch 100] Loss: 0.533\n",
      "[Fold 1, Epoch 13, Batch 150] Loss: 0.529\n",
      "[Fold 1, Epoch 13, Batch 200] Loss: 0.533\n",
      "[Fold 1, Epoch 13, Batch 250] Loss: 0.526\n",
      "[Fold 1, Epoch 14, Batch 50] Loss: 0.867\n",
      "[Fold 1, Epoch 14, Batch 100] Loss: 0.532\n",
      "[Fold 1, Epoch 14, Batch 150] Loss: 0.528\n",
      "[Fold 1, Epoch 14, Batch 200] Loss: 0.532\n",
      "[Fold 1, Epoch 14, Batch 250] Loss: 0.530\n",
      "[Fold 1, Epoch 15, Batch 50] Loss: 0.870\n",
      "[Fold 1, Epoch 15, Batch 100] Loss: 0.531\n",
      "[Fold 1, Epoch 15, Batch 150] Loss: 0.530\n",
      "[Fold 1, Epoch 15, Batch 200] Loss: 0.528\n",
      "[Fold 1, Epoch 15, Batch 250] Loss: 0.528\n",
      "[Fold 1, Epoch 16, Batch 50] Loss: 0.871\n",
      "[Fold 1, Epoch 16, Batch 100] Loss: 0.529\n",
      "[Fold 1, Epoch 16, Batch 150] Loss: 0.530\n",
      "[Fold 1, Epoch 16, Batch 200] Loss: 0.528\n",
      "[Fold 1, Epoch 16, Batch 250] Loss: 0.526\n",
      "[Fold 1, Epoch 17, Batch 50] Loss: 0.870\n",
      "[Fold 1, Epoch 17, Batch 100] Loss: 0.528\n",
      "[Fold 1, Epoch 17, Batch 150] Loss: 0.531\n",
      "[Fold 1, Epoch 17, Batch 200] Loss: 0.529\n",
      "[Fold 1, Epoch 17, Batch 250] Loss: 0.526\n",
      "[Fold 1, Epoch 18, Batch 50] Loss: 0.864\n",
      "[Fold 1, Epoch 18, Batch 100] Loss: 0.528\n",
      "[Fold 1, Epoch 18, Batch 150] Loss: 0.531\n",
      "[Fold 1, Epoch 18, Batch 200] Loss: 0.529\n",
      "[Fold 1, Epoch 18, Batch 250] Loss: 0.527\n",
      "[Fold 1, Epoch 19, Batch 50] Loss: 0.867\n",
      "[Fold 1, Epoch 19, Batch 100] Loss: 0.526\n",
      "[Fold 1, Epoch 19, Batch 150] Loss: 0.528\n",
      "[Fold 1, Epoch 19, Batch 200] Loss: 0.527\n",
      "[Fold 1, Epoch 19, Batch 250] Loss: 0.530\n",
      "[Fold 1, Epoch 20, Batch 50] Loss: 0.865\n",
      "[Fold 1, Epoch 20, Batch 100] Loss: 0.529\n",
      "[Fold 1, Epoch 20, Batch 150] Loss: 0.528\n",
      "[Fold 1, Epoch 20, Batch 200] Loss: 0.527\n",
      "[Fold 1, Epoch 20, Batch 250] Loss: 0.527\n",
      "[Fold 1, Epoch 21, Batch 50] Loss: 0.866\n",
      "[Fold 1, Epoch 21, Batch 100] Loss: 0.524\n",
      "[Fold 1, Epoch 21, Batch 150] Loss: 0.530\n",
      "[Fold 1, Epoch 21, Batch 200] Loss: 0.527\n",
      "[Fold 1, Epoch 21, Batch 250] Loss: 0.527\n",
      "[Fold 1, Epoch 22, Batch 50] Loss: 0.866\n",
      "[Fold 1, Epoch 22, Batch 100] Loss: 0.528\n",
      "[Fold 1, Epoch 22, Batch 150] Loss: 0.528\n",
      "[Fold 1, Epoch 22, Batch 200] Loss: 0.526\n",
      "[Fold 1, Epoch 22, Batch 250] Loss: 0.524\n",
      "Fold 2\n",
      "[Fold 2, Epoch 1, Batch 50] Loss: 0.528\n",
      "[Fold 2, Epoch 1, Batch 100] Loss: 0.524\n",
      "[Fold 2, Epoch 1, Batch 150] Loss: 0.525\n",
      "[Fold 2, Epoch 1, Batch 200] Loss: 0.528\n",
      "[Fold 2, Epoch 1, Batch 250] Loss: 0.528\n",
      "[Fold 2, Epoch 2, Batch 50] Loss: 0.859\n",
      "[Fold 2, Epoch 2, Batch 100] Loss: 0.528\n",
      "[Fold 2, Epoch 2, Batch 150] Loss: 0.525\n",
      "[Fold 2, Epoch 2, Batch 200] Loss: 0.528\n",
      "[Fold 2, Epoch 2, Batch 250] Loss: 0.528\n",
      "[Fold 2, Epoch 3, Batch 50] Loss: 0.861\n",
      "[Fold 2, Epoch 3, Batch 100] Loss: 0.527\n",
      "[Fold 2, Epoch 3, Batch 150] Loss: 0.527\n",
      "[Fold 2, Epoch 3, Batch 200] Loss: 0.524\n",
      "[Fold 2, Epoch 3, Batch 250] Loss: 0.526\n",
      "[Fold 2, Epoch 4, Batch 50] Loss: 0.864\n",
      "[Fold 2, Epoch 4, Batch 100] Loss: 0.527\n",
      "[Fold 2, Epoch 4, Batch 150] Loss: 0.526\n",
      "[Fold 2, Epoch 4, Batch 200] Loss: 0.524\n",
      "[Fold 2, Epoch 4, Batch 250] Loss: 0.526\n",
      "[Fold 2, Epoch 5, Batch 50] Loss: 0.861\n",
      "[Fold 2, Epoch 5, Batch 100] Loss: 0.527\n",
      "[Fold 2, Epoch 5, Batch 150] Loss: 0.524\n",
      "[Fold 2, Epoch 5, Batch 200] Loss: 0.526\n",
      "[Fold 2, Epoch 5, Batch 250] Loss: 0.525\n",
      "[Fold 2, Epoch 6, Batch 50] Loss: 0.863\n",
      "[Fold 2, Epoch 6, Batch 100] Loss: 0.527\n",
      "[Fold 2, Epoch 6, Batch 150] Loss: 0.524\n",
      "[Fold 2, Epoch 6, Batch 200] Loss: 0.526\n",
      "[Fold 2, Epoch 6, Batch 250] Loss: 0.524\n",
      "[Fold 2, Epoch 7, Batch 50] Loss: 0.858\n",
      "[Fold 2, Epoch 7, Batch 100] Loss: 0.525\n",
      "[Fold 2, Epoch 7, Batch 150] Loss: 0.527\n",
      "[Fold 2, Epoch 7, Batch 200] Loss: 0.526\n",
      "[Fold 2, Epoch 7, Batch 250] Loss: 0.523\n",
      "[Fold 2, Epoch 8, Batch 50] Loss: 0.861\n",
      "[Fold 2, Epoch 8, Batch 100] Loss: 0.525\n",
      "[Fold 2, Epoch 8, Batch 150] Loss: 0.525\n",
      "[Fold 2, Epoch 8, Batch 200] Loss: 0.524\n",
      "[Fold 2, Epoch 8, Batch 250] Loss: 0.524\n",
      "[Fold 2, Epoch 9, Batch 50] Loss: 0.858\n",
      "[Fold 2, Epoch 9, Batch 100] Loss: 0.522\n",
      "[Fold 2, Epoch 9, Batch 150] Loss: 0.526\n",
      "[Fold 2, Epoch 9, Batch 200] Loss: 0.524\n",
      "[Fold 2, Epoch 9, Batch 250] Loss: 0.525\n",
      "[Fold 2, Epoch 10, Batch 50] Loss: 0.863\n",
      "[Fold 2, Epoch 10, Batch 100] Loss: 0.524\n",
      "[Fold 2, Epoch 10, Batch 150] Loss: 0.523\n",
      "[Fold 2, Epoch 10, Batch 200] Loss: 0.524\n",
      "[Fold 2, Epoch 10, Batch 250] Loss: 0.522\n",
      "[Fold 2, Epoch 11, Batch 50] Loss: 0.857\n",
      "[Fold 2, Epoch 11, Batch 100] Loss: 0.524\n",
      "[Fold 2, Epoch 11, Batch 150] Loss: 0.523\n",
      "[Fold 2, Epoch 11, Batch 200] Loss: 0.524\n",
      "[Fold 2, Epoch 11, Batch 250] Loss: 0.525\n",
      "[Fold 2, Epoch 12, Batch 50] Loss: 0.860\n",
      "[Fold 2, Epoch 12, Batch 100] Loss: 0.523\n",
      "[Fold 2, Epoch 12, Batch 150] Loss: 0.521\n",
      "[Fold 2, Epoch 12, Batch 200] Loss: 0.526\n",
      "[Fold 2, Epoch 12, Batch 250] Loss: 0.523\n",
      "[Fold 2, Epoch 13, Batch 50] Loss: 0.861\n",
      "[Fold 2, Epoch 13, Batch 100] Loss: 0.522\n",
      "[Fold 2, Epoch 13, Batch 150] Loss: 0.520\n",
      "[Fold 2, Epoch 13, Batch 200] Loss: 0.523\n",
      "[Fold 2, Epoch 13, Batch 250] Loss: 0.522\n",
      "[Fold 2, Epoch 14, Batch 50] Loss: 0.861\n",
      "[Fold 2, Epoch 14, Batch 100] Loss: 0.520\n",
      "[Fold 2, Epoch 14, Batch 150] Loss: 0.523\n",
      "[Fold 2, Epoch 14, Batch 200] Loss: 0.522\n",
      "[Fold 2, Epoch 14, Batch 250] Loss: 0.522\n",
      "[Fold 2, Epoch 15, Batch 50] Loss: 0.860\n",
      "[Fold 2, Epoch 15, Batch 100] Loss: 0.520\n",
      "[Fold 2, Epoch 15, Batch 150] Loss: 0.523\n",
      "[Fold 2, Epoch 15, Batch 200] Loss: 0.524\n",
      "[Fold 2, Epoch 15, Batch 250] Loss: 0.523\n",
      "[Fold 2, Epoch 16, Batch 50] Loss: 0.852\n",
      "[Fold 2, Epoch 16, Batch 100] Loss: 0.522\n",
      "[Fold 2, Epoch 16, Batch 150] Loss: 0.521\n",
      "[Fold 2, Epoch 16, Batch 200] Loss: 0.524\n",
      "[Fold 2, Epoch 16, Batch 250] Loss: 0.521\n",
      "[Fold 2, Epoch 17, Batch 50] Loss: 0.860\n",
      "[Fold 2, Epoch 17, Batch 100] Loss: 0.523\n",
      "[Fold 2, Epoch 17, Batch 150] Loss: 0.519\n",
      "[Fold 2, Epoch 17, Batch 200] Loss: 0.520\n",
      "[Fold 2, Epoch 17, Batch 250] Loss: 0.524\n",
      "[Fold 2, Epoch 18, Batch 50] Loss: 0.857\n",
      "[Fold 2, Epoch 18, Batch 100] Loss: 0.523\n",
      "[Fold 2, Epoch 18, Batch 150] Loss: 0.521\n",
      "[Fold 2, Epoch 18, Batch 200] Loss: 0.521\n",
      "[Fold 2, Epoch 18, Batch 250] Loss: 0.522\n",
      "[Fold 2, Epoch 19, Batch 50] Loss: 0.858\n",
      "[Fold 2, Epoch 19, Batch 100] Loss: 0.521\n",
      "[Fold 2, Epoch 19, Batch 150] Loss: 0.520\n",
      "[Fold 2, Epoch 19, Batch 200] Loss: 0.524\n",
      "[Fold 2, Epoch 19, Batch 250] Loss: 0.519\n",
      "[Fold 2, Epoch 20, Batch 50] Loss: 0.858\n",
      "[Fold 2, Epoch 20, Batch 100] Loss: 0.524\n",
      "[Fold 2, Epoch 20, Batch 150] Loss: 0.521\n",
      "[Fold 2, Epoch 20, Batch 200] Loss: 0.520\n",
      "[Fold 2, Epoch 20, Batch 250] Loss: 0.521\n",
      "[Fold 2, Epoch 21, Batch 50] Loss: 0.855\n",
      "[Fold 2, Epoch 21, Batch 100] Loss: 0.521\n",
      "[Fold 2, Epoch 21, Batch 150] Loss: 0.521\n",
      "[Fold 2, Epoch 21, Batch 200] Loss: 0.522\n",
      "[Fold 2, Epoch 21, Batch 250] Loss: 0.520\n",
      "[Fold 2, Epoch 22, Batch 50] Loss: 0.854\n",
      "[Fold 2, Epoch 22, Batch 100] Loss: 0.523\n",
      "[Fold 2, Epoch 22, Batch 150] Loss: 0.521\n",
      "[Fold 2, Epoch 22, Batch 200] Loss: 0.521\n",
      "[Fold 2, Epoch 22, Batch 250] Loss: 0.521\n",
      "Fold 3\n",
      "[Fold 3, Epoch 1, Batch 50] Loss: 0.520\n",
      "[Fold 3, Epoch 1, Batch 100] Loss: 0.521\n",
      "[Fold 3, Epoch 1, Batch 150] Loss: 0.522\n",
      "[Fold 3, Epoch 1, Batch 200] Loss: 0.527\n",
      "[Fold 3, Epoch 1, Batch 250] Loss: 0.525\n",
      "[Fold 3, Epoch 2, Batch 50] Loss: 0.858\n",
      "[Fold 3, Epoch 2, Batch 100] Loss: 0.524\n",
      "[Fold 3, Epoch 2, Batch 150] Loss: 0.522\n",
      "[Fold 3, Epoch 2, Batch 200] Loss: 0.523\n",
      "[Fold 3, Epoch 2, Batch 250] Loss: 0.523\n",
      "[Fold 3, Epoch 3, Batch 50] Loss: 0.857\n",
      "[Fold 3, Epoch 3, Batch 100] Loss: 0.522\n",
      "[Fold 3, Epoch 3, Batch 150] Loss: 0.523\n",
      "[Fold 3, Epoch 3, Batch 200] Loss: 0.523\n",
      "[Fold 3, Epoch 3, Batch 250] Loss: 0.525\n",
      "[Fold 3, Epoch 4, Batch 50] Loss: 0.856\n",
      "[Fold 3, Epoch 4, Batch 100] Loss: 0.523\n",
      "[Fold 3, Epoch 4, Batch 150] Loss: 0.524\n",
      "[Fold 3, Epoch 4, Batch 200] Loss: 0.523\n",
      "[Fold 3, Epoch 4, Batch 250] Loss: 0.520\n",
      "[Fold 3, Epoch 5, Batch 50] Loss: 0.858\n",
      "[Fold 3, Epoch 5, Batch 100] Loss: 0.523\n",
      "[Fold 3, Epoch 5, Batch 150] Loss: 0.522\n",
      "[Fold 3, Epoch 5, Batch 200] Loss: 0.523\n",
      "[Fold 3, Epoch 5, Batch 250] Loss: 0.523\n",
      "[Fold 3, Epoch 6, Batch 50] Loss: 0.859\n",
      "[Fold 3, Epoch 6, Batch 100] Loss: 0.523\n",
      "[Fold 3, Epoch 6, Batch 150] Loss: 0.522\n",
      "[Fold 3, Epoch 6, Batch 200] Loss: 0.523\n",
      "[Fold 3, Epoch 6, Batch 250] Loss: 0.521\n",
      "[Fold 3, Epoch 7, Batch 50] Loss: 0.856\n",
      "[Fold 3, Epoch 7, Batch 100] Loss: 0.523\n",
      "[Fold 3, Epoch 7, Batch 150] Loss: 0.523\n",
      "[Fold 3, Epoch 7, Batch 200] Loss: 0.524\n",
      "[Fold 3, Epoch 7, Batch 250] Loss: 0.520\n",
      "[Fold 3, Epoch 8, Batch 50] Loss: 0.856\n",
      "[Fold 3, Epoch 8, Batch 100] Loss: 0.523\n",
      "[Fold 3, Epoch 8, Batch 150] Loss: 0.523\n",
      "[Fold 3, Epoch 8, Batch 200] Loss: 0.523\n",
      "[Fold 3, Epoch 8, Batch 250] Loss: 0.522\n",
      "[Fold 3, Epoch 9, Batch 50] Loss: 0.854\n",
      "[Fold 3, Epoch 9, Batch 100] Loss: 0.521\n",
      "[Fold 3, Epoch 9, Batch 150] Loss: 0.526\n",
      "[Fold 3, Epoch 9, Batch 200] Loss: 0.521\n",
      "[Fold 3, Epoch 9, Batch 250] Loss: 0.523\n",
      "[Fold 3, Epoch 10, Batch 50] Loss: 0.859\n",
      "[Fold 3, Epoch 10, Batch 100] Loss: 0.520\n",
      "[Fold 3, Epoch 10, Batch 150] Loss: 0.522\n",
      "[Fold 3, Epoch 10, Batch 200] Loss: 0.522\n",
      "[Fold 3, Epoch 10, Batch 250] Loss: 0.521\n",
      "[Fold 3, Epoch 11, Batch 50] Loss: 0.861\n",
      "[Fold 3, Epoch 11, Batch 100] Loss: 0.524\n",
      "[Fold 3, Epoch 11, Batch 150] Loss: 0.519\n",
      "[Fold 3, Epoch 11, Batch 200] Loss: 0.522\n",
      "[Fold 3, Epoch 11, Batch 250] Loss: 0.523\n",
      "[Fold 3, Epoch 12, Batch 50] Loss: 0.856\n",
      "[Fold 3, Epoch 12, Batch 100] Loss: 0.520\n",
      "[Fold 3, Epoch 12, Batch 150] Loss: 0.521\n",
      "[Fold 3, Epoch 12, Batch 200] Loss: 0.523\n",
      "[Fold 3, Epoch 12, Batch 250] Loss: 0.523\n",
      "[Fold 3, Epoch 13, Batch 50] Loss: 0.854\n",
      "[Fold 3, Epoch 13, Batch 100] Loss: 0.521\n",
      "[Fold 3, Epoch 13, Batch 150] Loss: 0.526\n",
      "[Fold 3, Epoch 13, Batch 200] Loss: 0.523\n",
      "[Fold 3, Epoch 13, Batch 250] Loss: 0.520\n",
      "[Fold 3, Epoch 14, Batch 50] Loss: 0.855\n",
      "[Fold 3, Epoch 14, Batch 100] Loss: 0.523\n",
      "[Fold 3, Epoch 14, Batch 150] Loss: 0.525\n",
      "[Fold 3, Epoch 14, Batch 200] Loss: 0.523\n",
      "[Fold 3, Epoch 14, Batch 250] Loss: 0.521\n",
      "[Fold 3, Epoch 15, Batch 50] Loss: 0.852\n",
      "[Fold 3, Epoch 15, Batch 100] Loss: 0.522\n",
      "[Fold 3, Epoch 15, Batch 150] Loss: 0.525\n",
      "[Fold 3, Epoch 15, Batch 200] Loss: 0.522\n",
      "[Fold 3, Epoch 15, Batch 250] Loss: 0.521\n",
      "[Fold 3, Epoch 16, Batch 50] Loss: 0.855\n",
      "[Fold 3, Epoch 16, Batch 100] Loss: 0.520\n",
      "[Fold 3, Epoch 16, Batch 150] Loss: 0.523\n",
      "[Fold 3, Epoch 16, Batch 200] Loss: 0.524\n",
      "[Fold 3, Epoch 16, Batch 250] Loss: 0.519\n",
      "[Fold 3, Epoch 17, Batch 50] Loss: 0.857\n",
      "[Fold 3, Epoch 17, Batch 100] Loss: 0.522\n",
      "[Fold 3, Epoch 17, Batch 150] Loss: 0.521\n",
      "[Fold 3, Epoch 17, Batch 200] Loss: 0.523\n",
      "[Fold 3, Epoch 17, Batch 250] Loss: 0.521\n",
      "[Fold 3, Epoch 18, Batch 50] Loss: 0.856\n",
      "[Fold 3, Epoch 18, Batch 100] Loss: 0.519\n",
      "[Fold 3, Epoch 18, Batch 150] Loss: 0.521\n",
      "[Fold 3, Epoch 18, Batch 200] Loss: 0.525\n",
      "[Fold 3, Epoch 18, Batch 250] Loss: 0.520\n",
      "[Fold 3, Epoch 19, Batch 50] Loss: 0.857\n",
      "[Fold 3, Epoch 19, Batch 100] Loss: 0.522\n",
      "[Fold 3, Epoch 19, Batch 150] Loss: 0.521\n",
      "[Fold 3, Epoch 19, Batch 200] Loss: 0.521\n",
      "[Fold 3, Epoch 19, Batch 250] Loss: 0.522\n",
      "[Fold 3, Epoch 20, Batch 50] Loss: 0.856\n",
      "[Fold 3, Epoch 20, Batch 100] Loss: 0.522\n",
      "[Fold 3, Epoch 20, Batch 150] Loss: 0.521\n",
      "[Fold 3, Epoch 20, Batch 200] Loss: 0.524\n",
      "[Fold 3, Epoch 20, Batch 250] Loss: 0.521\n",
      "[Fold 3, Epoch 21, Batch 50] Loss: 0.857\n",
      "[Fold 3, Epoch 21, Batch 100] Loss: 0.522\n",
      "[Fold 3, Epoch 21, Batch 150] Loss: 0.520\n",
      "[Fold 3, Epoch 21, Batch 200] Loss: 0.520\n",
      "[Fold 3, Epoch 21, Batch 250] Loss: 0.521\n",
      "[Fold 3, Epoch 22, Batch 50] Loss: 0.857\n",
      "[Fold 3, Epoch 22, Batch 100] Loss: 0.524\n",
      "[Fold 3, Epoch 22, Batch 150] Loss: 0.522\n",
      "[Fold 3, Epoch 22, Batch 200] Loss: 0.521\n",
      "[Fold 3, Epoch 22, Batch 250] Loss: 0.520\n",
      "Fold 4\n",
      "[Fold 4, Epoch 1, Batch 50] Loss: 0.520\n",
      "[Fold 4, Epoch 1, Batch 100] Loss: 0.520\n",
      "[Fold 4, Epoch 1, Batch 150] Loss: 0.522\n",
      "[Fold 4, Epoch 1, Batch 200] Loss: 0.522\n",
      "[Fold 4, Epoch 1, Batch 250] Loss: 0.522\n",
      "[Fold 4, Epoch 2, Batch 50] Loss: 0.852\n",
      "[Fold 4, Epoch 2, Batch 100] Loss: 0.519\n",
      "[Fold 4, Epoch 2, Batch 150] Loss: 0.523\n",
      "[Fold 4, Epoch 2, Batch 200] Loss: 0.521\n",
      "[Fold 4, Epoch 2, Batch 250] Loss: 0.524\n",
      "[Fold 4, Epoch 3, Batch 50] Loss: 0.852\n",
      "[Fold 4, Epoch 3, Batch 100] Loss: 0.522\n",
      "[Fold 4, Epoch 3, Batch 150] Loss: 0.519\n",
      "[Fold 4, Epoch 3, Batch 200] Loss: 0.521\n",
      "[Fold 4, Epoch 3, Batch 250] Loss: 0.521\n",
      "[Fold 4, Epoch 4, Batch 50] Loss: 0.857\n",
      "[Fold 4, Epoch 4, Batch 100] Loss: 0.521\n",
      "[Fold 4, Epoch 4, Batch 150] Loss: 0.520\n",
      "[Fold 4, Epoch 4, Batch 200] Loss: 0.522\n",
      "[Fold 4, Epoch 4, Batch 250] Loss: 0.521\n",
      "[Fold 4, Epoch 5, Batch 50] Loss: 0.858\n",
      "[Fold 4, Epoch 5, Batch 100] Loss: 0.519\n",
      "[Fold 4, Epoch 5, Batch 150] Loss: 0.517\n",
      "[Fold 4, Epoch 5, Batch 200] Loss: 0.523\n",
      "[Fold 4, Epoch 5, Batch 250] Loss: 0.522\n",
      "[Fold 4, Epoch 6, Batch 50] Loss: 0.852\n",
      "[Fold 4, Epoch 6, Batch 100] Loss: 0.520\n",
      "[Fold 4, Epoch 6, Batch 150] Loss: 0.523\n",
      "[Fold 4, Epoch 6, Batch 200] Loss: 0.521\n",
      "[Fold 4, Epoch 6, Batch 250] Loss: 0.520\n",
      "[Fold 4, Epoch 7, Batch 50] Loss: 0.856\n",
      "[Fold 4, Epoch 7, Batch 100] Loss: 0.521\n",
      "[Fold 4, Epoch 7, Batch 150] Loss: 0.521\n",
      "[Fold 4, Epoch 7, Batch 200] Loss: 0.521\n",
      "[Fold 4, Epoch 7, Batch 250] Loss: 0.520\n",
      "[Fold 4, Epoch 8, Batch 50] Loss: 0.854\n",
      "[Fold 4, Epoch 8, Batch 100] Loss: 0.518\n",
      "[Fold 4, Epoch 8, Batch 150] Loss: 0.520\n",
      "[Fold 4, Epoch 8, Batch 200] Loss: 0.520\n",
      "[Fold 4, Epoch 8, Batch 250] Loss: 0.522\n",
      "[Fold 4, Epoch 9, Batch 50] Loss: 0.857\n",
      "[Fold 4, Epoch 9, Batch 100] Loss: 0.522\n",
      "[Fold 4, Epoch 9, Batch 150] Loss: 0.521\n",
      "[Fold 4, Epoch 9, Batch 200] Loss: 0.519\n",
      "[Fold 4, Epoch 9, Batch 250] Loss: 0.520\n",
      "[Fold 4, Epoch 10, Batch 50] Loss: 0.855\n",
      "[Fold 4, Epoch 10, Batch 100] Loss: 0.519\n",
      "[Fold 4, Epoch 10, Batch 150] Loss: 0.522\n",
      "[Fold 4, Epoch 10, Batch 200] Loss: 0.519\n",
      "[Fold 4, Epoch 10, Batch 250] Loss: 0.521\n",
      "[Fold 4, Epoch 11, Batch 50] Loss: 0.855\n",
      "[Fold 4, Epoch 11, Batch 100] Loss: 0.521\n",
      "[Fold 4, Epoch 11, Batch 150] Loss: 0.519\n",
      "[Fold 4, Epoch 11, Batch 200] Loss: 0.520\n",
      "[Fold 4, Epoch 11, Batch 250] Loss: 0.521\n",
      "[Fold 4, Epoch 12, Batch 50] Loss: 0.853\n",
      "[Fold 4, Epoch 12, Batch 100] Loss: 0.519\n",
      "[Fold 4, Epoch 12, Batch 150] Loss: 0.520\n",
      "[Fold 4, Epoch 12, Batch 200] Loss: 0.522\n",
      "[Fold 4, Epoch 12, Batch 250] Loss: 0.521\n",
      "[Fold 4, Epoch 13, Batch 50] Loss: 0.853\n",
      "[Fold 4, Epoch 13, Batch 100] Loss: 0.520\n",
      "[Fold 4, Epoch 13, Batch 150] Loss: 0.523\n",
      "[Fold 4, Epoch 13, Batch 200] Loss: 0.518\n",
      "[Fold 4, Epoch 13, Batch 250] Loss: 0.519\n",
      "[Fold 4, Epoch 14, Batch 50] Loss: 0.855\n",
      "[Fold 4, Epoch 14, Batch 100] Loss: 0.520\n",
      "[Fold 4, Epoch 14, Batch 150] Loss: 0.520\n",
      "[Fold 4, Epoch 14, Batch 200] Loss: 0.521\n",
      "[Fold 4, Epoch 14, Batch 250] Loss: 0.522\n",
      "[Fold 4, Epoch 15, Batch 50] Loss: 0.854\n",
      "[Fold 4, Epoch 15, Batch 100] Loss: 0.521\n",
      "[Fold 4, Epoch 15, Batch 150] Loss: 0.521\n",
      "[Fold 4, Epoch 15, Batch 200] Loss: 0.519\n",
      "[Fold 4, Epoch 15, Batch 250] Loss: 0.518\n",
      "[Fold 4, Epoch 16, Batch 50] Loss: 0.858\n",
      "[Fold 4, Epoch 16, Batch 100] Loss: 0.522\n",
      "[Fold 4, Epoch 16, Batch 150] Loss: 0.517\n",
      "[Fold 4, Epoch 16, Batch 200] Loss: 0.518\n",
      "[Fold 4, Epoch 16, Batch 250] Loss: 0.521\n",
      "[Fold 4, Epoch 17, Batch 50] Loss: 0.855\n",
      "[Fold 4, Epoch 17, Batch 100] Loss: 0.521\n",
      "[Fold 4, Epoch 17, Batch 150] Loss: 0.519\n",
      "[Fold 4, Epoch 17, Batch 200] Loss: 0.522\n",
      "[Fold 4, Epoch 17, Batch 250] Loss: 0.518\n",
      "[Fold 4, Epoch 18, Batch 50] Loss: 0.853\n",
      "[Fold 4, Epoch 18, Batch 100] Loss: 0.521\n",
      "[Fold 4, Epoch 18, Batch 150] Loss: 0.520\n",
      "[Fold 4, Epoch 18, Batch 200] Loss: 0.519\n",
      "[Fold 4, Epoch 18, Batch 250] Loss: 0.519\n",
      "[Fold 4, Epoch 19, Batch 50] Loss: 0.852\n",
      "[Fold 4, Epoch 19, Batch 100] Loss: 0.523\n",
      "[Fold 4, Epoch 19, Batch 150] Loss: 0.519\n",
      "[Fold 4, Epoch 19, Batch 200] Loss: 0.521\n",
      "[Fold 4, Epoch 19, Batch 250] Loss: 0.518\n",
      "[Fold 4, Epoch 20, Batch 50] Loss: 0.854\n",
      "[Fold 4, Epoch 20, Batch 100] Loss: 0.519\n",
      "[Fold 4, Epoch 20, Batch 150] Loss: 0.521\n",
      "[Fold 4, Epoch 20, Batch 200] Loss: 0.519\n",
      "[Fold 4, Epoch 20, Batch 250] Loss: 0.522\n",
      "[Fold 4, Epoch 21, Batch 50] Loss: 0.854\n",
      "[Fold 4, Epoch 21, Batch 100] Loss: 0.519\n",
      "[Fold 4, Epoch 21, Batch 150] Loss: 0.521\n",
      "[Fold 4, Epoch 21, Batch 200] Loss: 0.524\n",
      "[Fold 4, Epoch 21, Batch 250] Loss: 0.518\n",
      "[Fold 4, Epoch 22, Batch 50] Loss: 0.853\n",
      "[Fold 4, Epoch 22, Batch 100] Loss: 0.521\n",
      "[Fold 4, Epoch 22, Batch 150] Loss: 0.520\n",
      "[Fold 4, Epoch 22, Batch 200] Loss: 0.519\n",
      "[Fold 4, Epoch 22, Batch 250] Loss: 0.521\n",
      "Mean AUC: 0.9782, Std AUC: 0.0056\n",
      "Mean F1 Score: 0.9194, Std F1 Score: 0.0124\n"
     ]
    }
   ],
   "source": [
    "dataset = ConcatDataset([ image_data_train , image_data_test_ALL ])\n",
    "train_and_evaluate(ae, criterion, optimizer, dataset)\n"
   ]
  },
  {
   "cell_type": "markdown",
   "metadata": {
    "id": "dUpCij8g1qvO"
   },
   "source": [
    "\n",
    "\n",
    "---\n",
    "\n",
    "\n",
    "\n",
    "---\n",
    "\n"
   ]
  },
  {
   "cell_type": "markdown",
   "metadata": {
    "id": "amwELHsMl5Cg"
   },
   "source": [
    "## 4.4 NN Softmax"
   ]
  },
  {
   "cell_type": "markdown",
   "metadata": {
    "id": "00IKvHaU8c7m"
   },
   "source": [
    "Load the saved scores "
   ]
  },
  {
   "cell_type": "code",
   "execution_count": null,
   "metadata": {
    "colab": {
     "base_uri": "https://localhost:8080/",
     "height": 424
    },
    "id": "VckW80jBhB4p",
    "outputId": "cb55f8f4-d559-4790-f0c2-0885d1a4a110",
    "scrolled": true
   },
   "outputs": [
    {
     "data": {
      "text/html": [
       "\n",
       "  <div id=\"df-d3dc5c81-187e-47c0-b971-c76d7296e448\" class=\"colab-df-container\">\n",
       "    <div>\n",
       "<style scoped>\n",
       "    .dataframe tbody tr th:only-of-type {\n",
       "        vertical-align: middle;\n",
       "    }\n",
       "\n",
       "    .dataframe tbody tr th {\n",
       "        vertical-align: top;\n",
       "    }\n",
       "\n",
       "    .dataframe thead th {\n",
       "        text-align: right;\n",
       "    }\n",
       "</style>\n",
       "<table border=\"1\" class=\"dataframe\">\n",
       "  <thead>\n",
       "    <tr style=\"text-align: right;\">\n",
       "      <th></th>\n",
       "      <th>Scores</th>\n",
       "      <th>Labels</th>\n",
       "    </tr>\n",
       "  </thead>\n",
       "  <tbody>\n",
       "    <tr>\n",
       "      <th>0</th>\n",
       "      <td>0.999318</td>\n",
       "      <td>2</td>\n",
       "    </tr>\n",
       "    <tr>\n",
       "      <th>1</th>\n",
       "      <td>0.819800</td>\n",
       "      <td>1</td>\n",
       "    </tr>\n",
       "    <tr>\n",
       "      <th>2</th>\n",
       "      <td>0.987357</td>\n",
       "      <td>1</td>\n",
       "    </tr>\n",
       "    <tr>\n",
       "      <th>3</th>\n",
       "      <td>1.000000</td>\n",
       "      <td>0</td>\n",
       "    </tr>\n",
       "    <tr>\n",
       "      <th>4</th>\n",
       "      <td>1.000000</td>\n",
       "      <td>0</td>\n",
       "    </tr>\n",
       "    <tr>\n",
       "      <th>...</th>\n",
       "      <td>...</td>\n",
       "      <td>...</td>\n",
       "    </tr>\n",
       "    <tr>\n",
       "      <th>17207</th>\n",
       "      <td>0.988635</td>\n",
       "      <td>1</td>\n",
       "    </tr>\n",
       "    <tr>\n",
       "      <th>17208</th>\n",
       "      <td>0.951698</td>\n",
       "      <td>1</td>\n",
       "    </tr>\n",
       "    <tr>\n",
       "      <th>17209</th>\n",
       "      <td>1.000000</td>\n",
       "      <td>1</td>\n",
       "    </tr>\n",
       "    <tr>\n",
       "      <th>17210</th>\n",
       "      <td>0.999990</td>\n",
       "      <td>0</td>\n",
       "    </tr>\n",
       "    <tr>\n",
       "      <th>17211</th>\n",
       "      <td>0.999823</td>\n",
       "      <td>1</td>\n",
       "    </tr>\n",
       "  </tbody>\n",
       "</table>\n",
       "<p>17212 rows × 2 columns</p>\n",
       "</div>\n",
       "    <div class=\"colab-df-buttons\">\n",
       "\n",
       "  <div class=\"colab-df-container\">\n",
       "    <button class=\"colab-df-convert\" onclick=\"convertToInteractive('df-d3dc5c81-187e-47c0-b971-c76d7296e448')\"\n",
       "            title=\"Convert this dataframe to an interactive table.\"\n",
       "            style=\"display:none;\">\n",
       "\n",
       "  <svg xmlns=\"http://www.w3.org/2000/svg\" height=\"24px\" viewBox=\"0 -960 960 960\">\n",
       "    <path d=\"M120-120v-720h720v720H120Zm60-500h600v-160H180v160Zm220 220h160v-160H400v160Zm0 220h160v-160H400v160ZM180-400h160v-160H180v160Zm440 0h160v-160H620v160ZM180-180h160v-160H180v160Zm440 0h160v-160H620v160Z\"/>\n",
       "  </svg>\n",
       "    </button>\n",
       "\n",
       "  <style>\n",
       "    .colab-df-container {\n",
       "      display:flex;\n",
       "      gap: 12px;\n",
       "    }\n",
       "\n",
       "    .colab-df-convert {\n",
       "      background-color: #E8F0FE;\n",
       "      border: none;\n",
       "      border-radius: 50%;\n",
       "      cursor: pointer;\n",
       "      display: none;\n",
       "      fill: #1967D2;\n",
       "      height: 32px;\n",
       "      padding: 0 0 0 0;\n",
       "      width: 32px;\n",
       "    }\n",
       "\n",
       "    .colab-df-convert:hover {\n",
       "      background-color: #E2EBFA;\n",
       "      box-shadow: 0px 1px 2px rgba(60, 64, 67, 0.3), 0px 1px 3px 1px rgba(60, 64, 67, 0.15);\n",
       "      fill: #174EA6;\n",
       "    }\n",
       "\n",
       "    .colab-df-buttons div {\n",
       "      margin-bottom: 4px;\n",
       "    }\n",
       "\n",
       "    [theme=dark] .colab-df-convert {\n",
       "      background-color: #3B4455;\n",
       "      fill: #D2E3FC;\n",
       "    }\n",
       "\n",
       "    [theme=dark] .colab-df-convert:hover {\n",
       "      background-color: #434B5C;\n",
       "      box-shadow: 0px 1px 3px 1px rgba(0, 0, 0, 0.15);\n",
       "      filter: drop-shadow(0px 1px 2px rgba(0, 0, 0, 0.3));\n",
       "      fill: #FFFFFF;\n",
       "    }\n",
       "  </style>\n",
       "\n",
       "    <script>\n",
       "      const buttonEl =\n",
       "        document.querySelector('#df-d3dc5c81-187e-47c0-b971-c76d7296e448 button.colab-df-convert');\n",
       "      buttonEl.style.display =\n",
       "        google.colab.kernel.accessAllowed ? 'block' : 'none';\n",
       "\n",
       "      async function convertToInteractive(key) {\n",
       "        const element = document.querySelector('#df-d3dc5c81-187e-47c0-b971-c76d7296e448');\n",
       "        const dataTable =\n",
       "          await google.colab.kernel.invokeFunction('convertToInteractive',\n",
       "                                                    [key], {});\n",
       "        if (!dataTable) return;\n",
       "\n",
       "        const docLinkHtml = 'Like what you see? Visit the ' +\n",
       "          '<a target=\"_blank\" href=https://colab.research.google.com/notebooks/data_table.ipynb>data table notebook</a>'\n",
       "          + ' to learn more about interactive tables.';\n",
       "        element.innerHTML = '';\n",
       "        dataTable['output_type'] = 'display_data';\n",
       "        await google.colab.output.renderOutput(dataTable, element);\n",
       "        const docLink = document.createElement('div');\n",
       "        docLink.innerHTML = docLinkHtml;\n",
       "        element.appendChild(docLink);\n",
       "      }\n",
       "    </script>\n",
       "  </div>\n",
       "\n",
       "\n",
       "<div id=\"df-0c1721a8-cda7-43a1-bd75-5f34c617f80b\">\n",
       "  <button class=\"colab-df-quickchart\" onclick=\"quickchart('df-0c1721a8-cda7-43a1-bd75-5f34c617f80b')\"\n",
       "            title=\"Suggest charts.\"\n",
       "            style=\"display:none;\">\n",
       "\n",
       "<svg xmlns=\"http://www.w3.org/2000/svg\" height=\"24px\"viewBox=\"0 0 24 24\"\n",
       "     width=\"24px\">\n",
       "    <g>\n",
       "        <path d=\"M19 3H5c-1.1 0-2 .9-2 2v14c0 1.1.9 2 2 2h14c1.1 0 2-.9 2-2V5c0-1.1-.9-2-2-2zM9 17H7v-7h2v7zm4 0h-2V7h2v10zm4 0h-2v-4h2v4z\"/>\n",
       "    </g>\n",
       "</svg>\n",
       "  </button>\n",
       "\n",
       "<style>\n",
       "  .colab-df-quickchart {\n",
       "      --bg-color: #E8F0FE;\n",
       "      --fill-color: #1967D2;\n",
       "      --hover-bg-color: #E2EBFA;\n",
       "      --hover-fill-color: #174EA6;\n",
       "      --disabled-fill-color: #AAA;\n",
       "      --disabled-bg-color: #DDD;\n",
       "  }\n",
       "\n",
       "  [theme=dark] .colab-df-quickchart {\n",
       "      --bg-color: #3B4455;\n",
       "      --fill-color: #D2E3FC;\n",
       "      --hover-bg-color: #434B5C;\n",
       "      --hover-fill-color: #FFFFFF;\n",
       "      --disabled-bg-color: #3B4455;\n",
       "      --disabled-fill-color: #666;\n",
       "  }\n",
       "\n",
       "  .colab-df-quickchart {\n",
       "    background-color: var(--bg-color);\n",
       "    border: none;\n",
       "    border-radius: 50%;\n",
       "    cursor: pointer;\n",
       "    display: none;\n",
       "    fill: var(--fill-color);\n",
       "    height: 32px;\n",
       "    padding: 0;\n",
       "    width: 32px;\n",
       "  }\n",
       "\n",
       "  .colab-df-quickchart:hover {\n",
       "    background-color: var(--hover-bg-color);\n",
       "    box-shadow: 0 1px 2px rgba(60, 64, 67, 0.3), 0 1px 3px 1px rgba(60, 64, 67, 0.15);\n",
       "    fill: var(--button-hover-fill-color);\n",
       "  }\n",
       "\n",
       "  .colab-df-quickchart-complete:disabled,\n",
       "  .colab-df-quickchart-complete:disabled:hover {\n",
       "    background-color: var(--disabled-bg-color);\n",
       "    fill: var(--disabled-fill-color);\n",
       "    box-shadow: none;\n",
       "  }\n",
       "\n",
       "  .colab-df-spinner {\n",
       "    border: 2px solid var(--fill-color);\n",
       "    border-color: transparent;\n",
       "    border-bottom-color: var(--fill-color);\n",
       "    animation:\n",
       "      spin 1s steps(1) infinite;\n",
       "  }\n",
       "\n",
       "  @keyframes spin {\n",
       "    0% {\n",
       "      border-color: transparent;\n",
       "      border-bottom-color: var(--fill-color);\n",
       "      border-left-color: var(--fill-color);\n",
       "    }\n",
       "    20% {\n",
       "      border-color: transparent;\n",
       "      border-left-color: var(--fill-color);\n",
       "      border-top-color: var(--fill-color);\n",
       "    }\n",
       "    30% {\n",
       "      border-color: transparent;\n",
       "      border-left-color: var(--fill-color);\n",
       "      border-top-color: var(--fill-color);\n",
       "      border-right-color: var(--fill-color);\n",
       "    }\n",
       "    40% {\n",
       "      border-color: transparent;\n",
       "      border-right-color: var(--fill-color);\n",
       "      border-top-color: var(--fill-color);\n",
       "    }\n",
       "    60% {\n",
       "      border-color: transparent;\n",
       "      border-right-color: var(--fill-color);\n",
       "    }\n",
       "    80% {\n",
       "      border-color: transparent;\n",
       "      border-right-color: var(--fill-color);\n",
       "      border-bottom-color: var(--fill-color);\n",
       "    }\n",
       "    90% {\n",
       "      border-color: transparent;\n",
       "      border-bottom-color: var(--fill-color);\n",
       "    }\n",
       "  }\n",
       "</style>\n",
       "\n",
       "  <script>\n",
       "    async function quickchart(key) {\n",
       "      const quickchartButtonEl =\n",
       "        document.querySelector('#' + key + ' button');\n",
       "      quickchartButtonEl.disabled = true;  // To prevent multiple clicks.\n",
       "      quickchartButtonEl.classList.add('colab-df-spinner');\n",
       "      try {\n",
       "        const charts = await google.colab.kernel.invokeFunction(\n",
       "            'suggestCharts', [key], {});\n",
       "      } catch (error) {\n",
       "        console.error('Error during call to suggestCharts:', error);\n",
       "      }\n",
       "      quickchartButtonEl.classList.remove('colab-df-spinner');\n",
       "      quickchartButtonEl.classList.add('colab-df-quickchart-complete');\n",
       "    }\n",
       "    (() => {\n",
       "      let quickchartButtonEl =\n",
       "        document.querySelector('#df-0c1721a8-cda7-43a1-bd75-5f34c617f80b button');\n",
       "      quickchartButtonEl.style.display =\n",
       "        google.colab.kernel.accessAllowed ? 'block' : 'none';\n",
       "    })();\n",
       "  </script>\n",
       "</div>\n",
       "    </div>\n",
       "  </div>\n"
      ],
      "text/plain": [
       "         Scores  Labels\n",
       "0      0.999318       2\n",
       "1      0.819800       1\n",
       "2      0.987357       1\n",
       "3      1.000000       0\n",
       "4      1.000000       0\n",
       "...         ...     ...\n",
       "17207  0.988635       1\n",
       "17208  0.951698       1\n",
       "17209  1.000000       1\n",
       "17210  0.999990       0\n",
       "17211  0.999823       1\n",
       "\n",
       "[17212 rows x 2 columns]"
      ]
     },
     "execution_count": 18,
     "metadata": {},
     "output_type": "execute_result"
    }
   ],
   "source": [
    "\n",
    "in_dist_files_L = ['densenet121_Base_In_Lighter_Only.txt']\n",
    "out_dist_files_L = ['densenet121_Base_Out_Lighter_Only.txt']\n",
    "in_dist_files_D = ['densenet121_Base_In_Darker_only.txt']\n",
    "out_dist_files_D = ['densenet121_Base_Out_Darker_Only.txt']\n",
    "\n",
    "# Read scores from files into Pandas Series\n",
    "in_dist_scores_L = pd.Series([float(score) for score in open(in_dist_files_L[0]).readlines()])\n",
    "out_dist_scores_L = pd.Series([float(score) for score in open(out_dist_files_L[0]).readlines()])\n",
    "in_dist_scores_D = pd.Series([float(score) for score in open(in_dist_files_D[0]).readlines()])\n",
    "out_dist_scores_D = pd.Series([float(score) for score in open(out_dist_files_D[0]).readlines()])\n",
    "\n",
    "# Create labels for each set of scores\n",
    "in_dist_labels_L = pd.Series([0] * len(in_dist_scores_L))\n",
    "in_dist_labels_D = pd.Series([0] * len(in_dist_scores_D))\n",
    "\n",
    "out_dist_labels_L = pd.Series([1] * len(out_dist_scores_L))\n",
    "out_dist_labels_D = pd.Series([2] * len(out_dist_scores_D))\n",
    "\n",
    "# Concatenate scores and labels into a DataFrame\n",
    "df = pd.DataFrame({\n",
    "    'Scores': pd.concat([in_dist_scores_L , in_dist_scores_D, out_dist_scores_L, out_dist_scores_D]),\n",
    "    'Labels': pd.concat([in_dist_labels_L, in_dist_labels_D,out_dist_labels_L, out_dist_labels_D])\n",
    "})\n",
    "\n",
    "df = df.sample(frac=1, random_state=42).reset_index(drop=True)\n",
    "\n",
    "# Display the resulting DataFrame\n",
    "df\n"
   ]
  },
  {
   "cell_type": "markdown",
   "metadata": {
    "id": "00IKvHaU8c7m"
   },
   "source": [
    "Define the optimal threshold and ceate the outpt column"
   ]
  },
  {
   "cell_type": "code",
   "execution_count": null,
   "metadata": {
    "colab": {
     "base_uri": "https://localhost:8080/",
     "height": 424
    },
    "id": "HxmS6zek6kHX",
    "outputId": "984b7563-e67c-4e64-a5b1-8569757c2945"
   },
   "outputs": [
    {
     "data": {
      "text/html": [
       "\n",
       "  <div id=\"df-cee8a610-43a0-4fce-b02b-b0a3f020b61f\" class=\"colab-df-container\">\n",
       "    <div>\n",
       "<style scoped>\n",
       "    .dataframe tbody tr th:only-of-type {\n",
       "        vertical-align: middle;\n",
       "    }\n",
       "\n",
       "    .dataframe tbody tr th {\n",
       "        vertical-align: top;\n",
       "    }\n",
       "\n",
       "    .dataframe thead th {\n",
       "        text-align: right;\n",
       "    }\n",
       "</style>\n",
       "<table border=\"1\" class=\"dataframe\">\n",
       "  <thead>\n",
       "    <tr style=\"text-align: right;\">\n",
       "      <th></th>\n",
       "      <th>Scores</th>\n",
       "      <th>Labels</th>\n",
       "      <th>Output</th>\n",
       "    </tr>\n",
       "  </thead>\n",
       "  <tbody>\n",
       "    <tr>\n",
       "      <th>0</th>\n",
       "      <td>0.999318</td>\n",
       "      <td>2</td>\n",
       "      <td>0</td>\n",
       "    </tr>\n",
       "    <tr>\n",
       "      <th>1</th>\n",
       "      <td>0.819800</td>\n",
       "      <td>1</td>\n",
       "      <td>1</td>\n",
       "    </tr>\n",
       "    <tr>\n",
       "      <th>2</th>\n",
       "      <td>0.987357</td>\n",
       "      <td>1</td>\n",
       "      <td>1</td>\n",
       "    </tr>\n",
       "    <tr>\n",
       "      <th>3</th>\n",
       "      <td>1.000000</td>\n",
       "      <td>0</td>\n",
       "      <td>0</td>\n",
       "    </tr>\n",
       "    <tr>\n",
       "      <th>4</th>\n",
       "      <td>1.000000</td>\n",
       "      <td>0</td>\n",
       "      <td>0</td>\n",
       "    </tr>\n",
       "    <tr>\n",
       "      <th>...</th>\n",
       "      <td>...</td>\n",
       "      <td>...</td>\n",
       "      <td>...</td>\n",
       "    </tr>\n",
       "    <tr>\n",
       "      <th>17207</th>\n",
       "      <td>0.988635</td>\n",
       "      <td>1</td>\n",
       "      <td>1</td>\n",
       "    </tr>\n",
       "    <tr>\n",
       "      <th>17208</th>\n",
       "      <td>0.951698</td>\n",
       "      <td>1</td>\n",
       "      <td>1</td>\n",
       "    </tr>\n",
       "    <tr>\n",
       "      <th>17209</th>\n",
       "      <td>1.000000</td>\n",
       "      <td>1</td>\n",
       "      <td>0</td>\n",
       "    </tr>\n",
       "    <tr>\n",
       "      <th>17210</th>\n",
       "      <td>0.999990</td>\n",
       "      <td>0</td>\n",
       "      <td>0</td>\n",
       "    </tr>\n",
       "    <tr>\n",
       "      <th>17211</th>\n",
       "      <td>0.999823</td>\n",
       "      <td>1</td>\n",
       "      <td>0</td>\n",
       "    </tr>\n",
       "  </tbody>\n",
       "</table>\n",
       "<p>17212 rows × 3 columns</p>\n",
       "</div>\n",
       "    <div class=\"colab-df-buttons\">\n",
       "\n",
       "  <div class=\"colab-df-container\">\n",
       "    <button class=\"colab-df-convert\" onclick=\"convertToInteractive('df-cee8a610-43a0-4fce-b02b-b0a3f020b61f')\"\n",
       "            title=\"Convert this dataframe to an interactive table.\"\n",
       "            style=\"display:none;\">\n",
       "\n",
       "  <svg xmlns=\"http://www.w3.org/2000/svg\" height=\"24px\" viewBox=\"0 -960 960 960\">\n",
       "    <path d=\"M120-120v-720h720v720H120Zm60-500h600v-160H180v160Zm220 220h160v-160H400v160Zm0 220h160v-160H400v160ZM180-400h160v-160H180v160Zm440 0h160v-160H620v160ZM180-180h160v-160H180v160Zm440 0h160v-160H620v160Z\"/>\n",
       "  </svg>\n",
       "    </button>\n",
       "\n",
       "  <style>\n",
       "    .colab-df-container {\n",
       "      display:flex;\n",
       "      gap: 12px;\n",
       "    }\n",
       "\n",
       "    .colab-df-convert {\n",
       "      background-color: #E8F0FE;\n",
       "      border: none;\n",
       "      border-radius: 50%;\n",
       "      cursor: pointer;\n",
       "      display: none;\n",
       "      fill: #1967D2;\n",
       "      height: 32px;\n",
       "      padding: 0 0 0 0;\n",
       "      width: 32px;\n",
       "    }\n",
       "\n",
       "    .colab-df-convert:hover {\n",
       "      background-color: #E2EBFA;\n",
       "      box-shadow: 0px 1px 2px rgba(60, 64, 67, 0.3), 0px 1px 3px 1px rgba(60, 64, 67, 0.15);\n",
       "      fill: #174EA6;\n",
       "    }\n",
       "\n",
       "    .colab-df-buttons div {\n",
       "      margin-bottom: 4px;\n",
       "    }\n",
       "\n",
       "    [theme=dark] .colab-df-convert {\n",
       "      background-color: #3B4455;\n",
       "      fill: #D2E3FC;\n",
       "    }\n",
       "\n",
       "    [theme=dark] .colab-df-convert:hover {\n",
       "      background-color: #434B5C;\n",
       "      box-shadow: 0px 1px 3px 1px rgba(0, 0, 0, 0.15);\n",
       "      filter: drop-shadow(0px 1px 2px rgba(0, 0, 0, 0.3));\n",
       "      fill: #FFFFFF;\n",
       "    }\n",
       "  </style>\n",
       "\n",
       "    <script>\n",
       "      const buttonEl =\n",
       "        document.querySelector('#df-cee8a610-43a0-4fce-b02b-b0a3f020b61f button.colab-df-convert');\n",
       "      buttonEl.style.display =\n",
       "        google.colab.kernel.accessAllowed ? 'block' : 'none';\n",
       "\n",
       "      async function convertToInteractive(key) {\n",
       "        const element = document.querySelector('#df-cee8a610-43a0-4fce-b02b-b0a3f020b61f');\n",
       "        const dataTable =\n",
       "          await google.colab.kernel.invokeFunction('convertToInteractive',\n",
       "                                                    [key], {});\n",
       "        if (!dataTable) return;\n",
       "\n",
       "        const docLinkHtml = 'Like what you see? Visit the ' +\n",
       "          '<a target=\"_blank\" href=https://colab.research.google.com/notebooks/data_table.ipynb>data table notebook</a>'\n",
       "          + ' to learn more about interactive tables.';\n",
       "        element.innerHTML = '';\n",
       "        dataTable['output_type'] = 'display_data';\n",
       "        await google.colab.output.renderOutput(dataTable, element);\n",
       "        const docLink = document.createElement('div');\n",
       "        docLink.innerHTML = docLinkHtml;\n",
       "        element.appendChild(docLink);\n",
       "      }\n",
       "    </script>\n",
       "  </div>\n",
       "\n",
       "\n",
       "<div id=\"df-ff30cd1f-9fb1-4cb1-84d4-35c9b6954705\">\n",
       "  <button class=\"colab-df-quickchart\" onclick=\"quickchart('df-ff30cd1f-9fb1-4cb1-84d4-35c9b6954705')\"\n",
       "            title=\"Suggest charts.\"\n",
       "            style=\"display:none;\">\n",
       "\n",
       "<svg xmlns=\"http://www.w3.org/2000/svg\" height=\"24px\"viewBox=\"0 0 24 24\"\n",
       "     width=\"24px\">\n",
       "    <g>\n",
       "        <path d=\"M19 3H5c-1.1 0-2 .9-2 2v14c0 1.1.9 2 2 2h14c1.1 0 2-.9 2-2V5c0-1.1-.9-2-2-2zM9 17H7v-7h2v7zm4 0h-2V7h2v10zm4 0h-2v-4h2v4z\"/>\n",
       "    </g>\n",
       "</svg>\n",
       "  </button>\n",
       "\n",
       "<style>\n",
       "  .colab-df-quickchart {\n",
       "      --bg-color: #E8F0FE;\n",
       "      --fill-color: #1967D2;\n",
       "      --hover-bg-color: #E2EBFA;\n",
       "      --hover-fill-color: #174EA6;\n",
       "      --disabled-fill-color: #AAA;\n",
       "      --disabled-bg-color: #DDD;\n",
       "  }\n",
       "\n",
       "  [theme=dark] .colab-df-quickchart {\n",
       "      --bg-color: #3B4455;\n",
       "      --fill-color: #D2E3FC;\n",
       "      --hover-bg-color: #434B5C;\n",
       "      --hover-fill-color: #FFFFFF;\n",
       "      --disabled-bg-color: #3B4455;\n",
       "      --disabled-fill-color: #666;\n",
       "  }\n",
       "\n",
       "  .colab-df-quickchart {\n",
       "    background-color: var(--bg-color);\n",
       "    border: none;\n",
       "    border-radius: 50%;\n",
       "    cursor: pointer;\n",
       "    display: none;\n",
       "    fill: var(--fill-color);\n",
       "    height: 32px;\n",
       "    padding: 0;\n",
       "    width: 32px;\n",
       "  }\n",
       "\n",
       "  .colab-df-quickchart:hover {\n",
       "    background-color: var(--hover-bg-color);\n",
       "    box-shadow: 0 1px 2px rgba(60, 64, 67, 0.3), 0 1px 3px 1px rgba(60, 64, 67, 0.15);\n",
       "    fill: var(--button-hover-fill-color);\n",
       "  }\n",
       "\n",
       "  .colab-df-quickchart-complete:disabled,\n",
       "  .colab-df-quickchart-complete:disabled:hover {\n",
       "    background-color: var(--disabled-bg-color);\n",
       "    fill: var(--disabled-fill-color);\n",
       "    box-shadow: none;\n",
       "  }\n",
       "\n",
       "  .colab-df-spinner {\n",
       "    border: 2px solid var(--fill-color);\n",
       "    border-color: transparent;\n",
       "    border-bottom-color: var(--fill-color);\n",
       "    animation:\n",
       "      spin 1s steps(1) infinite;\n",
       "  }\n",
       "\n",
       "  @keyframes spin {\n",
       "    0% {\n",
       "      border-color: transparent;\n",
       "      border-bottom-color: var(--fill-color);\n",
       "      border-left-color: var(--fill-color);\n",
       "    }\n",
       "    20% {\n",
       "      border-color: transparent;\n",
       "      border-left-color: var(--fill-color);\n",
       "      border-top-color: var(--fill-color);\n",
       "    }\n",
       "    30% {\n",
       "      border-color: transparent;\n",
       "      border-left-color: var(--fill-color);\n",
       "      border-top-color: var(--fill-color);\n",
       "      border-right-color: var(--fill-color);\n",
       "    }\n",
       "    40% {\n",
       "      border-color: transparent;\n",
       "      border-right-color: var(--fill-color);\n",
       "      border-top-color: var(--fill-color);\n",
       "    }\n",
       "    60% {\n",
       "      border-color: transparent;\n",
       "      border-right-color: var(--fill-color);\n",
       "    }\n",
       "    80% {\n",
       "      border-color: transparent;\n",
       "      border-right-color: var(--fill-color);\n",
       "      border-bottom-color: var(--fill-color);\n",
       "    }\n",
       "    90% {\n",
       "      border-color: transparent;\n",
       "      border-bottom-color: var(--fill-color);\n",
       "    }\n",
       "  }\n",
       "</style>\n",
       "\n",
       "  <script>\n",
       "    async function quickchart(key) {\n",
       "      const quickchartButtonEl =\n",
       "        document.querySelector('#' + key + ' button');\n",
       "      quickchartButtonEl.disabled = true;  // To prevent multiple clicks.\n",
       "      quickchartButtonEl.classList.add('colab-df-spinner');\n",
       "      try {\n",
       "        const charts = await google.colab.kernel.invokeFunction(\n",
       "            'suggestCharts', [key], {});\n",
       "      } catch (error) {\n",
       "        console.error('Error during call to suggestCharts:', error);\n",
       "      }\n",
       "      quickchartButtonEl.classList.remove('colab-df-spinner');\n",
       "      quickchartButtonEl.classList.add('colab-df-quickchart-complete');\n",
       "    }\n",
       "    (() => {\n",
       "      let quickchartButtonEl =\n",
       "        document.querySelector('#df-ff30cd1f-9fb1-4cb1-84d4-35c9b6954705 button');\n",
       "      quickchartButtonEl.style.display =\n",
       "        google.colab.kernel.accessAllowed ? 'block' : 'none';\n",
       "    })();\n",
       "  </script>\n",
       "</div>\n",
       "    </div>\n",
       "  </div>\n"
      ],
      "text/plain": [
       "         Scores  Labels  Output\n",
       "0      0.999318       2       0\n",
       "1      0.819800       1       1\n",
       "2      0.987357       1       1\n",
       "3      1.000000       0       0\n",
       "4      1.000000       0       0\n",
       "...         ...     ...     ...\n",
       "17207  0.988635       1       1\n",
       "17208  0.951698       1       1\n",
       "17209  1.000000       1       0\n",
       "17210  0.999990       0       0\n",
       "17211  0.999823       1       0\n",
       "\n",
       "[17212 rows x 3 columns]"
      ]
     },
     "execution_count": 39,
     "metadata": {},
     "output_type": "execute_result"
    }
   ],
   "source": [
    "#optimal threshold\n",
    "optimal_threshold = 0.9962658286094666\n",
    "\n",
    "# Create the \"Output\" column \n",
    "df['Output'] = (df['Scores'] < optimal_threshold).astype(int)\n",
    "df\n"
   ]
  },
  {
   "cell_type": "markdown",
   "metadata": {
    "id": "Y1fpbbruyx4r"
   },
   "source": [
    "### 4.4.1 Histograms"
   ]
  },
  {
   "cell_type": "code",
   "execution_count": null,
   "metadata": {
    "colab": {
     "base_uri": "https://localhost:8080/"
    },
    "id": "fKGTh8PcPotU",
    "outputId": "6c866bd1-a579-484f-facc-3fcfe1c6324c"
   },
   "outputs": [
    {
     "name": "stdout",
     "output_type": "stream",
     "text": [
      "Count of softmax scores of lighter samples bellow threshold: 8231\n",
      "Count of softmax scores of darker samples bellow threshold: 919\n",
      "Count of softmax scores of inlier above threshold: 4552\n"
     ]
    }
   ],
   "source": [
    "#plotting and counting all the scores\n",
    "# Filter rows based on conditions\n",
    "base_Lighter = df[(df['Labels'] == 1) & (df['Output'] == 1) ]['Scores']\n",
    "base_Darker = df[(df['Labels'] == 2)& (df['Output'] == 1) ]['Scores']\n",
    "base_Inlier = df[(df['Labels'] == 0) &(df['Output'] == 0) ]['Scores']\n",
    "\n",
    "# Print counts\n",
    "print(\"Count of softmax scores of lighter samples bellow threshold:\", len(base_Lighter))\n",
    "print(\"Count of softmax scores of darker samples bellow threshold:\", len(base_Darker))\n",
    "print(\"Count of softmax scores of inlier above threshold:\", len(base_Inlier))"
   ]
  },
  {
   "cell_type": "code",
   "execution_count": null,
   "metadata": {
    "colab": {
     "base_uri": "https://localhost:8080/",
     "height": 564
    },
    "id": "3Aziet7nQm-e",
    "outputId": "793498f4-cadf-4a6b-ba70-ba7016e6e8f2"
   },
   "outputs": [
    {
     "data": {
      "image/png": "[encoded data removed]",
      "text/plain": [
       "<Figure size 1000x600 with 1 Axes>"
      ]
     },
     "metadata": {},
     "output_type": "display_data"
    }
   ],
   "source": [
    "from aux_vis import plot_Histogram\n",
    "\n",
    "plot_Histogram(base_Lighter,base_Darker,'NN Softmax Scores Histograms for the Fitzpartrick 17k dataset','softmax score','Count')"
   ]
  },
  {
   "cell_type": "markdown",
   "metadata": {
    "id": "2mjATYKXalOq"
   },
   "source": [
    "### 4.4.2 Performance metrics calculation"
   ]
  },
  {
   "cell_type": "code",
   "execution_count": null,
   "metadata": {
    "id": "yTGgb8qnuTWM"
   },
   "outputs": [],
   "source": [
    "from sklearn.metrics import roc_curve, auc, f1_score\n",
    "from aux_odin.py import calculate_metrics\n"
   ]
  },
  {
   "cell_type": "markdown",
   "metadata": {
    "id": "iKpFCQk40fQS"
   },
   "source": [
    "### FST I-IV"
   ]
  },
  {
   "cell_type": "code",
   "execution_count": null,
   "metadata": {
    "colab": {
     "base_uri": "https://localhost:8080/"
    },
    "id": "dEStGvjf1JC8",
    "outputId": "5fc548cb-58a8-4b5f-e044-1aaee673f62d"
   },
   "outputs": [
    {
     "name": "stdout",
     "output_type": "stream",
     "text": [
      "Mean AUC: 0.8807, Mean F1 Score: 0.8506\n",
      "Std Deviation of AUC: 0.0016, Std Deviation of F1 Score: 0.0000\n"
     ]
    }
   ],
   "source": [
    "optimal_delta = 0.9962658286094666 #optimal theshold\n",
    "\n",
    "# Load baseline scores\n",
    "scores_in = np.loadtxt('densenet121_Base_In_Lighter_Only.txt')\n",
    "scores_out = np.loadtxt('densenet121_Base_Out_Lighter_Only.txt')\n",
    "\n",
    "calculate_metrics(scores_in, scores_out, optimal_delta)"
   ]
  },
  {
   "cell_type": "markdown",
   "metadata": {
    "id": "lG36u0bG0hy6"
   },
   "source": [
    "### FST V-VI"
   ]
  },
  {
   "cell_type": "code",
   "execution_count": null,
   "metadata": {
    "colab": {
     "base_uri": "https://localhost:8080/"
    },
    "id": "wT9PrQnD3l-a",
    "outputId": "5d994cbe-d700-429f-d57c-bf8bf0e197b4"
   },
   "outputs": [
    {
     "name": "stdout",
     "output_type": "stream",
     "text": [
      "Mean AUC: 0.8493, Mean F1 Score: 0.7484\n",
      "Std Deviation of AUC: 0.0057, Std Deviation of F1 Score: 0.0000\n"
     ]
    }
   ],
   "source": [
    "# Load baseline scores\n",
    "scores_in = np.loadtxt('densenet121_Base_In_Darker_only.txt')\n",
    "scores_out = np.loadtxt('densenet121_Base_Out_Darker_Only.txt')\n",
    "\n",
    "calculate_metrics(scores_in, scores_out, optimal_delta)\n"
   ]
  },
  {
   "cell_type": "markdown",
   "metadata": {
    "id": "-S3hwd7h0lpH"
   },
   "source": [
    "### ALL"
   ]
  },
  {
   "cell_type": "code",
   "execution_count": null,
   "metadata": {
    "colab": {
     "base_uri": "https://localhost:8080/"
    },
    "id": "YVYfq9i_5MOV",
    "outputId": "c6be17d5-96f4-4593-878a-2e5a01e9f67f"
   },
   "outputs": [
    {
     "name": "stdout",
     "output_type": "stream",
     "text": [
      "Mean AUC: 0.8787, Mean F1 Score: 0.8468\n",
      "Std Deviation of AUC: 0.0030, Std Deviation of F1 Score: 0.0000\n"
     ]
    }
   ],
   "source": [
    "# Load baseline scores\n",
    "scores_in = np.loadtxt('densenet121_Base_In_ALL.txt')\n",
    "scores_out = np.loadtxt('densenet121_Base_Out_ALL.txt')\n",
    "\n",
    "calculate_metrics(scores_in, scores_out, optimal_delta)\n"
   ]
  },
  {
   "cell_type": "markdown",
   "metadata": {
    "id": "5JSoZeAo1mEu"
   },
   "source": [
    "\n",
    "\n",
    "---\n",
    "\n"
   ]
  },
  {
   "cell_type": "markdown",
   "metadata": {
    "id": "_qOO_7j5Rowz"
   },
   "source": [
    "## 4.5 ODIN"
   ]
  },
  {
   "cell_type": "code",
   "execution_count": null,
   "metadata": {
    "id": "Rak2gSHCRtXP"
   },
   "outputs": [],
   "source": [
    "in_dist_files_L = ['/content/densenet121_ODIN_200_0.0002_In_Lighter_Only.txt']\n",
    "out_dist_files_L = ['/content/densenet121_ODIN_200_0.0002_Out_Lighter_Only.txt']\n",
    "in_dist_files_D = ['/content/densenet121_ODIN_200_0.0002_In_Darker.txt']\n",
    "out_dist_files_D = ['/content/densenet121_ODIN_200_0.0002_Out_Darker.txt']\n",
    "\n",
    "\n",
    "in_dist_scores_L = pd.Series([float(score) for score in open(in_dist_files_L[0]).readlines()])\n",
    "in_dist_scores_D = pd.Series([float(score) for score in open(in_dist_files_D[0]).readlines()])\n",
    "\n",
    "out_dist_scores_L = pd.Series([float(score) for score in open(out_dist_files_L[0]).readlines()])\n",
    "out_dist_scores_D = pd.Series([float(score) for score in open(out_dist_files_D[0]).readlines()])\n",
    "\n",
    "# Create labels for each set of scores\n",
    "in_dist_labels_L = pd.Series([0] * len(in_dist_scores_L))\n",
    "in_dist_labels_D = pd.Series([1] * len(in_dist_scores_D))\n",
    "\n",
    "out_dist_labels_L = pd.Series([2] * len(out_dist_scores_L))\n",
    "out_dist_labels_D = pd.Series([3] * len(out_dist_scores_D))\n",
    "# Concatenate scores and labels\n",
    "in_dist_L_df = pd.concat([in_dist_scores_L, in_dist_labels_L], axis=1)\n",
    "in_dist_L_df.columns = ['Scores', 'Labels']\n",
    "\n",
    "in_dist_D_df = pd.concat([in_dist_scores_D, in_dist_labels_D], axis=1)\n",
    "in_dist_D_df.columns = ['Scores', 'Labels']\n",
    "\n",
    "out_dist_L_df = pd.concat([out_dist_scores_L, out_dist_labels_L], axis=1)\n",
    "out_dist_L_df.columns = ['Scores', 'Labels']\n",
    "\n",
    "out_dist_D_df = pd.concat([out_dist_scores_D, out_dist_labels_D], axis=1)\n",
    "out_dist_D_df.columns = ['Scores', 'Labels']\n",
    "\n",
    "df = pd.DataFrame({\n",
    "    'Scores': pd.concat([in_dist_scores_L,in_dist_scores_D, out_dist_scores_L, out_dist_scores_D]),\n",
    "    'Labels': pd.concat([in_dist_labels_L,in_dist_scores_D,out_dist_labels_L, out_dist_labels_D])\n",
    "})"
   ]
  },
  {
   "cell_type": "code",
   "execution_count": null,
   "metadata": {
    "id": "JFeI7PFbci8V"
   },
   "outputs": [],
   "source": [
    "out_dist_D_df[\"Labels\"] = 3  # Assign label 3 to FST V-VI\n",
    "out_dist_L_df[\"Labels\"] = 2  # Assign label 2 to FST I-IV\n",
    "in_dist_L_df[\"Labels\"] = 0  # train data\n",
    "in_dist_D_df[\"Labels\"] = 1  #train data\n",
    "\n",
    "# Concatenate the DataFrames into one\n",
    "df = pd.concat([in_dist_L_df,in_dist_D_df, out_dist_L_df, out_dist_D_df], ignore_index=True)\n",
    "df= df.sample(frac=1, random_state=42).reset_index(drop=True)"
   ]
  },
  {
   "cell_type": "code",
   "execution_count": null,
   "metadata": {
    "colab": {
     "base_uri": "https://localhost:8080/",
     "height": 424
    },
    "id": "c78g5XFZSiTC",
    "outputId": "7ffbfd02-4176-4966-f726-c2097a068627"
   },
   "outputs": [
    {
     "data": {
      "text/html": [
       "\n",
       "  <div id=\"df-15a7387b-16d1-4b08-b787-790edfbdd084\" class=\"colab-df-container\">\n",
       "    <div>\n",
       "<style scoped>\n",
       "    .dataframe tbody tr th:only-of-type {\n",
       "        vertical-align: middle;\n",
       "    }\n",
       "\n",
       "    .dataframe tbody tr th {\n",
       "        vertical-align: top;\n",
       "    }\n",
       "\n",
       "    .dataframe thead th {\n",
       "        text-align: right;\n",
       "    }\n",
       "</style>\n",
       "<table border=\"1\" class=\"dataframe\">\n",
       "  <thead>\n",
       "    <tr style=\"text-align: right;\">\n",
       "      <th></th>\n",
       "      <th>Scores</th>\n",
       "      <th>Labels</th>\n",
       "      <th>Output</th>\n",
       "    </tr>\n",
       "  </thead>\n",
       "  <tbody>\n",
       "    <tr>\n",
       "      <th>0</th>\n",
       "      <td>0.176261</td>\n",
       "      <td>2</td>\n",
       "      <td>1</td>\n",
       "    </tr>\n",
       "    <tr>\n",
       "      <th>1</th>\n",
       "      <td>0.178890</td>\n",
       "      <td>2</td>\n",
       "      <td>1</td>\n",
       "    </tr>\n",
       "    <tr>\n",
       "      <th>2</th>\n",
       "      <td>0.175219</td>\n",
       "      <td>2</td>\n",
       "      <td>1</td>\n",
       "    </tr>\n",
       "    <tr>\n",
       "      <th>3</th>\n",
       "      <td>0.180510</td>\n",
       "      <td>2</td>\n",
       "      <td>0</td>\n",
       "    </tr>\n",
       "    <tr>\n",
       "      <th>4</th>\n",
       "      <td>0.176538</td>\n",
       "      <td>1</td>\n",
       "      <td>1</td>\n",
       "    </tr>\n",
       "    <tr>\n",
       "      <th>...</th>\n",
       "      <td>...</td>\n",
       "      <td>...</td>\n",
       "      <td>...</td>\n",
       "    </tr>\n",
       "    <tr>\n",
       "      <th>16544</th>\n",
       "      <td>0.177684</td>\n",
       "      <td>2</td>\n",
       "      <td>1</td>\n",
       "    </tr>\n",
       "    <tr>\n",
       "      <th>16545</th>\n",
       "      <td>0.174562</td>\n",
       "      <td>2</td>\n",
       "      <td>1</td>\n",
       "    </tr>\n",
       "    <tr>\n",
       "      <th>16546</th>\n",
       "      <td>0.198327</td>\n",
       "      <td>2</td>\n",
       "      <td>0</td>\n",
       "    </tr>\n",
       "    <tr>\n",
       "      <th>16547</th>\n",
       "      <td>0.177203</td>\n",
       "      <td>0</td>\n",
       "      <td>1</td>\n",
       "    </tr>\n",
       "    <tr>\n",
       "      <th>16548</th>\n",
       "      <td>0.176370</td>\n",
       "      <td>3</td>\n",
       "      <td>1</td>\n",
       "    </tr>\n",
       "  </tbody>\n",
       "</table>\n",
       "<p>16549 rows × 3 columns</p>\n",
       "</div>\n",
       "    <div class=\"colab-df-buttons\">\n",
       "\n",
       "  <div class=\"colab-df-container\">\n",
       "    <button class=\"colab-df-convert\" onclick=\"convertToInteractive('df-15a7387b-16d1-4b08-b787-790edfbdd084')\"\n",
       "            title=\"Convert this dataframe to an interactive table.\"\n",
       "            style=\"display:none;\">\n",
       "\n",
       "  <svg xmlns=\"http://www.w3.org/2000/svg\" height=\"24px\" viewBox=\"0 -960 960 960\">\n",
       "    <path d=\"M120-120v-720h720v720H120Zm60-500h600v-160H180v160Zm220 220h160v-160H400v160Zm0 220h160v-160H400v160ZM180-400h160v-160H180v160Zm440 0h160v-160H620v160ZM180-180h160v-160H180v160Zm440 0h160v-160H620v160Z\"/>\n",
       "  </svg>\n",
       "    </button>\n",
       "\n",
       "  <style>\n",
       "    .colab-df-container {\n",
       "      display:flex;\n",
       "      gap: 12px;\n",
       "    }\n",
       "\n",
       "    .colab-df-convert {\n",
       "      background-color: #E8F0FE;\n",
       "      border: none;\n",
       "      border-radius: 50%;\n",
       "      cursor: pointer;\n",
       "      display: none;\n",
       "      fill: #1967D2;\n",
       "      height: 32px;\n",
       "      padding: 0 0 0 0;\n",
       "      width: 32px;\n",
       "    }\n",
       "\n",
       "    .colab-df-convert:hover {\n",
       "      background-color: #E2EBFA;\n",
       "      box-shadow: 0px 1px 2px rgba(60, 64, 67, 0.3), 0px 1px 3px 1px rgba(60, 64, 67, 0.15);\n",
       "      fill: #174EA6;\n",
       "    }\n",
       "\n",
       "    .colab-df-buttons div {\n",
       "      margin-bottom: 4px;\n",
       "    }\n",
       "\n",
       "    [theme=dark] .colab-df-convert {\n",
       "      background-color: #3B4455;\n",
       "      fill: #D2E3FC;\n",
       "    }\n",
       "\n",
       "    [theme=dark] .colab-df-convert:hover {\n",
       "      background-color: #434B5C;\n",
       "      box-shadow: 0px 1px 3px 1px rgba(0, 0, 0, 0.15);\n",
       "      filter: drop-shadow(0px 1px 2px rgba(0, 0, 0, 0.3));\n",
       "      fill: #FFFFFF;\n",
       "    }\n",
       "  </style>\n",
       "\n",
       "    <script>\n",
       "      const buttonEl =\n",
       "        document.querySelector('#df-15a7387b-16d1-4b08-b787-790edfbdd084 button.colab-df-convert');\n",
       "      buttonEl.style.display =\n",
       "        google.colab.kernel.accessAllowed ? 'block' : 'none';\n",
       "\n",
       "      async function convertToInteractive(key) {\n",
       "        const element = document.querySelector('#df-15a7387b-16d1-4b08-b787-790edfbdd084');\n",
       "        const dataTable =\n",
       "          await google.colab.kernel.invokeFunction('convertToInteractive',\n",
       "                                                    [key], {});\n",
       "        if (!dataTable) return;\n",
       "\n",
       "        const docLinkHtml = 'Like what you see? Visit the ' +\n",
       "          '<a target=\"_blank\" href=https://colab.research.google.com/notebooks/data_table.ipynb>data table notebook</a>'\n",
       "          + ' to learn more about interactive tables.';\n",
       "        element.innerHTML = '';\n",
       "        dataTable['output_type'] = 'display_data';\n",
       "        await google.colab.output.renderOutput(dataTable, element);\n",
       "        const docLink = document.createElement('div');\n",
       "        docLink.innerHTML = docLinkHtml;\n",
       "        element.appendChild(docLink);\n",
       "      }\n",
       "    </script>\n",
       "  </div>\n",
       "\n",
       "\n",
       "<div id=\"df-3689d145-3f28-4a82-b2d5-1ca4c6779849\">\n",
       "  <button class=\"colab-df-quickchart\" onclick=\"quickchart('df-3689d145-3f28-4a82-b2d5-1ca4c6779849')\"\n",
       "            title=\"Suggest charts.\"\n",
       "            style=\"display:none;\">\n",
       "\n",
       "<svg xmlns=\"http://www.w3.org/2000/svg\" height=\"24px\"viewBox=\"0 0 24 24\"\n",
       "     width=\"24px\">\n",
       "    <g>\n",
       "        <path d=\"M19 3H5c-1.1 0-2 .9-2 2v14c0 1.1.9 2 2 2h14c1.1 0 2-.9 2-2V5c0-1.1-.9-2-2-2zM9 17H7v-7h2v7zm4 0h-2V7h2v10zm4 0h-2v-4h2v4z\"/>\n",
       "    </g>\n",
       "</svg>\n",
       "  </button>\n",
       "\n",
       "<style>\n",
       "  .colab-df-quickchart {\n",
       "      --bg-color: #E8F0FE;\n",
       "      --fill-color: #1967D2;\n",
       "      --hover-bg-color: #E2EBFA;\n",
       "      --hover-fill-color: #174EA6;\n",
       "      --disabled-fill-color: #AAA;\n",
       "      --disabled-bg-color: #DDD;\n",
       "  }\n",
       "\n",
       "  [theme=dark] .colab-df-quickchart {\n",
       "      --bg-color: #3B4455;\n",
       "      --fill-color: #D2E3FC;\n",
       "      --hover-bg-color: #434B5C;\n",
       "      --hover-fill-color: #FFFFFF;\n",
       "      --disabled-bg-color: #3B4455;\n",
       "      --disabled-fill-color: #666;\n",
       "  }\n",
       "\n",
       "  .colab-df-quickchart {\n",
       "    background-color: var(--bg-color);\n",
       "    border: none;\n",
       "    border-radius: 50%;\n",
       "    cursor: pointer;\n",
       "    display: none;\n",
       "    fill: var(--fill-color);\n",
       "    height: 32px;\n",
       "    padding: 0;\n",
       "    width: 32px;\n",
       "  }\n",
       "\n",
       "  .colab-df-quickchart:hover {\n",
       "    background-color: var(--hover-bg-color);\n",
       "    box-shadow: 0 1px 2px rgba(60, 64, 67, 0.3), 0 1px 3px 1px rgba(60, 64, 67, 0.15);\n",
       "    fill: var(--button-hover-fill-color);\n",
       "  }\n",
       "\n",
       "  .colab-df-quickchart-complete:disabled,\n",
       "  .colab-df-quickchart-complete:disabled:hover {\n",
       "    background-color: var(--disabled-bg-color);\n",
       "    fill: var(--disabled-fill-color);\n",
       "    box-shadow: none;\n",
       "  }\n",
       "\n",
       "  .colab-df-spinner {\n",
       "    border: 2px solid var(--fill-color);\n",
       "    border-color: transparent;\n",
       "    border-bottom-color: var(--fill-color);\n",
       "    animation:\n",
       "      spin 1s steps(1) infinite;\n",
       "  }\n",
       "\n",
       "  @keyframes spin {\n",
       "    0% {\n",
       "      border-color: transparent;\n",
       "      border-bottom-color: var(--fill-color);\n",
       "      border-left-color: var(--fill-color);\n",
       "    }\n",
       "    20% {\n",
       "      border-color: transparent;\n",
       "      border-left-color: var(--fill-color);\n",
       "      border-top-color: var(--fill-color);\n",
       "    }\n",
       "    30% {\n",
       "      border-color: transparent;\n",
       "      border-left-color: var(--fill-color);\n",
       "      border-top-color: var(--fill-color);\n",
       "      border-right-color: var(--fill-color);\n",
       "    }\n",
       "    40% {\n",
       "      border-color: transparent;\n",
       "      border-right-color: var(--fill-color);\n",
       "      border-top-color: var(--fill-color);\n",
       "    }\n",
       "    60% {\n",
       "      border-color: transparent;\n",
       "      border-right-color: var(--fill-color);\n",
       "    }\n",
       "    80% {\n",
       "      border-color: transparent;\n",
       "      border-right-color: var(--fill-color);\n",
       "      border-bottom-color: var(--fill-color);\n",
       "    }\n",
       "    90% {\n",
       "      border-color: transparent;\n",
       "      border-bottom-color: var(--fill-color);\n",
       "    }\n",
       "  }\n",
       "</style>\n",
       "\n",
       "  <script>\n",
       "    async function quickchart(key) {\n",
       "      const quickchartButtonEl =\n",
       "        document.querySelector('#' + key + ' button');\n",
       "      quickchartButtonEl.disabled = true;  // To prevent multiple clicks.\n",
       "      quickchartButtonEl.classList.add('colab-df-spinner');\n",
       "      try {\n",
       "        const charts = await google.colab.kernel.invokeFunction(\n",
       "            'suggestCharts', [key], {});\n",
       "      } catch (error) {\n",
       "        console.error('Error during call to suggestCharts:', error);\n",
       "      }\n",
       "      quickchartButtonEl.classList.remove('colab-df-spinner');\n",
       "      quickchartButtonEl.classList.add('colab-df-quickchart-complete');\n",
       "    }\n",
       "    (() => {\n",
       "      let quickchartButtonEl =\n",
       "        document.querySelector('#df-3689d145-3f28-4a82-b2d5-1ca4c6779849 button');\n",
       "      quickchartButtonEl.style.display =\n",
       "        google.colab.kernel.accessAllowed ? 'block' : 'none';\n",
       "    })();\n",
       "  </script>\n",
       "</div>\n",
       "    </div>\n",
       "  </div>\n"
      ],
      "text/plain": [
       "         Scores  Labels  Output\n",
       "0      0.176261       2       1\n",
       "1      0.178890       2       1\n",
       "2      0.175219       2       1\n",
       "3      0.180510       2       0\n",
       "4      0.176538       1       1\n",
       "...         ...     ...     ...\n",
       "16544  0.177684       2       1\n",
       "16545  0.174562       2       1\n",
       "16546  0.198327       2       0\n",
       "16547  0.177203       0       1\n",
       "16548  0.176370       3       1\n",
       "\n",
       "[16549 rows x 3 columns]"
      ]
     },
     "execution_count": 31,
     "metadata": {},
     "output_type": "execute_result"
    }
   ],
   "source": [
    "# Define the optimal threshold\n",
    "optimal_threshold =  0.1799 \n",
    "# Create the \"Output\" column based on the condition\n",
    "df['Output'] = (df['Scores'] < optimal_threshold).astype(int)\n",
    "df"
   ]
  },
  {
   "cell_type": "markdown",
   "metadata": {
    "id": "OZxaJtCgnTd2"
   },
   "source": [
    "### 4.5.1 Histograms"
   ]
  },
  {
   "cell_type": "code",
   "execution_count": null,
   "metadata": {
    "colab": {
     "base_uri": "https://localhost:8080/"
    },
    "id": "MSYDnlUeoPim",
    "outputId": "13656864-6777-4751-f58a-ca5f47bca130"
   },
   "outputs": [
    {
     "name": "stdout",
     "output_type": "stream",
     "text": [
      "Count of ODIN scores of lighter samples bellow threshold: 8580\n",
      "Count of ODIN scores of darker samples bellow threshold: 957\n",
      "Count of ODIN scores of inlier above threshold: 992\n"
     ]
    }
   ],
   "source": [
    "# Filter rows based on conditions\n",
    "ODIN_Lighter = df[(df['Labels'] == 2) & (df['Output'] == 1) ]['Scores']\n",
    "ODIN_Darker = df[(df['Labels'] == 3)& (df['Output'] == 1) ]['Scores']\n",
    "ODIN_Inlier = df[(df['Labels'] == 0) &(df['Output'] == 0) ]['Scores']\n",
    "\n",
    "# Print counts\n",
    "print(\"Count of ODIN scores of lighter samples bellow threshold:\", len(ODIN_Lighter))\n",
    "print(\"Count of ODIN scores of darker samples bellow threshold:\", len(ODIN_Darker))\n",
    "print(\"Count of ODIN scores of inlier above threshold:\", len(ODIN_Inlier))"
   ]
  },
  {
   "cell_type": "code",
   "execution_count": null,
   "metadata": {
    "colab": {
     "base_uri": "https://localhost:8080/",
     "height": 580
    },
    "id": "NU2bumiUSPiX",
    "outputId": "5d3c3810-9631-49b9-c24d-4f4027ae9a27"
   },
   "outputs": [
    {
     "data": {
      "image/png": "[encoded data removed]",
      "text/plain": [
       "<Figure size 1000x600 with 1 Axes>"
      ]
     },
     "metadata": {},
     "output_type": "display_data"
    }
   ],
   "source": [
    "from aux_vis import plot_Histogram\n",
    "\n",
    "plot_Histogram(base_Lighter,base_Darker,'ODIN Scores Histograms for the Fitzpartrick 17k skintypes','ODIN score','Count')"
   ]
  },
  {
   "cell_type": "markdown",
   "metadata": {
    "id": "yYHz_UvHoYjx"
   },
   "source": [
    "### 4.5.2 Performance Metrics"
   ]
  },
  {
   "cell_type": "code",
   "execution_count": null,
   "metadata": {
    "id": "9GWVEtbWlk4P"
   },
   "outputs": [],
   "source": [
    "from sklearn.metrics import roc_curve, auc, f1_score\n",
    "from aux_odin.py import calculate_metrics"
   ]
  },
  {
   "cell_type": "markdown",
   "metadata": {
    "id": "6-3S8prH0spX"
   },
   "source": [
    "### FST I-IV"
   ]
  },
  {
   "cell_type": "code",
   "execution_count": null,
   "metadata": {
    "colab": {
     "base_uri": "https://localhost:8080/"
    },
    "id": "GSQAMNKyoK6I",
    "outputId": "49579d20-7eea-4d6d-d6ff-3628bd914a1c"
   },
   "outputs": [
    {
     "name": "stdout",
     "output_type": "stream",
     "text": [
      "Mean AUC: 0.6561, Mean F1 Score: 0.8914\n",
      "Std Deviation of AUC: 0.0023, Std Deviation of F1 Score: 0.0000\n"
     ]
    }
   ],
   "source": [
    "optimal_threshold = 0.1799 #define optimal threshold\n",
    "\n",
    "scores_in = np.loadtxt('densenet121_ODIN_200_0.0002_In_Lighter_Only.txt')\n",
    "scores_out= np.loadtxt('densenet121_ODIN_200_0.0002_Out_Lighter_Only.txt')\n",
    "\n",
    "calculate_metrics(scores_in, scores_out, optimal_threshold)"
   ]
  },
  {
   "cell_type": "markdown",
   "metadata": {
    "id": "7t067_oe0vBx"
   },
   "source": [
    "### FST V-VI"
   ]
  },
  {
   "cell_type": "code",
   "execution_count": null,
   "metadata": {
    "colab": {
     "base_uri": "https://localhost:8080/"
    },
    "id": "oLlAUy3to52H",
    "outputId": "39c2a4fc-4e7d-43d4-842c-6dd6d55f63da"
   },
   "outputs": [
    {
     "name": "stdout",
     "output_type": "stream",
     "text": [
      "Mean AUC: 0.5574, Mean F1 Score: 0.5137\n",
      "Std Deviation of AUC: 0.0061, Std Deviation of F1 Score: 0.0000\n"
     ]
    }
   ],
   "source": [
    "scores_in = np.loadtxt('densenet121_ODIN_200_0.0002_In_Darker.txt')\n",
    "scores_out= np.loadtxt('densenet121_ODIN_200_0.0002_Out_Darker.txt')\n",
    "\n",
    "calculate_metrics(scores_in, scores_out, optimal_threshold)"
   ]
  },
  {
   "cell_type": "markdown",
   "metadata": {
    "id": "aNqRUwPw0yLQ"
   },
   "source": [
    "### ALL"
   ]
  },
  {
   "cell_type": "code",
   "execution_count": null,
   "metadata": {
    "colab": {
     "base_uri": "https://localhost:8080/"
    },
    "id": "utPBaTuJo5Tg",
    "outputId": "10e9128e-3c18-42a7-f9d6-b39917e2e2a1"
   },
   "outputs": [
    {
     "name": "stdout",
     "output_type": "stream",
     "text": [
      "Mean AUC: 0.6505, Mean F1 Score: 0.9074\n",
      "Std Deviation of AUC: 0.0051, Std Deviation of F1 Score: 0.0000\n"
     ]
    }
   ],
   "source": [
    "scores_in = np.loadtxt('densenet121_ODIN_200_0.0002_In_ALL.txt')\n",
    "scores_out= np.loadtxt('densenet121_ODIN_200_0.0002_Out_ALL.txt')\n",
    "\n",
    "calculate_metrics(scores_in, scores_out, optimal_threshold)"
   ]
  }
 ],
 "metadata": {
  "accelerator": "GPU",
  "colab": {
   "provenance": []
  },
  "kernelspec": {
   "display_name": "Python 3",
   "language": "python",
   "name": "python3"
  },
  "language_info": {
   "codemirror_mode": {
    "name": "ipython",
    "version": 3
   },
   "file_extension": ".py",
   "mimetype": "text/x-python",
   "name": "python",
   "nbconvert_exporter": "python",
   "pygments_lexer": "ipython3",
   "version": "3.8.3"
  }
 },
 "nbformat": 4,
 "nbformat_minor": 1
}
